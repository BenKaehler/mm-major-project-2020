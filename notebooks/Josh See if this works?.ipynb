{
 "cells": [
  {
   "cell_type": "code",
   "execution_count": null,
   "metadata": {},
   "outputs": [],
   "source": []
  },
  {
   "cell_type": "markdown",
   "metadata": {},
   "source": [
    "# ZPEM2311 Maths Modelling Project Sophee Turner, Joshua Elphick & Liam Goldsworthy "
   ]
  },
  {
   "cell_type": "code",
   "execution_count": 1,
   "metadata": {},
   "outputs": [
    {
     "data": {
      "text/html": [
       "        <script type=\"text/javascript\">\n",
       "        window.PlotlyConfig = {MathJaxConfig: 'local'};\n",
       "        if (window.MathJax) {MathJax.Hub.Config({SVG: {font: \"STIX-Web\"}});}\n",
       "        if (typeof require !== 'undefined') {\n",
       "        require.undef(\"plotly\");\n",
       "        requirejs.config({\n",
       "            paths: {\n",
       "                'plotly': ['https://cdn.plot.ly/plotly-latest.min']\n",
       "            }\n",
       "        });\n",
       "        require(['plotly'], function(Plotly) {\n",
       "            window._Plotly = Plotly;\n",
       "        });\n",
       "        }\n",
       "        </script>\n",
       "        "
      ]
     },
     "metadata": {},
     "output_type": "display_data"
    }
   ],
   "source": [
    "from numpy import arange, empty, exp, array, linspace\n",
    "from scipy.integrate import odeint\n",
    "from scipy.optimize import minimize\n",
    "from plotly.offline import init_notebook_mode\n",
    "from plotly import graph_objs as go\n",
    "init_notebook_mode(connected=True)"
   ]
  },
  {
   "cell_type": "code",
   "execution_count": 2,
   "metadata": {},
   "outputs": [],
   "source": [
    "def dSEIRdt(SEIR, t, beta, gamma, kappa):\n",
    "    S, E, I, R = SEIR\n",
    "    dSdt = -beta*S*I\n",
    "    dEdt = beta*S*I-kappa*E\n",
    "    dIdt = beta*S*I-gamma*I\n",
    "    dRdt = gamma*I\n",
    "    return array([dSdt, dEdt, dIdt, dRdt])"
   ]
  },
  {
   "cell_type": "markdown",
   "metadata": {},
   "source": [
    "# Basic graph of COVID-19 with no restrictions implemented   "
   ]
  },
  {
   "cell_type": "code",
   "execution_count": 3,
   "metadata": {},
   "outputs": [],
   "source": [
    "# Initial number of infected and recovered individuals, I0 and R0.\n",
    "# Everyone else, S0, is initially susceptible to infection. \n",
    "# Initial number of exposed individuals, E0\n",
    "I0 = 1\n",
    "S0 = 5926624\n",
    "R0 = 0 \n",
    "E0 = 0 \n",
    "# Contraction rate, beta, and mean recovery rate, gamma, incubation period, kappa.\n",
    "beta, gamma, kappa = 2.5, .97, 4 "
   ]
  },
  {
   "cell_type": "code",
   "execution_count": 4,
   "metadata": {},
   "outputs": [],
   "source": [
    "#Y axis represents S, E, I and R values\n",
    "#X axis represents time\n",
    "t = linspace(0, 30, 30)\n",
    "SEIR = odeint(dSEIRdt, [1, 0,.00000149, 0], t, (beta, gamma, kappa))  \n",
    "fig = go.Figure()"
   ]
  },
  {
   "cell_type": "code",
   "execution_count": 5,
   "metadata": {},
   "outputs": [
    {
     "data": {
      "application/vnd.plotly.v1+json": {
       "config": {
        "plotlyServerURL": "https://plot.ly"
       },
       "data": [
        {
         "name": "Suseptible",
         "type": "scatter",
         "x": [
          0,
          1.0344827586206897,
          2.0689655172413794,
          3.1034482758620694,
          4.137931034482759,
          5.172413793103448,
          6.206896551724139,
          7.241379310344828,
          8.275862068965518,
          9.310344827586208,
          10.344827586206897,
          11.379310344827587,
          12.413793103448278,
          13.448275862068966,
          14.482758620689657,
          15.517241379310345,
          16.551724137931036,
          17.586206896551726,
          18.620689655172416,
          19.655172413793103,
          20.689655172413794,
          21.724137931034484,
          22.758620689655174,
          23.793103448275865,
          24.827586206896555,
          25.862068965517242,
          26.896551724137932,
          27.931034482758623,
          28.965517241379313,
          30
         ],
         "y": [
          1,
          0.9999905367019475,
          0.9999444039845357,
          0.9997199055490891,
          0.9986287805964712,
          0.9933611240375511,
          0.9687265405918138,
          0.8685387920606171,
          0.6125577813288633,
          0.33621482096018745,
          0.1952322513541811,
          0.13907562119677827,
          0.11613360079683553,
          0.10617093273701166,
          0.1016650330706621,
          0.09958211345902024,
          0.09860870479498973,
          0.09815139861515901,
          0.09793600730501685,
          0.09783445187039513,
          0.09778652889809435,
          0.09776391230220942,
          0.09775323582362273,
          0.09774819605159049,
          0.09774581856444443,
          0.0977446960445788,
          0.09774416595097704,
          0.09774391675056021,
          0.09774379784378644,
          0.09774374149845566
         ]
        },
        {
         "name": "Exposed",
         "type": "scatter",
         "x": [
          0,
          1.0344827586206897,
          2.0689655172413794,
          3.1034482758620694,
          4.137931034482759,
          5.172413793103448,
          6.206896551724139,
          7.241379310344828,
          8.275862068965518,
          9.310344827586208,
          10.344827586206897,
          11.379310344827587,
          12.413793103448278,
          13.448275862068966,
          14.482758620689657,
          15.517241379310345,
          16.551724137931036,
          17.586206896551726,
          18.620689655172416,
          19.655172413793103,
          20.689655172413794,
          21.724137931034484,
          22.758620689655174,
          23.793103448275865,
          24.827586206896555,
          25.862068965517242,
          26.896551724137932,
          27.931034482758623,
          28.965517241379313,
          30
         ],
         "y": [
          0,
          3.278835349871798e-06,
          1.6054713224563325e-05,
          7.815181876082089e-05,
          0.0003796637958907145,
          0.001828342941014457,
          0.008448681806106478,
          0.032603607062268475,
          0.07036101771461468,
          0.05892972898290266,
          0.02673811673947217,
          0.010636505772848316,
          0.004424814478286005,
          0.001946547602375547,
          0.0008866763122742295,
          0.00041135959740418583,
          0.00019257419120843,
          9.054867292290997e-05,
          4.266323750574583e-05,
          2.012211582872254e-05,
          9.49531732710071e-06,
          4.4815263490262995e-06,
          2.11527213814806e-06,
          9.979187938669294e-07,
          4.7549727558082765e-07,
          2.1443448005983903e-07,
          1.0474813313517564e-07,
          4.9648603249648084e-08,
          2.1017205221132322e-08,
          1.0094326265848119e-08
         ]
        },
        {
         "name": "Infected",
         "type": "scatter",
         "x": [
          0,
          1.0344827586206897,
          2.0689655172413794,
          3.1034482758620694,
          4.137931034482759,
          5.172413793103448,
          6.206896551724139,
          7.241379310344828,
          8.275862068965518,
          9.310344827586208,
          10.344827586206897,
          11.379310344827587,
          12.413793103448278,
          13.448275862068966,
          14.482758620689657,
          15.517241379310345,
          16.551724137931036,
          17.586206896551726,
          18.620689655172416,
          19.655172413793103,
          20.689655172413794,
          21.724137931034484,
          22.758620689655174,
          23.793103448275865,
          24.827586206896555,
          25.862068965517242,
          26.896551724137932,
          27.931034482758623,
          28.965517241379313,
          30
         ],
         "y": [
          1.49e-06,
          7.281520847659543e-06,
          3.5514158298090435e-05,
          0.00017289255100808352,
          0.0008403107878164278,
          0.004055890335707025,
          0.01894703670868505,
          0.07677676362617106,
          0.19728025066598853,
          0.24086473519872,
          0.17094586066078343,
          0.09550370500583093,
          0.048498408734851624,
          0.023661027220485027,
          0.0113405544397421,
          0.005391539308818292,
          0.0025536083906782543,
          0.0012073459679500316,
          0.0005703443506274656,
          0.0002693498131642467,
          0.0001271693121937935,
          6.003678947089602e-05,
          2.833876167380736e-05,
          1.3374275169142249e-05,
          6.31449529906731e-06,
          2.9811711934911414e-06,
          1.4070393674772127e-06,
          6.670258278450828e-07,
          3.139251148852476e-07,
          1.466041297795649e-07
         ]
        },
        {
         "name": "Recovered",
         "type": "scatter",
         "x": [
          0,
          1.0344827586206897,
          2.0689655172413794,
          3.1034482758620694,
          4.137931034482759,
          5.172413793103448,
          6.206896551724139,
          7.241379310344828,
          8.275862068965518,
          9.310344827586208,
          10.344827586206897,
          11.379310344827587,
          12.413793103448278,
          13.448275862068966,
          14.482758620689657,
          15.517241379310345,
          16.551724137931036,
          17.586206896551726,
          18.620689655172416,
          19.655172413793103,
          20.689655172413794,
          21.724137931034484,
          22.758620689655174,
          23.793103448275865,
          24.827586206896555,
          25.862068965517242,
          26.896551724137932,
          27.931034482758623,
          28.965517241379313,
          30
         ],
         "y": [
          0,
          3.6717772048548104e-06,
          2.157185716622159e-05,
          0.00010869189990290304,
          0.0005323986157124419,
          0.002584475626741922,
          0.012327912699501276,
          0.05468593431321194,
          0.19016345800514833,
          0.42292193384109283,
          0.6338233779850359,
          0.765422163797391,
          0.8353694804683132,
          0.8701695300425039,
          0.8869959024895963,
          0.8950278372321621,
          0.8988391768143325,
          0.9006427454168912,
          0.9014951383443558,
          0.901897688316441,
          0.9020877917897121,
          0.90217754090832,
          0.9022199154147037,
          0.9022399196732406,
          0.9022493569402569,
          0.902253812784228,
          0.9022559170096559,
          0.9022569062236123,
          0.9022573782310991,
          0.9022576018974149
         ]
        }
       ],
       "layout": {
        "autosize": true,
        "template": {
         "data": {
          "bar": [
           {
            "error_x": {
             "color": "#2a3f5f"
            },
            "error_y": {
             "color": "#2a3f5f"
            },
            "marker": {
             "line": {
              "color": "#E5ECF6",
              "width": 0.5
             }
            },
            "type": "bar"
           }
          ],
          "barpolar": [
           {
            "marker": {
             "line": {
              "color": "#E5ECF6",
              "width": 0.5
             }
            },
            "type": "barpolar"
           }
          ],
          "carpet": [
           {
            "aaxis": {
             "endlinecolor": "#2a3f5f",
             "gridcolor": "white",
             "linecolor": "white",
             "minorgridcolor": "white",
             "startlinecolor": "#2a3f5f"
            },
            "baxis": {
             "endlinecolor": "#2a3f5f",
             "gridcolor": "white",
             "linecolor": "white",
             "minorgridcolor": "white",
             "startlinecolor": "#2a3f5f"
            },
            "type": "carpet"
           }
          ],
          "choropleth": [
           {
            "colorbar": {
             "outlinewidth": 0,
             "ticks": ""
            },
            "type": "choropleth"
           }
          ],
          "contour": [
           {
            "colorbar": {
             "outlinewidth": 0,
             "ticks": ""
            },
            "colorscale": [
             [
              0,
              "#0d0887"
             ],
             [
              0.1111111111111111,
              "#46039f"
             ],
             [
              0.2222222222222222,
              "#7201a8"
             ],
             [
              0.3333333333333333,
              "#9c179e"
             ],
             [
              0.4444444444444444,
              "#bd3786"
             ],
             [
              0.5555555555555556,
              "#d8576b"
             ],
             [
              0.6666666666666666,
              "#ed7953"
             ],
             [
              0.7777777777777778,
              "#fb9f3a"
             ],
             [
              0.8888888888888888,
              "#fdca26"
             ],
             [
              1,
              "#f0f921"
             ]
            ],
            "type": "contour"
           }
          ],
          "contourcarpet": [
           {
            "colorbar": {
             "outlinewidth": 0,
             "ticks": ""
            },
            "type": "contourcarpet"
           }
          ],
          "heatmap": [
           {
            "colorbar": {
             "outlinewidth": 0,
             "ticks": ""
            },
            "colorscale": [
             [
              0,
              "#0d0887"
             ],
             [
              0.1111111111111111,
              "#46039f"
             ],
             [
              0.2222222222222222,
              "#7201a8"
             ],
             [
              0.3333333333333333,
              "#9c179e"
             ],
             [
              0.4444444444444444,
              "#bd3786"
             ],
             [
              0.5555555555555556,
              "#d8576b"
             ],
             [
              0.6666666666666666,
              "#ed7953"
             ],
             [
              0.7777777777777778,
              "#fb9f3a"
             ],
             [
              0.8888888888888888,
              "#fdca26"
             ],
             [
              1,
              "#f0f921"
             ]
            ],
            "type": "heatmap"
           }
          ],
          "heatmapgl": [
           {
            "colorbar": {
             "outlinewidth": 0,
             "ticks": ""
            },
            "colorscale": [
             [
              0,
              "#0d0887"
             ],
             [
              0.1111111111111111,
              "#46039f"
             ],
             [
              0.2222222222222222,
              "#7201a8"
             ],
             [
              0.3333333333333333,
              "#9c179e"
             ],
             [
              0.4444444444444444,
              "#bd3786"
             ],
             [
              0.5555555555555556,
              "#d8576b"
             ],
             [
              0.6666666666666666,
              "#ed7953"
             ],
             [
              0.7777777777777778,
              "#fb9f3a"
             ],
             [
              0.8888888888888888,
              "#fdca26"
             ],
             [
              1,
              "#f0f921"
             ]
            ],
            "type": "heatmapgl"
           }
          ],
          "histogram": [
           {
            "marker": {
             "colorbar": {
              "outlinewidth": 0,
              "ticks": ""
             }
            },
            "type": "histogram"
           }
          ],
          "histogram2d": [
           {
            "colorbar": {
             "outlinewidth": 0,
             "ticks": ""
            },
            "colorscale": [
             [
              0,
              "#0d0887"
             ],
             [
              0.1111111111111111,
              "#46039f"
             ],
             [
              0.2222222222222222,
              "#7201a8"
             ],
             [
              0.3333333333333333,
              "#9c179e"
             ],
             [
              0.4444444444444444,
              "#bd3786"
             ],
             [
              0.5555555555555556,
              "#d8576b"
             ],
             [
              0.6666666666666666,
              "#ed7953"
             ],
             [
              0.7777777777777778,
              "#fb9f3a"
             ],
             [
              0.8888888888888888,
              "#fdca26"
             ],
             [
              1,
              "#f0f921"
             ]
            ],
            "type": "histogram2d"
           }
          ],
          "histogram2dcontour": [
           {
            "colorbar": {
             "outlinewidth": 0,
             "ticks": ""
            },
            "colorscale": [
             [
              0,
              "#0d0887"
             ],
             [
              0.1111111111111111,
              "#46039f"
             ],
             [
              0.2222222222222222,
              "#7201a8"
             ],
             [
              0.3333333333333333,
              "#9c179e"
             ],
             [
              0.4444444444444444,
              "#bd3786"
             ],
             [
              0.5555555555555556,
              "#d8576b"
             ],
             [
              0.6666666666666666,
              "#ed7953"
             ],
             [
              0.7777777777777778,
              "#fb9f3a"
             ],
             [
              0.8888888888888888,
              "#fdca26"
             ],
             [
              1,
              "#f0f921"
             ]
            ],
            "type": "histogram2dcontour"
           }
          ],
          "mesh3d": [
           {
            "colorbar": {
             "outlinewidth": 0,
             "ticks": ""
            },
            "type": "mesh3d"
           }
          ],
          "parcoords": [
           {
            "line": {
             "colorbar": {
              "outlinewidth": 0,
              "ticks": ""
             }
            },
            "type": "parcoords"
           }
          ],
          "pie": [
           {
            "automargin": true,
            "type": "pie"
           }
          ],
          "scatter": [
           {
            "marker": {
             "colorbar": {
              "outlinewidth": 0,
              "ticks": ""
             }
            },
            "type": "scatter"
           }
          ],
          "scatter3d": [
           {
            "line": {
             "colorbar": {
              "outlinewidth": 0,
              "ticks": ""
             }
            },
            "marker": {
             "colorbar": {
              "outlinewidth": 0,
              "ticks": ""
             }
            },
            "type": "scatter3d"
           }
          ],
          "scattercarpet": [
           {
            "marker": {
             "colorbar": {
              "outlinewidth": 0,
              "ticks": ""
             }
            },
            "type": "scattercarpet"
           }
          ],
          "scattergeo": [
           {
            "marker": {
             "colorbar": {
              "outlinewidth": 0,
              "ticks": ""
             }
            },
            "type": "scattergeo"
           }
          ],
          "scattergl": [
           {
            "marker": {
             "colorbar": {
              "outlinewidth": 0,
              "ticks": ""
             }
            },
            "type": "scattergl"
           }
          ],
          "scattermapbox": [
           {
            "marker": {
             "colorbar": {
              "outlinewidth": 0,
              "ticks": ""
             }
            },
            "type": "scattermapbox"
           }
          ],
          "scatterpolar": [
           {
            "marker": {
             "colorbar": {
              "outlinewidth": 0,
              "ticks": ""
             }
            },
            "type": "scatterpolar"
           }
          ],
          "scatterpolargl": [
           {
            "marker": {
             "colorbar": {
              "outlinewidth": 0,
              "ticks": ""
             }
            },
            "type": "scatterpolargl"
           }
          ],
          "scatterternary": [
           {
            "marker": {
             "colorbar": {
              "outlinewidth": 0,
              "ticks": ""
             }
            },
            "type": "scatterternary"
           }
          ],
          "surface": [
           {
            "colorbar": {
             "outlinewidth": 0,
             "ticks": ""
            },
            "colorscale": [
             [
              0,
              "#0d0887"
             ],
             [
              0.1111111111111111,
              "#46039f"
             ],
             [
              0.2222222222222222,
              "#7201a8"
             ],
             [
              0.3333333333333333,
              "#9c179e"
             ],
             [
              0.4444444444444444,
              "#bd3786"
             ],
             [
              0.5555555555555556,
              "#d8576b"
             ],
             [
              0.6666666666666666,
              "#ed7953"
             ],
             [
              0.7777777777777778,
              "#fb9f3a"
             ],
             [
              0.8888888888888888,
              "#fdca26"
             ],
             [
              1,
              "#f0f921"
             ]
            ],
            "type": "surface"
           }
          ],
          "table": [
           {
            "cells": {
             "fill": {
              "color": "#EBF0F8"
             },
             "line": {
              "color": "white"
             }
            },
            "header": {
             "fill": {
              "color": "#C8D4E3"
             },
             "line": {
              "color": "white"
             }
            },
            "type": "table"
           }
          ]
         },
         "layout": {
          "annotationdefaults": {
           "arrowcolor": "#2a3f5f",
           "arrowhead": 0,
           "arrowwidth": 1
          },
          "coloraxis": {
           "colorbar": {
            "outlinewidth": 0,
            "ticks": ""
           }
          },
          "colorscale": {
           "diverging": [
            [
             0,
             "#8e0152"
            ],
            [
             0.1,
             "#c51b7d"
            ],
            [
             0.2,
             "#de77ae"
            ],
            [
             0.3,
             "#f1b6da"
            ],
            [
             0.4,
             "#fde0ef"
            ],
            [
             0.5,
             "#f7f7f7"
            ],
            [
             0.6,
             "#e6f5d0"
            ],
            [
             0.7,
             "#b8e186"
            ],
            [
             0.8,
             "#7fbc41"
            ],
            [
             0.9,
             "#4d9221"
            ],
            [
             1,
             "#276419"
            ]
           ],
           "sequential": [
            [
             0,
             "#0d0887"
            ],
            [
             0.1111111111111111,
             "#46039f"
            ],
            [
             0.2222222222222222,
             "#7201a8"
            ],
            [
             0.3333333333333333,
             "#9c179e"
            ],
            [
             0.4444444444444444,
             "#bd3786"
            ],
            [
             0.5555555555555556,
             "#d8576b"
            ],
            [
             0.6666666666666666,
             "#ed7953"
            ],
            [
             0.7777777777777778,
             "#fb9f3a"
            ],
            [
             0.8888888888888888,
             "#fdca26"
            ],
            [
             1,
             "#f0f921"
            ]
           ],
           "sequentialminus": [
            [
             0,
             "#0d0887"
            ],
            [
             0.1111111111111111,
             "#46039f"
            ],
            [
             0.2222222222222222,
             "#7201a8"
            ],
            [
             0.3333333333333333,
             "#9c179e"
            ],
            [
             0.4444444444444444,
             "#bd3786"
            ],
            [
             0.5555555555555556,
             "#d8576b"
            ],
            [
             0.6666666666666666,
             "#ed7953"
            ],
            [
             0.7777777777777778,
             "#fb9f3a"
            ],
            [
             0.8888888888888888,
             "#fdca26"
            ],
            [
             1,
             "#f0f921"
            ]
           ]
          },
          "colorway": [
           "#636efa",
           "#EF553B",
           "#00cc96",
           "#ab63fa",
           "#FFA15A",
           "#19d3f3",
           "#FF6692",
           "#B6E880",
           "#FF97FF",
           "#FECB52"
          ],
          "font": {
           "color": "#2a3f5f"
          },
          "geo": {
           "bgcolor": "white",
           "lakecolor": "white",
           "landcolor": "#E5ECF6",
           "showlakes": true,
           "showland": true,
           "subunitcolor": "white"
          },
          "hoverlabel": {
           "align": "left"
          },
          "hovermode": "closest",
          "mapbox": {
           "style": "light"
          },
          "paper_bgcolor": "white",
          "plot_bgcolor": "#E5ECF6",
          "polar": {
           "angularaxis": {
            "gridcolor": "white",
            "linecolor": "white",
            "ticks": ""
           },
           "bgcolor": "#E5ECF6",
           "radialaxis": {
            "gridcolor": "white",
            "linecolor": "white",
            "ticks": ""
           }
          },
          "scene": {
           "xaxis": {
            "backgroundcolor": "#E5ECF6",
            "gridcolor": "white",
            "gridwidth": 2,
            "linecolor": "white",
            "showbackground": true,
            "ticks": "",
            "zerolinecolor": "white"
           },
           "yaxis": {
            "backgroundcolor": "#E5ECF6",
            "gridcolor": "white",
            "gridwidth": 2,
            "linecolor": "white",
            "showbackground": true,
            "ticks": "",
            "zerolinecolor": "white"
           },
           "zaxis": {
            "backgroundcolor": "#E5ECF6",
            "gridcolor": "white",
            "gridwidth": 2,
            "linecolor": "white",
            "showbackground": true,
            "ticks": "",
            "zerolinecolor": "white"
           }
          },
          "shapedefaults": {
           "line": {
            "color": "#2a3f5f"
           }
          },
          "ternary": {
           "aaxis": {
            "gridcolor": "white",
            "linecolor": "white",
            "ticks": ""
           },
           "baxis": {
            "gridcolor": "white",
            "linecolor": "white",
            "ticks": ""
           },
           "bgcolor": "#E5ECF6",
           "caxis": {
            "gridcolor": "white",
            "linecolor": "white",
            "ticks": ""
           }
          },
          "title": {
           "x": 0.05
          },
          "xaxis": {
           "automargin": true,
           "gridcolor": "white",
           "linecolor": "white",
           "ticks": "",
           "title": {
            "standoff": 15
           },
           "zerolinecolor": "white",
           "zerolinewidth": 2
          },
          "yaxis": {
           "automargin": true,
           "gridcolor": "white",
           "linecolor": "white",
           "ticks": "",
           "title": {
            "standoff": 15
           },
           "zerolinecolor": "white",
           "zerolinewidth": 2
          }
         }
        },
        "title": {
         "text": "SEIR Model - No Restrictions"
        },
        "xaxis": {
         "autorange": true,
         "range": [
          0,
          30
         ],
         "title": {
          "text": "Time (weeks)"
         },
         "type": "linear"
        },
        "yaxis": {
         "autorange": true,
         "range": [
          -0.05555555555555556,
          1.0555555555555556
         ],
         "title": {
          "text": "Percent of Population x100"
         },
         "type": "linear"
        }
       }
      },
      "image/png": "[encoded data removed]",
      "text/html": [
       "<div>                            <div id=\"05592efa-0b8a-4640-9e37-79d11952186d\" class=\"plotly-graph-div\" style=\"height:525px; width:100%;\"></div>            <script type=\"text/javascript\">                require([\"plotly\"], function(Plotly) {                    window.PLOTLYENV=window.PLOTLYENV || {};                                    if (document.getElementById(\"05592efa-0b8a-4640-9e37-79d11952186d\")) {                    Plotly.newPlot(                        \"05592efa-0b8a-4640-9e37-79d11952186d\",                        [{\"name\": \"Suseptible\", \"type\": \"scatter\", \"x\": [0.0, 1.0344827586206897, 2.0689655172413794, 3.1034482758620694, 4.137931034482759, 5.172413793103448, 6.206896551724139, 7.241379310344828, 8.275862068965518, 9.310344827586208, 10.344827586206897, 11.379310344827587, 12.413793103448278, 13.448275862068966, 14.482758620689657, 15.517241379310345, 16.551724137931036, 17.586206896551726, 18.620689655172416, 19.655172413793103, 20.689655172413794, 21.724137931034484, 22.758620689655174, 23.793103448275865, 24.827586206896555, 25.862068965517242, 26.896551724137932, 27.931034482758623, 28.965517241379313, 30.0], \"y\": [1.0, 0.9999905367019475, 0.9999444039845357, 0.9997199055490891, 0.9986287805964712, 0.9933611240375511, 0.9687265405918138, 0.8685387920606171, 0.6125577813288633, 0.33621482096018745, 0.1952322513541811, 0.13907562119677827, 0.11613360079683553, 0.10617093273701166, 0.1016650330706621, 0.09958211345902024, 0.09860870479498973, 0.09815139861515901, 0.09793600730501685, 0.09783445187039513, 0.09778652889809435, 0.09776391230220942, 0.09775323582362273, 0.09774819605159049, 0.09774581856444443, 0.0977446960445788, 0.09774416595097704, 0.09774391675056021, 0.09774379784378644, 0.09774374149845566]}, {\"name\": \"Exposed\", \"type\": \"scatter\", \"x\": [0.0, 1.0344827586206897, 2.0689655172413794, 3.1034482758620694, 4.137931034482759, 5.172413793103448, 6.206896551724139, 7.241379310344828, 8.275862068965518, 9.310344827586208, 10.344827586206897, 11.379310344827587, 12.413793103448278, 13.448275862068966, 14.482758620689657, 15.517241379310345, 16.551724137931036, 17.586206896551726, 18.620689655172416, 19.655172413793103, 20.689655172413794, 21.724137931034484, 22.758620689655174, 23.793103448275865, 24.827586206896555, 25.862068965517242, 26.896551724137932, 27.931034482758623, 28.965517241379313, 30.0], \"y\": [0.0, 3.278835349871798e-06, 1.6054713224563325e-05, 7.815181876082089e-05, 0.0003796637958907145, 0.001828342941014457, 0.008448681806106478, 0.032603607062268475, 0.07036101771461468, 0.05892972898290266, 0.02673811673947217, 0.010636505772848316, 0.004424814478286005, 0.001946547602375547, 0.0008866763122742295, 0.00041135959740418583, 0.00019257419120843, 9.054867292290997e-05, 4.266323750574583e-05, 2.012211582872254e-05, 9.49531732710071e-06, 4.4815263490262995e-06, 2.11527213814806e-06, 9.979187938669294e-07, 4.7549727558082765e-07, 2.1443448005983903e-07, 1.0474813313517564e-07, 4.9648603249648084e-08, 2.1017205221132322e-08, 1.0094326265848119e-08]}, {\"name\": \"Infected\", \"type\": \"scatter\", \"x\": [0.0, 1.0344827586206897, 2.0689655172413794, 3.1034482758620694, 4.137931034482759, 5.172413793103448, 6.206896551724139, 7.241379310344828, 8.275862068965518, 9.310344827586208, 10.344827586206897, 11.379310344827587, 12.413793103448278, 13.448275862068966, 14.482758620689657, 15.517241379310345, 16.551724137931036, 17.586206896551726, 18.620689655172416, 19.655172413793103, 20.689655172413794, 21.724137931034484, 22.758620689655174, 23.793103448275865, 24.827586206896555, 25.862068965517242, 26.896551724137932, 27.931034482758623, 28.965517241379313, 30.0], \"y\": [1.49e-06, 7.281520847659543e-06, 3.5514158298090435e-05, 0.00017289255100808352, 0.0008403107878164278, 0.004055890335707025, 0.01894703670868505, 0.07677676362617106, 0.19728025066598853, 0.24086473519872, 0.17094586066078343, 0.09550370500583093, 0.048498408734851624, 0.023661027220485027, 0.0113405544397421, 0.005391539308818292, 0.0025536083906782543, 0.0012073459679500316, 0.0005703443506274656, 0.0002693498131642467, 0.0001271693121937935, 6.003678947089602e-05, 2.833876167380736e-05, 1.3374275169142249e-05, 6.31449529906731e-06, 2.9811711934911414e-06, 1.4070393674772127e-06, 6.670258278450828e-07, 3.139251148852476e-07, 1.466041297795649e-07]}, {\"name\": \"Recovered\", \"type\": \"scatter\", \"x\": [0.0, 1.0344827586206897, 2.0689655172413794, 3.1034482758620694, 4.137931034482759, 5.172413793103448, 6.206896551724139, 7.241379310344828, 8.275862068965518, 9.310344827586208, 10.344827586206897, 11.379310344827587, 12.413793103448278, 13.448275862068966, 14.482758620689657, 15.517241379310345, 16.551724137931036, 17.586206896551726, 18.620689655172416, 19.655172413793103, 20.689655172413794, 21.724137931034484, 22.758620689655174, 23.793103448275865, 24.827586206896555, 25.862068965517242, 26.896551724137932, 27.931034482758623, 28.965517241379313, 30.0], \"y\": [0.0, 3.6717772048548104e-06, 2.157185716622159e-05, 0.00010869189990290304, 0.0005323986157124419, 0.002584475626741922, 0.012327912699501276, 0.05468593431321194, 0.19016345800514833, 0.42292193384109283, 0.6338233779850359, 0.765422163797391, 0.8353694804683132, 0.8701695300425039, 0.8869959024895963, 0.8950278372321621, 0.8988391768143325, 0.9006427454168912, 0.9014951383443558, 0.901897688316441, 0.9020877917897121, 0.90217754090832, 0.9022199154147037, 0.9022399196732406, 0.9022493569402569, 0.902253812784228, 0.9022559170096559, 0.9022569062236123, 0.9022573782310991, 0.9022576018974149]}],                        {\"template\": {\"data\": {\"bar\": [{\"error_x\": {\"color\": \"#2a3f5f\"}, \"error_y\": {\"color\": \"#2a3f5f\"}, \"marker\": {\"line\": {\"color\": \"#E5ECF6\", \"width\": 0.5}}, \"type\": \"bar\"}], \"barpolar\": [{\"marker\": {\"line\": {\"color\": \"#E5ECF6\", \"width\": 0.5}}, \"type\": \"barpolar\"}], \"carpet\": [{\"aaxis\": {\"endlinecolor\": \"#2a3f5f\", \"gridcolor\": \"white\", \"linecolor\": \"white\", \"minorgridcolor\": \"white\", \"startlinecolor\": \"#2a3f5f\"}, \"baxis\": {\"endlinecolor\": \"#2a3f5f\", \"gridcolor\": \"white\", \"linecolor\": \"white\", \"minorgridcolor\": \"white\", \"startlinecolor\": \"#2a3f5f\"}, \"type\": \"carpet\"}], \"choropleth\": [{\"colorbar\": {\"outlinewidth\": 0, \"ticks\": \"\"}, \"type\": \"choropleth\"}], \"contour\": [{\"colorbar\": {\"outlinewidth\": 0, \"ticks\": \"\"}, \"colorscale\": [[0.0, \"#0d0887\"], [0.1111111111111111, \"#46039f\"], [0.2222222222222222, \"#7201a8\"], [0.3333333333333333, \"#9c179e\"], [0.4444444444444444, \"#bd3786\"], [0.5555555555555556, \"#d8576b\"], [0.6666666666666666, \"#ed7953\"], [0.7777777777777778, \"#fb9f3a\"], [0.8888888888888888, \"#fdca26\"], [1.0, \"#f0f921\"]], \"type\": \"contour\"}], \"contourcarpet\": [{\"colorbar\": {\"outlinewidth\": 0, \"ticks\": \"\"}, \"type\": \"contourcarpet\"}], \"heatmap\": [{\"colorbar\": {\"outlinewidth\": 0, \"ticks\": \"\"}, \"colorscale\": [[0.0, \"#0d0887\"], [0.1111111111111111, \"#46039f\"], [0.2222222222222222, \"#7201a8\"], [0.3333333333333333, \"#9c179e\"], [0.4444444444444444, \"#bd3786\"], [0.5555555555555556, \"#d8576b\"], [0.6666666666666666, \"#ed7953\"], [0.7777777777777778, \"#fb9f3a\"], [0.8888888888888888, \"#fdca26\"], [1.0, \"#f0f921\"]], \"type\": \"heatmap\"}], \"heatmapgl\": [{\"colorbar\": {\"outlinewidth\": 0, \"ticks\": \"\"}, \"colorscale\": [[0.0, \"#0d0887\"], [0.1111111111111111, \"#46039f\"], [0.2222222222222222, \"#7201a8\"], [0.3333333333333333, \"#9c179e\"], [0.4444444444444444, \"#bd3786\"], [0.5555555555555556, \"#d8576b\"], [0.6666666666666666, \"#ed7953\"], [0.7777777777777778, \"#fb9f3a\"], [0.8888888888888888, \"#fdca26\"], [1.0, \"#f0f921\"]], \"type\": \"heatmapgl\"}], \"histogram\": [{\"marker\": {\"colorbar\": {\"outlinewidth\": 0, \"ticks\": \"\"}}, \"type\": \"histogram\"}], \"histogram2d\": [{\"colorbar\": {\"outlinewidth\": 0, \"ticks\": \"\"}, \"colorscale\": [[0.0, \"#0d0887\"], [0.1111111111111111, \"#46039f\"], [0.2222222222222222, \"#7201a8\"], [0.3333333333333333, \"#9c179e\"], [0.4444444444444444, \"#bd3786\"], [0.5555555555555556, \"#d8576b\"], [0.6666666666666666, \"#ed7953\"], [0.7777777777777778, \"#fb9f3a\"], [0.8888888888888888, \"#fdca26\"], [1.0, \"#f0f921\"]], \"type\": \"histogram2d\"}], \"histogram2dcontour\": [{\"colorbar\": {\"outlinewidth\": 0, \"ticks\": \"\"}, \"colorscale\": [[0.0, \"#0d0887\"], [0.1111111111111111, \"#46039f\"], [0.2222222222222222, \"#7201a8\"], [0.3333333333333333, \"#9c179e\"], [0.4444444444444444, \"#bd3786\"], [0.5555555555555556, \"#d8576b\"], [0.6666666666666666, \"#ed7953\"], [0.7777777777777778, \"#fb9f3a\"], [0.8888888888888888, \"#fdca26\"], [1.0, \"#f0f921\"]], \"type\": \"histogram2dcontour\"}], \"mesh3d\": [{\"colorbar\": {\"outlinewidth\": 0, \"ticks\": \"\"}, \"type\": \"mesh3d\"}], \"parcoords\": [{\"line\": {\"colorbar\": {\"outlinewidth\": 0, \"ticks\": \"\"}}, \"type\": \"parcoords\"}], \"pie\": [{\"automargin\": true, \"type\": \"pie\"}], \"scatter\": [{\"marker\": {\"colorbar\": {\"outlinewidth\": 0, \"ticks\": \"\"}}, \"type\": \"scatter\"}], \"scatter3d\": [{\"line\": {\"colorbar\": {\"outlinewidth\": 0, \"ticks\": \"\"}}, \"marker\": {\"colorbar\": {\"outlinewidth\": 0, \"ticks\": \"\"}}, \"type\": \"scatter3d\"}], \"scattercarpet\": [{\"marker\": {\"colorbar\": {\"outlinewidth\": 0, \"ticks\": \"\"}}, \"type\": \"scattercarpet\"}], \"scattergeo\": [{\"marker\": {\"colorbar\": {\"outlinewidth\": 0, \"ticks\": \"\"}}, \"type\": \"scattergeo\"}], \"scattergl\": [{\"marker\": {\"colorbar\": {\"outlinewidth\": 0, \"ticks\": \"\"}}, \"type\": \"scattergl\"}], \"scattermapbox\": [{\"marker\": {\"colorbar\": {\"outlinewidth\": 0, \"ticks\": \"\"}}, \"type\": \"scattermapbox\"}], \"scatterpolar\": [{\"marker\": {\"colorbar\": {\"outlinewidth\": 0, \"ticks\": \"\"}}, \"type\": \"scatterpolar\"}], \"scatterpolargl\": [{\"marker\": {\"colorbar\": {\"outlinewidth\": 0, \"ticks\": \"\"}}, \"type\": \"scatterpolargl\"}], \"scatterternary\": [{\"marker\": {\"colorbar\": {\"outlinewidth\": 0, \"ticks\": \"\"}}, \"type\": \"scatterternary\"}], \"surface\": [{\"colorbar\": {\"outlinewidth\": 0, \"ticks\": \"\"}, \"colorscale\": [[0.0, \"#0d0887\"], [0.1111111111111111, \"#46039f\"], [0.2222222222222222, \"#7201a8\"], [0.3333333333333333, \"#9c179e\"], [0.4444444444444444, \"#bd3786\"], [0.5555555555555556, \"#d8576b\"], [0.6666666666666666, \"#ed7953\"], [0.7777777777777778, \"#fb9f3a\"], [0.8888888888888888, \"#fdca26\"], [1.0, \"#f0f921\"]], \"type\": \"surface\"}], \"table\": [{\"cells\": {\"fill\": {\"color\": \"#EBF0F8\"}, \"line\": {\"color\": \"white\"}}, \"header\": {\"fill\": {\"color\": \"#C8D4E3\"}, \"line\": {\"color\": \"white\"}}, \"type\": \"table\"}]}, \"layout\": {\"annotationdefaults\": {\"arrowcolor\": \"#2a3f5f\", \"arrowhead\": 0, \"arrowwidth\": 1}, \"coloraxis\": {\"colorbar\": {\"outlinewidth\": 0, \"ticks\": \"\"}}, \"colorscale\": {\"diverging\": [[0, \"#8e0152\"], [0.1, \"#c51b7d\"], [0.2, \"#de77ae\"], [0.3, \"#f1b6da\"], [0.4, \"#fde0ef\"], [0.5, \"#f7f7f7\"], [0.6, \"#e6f5d0\"], [0.7, \"#b8e186\"], [0.8, \"#7fbc41\"], [0.9, \"#4d9221\"], [1, \"#276419\"]], \"sequential\": [[0.0, \"#0d0887\"], [0.1111111111111111, \"#46039f\"], [0.2222222222222222, \"#7201a8\"], [0.3333333333333333, \"#9c179e\"], [0.4444444444444444, \"#bd3786\"], [0.5555555555555556, \"#d8576b\"], [0.6666666666666666, \"#ed7953\"], [0.7777777777777778, \"#fb9f3a\"], [0.8888888888888888, \"#fdca26\"], [1.0, \"#f0f921\"]], \"sequentialminus\": [[0.0, \"#0d0887\"], [0.1111111111111111, \"#46039f\"], [0.2222222222222222, \"#7201a8\"], [0.3333333333333333, \"#9c179e\"], [0.4444444444444444, \"#bd3786\"], [0.5555555555555556, \"#d8576b\"], [0.6666666666666666, \"#ed7953\"], [0.7777777777777778, \"#fb9f3a\"], [0.8888888888888888, \"#fdca26\"], [1.0, \"#f0f921\"]]}, \"colorway\": [\"#636efa\", \"#EF553B\", \"#00cc96\", \"#ab63fa\", \"#FFA15A\", \"#19d3f3\", \"#FF6692\", \"#B6E880\", \"#FF97FF\", \"#FECB52\"], \"font\": {\"color\": \"#2a3f5f\"}, \"geo\": {\"bgcolor\": \"white\", \"lakecolor\": \"white\", \"landcolor\": \"#E5ECF6\", \"showlakes\": true, \"showland\": true, \"subunitcolor\": \"white\"}, \"hoverlabel\": {\"align\": \"left\"}, \"hovermode\": \"closest\", \"mapbox\": {\"style\": \"light\"}, \"paper_bgcolor\": \"white\", \"plot_bgcolor\": \"#E5ECF6\", \"polar\": {\"angularaxis\": {\"gridcolor\": \"white\", \"linecolor\": \"white\", \"ticks\": \"\"}, \"bgcolor\": \"#E5ECF6\", \"radialaxis\": {\"gridcolor\": \"white\", \"linecolor\": \"white\", \"ticks\": \"\"}}, \"scene\": {\"xaxis\": {\"backgroundcolor\": \"#E5ECF6\", \"gridcolor\": \"white\", \"gridwidth\": 2, \"linecolor\": \"white\", \"showbackground\": true, \"ticks\": \"\", \"zerolinecolor\": \"white\"}, \"yaxis\": {\"backgroundcolor\": \"#E5ECF6\", \"gridcolor\": \"white\", \"gridwidth\": 2, \"linecolor\": \"white\", \"showbackground\": true, \"ticks\": \"\", \"zerolinecolor\": \"white\"}, \"zaxis\": {\"backgroundcolor\": \"#E5ECF6\", \"gridcolor\": \"white\", \"gridwidth\": 2, \"linecolor\": \"white\", \"showbackground\": true, \"ticks\": \"\", \"zerolinecolor\": \"white\"}}, \"shapedefaults\": {\"line\": {\"color\": \"#2a3f5f\"}}, \"ternary\": {\"aaxis\": {\"gridcolor\": \"white\", \"linecolor\": \"white\", \"ticks\": \"\"}, \"baxis\": {\"gridcolor\": \"white\", \"linecolor\": \"white\", \"ticks\": \"\"}, \"bgcolor\": \"#E5ECF6\", \"caxis\": {\"gridcolor\": \"white\", \"linecolor\": \"white\", \"ticks\": \"\"}}, \"title\": {\"x\": 0.05}, \"xaxis\": {\"automargin\": true, \"gridcolor\": \"white\", \"linecolor\": \"white\", \"ticks\": \"\", \"title\": {\"standoff\": 15}, \"zerolinecolor\": \"white\", \"zerolinewidth\": 2}, \"yaxis\": {\"automargin\": true, \"gridcolor\": \"white\", \"linecolor\": \"white\", \"ticks\": \"\", \"title\": {\"standoff\": 15}, \"zerolinecolor\": \"white\", \"zerolinewidth\": 2}}}, \"title\": {\"text\": \"SEIR Model - No Restrictions\"}, \"xaxis\": {\"title\": {\"text\": \"Time (weeks)\"}}, \"yaxis\": {\"title\": {\"text\": \"Percent of Population x100\"}}},                        {\"responsive\": true}                    ).then(function(){\n",
       "                            \n",
       "var gd = document.getElementById('05592efa-0b8a-4640-9e37-79d11952186d');\n",
       "var x = new MutationObserver(function (mutations, observer) {{\n",
       "        var display = window.getComputedStyle(gd).display;\n",
       "        if (!display || display === 'none') {{\n",
       "            console.log([gd, 'removed!']);\n",
       "            Plotly.purge(gd);\n",
       "            observer.disconnect();\n",
       "        }}\n",
       "}});\n",
       "\n",
       "// Listen for the removal of the full notebook cells\n",
       "var notebookContainer = gd.closest('#notebook-container');\n",
       "if (notebookContainer) {{\n",
       "    x.observe(notebookContainer, {childList: true});\n",
       "}}\n",
       "\n",
       "// Listen for the clearing of the current output cell\n",
       "var outputEl = gd.closest('.output');\n",
       "if (outputEl) {{\n",
       "    x.observe(outputEl, {childList: true});\n",
       "}}\n",
       "\n",
       "                        })                };                });            </script>        </div>"
      ]
     },
     "metadata": {},
     "output_type": "display_data"
    }
   ],
   "source": [
    "fig.add_trace(go.Scatter(x=t, y=SEIR[:,0], name='Suseptible'))\n",
    "fig.add_trace(go.Scatter(x=t, y=SEIR[:,1], name='Exposed'))\n",
    "fig.add_trace(go.Scatter(x=t, y=SEIR[:,2], name='Infected'))\n",
    "fig.add_trace(go.Scatter(x=t, y=SEIR[:,3], name='Recovered')) \n",
    "fig.layout.update(dict(title='SEIR Model - No Restrictions',\n",
    "                       xaxis=dict(title='Time (weeks)'),\n",
    "                       yaxis=dict(title='Percent of Population x100')))\n",
    "fig.show()"
   ]
  },
  {
   "cell_type": "markdown",
   "metadata": {},
   "source": [
    "# Basic graph of COVID-19 with restrictions implemented - marginal effect    "
   ]
  },
  {
   "cell_type": "code",
   "execution_count": 6,
   "metadata": {},
   "outputs": [],
   "source": [
    "# Initial number of infected and recovered individuals, I0 and R0.\n",
    "# Everyone else, S0, is initially susceptible to infection. \n",
    "# Initial number of exposed individuals, E0\n",
    "I0 = 1\n",
    "S0 = 5926624\n",
    "R0 = 0 \n",
    "E0 = 0 \n",
    "# Contraction rate, beta, and mean recovery rate, gamma, incubation period, kappa.\n",
    "beta, gamma, kappa = 2, .97, 4 "
   ]
  },
  {
   "cell_type": "code",
   "execution_count": 7,
   "metadata": {},
   "outputs": [],
   "source": [
    "#Y axis represents S, E, I and R values\n",
    "#X axis represents time\n",
    "t = linspace(0, 30, 30)\n",
    "SEIR = odeint(dSEIRdt, [1, 0,.00000149, 0], t, (beta, gamma, kappa))  \n",
    "fig = go.Figure()"
   ]
  },
  {
   "cell_type": "code",
   "execution_count": 8,
   "metadata": {},
   "outputs": [
    {
     "data": {
      "application/vnd.plotly.v1+json": {
       "config": {
        "plotlyServerURL": "https://plot.ly"
       },
       "data": [
        {
         "name": "Suseptible",
         "type": "scatter",
         "x": [
          0,
          1.0344827586206897,
          2.0689655172413794,
          3.1034482758620694,
          4.137931034482759,
          5.172413793103448,
          6.206896551724139,
          7.241379310344828,
          8.275862068965518,
          9.310344827586208,
          10.344827586206897,
          11.379310344827587,
          12.413793103448278,
          13.448275862068966,
          14.482758620689657,
          15.517241379310345,
          16.551724137931036,
          17.586206896551726,
          18.620689655172416,
          19.655172413793103,
          20.689655172413794,
          21.724137931034484,
          22.758620689655174,
          23.793103448275865,
          24.827586206896555,
          25.862068965517242,
          26.896551724137932,
          27.931034482758623,
          28.965517241379313,
          30
         ],
         "y": [
          1,
          0.9999944811286394,
          0.9999784599598124,
          0.999931950290801,
          0.9997970187822816,
          0.9994056645813169,
          0.9982723645622116,
          0.9950044643258019,
          0.985695510950904,
          0.9600717694771559,
          0.8956711414681059,
          0.7645202658368299,
          0.5805670636721493,
          0.41549606912688825,
          0.30975559771648137,
          0.251825488527584,
          0.22138156255666624,
          0.20538152190574635,
          0.19690116114362732,
          0.19237339917356483,
          0.18994436540683748,
          0.18863754252437157,
          0.18793332289900438,
          0.18755351556095198,
          0.1873485603040167,
          0.18723793660506505,
          0.18717821308743865,
          0.18714597190150178,
          0.18712857164958516,
          0.18711917018518717
         ]
        },
        {
         "name": "Exposed",
         "type": "scatter",
         "x": [
          0,
          1.0344827586206897,
          2.0689655172413794,
          3.1034482758620694,
          4.137931034482759,
          5.172413793103448,
          6.206896551724139,
          7.241379310344828,
          8.275862068965518,
          9.310344827586208,
          10.344827586206897,
          11.379310344827587,
          12.413793103448278,
          13.448275862068966,
          14.482758620689657,
          15.517241379310345,
          16.551724137931036,
          17.586206896551726,
          18.620689655172416,
          19.655172413793103,
          20.689655172413794,
          21.724137931034484,
          22.758620689655174,
          23.793103448275865,
          24.827586206896555,
          25.862068965517242,
          26.896551724137932,
          27.931034482758623,
          28.965517241379313,
          30
         ],
         "y": [
          0,
          1.7119679566474609e-06,
          5.005829429476762e-06,
          1.4526401579869679e-05,
          4.214985529467231e-05,
          0.00012222490851838318,
          0.00035376859599148036,
          0.0010185640756766986,
          0.0028888662640116497,
          0.007855465953375738,
          0.019121712269426633,
          0.03625621510204382,
          0.04533917573415782,
          0.036417354399116496,
          0.021975217043661725,
          0.011822429502042672,
          0.006202875713332286,
          0.0032672165622770564,
          0.0017355369317452146,
          0.0009280296776655546,
          0.0004983250120764669,
          0.00026823703501077656,
          0.0001445855931036012,
          7.799621511565333e-05,
          4.2091168924174264e-05,
          2.272021329551131e-05,
          1.2265049379257927e-05,
          6.620716329058291e-06,
          3.5893050739148597e-06,
          1.9316960587903274e-06
         ]
        },
        {
         "name": "Infected",
         "type": "scatter",
         "x": [
          0,
          1.0344827586206897,
          2.0689655172413794,
          3.1034482758620694,
          4.137931034482759,
          5.172413793103448,
          6.206896551724139,
          7.241379310344828,
          8.275862068965518,
          9.310344827586208,
          10.344827586206897,
          11.379310344827587,
          12.413793103448278,
          13.448275862068966,
          14.482758620689657,
          15.517241379310345,
          16.551724137931036,
          17.586206896551726,
          18.620689655172416,
          19.655172413793103,
          20.689655172413794,
          21.724137931034484,
          22.758620689655174,
          23.793103448275865,
          24.827586206896555,
          25.862068965517242,
          26.896551724137932,
          27.931034482758623,
          28.965517241379313,
          30
         ],
         "y": [
          1.49e-06,
          4.332211276792281e-06,
          1.2583007249818526e-05,
          3.6534473555442404e-05,
          0.00010601531887725687,
          0.00030748697543634264,
          0.0008904971816051586,
          0.0025681170803668442,
          0.007318189463299984,
          0.020167262095258154,
          0.05089203577437678,
          0.10525541003665624,
          0.155715645698526,
          0.1585384873026857,
          0.12183953846738806,
          0.07935172162098902,
          0.04730408879708629,
          0.026920189988729533,
          0.014949336418140592,
          0.008194243554735567,
          0.004460346531543121,
          0.0024188221044068553,
          0.0013090586146865093,
          0.0007077025188759461,
          0.00038236833440665575,
          0.00020652946401848377,
          0.00011152735895550164,
          6.02208030999772e-05,
          3.2525064841747854e-05,
          1.7559178062267522e-05
         ]
        },
        {
         "name": "Recovered",
         "type": "scatter",
         "x": [
          0,
          1.0344827586206897,
          2.0689655172413794,
          3.1034482758620694,
          4.137931034482759,
          5.172413793103448,
          6.206896551724139,
          7.241379310344828,
          8.275862068965518,
          9.310344827586208,
          10.344827586206897,
          11.379310344827587,
          12.413793103448278,
          13.448275862068966,
          14.482758620689657,
          15.517241379310345,
          16.551724137931036,
          17.586206896551726,
          18.620689655172416,
          19.655172413793103,
          20.689655172413794,
          21.724137931034484,
          22.758620689655174,
          23.793103448275865,
          24.827586206896555,
          25.862068965517242,
          26.896551724137932,
          27.931034482758623,
          28.965517241379313,
          30
         ],
         "y": [
          0,
          2.6766600839060316e-06,
          1.044703293798151e-05,
          3.300523564384778e-05,
          9.845589884135156e-05,
          0.00028833844324680576,
          0.000838628256183115,
          0.002428908593831035,
          0.006987789585795809,
          0.019762458427585998,
          0.0534383127575172,
          0.13022581412651374,
          0.2637187806293247,
          0.42596693357042587,
          0.5684063538161304,
          0.6688242798514269,
          0.7313158386462474,
          0.7676997781055239,
          0.788150992438232,
          0.7994338472716994,
          0.8055967780616193,
          0.8089451253712215,
          0.8107591084863094,
          0.8117402719201725,
          0.812270561361577,
          0.8125570239309169,
          0.8127117495536061,
          0.8127952972953985,
          0.8128403932855734,
          0.812864760636751
         ]
        }
       ],
       "layout": {
        "autosize": true,
        "template": {
         "data": {
          "bar": [
           {
            "error_x": {
             "color": "#2a3f5f"
            },
            "error_y": {
             "color": "#2a3f5f"
            },
            "marker": {
             "line": {
              "color": "#E5ECF6",
              "width": 0.5
             }
            },
            "type": "bar"
           }
          ],
          "barpolar": [
           {
            "marker": {
             "line": {
              "color": "#E5ECF6",
              "width": 0.5
             }
            },
            "type": "barpolar"
           }
          ],
          "carpet": [
           {
            "aaxis": {
             "endlinecolor": "#2a3f5f",
             "gridcolor": "white",
             "linecolor": "white",
             "minorgridcolor": "white",
             "startlinecolor": "#2a3f5f"
            },
            "baxis": {
             "endlinecolor": "#2a3f5f",
             "gridcolor": "white",
             "linecolor": "white",
             "minorgridcolor": "white",
             "startlinecolor": "#2a3f5f"
            },
            "type": "carpet"
           }
          ],
          "choropleth": [
           {
            "colorbar": {
             "outlinewidth": 0,
             "ticks": ""
            },
            "type": "choropleth"
           }
          ],
          "contour": [
           {
            "colorbar": {
             "outlinewidth": 0,
             "ticks": ""
            },
            "colorscale": [
             [
              0,
              "#0d0887"
             ],
             [
              0.1111111111111111,
              "#46039f"
             ],
             [
              0.2222222222222222,
              "#7201a8"
             ],
             [
              0.3333333333333333,
              "#9c179e"
             ],
             [
              0.4444444444444444,
              "#bd3786"
             ],
             [
              0.5555555555555556,
              "#d8576b"
             ],
             [
              0.6666666666666666,
              "#ed7953"
             ],
             [
              0.7777777777777778,
              "#fb9f3a"
             ],
             [
              0.8888888888888888,
              "#fdca26"
             ],
             [
              1,
              "#f0f921"
             ]
            ],
            "type": "contour"
           }
          ],
          "contourcarpet": [
           {
            "colorbar": {
             "outlinewidth": 0,
             "ticks": ""
            },
            "type": "contourcarpet"
           }
          ],
          "heatmap": [
           {
            "colorbar": {
             "outlinewidth": 0,
             "ticks": ""
            },
            "colorscale": [
             [
              0,
              "#0d0887"
             ],
             [
              0.1111111111111111,
              "#46039f"
             ],
             [
              0.2222222222222222,
              "#7201a8"
             ],
             [
              0.3333333333333333,
              "#9c179e"
             ],
             [
              0.4444444444444444,
              "#bd3786"
             ],
             [
              0.5555555555555556,
              "#d8576b"
             ],
             [
              0.6666666666666666,
              "#ed7953"
             ],
             [
              0.7777777777777778,
              "#fb9f3a"
             ],
             [
              0.8888888888888888,
              "#fdca26"
             ],
             [
              1,
              "#f0f921"
             ]
            ],
            "type": "heatmap"
           }
          ],
          "heatmapgl": [
           {
            "colorbar": {
             "outlinewidth": 0,
             "ticks": ""
            },
            "colorscale": [
             [
              0,
              "#0d0887"
             ],
             [
              0.1111111111111111,
              "#46039f"
             ],
             [
              0.2222222222222222,
              "#7201a8"
             ],
             [
              0.3333333333333333,
              "#9c179e"
             ],
             [
              0.4444444444444444,
              "#bd3786"
             ],
             [
              0.5555555555555556,
              "#d8576b"
             ],
             [
              0.6666666666666666,
              "#ed7953"
             ],
             [
              0.7777777777777778,
              "#fb9f3a"
             ],
             [
              0.8888888888888888,
              "#fdca26"
             ],
             [
              1,
              "#f0f921"
             ]
            ],
            "type": "heatmapgl"
           }
          ],
          "histogram": [
           {
            "marker": {
             "colorbar": {
              "outlinewidth": 0,
              "ticks": ""
             }
            },
            "type": "histogram"
           }
          ],
          "histogram2d": [
           {
            "colorbar": {
             "outlinewidth": 0,
             "ticks": ""
            },
            "colorscale": [
             [
              0,
              "#0d0887"
             ],
             [
              0.1111111111111111,
              "#46039f"
             ],
             [
              0.2222222222222222,
              "#7201a8"
             ],
             [
              0.3333333333333333,
              "#9c179e"
             ],
             [
              0.4444444444444444,
              "#bd3786"
             ],
             [
              0.5555555555555556,
              "#d8576b"
             ],
             [
              0.6666666666666666,
              "#ed7953"
             ],
             [
              0.7777777777777778,
              "#fb9f3a"
             ],
             [
              0.8888888888888888,
              "#fdca26"
             ],
             [
              1,
              "#f0f921"
             ]
            ],
            "type": "histogram2d"
           }
          ],
          "histogram2dcontour": [
           {
            "colorbar": {
             "outlinewidth": 0,
             "ticks": ""
            },
            "colorscale": [
             [
              0,
              "#0d0887"
             ],
             [
              0.1111111111111111,
              "#46039f"
             ],
             [
              0.2222222222222222,
              "#7201a8"
             ],
             [
              0.3333333333333333,
              "#9c179e"
             ],
             [
              0.4444444444444444,
              "#bd3786"
             ],
             [
              0.5555555555555556,
              "#d8576b"
             ],
             [
              0.6666666666666666,
              "#ed7953"
             ],
             [
              0.7777777777777778,
              "#fb9f3a"
             ],
             [
              0.8888888888888888,
              "#fdca26"
             ],
             [
              1,
              "#f0f921"
             ]
            ],
            "type": "histogram2dcontour"
           }
          ],
          "mesh3d": [
           {
            "colorbar": {
             "outlinewidth": 0,
             "ticks": ""
            },
            "type": "mesh3d"
           }
          ],
          "parcoords": [
           {
            "line": {
             "colorbar": {
              "outlinewidth": 0,
              "ticks": ""
             }
            },
            "type": "parcoords"
           }
          ],
          "pie": [
           {
            "automargin": true,
            "type": "pie"
           }
          ],
          "scatter": [
           {
            "marker": {
             "colorbar": {
              "outlinewidth": 0,
              "ticks": ""
             }
            },
            "type": "scatter"
           }
          ],
          "scatter3d": [
           {
            "line": {
             "colorbar": {
              "outlinewidth": 0,
              "ticks": ""
             }
            },
            "marker": {
             "colorbar": {
              "outlinewidth": 0,
              "ticks": ""
             }
            },
            "type": "scatter3d"
           }
          ],
          "scattercarpet": [
           {
            "marker": {
             "colorbar": {
              "outlinewidth": 0,
              "ticks": ""
             }
            },
            "type": "scattercarpet"
           }
          ],
          "scattergeo": [
           {
            "marker": {
             "colorbar": {
              "outlinewidth": 0,
              "ticks": ""
             }
            },
            "type": "scattergeo"
           }
          ],
          "scattergl": [
           {
            "marker": {
             "colorbar": {
              "outlinewidth": 0,
              "ticks": ""
             }
            },
            "type": "scattergl"
           }
          ],
          "scattermapbox": [
           {
            "marker": {
             "colorbar": {
              "outlinewidth": 0,
              "ticks": ""
             }
            },
            "type": "scattermapbox"
           }
          ],
          "scatterpolar": [
           {
            "marker": {
             "colorbar": {
              "outlinewidth": 0,
              "ticks": ""
             }
            },
            "type": "scatterpolar"
           }
          ],
          "scatterpolargl": [
           {
            "marker": {
             "colorbar": {
              "outlinewidth": 0,
              "ticks": ""
             }
            },
            "type": "scatterpolargl"
           }
          ],
          "scatterternary": [
           {
            "marker": {
             "colorbar": {
              "outlinewidth": 0,
              "ticks": ""
             }
            },
            "type": "scatterternary"
           }
          ],
          "surface": [
           {
            "colorbar": {
             "outlinewidth": 0,
             "ticks": ""
            },
            "colorscale": [
             [
              0,
              "#0d0887"
             ],
             [
              0.1111111111111111,
              "#46039f"
             ],
             [
              0.2222222222222222,
              "#7201a8"
             ],
             [
              0.3333333333333333,
              "#9c179e"
             ],
             [
              0.4444444444444444,
              "#bd3786"
             ],
             [
              0.5555555555555556,
              "#d8576b"
             ],
             [
              0.6666666666666666,
              "#ed7953"
             ],
             [
              0.7777777777777778,
              "#fb9f3a"
             ],
             [
              0.8888888888888888,
              "#fdca26"
             ],
             [
              1,
              "#f0f921"
             ]
            ],
            "type": "surface"
           }
          ],
          "table": [
           {
            "cells": {
             "fill": {
              "color": "#EBF0F8"
             },
             "line": {
              "color": "white"
             }
            },
            "header": {
             "fill": {
              "color": "#C8D4E3"
             },
             "line": {
              "color": "white"
             }
            },
            "type": "table"
           }
          ]
         },
         "layout": {
          "annotationdefaults": {
           "arrowcolor": "#2a3f5f",
           "arrowhead": 0,
           "arrowwidth": 1
          },
          "coloraxis": {
           "colorbar": {
            "outlinewidth": 0,
            "ticks": ""
           }
          },
          "colorscale": {
           "diverging": [
            [
             0,
             "#8e0152"
            ],
            [
             0.1,
             "#c51b7d"
            ],
            [
             0.2,
             "#de77ae"
            ],
            [
             0.3,
             "#f1b6da"
            ],
            [
             0.4,
             "#fde0ef"
            ],
            [
             0.5,
             "#f7f7f7"
            ],
            [
             0.6,
             "#e6f5d0"
            ],
            [
             0.7,
             "#b8e186"
            ],
            [
             0.8,
             "#7fbc41"
            ],
            [
             0.9,
             "#4d9221"
            ],
            [
             1,
             "#276419"
            ]
           ],
           "sequential": [
            [
             0,
             "#0d0887"
            ],
            [
             0.1111111111111111,
             "#46039f"
            ],
            [
             0.2222222222222222,
             "#7201a8"
            ],
            [
             0.3333333333333333,
             "#9c179e"
            ],
            [
             0.4444444444444444,
             "#bd3786"
            ],
            [
             0.5555555555555556,
             "#d8576b"
            ],
            [
             0.6666666666666666,
             "#ed7953"
            ],
            [
             0.7777777777777778,
             "#fb9f3a"
            ],
            [
             0.8888888888888888,
             "#fdca26"
            ],
            [
             1,
             "#f0f921"
            ]
           ],
           "sequentialminus": [
            [
             0,
             "#0d0887"
            ],
            [
             0.1111111111111111,
             "#46039f"
            ],
            [
             0.2222222222222222,
             "#7201a8"
            ],
            [
             0.3333333333333333,
             "#9c179e"
            ],
            [
             0.4444444444444444,
             "#bd3786"
            ],
            [
             0.5555555555555556,
             "#d8576b"
            ],
            [
             0.6666666666666666,
             "#ed7953"
            ],
            [
             0.7777777777777778,
             "#fb9f3a"
            ],
            [
             0.8888888888888888,
             "#fdca26"
            ],
            [
             1,
             "#f0f921"
            ]
           ]
          },
          "colorway": [
           "#636efa",
           "#EF553B",
           "#00cc96",
           "#ab63fa",
           "#FFA15A",
           "#19d3f3",
           "#FF6692",
           "#B6E880",
           "#FF97FF",
           "#FECB52"
          ],
          "font": {
           "color": "#2a3f5f"
          },
          "geo": {
           "bgcolor": "white",
           "lakecolor": "white",
           "landcolor": "#E5ECF6",
           "showlakes": true,
           "showland": true,
           "subunitcolor": "white"
          },
          "hoverlabel": {
           "align": "left"
          },
          "hovermode": "closest",
          "mapbox": {
           "style": "light"
          },
          "paper_bgcolor": "white",
          "plot_bgcolor": "#E5ECF6",
          "polar": {
           "angularaxis": {
            "gridcolor": "white",
            "linecolor": "white",
            "ticks": ""
           },
           "bgcolor": "#E5ECF6",
           "radialaxis": {
            "gridcolor": "white",
            "linecolor": "white",
            "ticks": ""
           }
          },
          "scene": {
           "xaxis": {
            "backgroundcolor": "#E5ECF6",
            "gridcolor": "white",
            "gridwidth": 2,
            "linecolor": "white",
            "showbackground": true,
            "ticks": "",
            "zerolinecolor": "white"
           },
           "yaxis": {
            "backgroundcolor": "#E5ECF6",
            "gridcolor": "white",
            "gridwidth": 2,
            "linecolor": "white",
            "showbackground": true,
            "ticks": "",
            "zerolinecolor": "white"
           },
           "zaxis": {
            "backgroundcolor": "#E5ECF6",
            "gridcolor": "white",
            "gridwidth": 2,
            "linecolor": "white",
            "showbackground": true,
            "ticks": "",
            "zerolinecolor": "white"
           }
          },
          "shapedefaults": {
           "line": {
            "color": "#2a3f5f"
           }
          },
          "ternary": {
           "aaxis": {
            "gridcolor": "white",
            "linecolor": "white",
            "ticks": ""
           },
           "baxis": {
            "gridcolor": "white",
            "linecolor": "white",
            "ticks": ""
           },
           "bgcolor": "#E5ECF6",
           "caxis": {
            "gridcolor": "white",
            "linecolor": "white",
            "ticks": ""
           }
          },
          "title": {
           "x": 0.05
          },
          "xaxis": {
           "automargin": true,
           "gridcolor": "white",
           "linecolor": "white",
           "ticks": "",
           "title": {
            "standoff": 15
           },
           "zerolinecolor": "white",
           "zerolinewidth": 2
          },
          "yaxis": {
           "automargin": true,
           "gridcolor": "white",
           "linecolor": "white",
           "ticks": "",
           "title": {
            "standoff": 15
           },
           "zerolinecolor": "white",
           "zerolinewidth": 2
          }
         }
        },
        "title": {
         "text": "SEIR Model - Marginal Restrictions"
        },
        "xaxis": {
         "autorange": true,
         "range": [
          0,
          30
         ],
         "title": {
          "text": "Time (weeks)"
         },
         "type": "linear"
        },
        "yaxis": {
         "autorange": true,
         "range": [
          -0.05555555555555556,
          1.0555555555555556
         ],
         "title": {
          "text": "Percent of Population x100"
         },
         "type": "linear"
        }
       }
      },
      "image/png": "[encoded data removed]",
      "text/html": [
       "<div>                            <div id=\"ff02ddf1-d35d-46b8-9508-5875b840a307\" class=\"plotly-graph-div\" style=\"height:525px; width:100%;\"></div>            <script type=\"text/javascript\">                require([\"plotly\"], function(Plotly) {                    window.PLOTLYENV=window.PLOTLYENV || {};                                    if (document.getElementById(\"ff02ddf1-d35d-46b8-9508-5875b840a307\")) {                    Plotly.newPlot(                        \"ff02ddf1-d35d-46b8-9508-5875b840a307\",                        [{\"name\": \"Suseptible\", \"type\": \"scatter\", \"x\": [0.0, 1.0344827586206897, 2.0689655172413794, 3.1034482758620694, 4.137931034482759, 5.172413793103448, 6.206896551724139, 7.241379310344828, 8.275862068965518, 9.310344827586208, 10.344827586206897, 11.379310344827587, 12.413793103448278, 13.448275862068966, 14.482758620689657, 15.517241379310345, 16.551724137931036, 17.586206896551726, 18.620689655172416, 19.655172413793103, 20.689655172413794, 21.724137931034484, 22.758620689655174, 23.793103448275865, 24.827586206896555, 25.862068965517242, 26.896551724137932, 27.931034482758623, 28.965517241379313, 30.0], \"y\": [1.0, 0.9999944811286394, 0.9999784599598124, 0.999931950290801, 0.9997970187822816, 0.9994056645813169, 0.9982723645622116, 0.9950044643258019, 0.985695510950904, 0.9600717694771559, 0.8956711414681059, 0.7645202658368299, 0.5805670636721493, 0.41549606912688825, 0.30975559771648137, 0.251825488527584, 0.22138156255666624, 0.20538152190574635, 0.19690116114362732, 0.19237339917356483, 0.18994436540683748, 0.18863754252437157, 0.18793332289900438, 0.18755351556095198, 0.1873485603040167, 0.18723793660506505, 0.18717821308743865, 0.18714597190150178, 0.18712857164958516, 0.18711917018518717]}, {\"name\": \"Exposed\", \"type\": \"scatter\", \"x\": [0.0, 1.0344827586206897, 2.0689655172413794, 3.1034482758620694, 4.137931034482759, 5.172413793103448, 6.206896551724139, 7.241379310344828, 8.275862068965518, 9.310344827586208, 10.344827586206897, 11.379310344827587, 12.413793103448278, 13.448275862068966, 14.482758620689657, 15.517241379310345, 16.551724137931036, 17.586206896551726, 18.620689655172416, 19.655172413793103, 20.689655172413794, 21.724137931034484, 22.758620689655174, 23.793103448275865, 24.827586206896555, 25.862068965517242, 26.896551724137932, 27.931034482758623, 28.965517241379313, 30.0], \"y\": [0.0, 1.7119679566474609e-06, 5.005829429476762e-06, 1.4526401579869679e-05, 4.214985529467231e-05, 0.00012222490851838318, 0.00035376859599148036, 0.0010185640756766986, 0.0028888662640116497, 0.007855465953375738, 0.019121712269426633, 0.03625621510204382, 0.04533917573415782, 0.036417354399116496, 0.021975217043661725, 0.011822429502042672, 0.006202875713332286, 0.0032672165622770564, 0.0017355369317452146, 0.0009280296776655546, 0.0004983250120764669, 0.00026823703501077656, 0.0001445855931036012, 7.799621511565333e-05, 4.2091168924174264e-05, 2.272021329551131e-05, 1.2265049379257927e-05, 6.620716329058291e-06, 3.5893050739148597e-06, 1.9316960587903274e-06]}, {\"name\": \"Infected\", \"type\": \"scatter\", \"x\": [0.0, 1.0344827586206897, 2.0689655172413794, 3.1034482758620694, 4.137931034482759, 5.172413793103448, 6.206896551724139, 7.241379310344828, 8.275862068965518, 9.310344827586208, 10.344827586206897, 11.379310344827587, 12.413793103448278, 13.448275862068966, 14.482758620689657, 15.517241379310345, 16.551724137931036, 17.586206896551726, 18.620689655172416, 19.655172413793103, 20.689655172413794, 21.724137931034484, 22.758620689655174, 23.793103448275865, 24.827586206896555, 25.862068965517242, 26.896551724137932, 27.931034482758623, 28.965517241379313, 30.0], \"y\": [1.49e-06, 4.332211276792281e-06, 1.2583007249818526e-05, 3.6534473555442404e-05, 0.00010601531887725687, 0.00030748697543634264, 0.0008904971816051586, 0.0025681170803668442, 0.007318189463299984, 0.020167262095258154, 0.05089203577437678, 0.10525541003665624, 0.155715645698526, 0.1585384873026857, 0.12183953846738806, 0.07935172162098902, 0.04730408879708629, 0.026920189988729533, 0.014949336418140592, 0.008194243554735567, 0.004460346531543121, 0.0024188221044068553, 0.0013090586146865093, 0.0007077025188759461, 0.00038236833440665575, 0.00020652946401848377, 0.00011152735895550164, 6.02208030999772e-05, 3.2525064841747854e-05, 1.7559178062267522e-05]}, {\"name\": \"Recovered\", \"type\": \"scatter\", \"x\": [0.0, 1.0344827586206897, 2.0689655172413794, 3.1034482758620694, 4.137931034482759, 5.172413793103448, 6.206896551724139, 7.241379310344828, 8.275862068965518, 9.310344827586208, 10.344827586206897, 11.379310344827587, 12.413793103448278, 13.448275862068966, 14.482758620689657, 15.517241379310345, 16.551724137931036, 17.586206896551726, 18.620689655172416, 19.655172413793103, 20.689655172413794, 21.724137931034484, 22.758620689655174, 23.793103448275865, 24.827586206896555, 25.862068965517242, 26.896551724137932, 27.931034482758623, 28.965517241379313, 30.0], \"y\": [0.0, 2.6766600839060316e-06, 1.044703293798151e-05, 3.300523564384778e-05, 9.845589884135156e-05, 0.00028833844324680576, 0.000838628256183115, 0.002428908593831035, 0.006987789585795809, 0.019762458427585998, 0.0534383127575172, 0.13022581412651374, 0.2637187806293247, 0.42596693357042587, 0.5684063538161304, 0.6688242798514269, 0.7313158386462474, 0.7676997781055239, 0.788150992438232, 0.7994338472716994, 0.8055967780616193, 0.8089451253712215, 0.8107591084863094, 0.8117402719201725, 0.812270561361577, 0.8125570239309169, 0.8127117495536061, 0.8127952972953985, 0.8128403932855734, 0.812864760636751]}],                        {\"template\": {\"data\": {\"bar\": [{\"error_x\": {\"color\": \"#2a3f5f\"}, \"error_y\": {\"color\": \"#2a3f5f\"}, \"marker\": {\"line\": {\"color\": \"#E5ECF6\", \"width\": 0.5}}, \"type\": \"bar\"}], \"barpolar\": [{\"marker\": {\"line\": {\"color\": \"#E5ECF6\", \"width\": 0.5}}, \"type\": \"barpolar\"}], \"carpet\": [{\"aaxis\": {\"endlinecolor\": \"#2a3f5f\", \"gridcolor\": \"white\", \"linecolor\": \"white\", \"minorgridcolor\": \"white\", \"startlinecolor\": \"#2a3f5f\"}, \"baxis\": {\"endlinecolor\": \"#2a3f5f\", \"gridcolor\": \"white\", \"linecolor\": \"white\", \"minorgridcolor\": \"white\", \"startlinecolor\": \"#2a3f5f\"}, \"type\": \"carpet\"}], \"choropleth\": [{\"colorbar\": {\"outlinewidth\": 0, \"ticks\": \"\"}, \"type\": \"choropleth\"}], \"contour\": [{\"colorbar\": {\"outlinewidth\": 0, \"ticks\": \"\"}, \"colorscale\": [[0.0, \"#0d0887\"], [0.1111111111111111, \"#46039f\"], [0.2222222222222222, \"#7201a8\"], [0.3333333333333333, \"#9c179e\"], [0.4444444444444444, \"#bd3786\"], [0.5555555555555556, \"#d8576b\"], [0.6666666666666666, \"#ed7953\"], [0.7777777777777778, \"#fb9f3a\"], [0.8888888888888888, \"#fdca26\"], [1.0, \"#f0f921\"]], \"type\": \"contour\"}], \"contourcarpet\": [{\"colorbar\": {\"outlinewidth\": 0, \"ticks\": \"\"}, \"type\": \"contourcarpet\"}], \"heatmap\": [{\"colorbar\": {\"outlinewidth\": 0, \"ticks\": \"\"}, \"colorscale\": [[0.0, \"#0d0887\"], [0.1111111111111111, \"#46039f\"], [0.2222222222222222, \"#7201a8\"], [0.3333333333333333, \"#9c179e\"], [0.4444444444444444, \"#bd3786\"], [0.5555555555555556, \"#d8576b\"], [0.6666666666666666, \"#ed7953\"], [0.7777777777777778, \"#fb9f3a\"], [0.8888888888888888, \"#fdca26\"], [1.0, \"#f0f921\"]], \"type\": \"heatmap\"}], \"heatmapgl\": [{\"colorbar\": {\"outlinewidth\": 0, \"ticks\": \"\"}, \"colorscale\": [[0.0, \"#0d0887\"], [0.1111111111111111, \"#46039f\"], [0.2222222222222222, \"#7201a8\"], [0.3333333333333333, \"#9c179e\"], [0.4444444444444444, \"#bd3786\"], [0.5555555555555556, \"#d8576b\"], [0.6666666666666666, \"#ed7953\"], [0.7777777777777778, \"#fb9f3a\"], [0.8888888888888888, \"#fdca26\"], [1.0, \"#f0f921\"]], \"type\": \"heatmapgl\"}], \"histogram\": [{\"marker\": {\"colorbar\": {\"outlinewidth\": 0, \"ticks\": \"\"}}, \"type\": \"histogram\"}], \"histogram2d\": [{\"colorbar\": {\"outlinewidth\": 0, \"ticks\": \"\"}, \"colorscale\": [[0.0, \"#0d0887\"], [0.1111111111111111, \"#46039f\"], [0.2222222222222222, \"#7201a8\"], [0.3333333333333333, \"#9c179e\"], [0.4444444444444444, \"#bd3786\"], [0.5555555555555556, \"#d8576b\"], [0.6666666666666666, \"#ed7953\"], [0.7777777777777778, \"#fb9f3a\"], [0.8888888888888888, \"#fdca26\"], [1.0, \"#f0f921\"]], \"type\": \"histogram2d\"}], \"histogram2dcontour\": [{\"colorbar\": {\"outlinewidth\": 0, \"ticks\": \"\"}, \"colorscale\": [[0.0, \"#0d0887\"], [0.1111111111111111, \"#46039f\"], [0.2222222222222222, \"#7201a8\"], [0.3333333333333333, \"#9c179e\"], [0.4444444444444444, \"#bd3786\"], [0.5555555555555556, \"#d8576b\"], [0.6666666666666666, \"#ed7953\"], [0.7777777777777778, \"#fb9f3a\"], [0.8888888888888888, \"#fdca26\"], [1.0, \"#f0f921\"]], \"type\": \"histogram2dcontour\"}], \"mesh3d\": [{\"colorbar\": {\"outlinewidth\": 0, \"ticks\": \"\"}, \"type\": \"mesh3d\"}], \"parcoords\": [{\"line\": {\"colorbar\": {\"outlinewidth\": 0, \"ticks\": \"\"}}, \"type\": \"parcoords\"}], \"pie\": [{\"automargin\": true, \"type\": \"pie\"}], \"scatter\": [{\"marker\": {\"colorbar\": {\"outlinewidth\": 0, \"ticks\": \"\"}}, \"type\": \"scatter\"}], \"scatter3d\": [{\"line\": {\"colorbar\": {\"outlinewidth\": 0, \"ticks\": \"\"}}, \"marker\": {\"colorbar\": {\"outlinewidth\": 0, \"ticks\": \"\"}}, \"type\": \"scatter3d\"}], \"scattercarpet\": [{\"marker\": {\"colorbar\": {\"outlinewidth\": 0, \"ticks\": \"\"}}, \"type\": \"scattercarpet\"}], \"scattergeo\": [{\"marker\": {\"colorbar\": {\"outlinewidth\": 0, \"ticks\": \"\"}}, \"type\": \"scattergeo\"}], \"scattergl\": [{\"marker\": {\"colorbar\": {\"outlinewidth\": 0, \"ticks\": \"\"}}, \"type\": \"scattergl\"}], \"scattermapbox\": [{\"marker\": {\"colorbar\": {\"outlinewidth\": 0, \"ticks\": \"\"}}, \"type\": \"scattermapbox\"}], \"scatterpolar\": [{\"marker\": {\"colorbar\": {\"outlinewidth\": 0, \"ticks\": \"\"}}, \"type\": \"scatterpolar\"}], \"scatterpolargl\": [{\"marker\": {\"colorbar\": {\"outlinewidth\": 0, \"ticks\": \"\"}}, \"type\": \"scatterpolargl\"}], \"scatterternary\": [{\"marker\": {\"colorbar\": {\"outlinewidth\": 0, \"ticks\": \"\"}}, \"type\": \"scatterternary\"}], \"surface\": [{\"colorbar\": {\"outlinewidth\": 0, \"ticks\": \"\"}, \"colorscale\": [[0.0, \"#0d0887\"], [0.1111111111111111, \"#46039f\"], [0.2222222222222222, \"#7201a8\"], [0.3333333333333333, \"#9c179e\"], [0.4444444444444444, \"#bd3786\"], [0.5555555555555556, \"#d8576b\"], [0.6666666666666666, \"#ed7953\"], [0.7777777777777778, \"#fb9f3a\"], [0.8888888888888888, \"#fdca26\"], [1.0, \"#f0f921\"]], \"type\": \"surface\"}], \"table\": [{\"cells\": {\"fill\": {\"color\": \"#EBF0F8\"}, \"line\": {\"color\": \"white\"}}, \"header\": {\"fill\": {\"color\": \"#C8D4E3\"}, \"line\": {\"color\": \"white\"}}, \"type\": \"table\"}]}, \"layout\": {\"annotationdefaults\": {\"arrowcolor\": \"#2a3f5f\", \"arrowhead\": 0, \"arrowwidth\": 1}, \"coloraxis\": {\"colorbar\": {\"outlinewidth\": 0, \"ticks\": \"\"}}, \"colorscale\": {\"diverging\": [[0, \"#8e0152\"], [0.1, \"#c51b7d\"], [0.2, \"#de77ae\"], [0.3, \"#f1b6da\"], [0.4, \"#fde0ef\"], [0.5, \"#f7f7f7\"], [0.6, \"#e6f5d0\"], [0.7, \"#b8e186\"], [0.8, \"#7fbc41\"], [0.9, \"#4d9221\"], [1, \"#276419\"]], \"sequential\": [[0.0, \"#0d0887\"], [0.1111111111111111, \"#46039f\"], [0.2222222222222222, \"#7201a8\"], [0.3333333333333333, \"#9c179e\"], [0.4444444444444444, \"#bd3786\"], [0.5555555555555556, \"#d8576b\"], [0.6666666666666666, \"#ed7953\"], [0.7777777777777778, \"#fb9f3a\"], [0.8888888888888888, \"#fdca26\"], [1.0, \"#f0f921\"]], \"sequentialminus\": [[0.0, \"#0d0887\"], [0.1111111111111111, \"#46039f\"], [0.2222222222222222, \"#7201a8\"], [0.3333333333333333, \"#9c179e\"], [0.4444444444444444, \"#bd3786\"], [0.5555555555555556, \"#d8576b\"], [0.6666666666666666, \"#ed7953\"], [0.7777777777777778, \"#fb9f3a\"], [0.8888888888888888, \"#fdca26\"], [1.0, \"#f0f921\"]]}, \"colorway\": [\"#636efa\", \"#EF553B\", \"#00cc96\", \"#ab63fa\", \"#FFA15A\", \"#19d3f3\", \"#FF6692\", \"#B6E880\", \"#FF97FF\", \"#FECB52\"], \"font\": {\"color\": \"#2a3f5f\"}, \"geo\": {\"bgcolor\": \"white\", \"lakecolor\": \"white\", \"landcolor\": \"#E5ECF6\", \"showlakes\": true, \"showland\": true, \"subunitcolor\": \"white\"}, \"hoverlabel\": {\"align\": \"left\"}, \"hovermode\": \"closest\", \"mapbox\": {\"style\": \"light\"}, \"paper_bgcolor\": \"white\", \"plot_bgcolor\": \"#E5ECF6\", \"polar\": {\"angularaxis\": {\"gridcolor\": \"white\", \"linecolor\": \"white\", \"ticks\": \"\"}, \"bgcolor\": \"#E5ECF6\", \"radialaxis\": {\"gridcolor\": \"white\", \"linecolor\": \"white\", \"ticks\": \"\"}}, \"scene\": {\"xaxis\": {\"backgroundcolor\": \"#E5ECF6\", \"gridcolor\": \"white\", \"gridwidth\": 2, \"linecolor\": \"white\", \"showbackground\": true, \"ticks\": \"\", \"zerolinecolor\": \"white\"}, \"yaxis\": {\"backgroundcolor\": \"#E5ECF6\", \"gridcolor\": \"white\", \"gridwidth\": 2, \"linecolor\": \"white\", \"showbackground\": true, \"ticks\": \"\", \"zerolinecolor\": \"white\"}, \"zaxis\": {\"backgroundcolor\": \"#E5ECF6\", \"gridcolor\": \"white\", \"gridwidth\": 2, \"linecolor\": \"white\", \"showbackground\": true, \"ticks\": \"\", \"zerolinecolor\": \"white\"}}, \"shapedefaults\": {\"line\": {\"color\": \"#2a3f5f\"}}, \"ternary\": {\"aaxis\": {\"gridcolor\": \"white\", \"linecolor\": \"white\", \"ticks\": \"\"}, \"baxis\": {\"gridcolor\": \"white\", \"linecolor\": \"white\", \"ticks\": \"\"}, \"bgcolor\": \"#E5ECF6\", \"caxis\": {\"gridcolor\": \"white\", \"linecolor\": \"white\", \"ticks\": \"\"}}, \"title\": {\"x\": 0.05}, \"xaxis\": {\"automargin\": true, \"gridcolor\": \"white\", \"linecolor\": \"white\", \"ticks\": \"\", \"title\": {\"standoff\": 15}, \"zerolinecolor\": \"white\", \"zerolinewidth\": 2}, \"yaxis\": {\"automargin\": true, \"gridcolor\": \"white\", \"linecolor\": \"white\", \"ticks\": \"\", \"title\": {\"standoff\": 15}, \"zerolinecolor\": \"white\", \"zerolinewidth\": 2}}}, \"title\": {\"text\": \"SEIR Model - Marginal Restrictions\"}, \"xaxis\": {\"title\": {\"text\": \"Time (weeks)\"}}, \"yaxis\": {\"title\": {\"text\": \"Percent of Population x100\"}}},                        {\"responsive\": true}                    ).then(function(){\n",
       "                            \n",
       "var gd = document.getElementById('ff02ddf1-d35d-46b8-9508-5875b840a307');\n",
       "var x = new MutationObserver(function (mutations, observer) {{\n",
       "        var display = window.getComputedStyle(gd).display;\n",
       "        if (!display || display === 'none') {{\n",
       "            console.log([gd, 'removed!']);\n",
       "            Plotly.purge(gd);\n",
       "            observer.disconnect();\n",
       "        }}\n",
       "}});\n",
       "\n",
       "// Listen for the removal of the full notebook cells\n",
       "var notebookContainer = gd.closest('#notebook-container');\n",
       "if (notebookContainer) {{\n",
       "    x.observe(notebookContainer, {childList: true});\n",
       "}}\n",
       "\n",
       "// Listen for the clearing of the current output cell\n",
       "var outputEl = gd.closest('.output');\n",
       "if (outputEl) {{\n",
       "    x.observe(outputEl, {childList: true});\n",
       "}}\n",
       "\n",
       "                        })                };                });            </script>        </div>"
      ]
     },
     "metadata": {},
     "output_type": "display_data"
    }
   ],
   "source": [
    "fig.add_trace(go.Scatter(x=t, y=SEIR[:,0], name='Suseptible'))\n",
    "fig.add_trace(go.Scatter(x=t, y=SEIR[:,1], name='Exposed'))\n",
    "fig.add_trace(go.Scatter(x=t, y=SEIR[:,2], name='Infected'))\n",
    "fig.add_trace(go.Scatter(x=t, y=SEIR[:,3], name='Recovered')) \n",
    "fig.layout.update(dict(title='SEIR Model - Marginal Restrictions',\n",
    "                       xaxis=dict(title='Time (weeks)'),\n",
    "                       yaxis=dict(title='Percent of Population x100')))\n",
    "fig.show()"
   ]
  },
  {
   "cell_type": "markdown",
   "metadata": {},
   "source": [
    "# Basic graph of COVID-19 with restrictions implemented - adequate effect    "
   ]
  },
  {
   "cell_type": "code",
   "execution_count": 9,
   "metadata": {},
   "outputs": [],
   "source": [
    "# Initial number of infected and recovered individuals, I0 and R0.\n",
    "# Everyone else, S0, is initially susceptible to infection. \n",
    "# Initial number of exposed individuals, E0\n",
    "I0 = 1\n",
    "S0 = 5926624\n",
    "R0 = 0 \n",
    "E0 = 0 \n",
    "# Contraction rate, beta, and mean recovery rate, gamma, incubation period, kappa.\n",
    "beta, gamma, kappa = 1.8, .97, 4 "
   ]
  },
  {
   "cell_type": "code",
   "execution_count": 10,
   "metadata": {},
   "outputs": [],
   "source": [
    "#Y axis represents S, E, I and R values\n",
    "#X axis represents time\n",
    "t = linspace(0, 40, 40)\n",
    "SEIR = odeint(dSEIRdt, [1, 0,.00000149, 0], t, (beta, gamma, kappa))  \n",
    "fig = go.Figure()"
   ]
  },
  {
   "cell_type": "code",
   "execution_count": 11,
   "metadata": {},
   "outputs": [
    {
     "data": {
      "application/vnd.plotly.v1+json": {
       "config": {
        "plotlyServerURL": "https://plot.ly"
       },
       "data": [
        {
         "name": "Suseptible",
         "type": "scatter",
         "x": [
          0,
          1.0256410256410255,
          2.051282051282051,
          3.0769230769230766,
          4.102564102564102,
          5.128205128205128,
          6.153846153846153,
          7.179487179487179,
          8.205128205128204,
          9.23076923076923,
          10.256410256410255,
          11.282051282051281,
          12.307692307692307,
          13.333333333333332,
          14.358974358974358,
          15.384615384615383,
          16.41025641025641,
          17.435897435897434,
          18.46153846153846,
          19.487179487179485,
          20.51282051282051,
          21.538461538461537,
          22.564102564102562,
          23.589743589743588,
          24.615384615384613,
          25.64102564102564,
          26.666666666666664,
          27.69230769230769,
          28.717948717948715,
          29.74358974358974,
          30.769230769230766,
          31.794871794871792,
          32.82051282051282,
          33.84615384615384,
          34.87179487179487,
          35.8974358974359,
          36.92307692307692,
          37.94871794871794,
          38.97435897435897,
          40
         ],
         "y": [
          1,
          0.9999956545599186,
          0.9999854589812597,
          0.9999615686419354,
          0.9999055776082695,
          0.9997744229796088,
          0.9994673435743584,
          0.9987491905259835,
          0.9970732046249653,
          0.9931816407960306,
          0.984250813499715,
          0.964293400284571,
          0.9222134475591692,
          0.8432941443910971,
          0.7225189037975223,
          0.5828435717107567,
          0.4615738072782767,
          0.3764576598961553,
          0.3232966803191731,
          0.29170075090539666,
          0.27323374671096756,
          0.26248380643878044,
          0.2562264005059159,
          0.25258099383381427,
          0.2504555855904594,
          0.2492157056798136,
          0.24849211899347462,
          0.24806974172868948,
          0.24782315732865215,
          0.2476791889623827,
          0.2475951310961017,
          0.24754605290873996,
          0.2475173967197399,
          0.24750065630366008,
          0.24749088522045803,
          0.2474851773613305,
          0.24748184740108842,
          0.24747990222584917,
          0.24747876609928626,
          0.2474781072543418
         ]
        },
        {
         "name": "Exposed",
         "type": "scatter",
         "x": [
          0,
          1.0256410256410255,
          2.051282051282051,
          3.0769230769230766,
          4.102564102564102,
          5.128205128205128,
          6.153846153846153,
          7.179487179487179,
          8.205128205128204,
          9.23076923076923,
          10.256410256410255,
          11.282051282051281,
          12.307692307692307,
          13.333333333333332,
          14.358974358974358,
          15.384615384615383,
          16.41025641025641,
          17.435897435897434,
          18.46153846153846,
          19.487179487179485,
          20.51282051282051,
          21.538461538461537,
          22.564102564102562,
          23.589743589743588,
          24.615384615384613,
          25.64102564102564,
          26.666666666666664,
          27.69230769230769,
          28.717948717948715,
          29.74358974358974,
          30.769230769230766,
          31.794871794871792,
          32.82051282051282,
          33.84615384615384,
          34.87179487179487,
          35.8974358974359,
          36.92307692307692,
          37.94871794871794,
          38.97435897435897,
          40
         ],
         "y": [
          0,
          1.2918573077195455e-06,
          3.053634101931565e-06,
          7.162280516590653e-06,
          1.6777482370154944e-05,
          3.9308669085360694e-05,
          9.203335863114523e-05,
          0.00021519533394397957,
          0.0005018527806218621,
          0.0011632713465628804,
          0.002658988004953626,
          0.005888515538043002,
          0.012175904987938212,
          0.021976223885113274,
          0.03157805054709296,
          0.0337841969889825,
          0.027430190894113485,
          0.018492389774013206,
          0.011343307258461468,
          0.006698907442934962,
          0.003908633015076802,
          0.0022748744023347927,
          0.0013244477076446537,
          0.0007717678241644745,
          0.0004500515711182355,
          0.0002625580415282094,
          0.0001532453816052539,
          8.945648964065648e-05,
          5.222559756435711e-05,
          3.0494545419665493e-05,
          1.7804054702385296e-05,
          1.0396223037181645e-05,
          6.070998425731236e-06,
          3.5445175070662356e-06,
          2.06949125460023e-06,
          1.2087414276541366e-06,
          7.152584858146079e-07,
          4.121484680098938e-07,
          2.405141539135289e-07,
          1.4056686503575718e-07
         ]
        },
        {
         "name": "Infected",
         "type": "scatter",
         "x": [
          0,
          1.0256410256410255,
          2.051282051282051,
          3.0769230769230766,
          4.102564102564102,
          5.128205128205128,
          6.153846153846153,
          7.179487179487179,
          8.205128205128204,
          9.23076923076923,
          10.256410256410255,
          11.282051282051281,
          12.307692307692307,
          13.333333333333332,
          14.358974358974358,
          15.384615384615383,
          16.41025641025641,
          17.435897435897434,
          18.46153846153846,
          19.487179487179485,
          20.51282051282051,
          21.538461538461537,
          22.564102564102562,
          23.589743589743588,
          24.615384615384613,
          25.64102564102564,
          26.666666666666664,
          27.69230769230769,
          28.717948717948715,
          29.74358974358974,
          30.769230769230766,
          31.794871794871792,
          32.82051282051282,
          33.84615384615384,
          34.87179487179487,
          35.8974358974359,
          36.92307692307692,
          37.94871794871794,
          38.97435897435897,
          40
         ],
         "y": [
          1.49e-06,
          3.4937255718492825e-06,
          8.19496787548368e-06,
          1.921072421398511e-05,
          4.5026794949686006e-05,
          0.0001054923061264022,
          0.00024702715846800047,
          0.0005778298746676575,
          0.0013487542422760854,
          0.0031329237029400414,
          0.007196066125728635,
          0.016114255362033224,
          0.03414957216640428,
          0.06485942163877775,
          0.10233743432342103,
          0.12624607811155772,
          0.12180551588706796,
          0.09707653039059096,
          0.06819966483112198,
          0.04437520266728057,
          0.027598433495319315,
          0.016718308356466174,
          0.009973423897100158,
          0.005896851195103191,
          0.0034684606630689166,
          0.0020339382805597047,
          0.0011906092625298536,
          0.0006962250263706077,
          0.00040688110582585567,
          0.00023770093712669713,
          0.0001388385552066889,
          8.10878481969542e-05,
          4.7358064837839866e-05,
          2.7650439921911228e-05,
          1.6146302016778537e-05,
          9.425680089784832e-06,
          5.5047410178579385e-06,
          3.2143028312629784e-06,
          1.87650171186586e-06,
          1.1006991968163e-06
         ]
        },
        {
         "name": "Recovered",
         "type": "scatter",
         "x": [
          0,
          1.0256410256410255,
          2.051282051282051,
          3.0769230769230766,
          4.102564102564102,
          5.128205128205128,
          6.153846153846153,
          7.179487179487179,
          8.205128205128204,
          9.23076923076923,
          10.256410256410255,
          11.282051282051281,
          12.307692307692307,
          13.333333333333332,
          14.358974358974358,
          15.384615384615383,
          16.41025641025641,
          17.435897435897434,
          18.46153846153846,
          19.487179487179485,
          20.51282051282051,
          21.538461538461537,
          22.564102564102562,
          23.589743589743588,
          24.615384615384613,
          25.64102564102564,
          26.666666666666664,
          27.69230769230769,
          28.717948717948715,
          29.74358974358974,
          30.769230769230766,
          31.794871794871792,
          32.82051282051282,
          33.84615384615384,
          34.87179487179487,
          35.8974358974359,
          36.92307692307692,
          37.94871794871794,
          38.97435897435897,
          40
         ],
         "y": [
          0,
          2.341714509823441e-06,
          7.836050864887244e-06,
          2.0710633850643105e-05,
          5.088559678071329e-05,
          0.00012157471426468635,
          0.00028711926717347585,
          0.0006744695993486398,
          0.001579531132758633,
          0.0036869255010294334,
          0.00855461037455647,
          0.0195938343533957,
          0.04363847027442645,
          0.09184792397012509,
          0.1751451518790565,
          0.29091184017768534,
          0.4166221668346552,
          0.5264672997132537,
          0.6085051448497049,
          0.6639255364273223,
          0.6991693097937127,
          0.7207993752047529,
          0.7338016655969833,
          0.7415236449710819,
          0.7460774437464711,
          0.7487518460396262,
          0.7503187617439949,
          0.7512355232449393,
          0.7517714515655213,
          0.75208460010049,
          0.7522675203486908,
          0.7523743492430622,
          0.7524367352154215,
          0.7524731832564173,
          0.7524944584775245,
          0.752506886958579,
          0.7525141378578931,
          0.7525183734713192,
          0.7525208473990014,
          0.7525222820464609
         ]
        }
       ],
       "layout": {
        "autosize": true,
        "template": {
         "data": {
          "bar": [
           {
            "error_x": {
             "color": "#2a3f5f"
            },
            "error_y": {
             "color": "#2a3f5f"
            },
            "marker": {
             "line": {
              "color": "#E5ECF6",
              "width": 0.5
             }
            },
            "type": "bar"
           }
          ],
          "barpolar": [
           {
            "marker": {
             "line": {
              "color": "#E5ECF6",
              "width": 0.5
             }
            },
            "type": "barpolar"
           }
          ],
          "carpet": [
           {
            "aaxis": {
             "endlinecolor": "#2a3f5f",
             "gridcolor": "white",
             "linecolor": "white",
             "minorgridcolor": "white",
             "startlinecolor": "#2a3f5f"
            },
            "baxis": {
             "endlinecolor": "#2a3f5f",
             "gridcolor": "white",
             "linecolor": "white",
             "minorgridcolor": "white",
             "startlinecolor": "#2a3f5f"
            },
            "type": "carpet"
           }
          ],
          "choropleth": [
           {
            "colorbar": {
             "outlinewidth": 0,
             "ticks": ""
            },
            "type": "choropleth"
           }
          ],
          "contour": [
           {
            "colorbar": {
             "outlinewidth": 0,
             "ticks": ""
            },
            "colorscale": [
             [
              0,
              "#0d0887"
             ],
             [
              0.1111111111111111,
              "#46039f"
             ],
             [
              0.2222222222222222,
              "#7201a8"
             ],
             [
              0.3333333333333333,
              "#9c179e"
             ],
             [
              0.4444444444444444,
              "#bd3786"
             ],
             [
              0.5555555555555556,
              "#d8576b"
             ],
             [
              0.6666666666666666,
              "#ed7953"
             ],
             [
              0.7777777777777778,
              "#fb9f3a"
             ],
             [
              0.8888888888888888,
              "#fdca26"
             ],
             [
              1,
              "#f0f921"
             ]
            ],
            "type": "contour"
           }
          ],
          "contourcarpet": [
           {
            "colorbar": {
             "outlinewidth": 0,
             "ticks": ""
            },
            "type": "contourcarpet"
           }
          ],
          "heatmap": [
           {
            "colorbar": {
             "outlinewidth": 0,
             "ticks": ""
            },
            "colorscale": [
             [
              0,
              "#0d0887"
             ],
             [
              0.1111111111111111,
              "#46039f"
             ],
             [
              0.2222222222222222,
              "#7201a8"
             ],
             [
              0.3333333333333333,
              "#9c179e"
             ],
             [
              0.4444444444444444,
              "#bd3786"
             ],
             [
              0.5555555555555556,
              "#d8576b"
             ],
             [
              0.6666666666666666,
              "#ed7953"
             ],
             [
              0.7777777777777778,
              "#fb9f3a"
             ],
             [
              0.8888888888888888,
              "#fdca26"
             ],
             [
              1,
              "#f0f921"
             ]
            ],
            "type": "heatmap"
           }
          ],
          "heatmapgl": [
           {
            "colorbar": {
             "outlinewidth": 0,
             "ticks": ""
            },
            "colorscale": [
             [
              0,
              "#0d0887"
             ],
             [
              0.1111111111111111,
              "#46039f"
             ],
             [
              0.2222222222222222,
              "#7201a8"
             ],
             [
              0.3333333333333333,
              "#9c179e"
             ],
             [
              0.4444444444444444,
              "#bd3786"
             ],
             [
              0.5555555555555556,
              "#d8576b"
             ],
             [
              0.6666666666666666,
              "#ed7953"
             ],
             [
              0.7777777777777778,
              "#fb9f3a"
             ],
             [
              0.8888888888888888,
              "#fdca26"
             ],
             [
              1,
              "#f0f921"
             ]
            ],
            "type": "heatmapgl"
           }
          ],
          "histogram": [
           {
            "marker": {
             "colorbar": {
              "outlinewidth": 0,
              "ticks": ""
             }
            },
            "type": "histogram"
           }
          ],
          "histogram2d": [
           {
            "colorbar": {
             "outlinewidth": 0,
             "ticks": ""
            },
            "colorscale": [
             [
              0,
              "#0d0887"
             ],
             [
              0.1111111111111111,
              "#46039f"
             ],
             [
              0.2222222222222222,
              "#7201a8"
             ],
             [
              0.3333333333333333,
              "#9c179e"
             ],
             [
              0.4444444444444444,
              "#bd3786"
             ],
             [
              0.5555555555555556,
              "#d8576b"
             ],
             [
              0.6666666666666666,
              "#ed7953"
             ],
             [
              0.7777777777777778,
              "#fb9f3a"
             ],
             [
              0.8888888888888888,
              "#fdca26"
             ],
             [
              1,
              "#f0f921"
             ]
            ],
            "type": "histogram2d"
           }
          ],
          "histogram2dcontour": [
           {
            "colorbar": {
             "outlinewidth": 0,
             "ticks": ""
            },
            "colorscale": [
             [
              0,
              "#0d0887"
             ],
             [
              0.1111111111111111,
              "#46039f"
             ],
             [
              0.2222222222222222,
              "#7201a8"
             ],
             [
              0.3333333333333333,
              "#9c179e"
             ],
             [
              0.4444444444444444,
              "#bd3786"
             ],
             [
              0.5555555555555556,
              "#d8576b"
             ],
             [
              0.6666666666666666,
              "#ed7953"
             ],
             [
              0.7777777777777778,
              "#fb9f3a"
             ],
             [
              0.8888888888888888,
              "#fdca26"
             ],
             [
              1,
              "#f0f921"
             ]
            ],
            "type": "histogram2dcontour"
           }
          ],
          "mesh3d": [
           {
            "colorbar": {
             "outlinewidth": 0,
             "ticks": ""
            },
            "type": "mesh3d"
           }
          ],
          "parcoords": [
           {
            "line": {
             "colorbar": {
              "outlinewidth": 0,
              "ticks": ""
             }
            },
            "type": "parcoords"
           }
          ],
          "pie": [
           {
            "automargin": true,
            "type": "pie"
           }
          ],
          "scatter": [
           {
            "marker": {
             "colorbar": {
              "outlinewidth": 0,
              "ticks": ""
             }
            },
            "type": "scatter"
           }
          ],
          "scatter3d": [
           {
            "line": {
             "colorbar": {
              "outlinewidth": 0,
              "ticks": ""
             }
            },
            "marker": {
             "colorbar": {
              "outlinewidth": 0,
              "ticks": ""
             }
            },
            "type": "scatter3d"
           }
          ],
          "scattercarpet": [
           {
            "marker": {
             "colorbar": {
              "outlinewidth": 0,
              "ticks": ""
             }
            },
            "type": "scattercarpet"
           }
          ],
          "scattergeo": [
           {
            "marker": {
             "colorbar": {
              "outlinewidth": 0,
              "ticks": ""
             }
            },
            "type": "scattergeo"
           }
          ],
          "scattergl": [
           {
            "marker": {
             "colorbar": {
              "outlinewidth": 0,
              "ticks": ""
             }
            },
            "type": "scattergl"
           }
          ],
          "scattermapbox": [
           {
            "marker": {
             "colorbar": {
              "outlinewidth": 0,
              "ticks": ""
             }
            },
            "type": "scattermapbox"
           }
          ],
          "scatterpolar": [
           {
            "marker": {
             "colorbar": {
              "outlinewidth": 0,
              "ticks": ""
             }
            },
            "type": "scatterpolar"
           }
          ],
          "scatterpolargl": [
           {
            "marker": {
             "colorbar": {
              "outlinewidth": 0,
              "ticks": ""
             }
            },
            "type": "scatterpolargl"
           }
          ],
          "scatterternary": [
           {
            "marker": {
             "colorbar": {
              "outlinewidth": 0,
              "ticks": ""
             }
            },
            "type": "scatterternary"
           }
          ],
          "surface": [
           {
            "colorbar": {
             "outlinewidth": 0,
             "ticks": ""
            },
            "colorscale": [
             [
              0,
              "#0d0887"
             ],
             [
              0.1111111111111111,
              "#46039f"
             ],
             [
              0.2222222222222222,
              "#7201a8"
             ],
             [
              0.3333333333333333,
              "#9c179e"
             ],
             [
              0.4444444444444444,
              "#bd3786"
             ],
             [
              0.5555555555555556,
              "#d8576b"
             ],
             [
              0.6666666666666666,
              "#ed7953"
             ],
             [
              0.7777777777777778,
              "#fb9f3a"
             ],
             [
              0.8888888888888888,
              "#fdca26"
             ],
             [
              1,
              "#f0f921"
             ]
            ],
            "type": "surface"
           }
          ],
          "table": [
           {
            "cells": {
             "fill": {
              "color": "#EBF0F8"
             },
             "line": {
              "color": "white"
             }
            },
            "header": {
             "fill": {
              "color": "#C8D4E3"
             },
             "line": {
              "color": "white"
             }
            },
            "type": "table"
           }
          ]
         },
         "layout": {
          "annotationdefaults": {
           "arrowcolor": "#2a3f5f",
           "arrowhead": 0,
           "arrowwidth": 1
          },
          "coloraxis": {
           "colorbar": {
            "outlinewidth": 0,
            "ticks": ""
           }
          },
          "colorscale": {
           "diverging": [
            [
             0,
             "#8e0152"
            ],
            [
             0.1,
             "#c51b7d"
            ],
            [
             0.2,
             "#de77ae"
            ],
            [
             0.3,
             "#f1b6da"
            ],
            [
             0.4,
             "#fde0ef"
            ],
            [
             0.5,
             "#f7f7f7"
            ],
            [
             0.6,
             "#e6f5d0"
            ],
            [
             0.7,
             "#b8e186"
            ],
            [
             0.8,
             "#7fbc41"
            ],
            [
             0.9,
             "#4d9221"
            ],
            [
             1,
             "#276419"
            ]
           ],
           "sequential": [
            [
             0,
             "#0d0887"
            ],
            [
             0.1111111111111111,
             "#46039f"
            ],
            [
             0.2222222222222222,
             "#7201a8"
            ],
            [
             0.3333333333333333,
             "#9c179e"
            ],
            [
             0.4444444444444444,
             "#bd3786"
            ],
            [
             0.5555555555555556,
             "#d8576b"
            ],
            [
             0.6666666666666666,
             "#ed7953"
            ],
            [
             0.7777777777777778,
             "#fb9f3a"
            ],
            [
             0.8888888888888888,
             "#fdca26"
            ],
            [
             1,
             "#f0f921"
            ]
           ],
           "sequentialminus": [
            [
             0,
             "#0d0887"
            ],
            [
             0.1111111111111111,
             "#46039f"
            ],
            [
             0.2222222222222222,
             "#7201a8"
            ],
            [
             0.3333333333333333,
             "#9c179e"
            ],
            [
             0.4444444444444444,
             "#bd3786"
            ],
            [
             0.5555555555555556,
             "#d8576b"
            ],
            [
             0.6666666666666666,
             "#ed7953"
            ],
            [
             0.7777777777777778,
             "#fb9f3a"
            ],
            [
             0.8888888888888888,
             "#fdca26"
            ],
            [
             1,
             "#f0f921"
            ]
           ]
          },
          "colorway": [
           "#636efa",
           "#EF553B",
           "#00cc96",
           "#ab63fa",
           "#FFA15A",
           "#19d3f3",
           "#FF6692",
           "#B6E880",
           "#FF97FF",
           "#FECB52"
          ],
          "font": {
           "color": "#2a3f5f"
          },
          "geo": {
           "bgcolor": "white",
           "lakecolor": "white",
           "landcolor": "#E5ECF6",
           "showlakes": true,
           "showland": true,
           "subunitcolor": "white"
          },
          "hoverlabel": {
           "align": "left"
          },
          "hovermode": "closest",
          "mapbox": {
           "style": "light"
          },
          "paper_bgcolor": "white",
          "plot_bgcolor": "#E5ECF6",
          "polar": {
           "angularaxis": {
            "gridcolor": "white",
            "linecolor": "white",
            "ticks": ""
           },
           "bgcolor": "#E5ECF6",
           "radialaxis": {
            "gridcolor": "white",
            "linecolor": "white",
            "ticks": ""
           }
          },
          "scene": {
           "xaxis": {
            "backgroundcolor": "#E5ECF6",
            "gridcolor": "white",
            "gridwidth": 2,
            "linecolor": "white",
            "showbackground": true,
            "ticks": "",
            "zerolinecolor": "white"
           },
           "yaxis": {
            "backgroundcolor": "#E5ECF6",
            "gridcolor": "white",
            "gridwidth": 2,
            "linecolor": "white",
            "showbackground": true,
            "ticks": "",
            "zerolinecolor": "white"
           },
           "zaxis": {
            "backgroundcolor": "#E5ECF6",
            "gridcolor": "white",
            "gridwidth": 2,
            "linecolor": "white",
            "showbackground": true,
            "ticks": "",
            "zerolinecolor": "white"
           }
          },
          "shapedefaults": {
           "line": {
            "color": "#2a3f5f"
           }
          },
          "ternary": {
           "aaxis": {
            "gridcolor": "white",
            "linecolor": "white",
            "ticks": ""
           },
           "baxis": {
            "gridcolor": "white",
            "linecolor": "white",
            "ticks": ""
           },
           "bgcolor": "#E5ECF6",
           "caxis": {
            "gridcolor": "white",
            "linecolor": "white",
            "ticks": ""
           }
          },
          "title": {
           "x": 0.05
          },
          "xaxis": {
           "automargin": true,
           "gridcolor": "white",
           "linecolor": "white",
           "ticks": "",
           "title": {
            "standoff": 15
           },
           "zerolinecolor": "white",
           "zerolinewidth": 2
          },
          "yaxis": {
           "automargin": true,
           "gridcolor": "white",
           "linecolor": "white",
           "ticks": "",
           "title": {
            "standoff": 15
           },
           "zerolinecolor": "white",
           "zerolinewidth": 2
          }
         }
        },
        "title": {
         "text": "SEIR Model - Adequate Restrictions"
        },
        "xaxis": {
         "autorange": true,
         "range": [
          0,
          40
         ],
         "title": {
          "text": "Time (weeks)"
         },
         "type": "linear"
        },
        "yaxis": {
         "autorange": true,
         "range": [
          -0.05555555555555556,
          1.0555555555555556
         ],
         "title": {
          "text": "Percent of Population x100"
         },
         "type": "linear"
        }
       }
      },
      "image/png": "[encoded data removed]",
      "text/html": [
       "<div>                            <div id=\"2c80506b-3cdd-49e1-81af-20dee29db56f\" class=\"plotly-graph-div\" style=\"height:525px; width:100%;\"></div>            <script type=\"text/javascript\">                require([\"plotly\"], function(Plotly) {                    window.PLOTLYENV=window.PLOTLYENV || {};                                    if (document.getElementById(\"2c80506b-3cdd-49e1-81af-20dee29db56f\")) {                    Plotly.newPlot(                        \"2c80506b-3cdd-49e1-81af-20dee29db56f\",                        [{\"name\": \"Suseptible\", \"type\": \"scatter\", \"x\": [0.0, 1.0256410256410255, 2.051282051282051, 3.0769230769230766, 4.102564102564102, 5.128205128205128, 6.153846153846153, 7.179487179487179, 8.205128205128204, 9.23076923076923, 10.256410256410255, 11.282051282051281, 12.307692307692307, 13.333333333333332, 14.358974358974358, 15.384615384615383, 16.41025641025641, 17.435897435897434, 18.46153846153846, 19.487179487179485, 20.51282051282051, 21.538461538461537, 22.564102564102562, 23.589743589743588, 24.615384615384613, 25.64102564102564, 26.666666666666664, 27.69230769230769, 28.717948717948715, 29.74358974358974, 30.769230769230766, 31.794871794871792, 32.82051282051282, 33.84615384615384, 34.87179487179487, 35.8974358974359, 36.92307692307692, 37.94871794871794, 38.97435897435897, 40.0], \"y\": [1.0, 0.9999956545599186, 0.9999854589812597, 0.9999615686419354, 0.9999055776082695, 0.9997744229796088, 0.9994673435743584, 0.9987491905259835, 0.9970732046249653, 0.9931816407960306, 0.984250813499715, 0.964293400284571, 0.9222134475591692, 0.8432941443910971, 0.7225189037975223, 0.5828435717107567, 0.4615738072782767, 0.3764576598961553, 0.3232966803191731, 0.29170075090539666, 0.27323374671096756, 0.26248380643878044, 0.2562264005059159, 0.25258099383381427, 0.2504555855904594, 0.2492157056798136, 0.24849211899347462, 0.24806974172868948, 0.24782315732865215, 0.2476791889623827, 0.2475951310961017, 0.24754605290873996, 0.2475173967197399, 0.24750065630366008, 0.24749088522045803, 0.2474851773613305, 0.24748184740108842, 0.24747990222584917, 0.24747876609928626, 0.2474781072543418]}, {\"name\": \"Exposed\", \"type\": \"scatter\", \"x\": [0.0, 1.0256410256410255, 2.051282051282051, 3.0769230769230766, 4.102564102564102, 5.128205128205128, 6.153846153846153, 7.179487179487179, 8.205128205128204, 9.23076923076923, 10.256410256410255, 11.282051282051281, 12.307692307692307, 13.333333333333332, 14.358974358974358, 15.384615384615383, 16.41025641025641, 17.435897435897434, 18.46153846153846, 19.487179487179485, 20.51282051282051, 21.538461538461537, 22.564102564102562, 23.589743589743588, 24.615384615384613, 25.64102564102564, 26.666666666666664, 27.69230769230769, 28.717948717948715, 29.74358974358974, 30.769230769230766, 31.794871794871792, 32.82051282051282, 33.84615384615384, 34.87179487179487, 35.8974358974359, 36.92307692307692, 37.94871794871794, 38.97435897435897, 40.0], \"y\": [0.0, 1.2918573077195455e-06, 3.053634101931565e-06, 7.162280516590653e-06, 1.6777482370154944e-05, 3.9308669085360694e-05, 9.203335863114523e-05, 0.00021519533394397957, 0.0005018527806218621, 0.0011632713465628804, 0.002658988004953626, 0.005888515538043002, 0.012175904987938212, 0.021976223885113274, 0.03157805054709296, 0.0337841969889825, 0.027430190894113485, 0.018492389774013206, 0.011343307258461468, 0.006698907442934962, 0.003908633015076802, 0.0022748744023347927, 0.0013244477076446537, 0.0007717678241644745, 0.0004500515711182355, 0.0002625580415282094, 0.0001532453816052539, 8.945648964065648e-05, 5.222559756435711e-05, 3.0494545419665493e-05, 1.7804054702385296e-05, 1.0396223037181645e-05, 6.070998425731236e-06, 3.5445175070662356e-06, 2.06949125460023e-06, 1.2087414276541366e-06, 7.152584858146079e-07, 4.121484680098938e-07, 2.405141539135289e-07, 1.4056686503575718e-07]}, {\"name\": \"Infected\", \"type\": \"scatter\", \"x\": [0.0, 1.0256410256410255, 2.051282051282051, 3.0769230769230766, 4.102564102564102, 5.128205128205128, 6.153846153846153, 7.179487179487179, 8.205128205128204, 9.23076923076923, 10.256410256410255, 11.282051282051281, 12.307692307692307, 13.333333333333332, 14.358974358974358, 15.384615384615383, 16.41025641025641, 17.435897435897434, 18.46153846153846, 19.487179487179485, 20.51282051282051, 21.538461538461537, 22.564102564102562, 23.589743589743588, 24.615384615384613, 25.64102564102564, 26.666666666666664, 27.69230769230769, 28.717948717948715, 29.74358974358974, 30.769230769230766, 31.794871794871792, 32.82051282051282, 33.84615384615384, 34.87179487179487, 35.8974358974359, 36.92307692307692, 37.94871794871794, 38.97435897435897, 40.0], \"y\": [1.49e-06, 3.4937255718492825e-06, 8.19496787548368e-06, 1.921072421398511e-05, 4.5026794949686006e-05, 0.0001054923061264022, 0.00024702715846800047, 0.0005778298746676575, 0.0013487542422760854, 0.0031329237029400414, 0.007196066125728635, 0.016114255362033224, 0.03414957216640428, 0.06485942163877775, 0.10233743432342103, 0.12624607811155772, 0.12180551588706796, 0.09707653039059096, 0.06819966483112198, 0.04437520266728057, 0.027598433495319315, 0.016718308356466174, 0.009973423897100158, 0.005896851195103191, 0.0034684606630689166, 0.0020339382805597047, 0.0011906092625298536, 0.0006962250263706077, 0.00040688110582585567, 0.00023770093712669713, 0.0001388385552066889, 8.10878481969542e-05, 4.7358064837839866e-05, 2.7650439921911228e-05, 1.6146302016778537e-05, 9.425680089784832e-06, 5.5047410178579385e-06, 3.2143028312629784e-06, 1.87650171186586e-06, 1.1006991968163e-06]}, {\"name\": \"Recovered\", \"type\": \"scatter\", \"x\": [0.0, 1.0256410256410255, 2.051282051282051, 3.0769230769230766, 4.102564102564102, 5.128205128205128, 6.153846153846153, 7.179487179487179, 8.205128205128204, 9.23076923076923, 10.256410256410255, 11.282051282051281, 12.307692307692307, 13.333333333333332, 14.358974358974358, 15.384615384615383, 16.41025641025641, 17.435897435897434, 18.46153846153846, 19.487179487179485, 20.51282051282051, 21.538461538461537, 22.564102564102562, 23.589743589743588, 24.615384615384613, 25.64102564102564, 26.666666666666664, 27.69230769230769, 28.717948717948715, 29.74358974358974, 30.769230769230766, 31.794871794871792, 32.82051282051282, 33.84615384615384, 34.87179487179487, 35.8974358974359, 36.92307692307692, 37.94871794871794, 38.97435897435897, 40.0], \"y\": [0.0, 2.341714509823441e-06, 7.836050864887244e-06, 2.0710633850643105e-05, 5.088559678071329e-05, 0.00012157471426468635, 0.00028711926717347585, 0.0006744695993486398, 0.001579531132758633, 0.0036869255010294334, 0.00855461037455647, 0.0195938343533957, 0.04363847027442645, 0.09184792397012509, 0.1751451518790565, 0.29091184017768534, 0.4166221668346552, 0.5264672997132537, 0.6085051448497049, 0.6639255364273223, 0.6991693097937127, 0.7207993752047529, 0.7338016655969833, 0.7415236449710819, 0.7460774437464711, 0.7487518460396262, 0.7503187617439949, 0.7512355232449393, 0.7517714515655213, 0.75208460010049, 0.7522675203486908, 0.7523743492430622, 0.7524367352154215, 0.7524731832564173, 0.7524944584775245, 0.752506886958579, 0.7525141378578931, 0.7525183734713192, 0.7525208473990014, 0.7525222820464609]}],                        {\"template\": {\"data\": {\"bar\": [{\"error_x\": {\"color\": \"#2a3f5f\"}, \"error_y\": {\"color\": \"#2a3f5f\"}, \"marker\": {\"line\": {\"color\": \"#E5ECF6\", \"width\": 0.5}}, \"type\": \"bar\"}], \"barpolar\": [{\"marker\": {\"line\": {\"color\": \"#E5ECF6\", \"width\": 0.5}}, \"type\": \"barpolar\"}], \"carpet\": [{\"aaxis\": {\"endlinecolor\": \"#2a3f5f\", \"gridcolor\": \"white\", \"linecolor\": \"white\", \"minorgridcolor\": \"white\", \"startlinecolor\": \"#2a3f5f\"}, \"baxis\": {\"endlinecolor\": \"#2a3f5f\", \"gridcolor\": \"white\", \"linecolor\": \"white\", \"minorgridcolor\": \"white\", \"startlinecolor\": \"#2a3f5f\"}, \"type\": \"carpet\"}], \"choropleth\": [{\"colorbar\": {\"outlinewidth\": 0, \"ticks\": \"\"}, \"type\": \"choropleth\"}], \"contour\": [{\"colorbar\": {\"outlinewidth\": 0, \"ticks\": \"\"}, \"colorscale\": [[0.0, \"#0d0887\"], [0.1111111111111111, \"#46039f\"], [0.2222222222222222, \"#7201a8\"], [0.3333333333333333, \"#9c179e\"], [0.4444444444444444, \"#bd3786\"], [0.5555555555555556, \"#d8576b\"], [0.6666666666666666, \"#ed7953\"], [0.7777777777777778, \"#fb9f3a\"], [0.8888888888888888, \"#fdca26\"], [1.0, \"#f0f921\"]], \"type\": \"contour\"}], \"contourcarpet\": [{\"colorbar\": {\"outlinewidth\": 0, \"ticks\": \"\"}, \"type\": \"contourcarpet\"}], \"heatmap\": [{\"colorbar\": {\"outlinewidth\": 0, \"ticks\": \"\"}, \"colorscale\": [[0.0, \"#0d0887\"], [0.1111111111111111, \"#46039f\"], [0.2222222222222222, \"#7201a8\"], [0.3333333333333333, \"#9c179e\"], [0.4444444444444444, \"#bd3786\"], [0.5555555555555556, \"#d8576b\"], [0.6666666666666666, \"#ed7953\"], [0.7777777777777778, \"#fb9f3a\"], [0.8888888888888888, \"#fdca26\"], [1.0, \"#f0f921\"]], \"type\": \"heatmap\"}], \"heatmapgl\": [{\"colorbar\": {\"outlinewidth\": 0, \"ticks\": \"\"}, \"colorscale\": [[0.0, \"#0d0887\"], [0.1111111111111111, \"#46039f\"], [0.2222222222222222, \"#7201a8\"], [0.3333333333333333, \"#9c179e\"], [0.4444444444444444, \"#bd3786\"], [0.5555555555555556, \"#d8576b\"], [0.6666666666666666, \"#ed7953\"], [0.7777777777777778, \"#fb9f3a\"], [0.8888888888888888, \"#fdca26\"], [1.0, \"#f0f921\"]], \"type\": \"heatmapgl\"}], \"histogram\": [{\"marker\": {\"colorbar\": {\"outlinewidth\": 0, \"ticks\": \"\"}}, \"type\": \"histogram\"}], \"histogram2d\": [{\"colorbar\": {\"outlinewidth\": 0, \"ticks\": \"\"}, \"colorscale\": [[0.0, \"#0d0887\"], [0.1111111111111111, \"#46039f\"], [0.2222222222222222, \"#7201a8\"], [0.3333333333333333, \"#9c179e\"], [0.4444444444444444, \"#bd3786\"], [0.5555555555555556, \"#d8576b\"], [0.6666666666666666, \"#ed7953\"], [0.7777777777777778, \"#fb9f3a\"], [0.8888888888888888, \"#fdca26\"], [1.0, \"#f0f921\"]], \"type\": \"histogram2d\"}], \"histogram2dcontour\": [{\"colorbar\": {\"outlinewidth\": 0, \"ticks\": \"\"}, \"colorscale\": [[0.0, \"#0d0887\"], [0.1111111111111111, \"#46039f\"], [0.2222222222222222, \"#7201a8\"], [0.3333333333333333, \"#9c179e\"], [0.4444444444444444, \"#bd3786\"], [0.5555555555555556, \"#d8576b\"], [0.6666666666666666, \"#ed7953\"], [0.7777777777777778, \"#fb9f3a\"], [0.8888888888888888, \"#fdca26\"], [1.0, \"#f0f921\"]], \"type\": \"histogram2dcontour\"}], \"mesh3d\": [{\"colorbar\": {\"outlinewidth\": 0, \"ticks\": \"\"}, \"type\": \"mesh3d\"}], \"parcoords\": [{\"line\": {\"colorbar\": {\"outlinewidth\": 0, \"ticks\": \"\"}}, \"type\": \"parcoords\"}], \"pie\": [{\"automargin\": true, \"type\": \"pie\"}], \"scatter\": [{\"marker\": {\"colorbar\": {\"outlinewidth\": 0, \"ticks\": \"\"}}, \"type\": \"scatter\"}], \"scatter3d\": [{\"line\": {\"colorbar\": {\"outlinewidth\": 0, \"ticks\": \"\"}}, \"marker\": {\"colorbar\": {\"outlinewidth\": 0, \"ticks\": \"\"}}, \"type\": \"scatter3d\"}], \"scattercarpet\": [{\"marker\": {\"colorbar\": {\"outlinewidth\": 0, \"ticks\": \"\"}}, \"type\": \"scattercarpet\"}], \"scattergeo\": [{\"marker\": {\"colorbar\": {\"outlinewidth\": 0, \"ticks\": \"\"}}, \"type\": \"scattergeo\"}], \"scattergl\": [{\"marker\": {\"colorbar\": {\"outlinewidth\": 0, \"ticks\": \"\"}}, \"type\": \"scattergl\"}], \"scattermapbox\": [{\"marker\": {\"colorbar\": {\"outlinewidth\": 0, \"ticks\": \"\"}}, \"type\": \"scattermapbox\"}], \"scatterpolar\": [{\"marker\": {\"colorbar\": {\"outlinewidth\": 0, \"ticks\": \"\"}}, \"type\": \"scatterpolar\"}], \"scatterpolargl\": [{\"marker\": {\"colorbar\": {\"outlinewidth\": 0, \"ticks\": \"\"}}, \"type\": \"scatterpolargl\"}], \"scatterternary\": [{\"marker\": {\"colorbar\": {\"outlinewidth\": 0, \"ticks\": \"\"}}, \"type\": \"scatterternary\"}], \"surface\": [{\"colorbar\": {\"outlinewidth\": 0, \"ticks\": \"\"}, \"colorscale\": [[0.0, \"#0d0887\"], [0.1111111111111111, \"#46039f\"], [0.2222222222222222, \"#7201a8\"], [0.3333333333333333, \"#9c179e\"], [0.4444444444444444, \"#bd3786\"], [0.5555555555555556, \"#d8576b\"], [0.6666666666666666, \"#ed7953\"], [0.7777777777777778, \"#fb9f3a\"], [0.8888888888888888, \"#fdca26\"], [1.0, \"#f0f921\"]], \"type\": \"surface\"}], \"table\": [{\"cells\": {\"fill\": {\"color\": \"#EBF0F8\"}, \"line\": {\"color\": \"white\"}}, \"header\": {\"fill\": {\"color\": \"#C8D4E3\"}, \"line\": {\"color\": \"white\"}}, \"type\": \"table\"}]}, \"layout\": {\"annotationdefaults\": {\"arrowcolor\": \"#2a3f5f\", \"arrowhead\": 0, \"arrowwidth\": 1}, \"coloraxis\": {\"colorbar\": {\"outlinewidth\": 0, \"ticks\": \"\"}}, \"colorscale\": {\"diverging\": [[0, \"#8e0152\"], [0.1, \"#c51b7d\"], [0.2, \"#de77ae\"], [0.3, \"#f1b6da\"], [0.4, \"#fde0ef\"], [0.5, \"#f7f7f7\"], [0.6, \"#e6f5d0\"], [0.7, \"#b8e186\"], [0.8, \"#7fbc41\"], [0.9, \"#4d9221\"], [1, \"#276419\"]], \"sequential\": [[0.0, \"#0d0887\"], [0.1111111111111111, \"#46039f\"], [0.2222222222222222, \"#7201a8\"], [0.3333333333333333, \"#9c179e\"], [0.4444444444444444, \"#bd3786\"], [0.5555555555555556, \"#d8576b\"], [0.6666666666666666, \"#ed7953\"], [0.7777777777777778, \"#fb9f3a\"], [0.8888888888888888, \"#fdca26\"], [1.0, \"#f0f921\"]], \"sequentialminus\": [[0.0, \"#0d0887\"], [0.1111111111111111, \"#46039f\"], [0.2222222222222222, \"#7201a8\"], [0.3333333333333333, \"#9c179e\"], [0.4444444444444444, \"#bd3786\"], [0.5555555555555556, \"#d8576b\"], [0.6666666666666666, \"#ed7953\"], [0.7777777777777778, \"#fb9f3a\"], [0.8888888888888888, \"#fdca26\"], [1.0, \"#f0f921\"]]}, \"colorway\": [\"#636efa\", \"#EF553B\", \"#00cc96\", \"#ab63fa\", \"#FFA15A\", \"#19d3f3\", \"#FF6692\", \"#B6E880\", \"#FF97FF\", \"#FECB52\"], \"font\": {\"color\": \"#2a3f5f\"}, \"geo\": {\"bgcolor\": \"white\", \"lakecolor\": \"white\", \"landcolor\": \"#E5ECF6\", \"showlakes\": true, \"showland\": true, \"subunitcolor\": \"white\"}, \"hoverlabel\": {\"align\": \"left\"}, \"hovermode\": \"closest\", \"mapbox\": {\"style\": \"light\"}, \"paper_bgcolor\": \"white\", \"plot_bgcolor\": \"#E5ECF6\", \"polar\": {\"angularaxis\": {\"gridcolor\": \"white\", \"linecolor\": \"white\", \"ticks\": \"\"}, \"bgcolor\": \"#E5ECF6\", \"radialaxis\": {\"gridcolor\": \"white\", \"linecolor\": \"white\", \"ticks\": \"\"}}, \"scene\": {\"xaxis\": {\"backgroundcolor\": \"#E5ECF6\", \"gridcolor\": \"white\", \"gridwidth\": 2, \"linecolor\": \"white\", \"showbackground\": true, \"ticks\": \"\", \"zerolinecolor\": \"white\"}, \"yaxis\": {\"backgroundcolor\": \"#E5ECF6\", \"gridcolor\": \"white\", \"gridwidth\": 2, \"linecolor\": \"white\", \"showbackground\": true, \"ticks\": \"\", \"zerolinecolor\": \"white\"}, \"zaxis\": {\"backgroundcolor\": \"#E5ECF6\", \"gridcolor\": \"white\", \"gridwidth\": 2, \"linecolor\": \"white\", \"showbackground\": true, \"ticks\": \"\", \"zerolinecolor\": \"white\"}}, \"shapedefaults\": {\"line\": {\"color\": \"#2a3f5f\"}}, \"ternary\": {\"aaxis\": {\"gridcolor\": \"white\", \"linecolor\": \"white\", \"ticks\": \"\"}, \"baxis\": {\"gridcolor\": \"white\", \"linecolor\": \"white\", \"ticks\": \"\"}, \"bgcolor\": \"#E5ECF6\", \"caxis\": {\"gridcolor\": \"white\", \"linecolor\": \"white\", \"ticks\": \"\"}}, \"title\": {\"x\": 0.05}, \"xaxis\": {\"automargin\": true, \"gridcolor\": \"white\", \"linecolor\": \"white\", \"ticks\": \"\", \"title\": {\"standoff\": 15}, \"zerolinecolor\": \"white\", \"zerolinewidth\": 2}, \"yaxis\": {\"automargin\": true, \"gridcolor\": \"white\", \"linecolor\": \"white\", \"ticks\": \"\", \"title\": {\"standoff\": 15}, \"zerolinecolor\": \"white\", \"zerolinewidth\": 2}}}, \"title\": {\"text\": \"SEIR Model - Adequate Restrictions\"}, \"xaxis\": {\"title\": {\"text\": \"Time (weeks)\"}}, \"yaxis\": {\"title\": {\"text\": \"Percent of Population x100\"}}},                        {\"responsive\": true}                    ).then(function(){\n",
       "                            \n",
       "var gd = document.getElementById('2c80506b-3cdd-49e1-81af-20dee29db56f');\n",
       "var x = new MutationObserver(function (mutations, observer) {{\n",
       "        var display = window.getComputedStyle(gd).display;\n",
       "        if (!display || display === 'none') {{\n",
       "            console.log([gd, 'removed!']);\n",
       "            Plotly.purge(gd);\n",
       "            observer.disconnect();\n",
       "        }}\n",
       "}});\n",
       "\n",
       "// Listen for the removal of the full notebook cells\n",
       "var notebookContainer = gd.closest('#notebook-container');\n",
       "if (notebookContainer) {{\n",
       "    x.observe(notebookContainer, {childList: true});\n",
       "}}\n",
       "\n",
       "// Listen for the clearing of the current output cell\n",
       "var outputEl = gd.closest('.output');\n",
       "if (outputEl) {{\n",
       "    x.observe(outputEl, {childList: true});\n",
       "}}\n",
       "\n",
       "                        })                };                });            </script>        </div>"
      ]
     },
     "metadata": {},
     "output_type": "display_data"
    }
   ],
   "source": [
    "fig.add_trace(go.Scatter(x=t, y=SEIR[:,0], name='Suseptible'))\n",
    "fig.add_trace(go.Scatter(x=t, y=SEIR[:,1], name='Exposed'))\n",
    "fig.add_trace(go.Scatter(x=t, y=SEIR[:,2], name='Infected'))\n",
    "fig.add_trace(go.Scatter(x=t, y=SEIR[:,3], name='Recovered')) \n",
    "fig.layout.update(dict(title='SEIR Model - Adequate Restrictions',\n",
    "                       xaxis=dict(title='Time (weeks)'),\n",
    "                       yaxis=dict(title='Percent of Population x100')))\n",
    "fig.show()"
   ]
  },
  {
   "cell_type": "markdown",
   "metadata": {},
   "source": [
    "# Basic graph of COVID-19 with restrictions implemented - great effect    "
   ]
  },
  {
   "cell_type": "code",
   "execution_count": 12,
   "metadata": {},
   "outputs": [],
   "source": [
    "# Initial number of infected and recovered individuals, I0 and R0.\n",
    "# Everyone else, S0, is initially susceptible to infection. \n",
    "# Initial number of exposed individuals, E0\n",
    "I0 = 10\n",
    "S0 = 5926624\n",
    "R0 = 0 \n",
    "E0 = 0 \n",
    "# Contraction rate, beta, and mean recovery rate, gamma, incubation period, kappa.\n",
    "beta, gamma, kappa = 1.06, .97, 4 "
   ]
  },
  {
   "cell_type": "code",
   "execution_count": 13,
   "metadata": {},
   "outputs": [],
   "source": [
    "#Y axis represents S, E, I and R values\n",
    "#X axis represents time\n",
    "t = linspace(0, 150, 150)\n",
    "SEIR = odeint(dSEIRdt, [1, 0,.00000149, 0], t, (beta, gamma, kappa))  \n",
    "fig = go.Figure()"
   ]
  },
  {
   "cell_type": "code",
   "execution_count": 14,
   "metadata": {},
   "outputs": [
    {
     "data": {
      "application/vnd.plotly.v1+json": {
       "config": {
        "plotlyServerURL": "https://plot.ly"
       },
       "data": [
        {
         "name": "Suseptible",
         "type": "scatter",
         "visible": "legendonly",
         "x": [
          0,
          1.0067114093959733,
          2.0134228187919465,
          3.0201342281879198,
          4.026845637583893,
          5.033557046979866,
          6.0402684563758395,
          7.046979865771813,
          8.053691275167786,
          9.060402684563758,
          10.067114093959733,
          11.073825503355707,
          12.080536912751679,
          13.087248322147651,
          14.093959731543626,
          15.1006711409396,
          16.107382550335572,
          17.114093959731544,
          18.120805369127517,
          19.127516778523493,
          20.134228187919465,
          21.140939597315437,
          22.147651006711413,
          23.154362416107386,
          24.161073825503358,
          25.16778523489933,
          26.174496644295303,
          27.18120805369128,
          28.18791946308725,
          29.194630872483224,
          30.2013422818792,
          31.208053691275172,
          32.214765100671144,
          33.22147651006712,
          34.22818791946309,
          35.234899328859065,
          36.241610738255034,
          37.24832214765101,
          38.255033557046985,
          39.261744966442954,
          40.26845637583893,
          41.275167785234906,
          42.281879194630875,
          43.28859060402685,
          44.29530201342283,
          45.302013422818796,
          46.30872483221477,
          47.31543624161074,
          48.322147651006716,
          49.32885906040269,
          50.33557046979866,
          51.34228187919464,
          52.348993288590606,
          53.35570469798658,
          54.36241610738256,
          55.369127516778526,
          56.3758389261745,
          57.38255033557048,
          58.38926174496645,
          59.39597315436242,
          60.4026845637584,
          61.40939597315437,
          62.416107382550344,
          63.42281879194631,
          64.42953020134229,
          65.43624161073826,
          66.44295302013424,
          67.4496644295302,
          68.45637583892618,
          69.46308724832215,
          70.46979865771813,
          71.4765100671141,
          72.48322147651007,
          73.48993288590604,
          74.49664429530202,
          75.503355704698,
          76.51006711409397,
          77.51677852348995,
          78.52348993288591,
          79.53020134228188,
          80.53691275167786,
          81.54362416107384,
          82.55033557046981,
          83.55704697986577,
          84.56375838926175,
          85.57046979865773,
          86.5771812080537,
          87.58389261744968,
          88.59060402684565,
          89.59731543624162,
          90.60402684563759,
          91.61073825503357,
          92.61744966442954,
          93.62416107382552,
          94.63087248322148,
          95.63758389261746,
          96.64429530201343,
          97.65100671140941,
          98.65771812080538,
          99.66442953020135,
          100.67114093959732,
          101.6778523489933,
          102.68456375838927,
          103.69127516778525,
          104.69798657718121,
          105.70469798657719,
          106.71140939597316,
          107.71812080536914,
          108.72483221476512,
          109.73154362416109,
          110.73825503355705,
          111.74496644295303,
          112.751677852349,
          113.75838926174498,
          114.76510067114096,
          115.77181208053692,
          116.7785234899329,
          117.78523489932887,
          118.79194630872485,
          119.79865771812082,
          120.8053691275168,
          121.81208053691276,
          122.81879194630874,
          123.82550335570471,
          124.83221476510069,
          125.83892617449666,
          126.84563758389262,
          127.8523489932886,
          128.85906040268458,
          129.86577181208054,
          130.87248322147653,
          131.8791946308725,
          132.88590604026848,
          133.89261744966444,
          134.8993288590604,
          135.9060402684564,
          136.91275167785236,
          137.91946308724835,
          138.9261744966443,
          139.93288590604027,
          140.93959731543626,
          141.94630872483222,
          142.9530201342282,
          143.95973154362417,
          144.96644295302013,
          145.97315436241612,
          146.9798657718121,
          147.98657718120808,
          148.99328859060404,
          150
         ],
         "y": [
          1,
          0.999998335722886,
          0.9999965136164691,
          0.9999945186864251,
          0.999992332285679,
          0.999989937312198,
          0.9999873185764236,
          0.9999844482687281,
          0.9999813045022463,
          0.9999778639366675,
          0.999974100108265,
          0.9999699800785399,
          0.9999654686969678,
          0.999960529069669,
          0.9999551201971978,
          0.9999491950148588,
          0.9999427092872829,
          0.9999356050297965,
          0.9999278308656522,
          0.9999193192406217,
          0.999910000327366,
          0.9998998002606994,
          0.9998886313561735,
          0.9998764049135396,
          0.9998630225839396,
          0.9998483717595125,
          0.9998323396662518,
          0.9998147934992861,
          0.9997955887314055,
          0.9997745681485605,
          0.9997515590670443,
          0.999726373487471,
          0.9996988074926648,
          0.9996686359351139,
          0.9996356158010227,
          0.9995994783845973,
          0.9995599322216697,
          0.9995166576430748,
          0.9994693047257383,
          0.9994174938975651,
          0.9993608064592697,
          0.9992987908915627,
          0.9992309524714966,
          0.999156748698552,
          0.9990755892896354,
          0.998986829745283,
          0.9988897658986743,
          0.9987836330872877,
          0.9986675979971508,
          0.9985407523410677,
          0.9984021129093655,
          0.9982506040323169,
          0.9980850645929833,
          0.9979042273933387,
          0.9977067220081236,
          0.9974910607778094,
          0.9972556330015467,
          0.9969986976060009,
          0.9967183718799791,
          0.9964126269606433,
          0.9960792744696889,
          0.9957159628897491,
          0.9953201655851848,
          0.9948891744868567,
          0.9944200960749251,
          0.9939098371271641,
          0.9933551176683114,
          0.9927524428263831,
          0.9920981151728383,
          0.9913882492972135,
          0.9906187568868317,
          0.9897853646796729,
          0.9888836366041289,
          0.9879089704871107,
          0.9868566455657614,
          0.9857218465023488,
          0.9844997019058332,
          0.9831853189379006,
          0.9817738600809693,
          0.9802605958228104,
          0.9786409784849592,
          0.9769107242766528,
          0.9750659043360803,
          0.97310304155116,
          0.971019210269906,
          0.9688121624515754,
          0.9664804244319358,
          0.9640234080889466,
          0.9614415091865143,
          0.9587362033744319,
          0.9559101478413535,
          0.9529672421887664,
          0.9499126598058476,
          0.9467528656679254,
          0.9434956101897203,
          0.9401499023945215,
          0.9367259371557208,
          0.9332349771119465,
          0.929689215802737,
          0.9261016205016875,
          0.9224857498992617,
          0.9188555481728328,
          0.9152251267311375,
          0.9116085440559162,
          0.908019590156514,
          0.9044715825268906,
          0.9009771727988725,
          0.8975481809838771,
          0.8941954529843219,
          0.8909287341458737,
          0.8877566102461372,
          0.884686446541585,
          0.8817243670032624,
          0.8788752585817727,
          0.876142801470217,
          0.8735295216933572,
          0.8710368612806361,
          0.8686652593100909,
          0.8664142438702552,
          0.8642825295989006,
          0.862268118038448,
          0.8603683976130566,
          0.8585802402747743,
          0.8569000956446182,
          0.8553240796149766,
          0.853848052295269,
          0.852467691604209,
          0.8511785643344836,
          0.8499761732566659,
          0.8488560107659073,
          0.8478136075105219,
          0.8468445597188601,
          0.8459445612581318,
          0.8451094306340295,
          0.8443351280092017,
          0.8436177662549892,
          0.8429536232228885,
          0.8423391516111778,
          0.8417709767552424,
          0.8412459008991839,
          0.8407609037788774,
          0.8403131378150152,
          0.8398999248358324,
          0.8395187497933795,
          0.8391672598468074,
          0.8388432517917778,
          0.8385446710231252,
          0.8382696043140564,
          0.8380162627195885,
          0.8377829929849542
         ]
        },
        {
         "name": "Exposed",
         "type": "scatter",
         "x": [
          0,
          1.0067114093959733,
          2.0134228187919465,
          3.0201342281879198,
          4.026845637583893,
          5.033557046979866,
          6.0402684563758395,
          7.046979865771813,
          8.053691275167786,
          9.060402684563758,
          10.067114093959733,
          11.073825503355707,
          12.080536912751679,
          13.087248322147651,
          14.093959731543626,
          15.1006711409396,
          16.107382550335572,
          17.114093959731544,
          18.120805369127517,
          19.127516778523493,
          20.134228187919465,
          21.140939597315437,
          22.147651006711413,
          23.154362416107386,
          24.161073825503358,
          25.16778523489933,
          26.174496644295303,
          27.18120805369128,
          28.18791946308725,
          29.194630872483224,
          30.2013422818792,
          31.208053691275172,
          32.214765100671144,
          33.22147651006712,
          34.22818791946309,
          35.234899328859065,
          36.241610738255034,
          37.24832214765101,
          38.255033557046985,
          39.261744966442954,
          40.26845637583893,
          41.275167785234906,
          42.281879194630875,
          43.28859060402685,
          44.29530201342283,
          45.302013422818796,
          46.30872483221477,
          47.31543624161074,
          48.322147651006716,
          49.32885906040269,
          50.33557046979866,
          51.34228187919464,
          52.348993288590606,
          53.35570469798658,
          54.36241610738256,
          55.369127516778526,
          56.3758389261745,
          57.38255033557048,
          58.38926174496645,
          59.39597315436242,
          60.4026845637584,
          61.40939597315437,
          62.416107382550344,
          63.42281879194631,
          64.42953020134229,
          65.43624161073826,
          66.44295302013424,
          67.4496644295302,
          68.45637583892618,
          69.46308724832215,
          70.46979865771813,
          71.4765100671141,
          72.48322147651007,
          73.48993288590604,
          74.49664429530202,
          75.503355704698,
          76.51006711409397,
          77.51677852348995,
          78.52348993288591,
          79.53020134228188,
          80.53691275167786,
          81.54362416107384,
          82.55033557046981,
          83.55704697986577,
          84.56375838926175,
          85.57046979865773,
          86.5771812080537,
          87.58389261744968,
          88.59060402684565,
          89.59731543624162,
          90.60402684563759,
          91.61073825503357,
          92.61744966442954,
          93.62416107382552,
          94.63087248322148,
          95.63758389261746,
          96.64429530201343,
          97.65100671140941,
          98.65771812080538,
          99.66442953020135,
          100.67114093959732,
          101.6778523489933,
          102.68456375838927,
          103.69127516778525,
          104.69798657718121,
          105.70469798657719,
          106.71140939597316,
          107.71812080536914,
          108.72483221476512,
          109.73154362416109,
          110.73825503355705,
          111.74496644295303,
          112.751677852349,
          113.75838926174498,
          114.76510067114096,
          115.77181208053692,
          116.7785234899329,
          117.78523489932887,
          118.79194630872485,
          119.79865771812082,
          120.8053691275168,
          121.81208053691276,
          122.81879194630874,
          123.82550335570471,
          124.83221476510069,
          125.83892617449666,
          126.84563758389262,
          127.8523489932886,
          128.85906040268458,
          129.86577181208054,
          130.87248322147653,
          131.8791946308725,
          132.88590604026848,
          133.89261744966444,
          134.8993288590604,
          135.9060402684564,
          136.91275167785236,
          137.91946308724835,
          138.9261744966443,
          139.93288590604027,
          140.93959731543626,
          141.94630872483222,
          142.9530201342282,
          143.95973154362417,
          144.96644295302013,
          145.97315436241612,
          146.9798657718121,
          147.98657718120808,
          148.99328859060404,
          150
         ],
         "y": [
          0,
          4.1513425878705976e-07,
          4.6271865870482343e-07,
          5.06765189867905e-07,
          5.549687148580686e-07,
          6.081255399614392e-07,
          6.651629467910695e-07,
          7.282414076973489e-07,
          7.974875056177315e-07,
          8.732261127665142e-07,
          9.56016523149872e-07,
          1.046630717844269e-06,
          1.1458501246198168e-06,
          1.2544910400122192e-06,
          1.373450599327599e-06,
          1.5037553807769321e-06,
          1.6463778193246134e-06,
          1.8025876075856472e-06,
          1.973511263261899e-06,
          2.160629985703189e-06,
          2.3654738047926317e-06,
          2.5896609548738843e-06,
          2.835109741992691e-06,
          3.103760525456585e-06,
          3.3977633522946132e-06,
          3.719578301607448e-06,
          4.071668824655897e-06,
          4.456931539186668e-06,
          4.878517892709858e-06,
          5.339850796297035e-06,
          5.844688592554357e-06,
          6.397116023465455e-06,
          7.00156100235575e-06,
          7.662903264288415e-06,
          8.386404492957775e-06,
          9.177871235811299e-06,
          1.0043592006445722e-05,
          1.0990450811590836e-05,
          1.2025965231287444e-05,
          1.3158276216147524e-05,
          1.4396332872961102e-05,
          1.5749770004852524e-05,
          1.7229104531157927e-05,
          1.8845828673341274e-05,
          2.0612404431130216e-05,
          2.2542377425797533e-05,
          2.4650491057837005e-05,
          2.69526621560452e-05,
          2.946616901593137e-05,
          3.2209688280429845e-05,
          3.520335903139342e-05,
          3.846898171992061e-05,
          4.202997640831208e-05,
          4.591159432034397e-05,
          5.0140946882427824e-05,
          5.4747086685736933e-05,
          5.976111322018328e-05,
          6.521619268276435e-05,
          7.114758075635958e-05,
          7.759274321571694e-05,
          8.4591144145175e-05,
          9.218453440987766e-05,
          0.00010041635256224666,
          0.00010933232513606349,
          0.00011897924406253856,
          0.0001294059942042161,
          0.00014066147705827387,
          0.00015279619306584678,
          0.0001658606555110199,
          0.0001799037989038262,
          0.0001949735345265019,
          0.00021111502274008125,
          0.00022836954111770955,
          0.00024677382309357083,
          0.00026635775099980043,
          0.0002871426948296908,
          0.0003091400375385236,
          0.0003323495273047575,
          0.0003567560545131555,
          0.00038232801045257194,
          0.00040901511565393834,
          0.0004367462575709541,
          0.0004654273368387631,
          0.0004949394410153848,
          0.0005251376718330129,
          0.0005558495849986183,
          0.0005868754587843899,
          0.0006179887888859153,
          0.0006489375294173037,
          0.0006794463060347502,
          0.0007092201946368535,
          0.0007379490066951044,
          0.0007653131657778022,
          0.000790989616152767,
          0.0008146598240278733,
          0.0008360171538235441,
          0.000854774677122347,
          0.0008706736292168803,
          0.0008834907667499517,
          0.0008930450203294133,
          0.0008992028194572961,
          0.0009018819822341242,
          0.0009010543702630062,
          0.0008967467585413673,
          0.0008890391204919669,
          0.0008780612083181327,
          0.0008639891140867672,
          0.0008470396153435236,
          0.0008274627136846295,
          0.0008055350902829869,
          0.0007815510776129037,
          0.0007558156008707607,
          0.0007286372215455512,
          0.0007003216934072383,
          0.0006711659286382723,
          0.0006414525731157524,
          0.0006114459640698488,
          0.0005813897559520825,
          0.0005515042388403867,
          0.0005219850979055185,
          0.0004930031170376831,
          0.0004647044104516153,
          0.0004372112102770373,
          0.0004106227512040414,
          0.0003850168638670809,
          0.00036045206696464307,
          0.0003369691367828831,
          0.000314593172218237,
          0.0002933356436354263,
          0.0002731959788968632,
          0.0002541635047080146,
          0.0002362190453361462,
          0.0002193364541476469,
          0.00020348404514988698,
          0.00018862586055891183,
          0.00017472265195507254,
          0.00016173287529753597,
          0.00014961363935653066,
          0.0001383211929790564,
          0.0001278116048164044,
          0.00011804131907391994,
          0.00010896746672042964,
          0.00010054816612237847,
          9.274277280496932e-05,
          8.551228429484556e-05,
          7.881914767026324e-05,
          7.262758266813391e-05,
          6.690343648226618e-05,
          6.161437490470903e-05,
          5.6729763338309613e-05
         ]
        },
        {
         "name": "Infected",
         "type": "scatter",
         "x": [
          0,
          1.0067114093959733,
          2.0134228187919465,
          3.0201342281879198,
          4.026845637583893,
          5.033557046979866,
          6.0402684563758395,
          7.046979865771813,
          8.053691275167786,
          9.060402684563758,
          10.067114093959733,
          11.073825503355707,
          12.080536912751679,
          13.087248322147651,
          14.093959731543626,
          15.1006711409396,
          16.107382550335572,
          17.114093959731544,
          18.120805369127517,
          19.127516778523493,
          20.134228187919465,
          21.140939597315437,
          22.147651006711413,
          23.154362416107386,
          24.161073825503358,
          25.16778523489933,
          26.174496644295303,
          27.18120805369128,
          28.18791946308725,
          29.194630872483224,
          30.2013422818792,
          31.208053691275172,
          32.214765100671144,
          33.22147651006712,
          34.22818791946309,
          35.234899328859065,
          36.241610738255034,
          37.24832214765101,
          38.255033557046985,
          39.261744966442954,
          40.26845637583893,
          41.275167785234906,
          42.281879194630875,
          43.28859060402685,
          44.29530201342283,
          45.302013422818796,
          46.30872483221477,
          47.31543624161074,
          48.322147651006716,
          49.32885906040269,
          50.33557046979866,
          51.34228187919464,
          52.348993288590606,
          53.35570469798658,
          54.36241610738256,
          55.369127516778526,
          56.3758389261745,
          57.38255033557048,
          58.38926174496645,
          59.39597315436242,
          60.4026845637584,
          61.40939597315437,
          62.416107382550344,
          63.42281879194631,
          64.42953020134229,
          65.43624161073826,
          66.44295302013424,
          67.4496644295302,
          68.45637583892618,
          69.46308724832215,
          70.46979865771813,
          71.4765100671141,
          72.48322147651007,
          73.48993288590604,
          74.49664429530202,
          75.503355704698,
          76.51006711409397,
          77.51677852348995,
          78.52348993288591,
          79.53020134228188,
          80.53691275167786,
          81.54362416107384,
          82.55033557046981,
          83.55704697986577,
          84.56375838926175,
          85.57046979865773,
          86.5771812080537,
          87.58389261744968,
          88.59060402684565,
          89.59731543624162,
          90.60402684563759,
          91.61073825503357,
          92.61744966442954,
          93.62416107382552,
          94.63087248322148,
          95.63758389261746,
          96.64429530201343,
          97.65100671140941,
          98.65771812080538,
          99.66442953020135,
          100.67114093959732,
          101.6778523489933,
          102.68456375838927,
          103.69127516778525,
          104.69798657718121,
          105.70469798657719,
          106.71140939597316,
          107.71812080536914,
          108.72483221476512,
          109.73154362416109,
          110.73825503355705,
          111.74496644295303,
          112.751677852349,
          113.75838926174498,
          114.76510067114096,
          115.77181208053692,
          116.7785234899329,
          117.78523489932887,
          118.79194630872485,
          119.79865771812082,
          120.8053691275168,
          121.81208053691276,
          122.81879194630874,
          123.82550335570471,
          124.83221476510069,
          125.83892617449666,
          126.84563758389262,
          127.8523489932886,
          128.85906040268458,
          129.86577181208054,
          130.87248322147653,
          131.8791946308725,
          132.88590604026848,
          133.89261744966444,
          134.8993288590604,
          135.9060402684564,
          136.91275167785236,
          137.91946308724835,
          138.9261744966443,
          139.93288590604027,
          140.93959731543626,
          141.94630872483222,
          142.9530201342282,
          143.95973154362417,
          144.96644295302013,
          145.97315436241612,
          146.9798657718121,
          147.98657718120808,
          148.99328859060404,
          150
         ],
         "y": [
          1.49e-06,
          1.6313052789838853e-06,
          1.7860081320801124e-06,
          1.9553807956930676e-06,
          2.141005280251186e-06,
          2.3443324120082035e-06,
          2.5666506283111317e-06,
          2.8103186271806204e-06,
          3.077192504024622e-06,
          3.3692513062016496e-06,
          3.6887386961099454e-06,
          4.038446886529349e-06,
          4.421354986765957e-06,
          4.840589482818376e-06,
          5.299623713260806e-06,
          5.8024436044328905e-06,
          6.352795788721928e-06,
          6.9555882038199885e-06,
          7.615170378639546e-06,
          8.33725730089531e-06,
          9.127754246066874e-06,
          9.992906842132172e-06,
          1.0940123723696233e-05,
          1.197689778852332e-05,
          1.3111533243561032e-05,
          1.4353529422925277e-05,
          1.5712399884103598e-05,
          1.7199332259886846e-05,
          1.8826499374793316e-05,
          2.060712553029779e-05,
          2.255573133307386e-05,
          2.46881016433373e-05,
          2.7021348760568982e-05,
          2.9574334927083428e-05,
          3.2367401605478586e-05,
          3.542300200703205e-05,
          3.8765457521978046e-05,
          4.242139880367933e-05,
          4.641991521796803e-05,
          5.0792514452398105e-05,
          5.557384661126736e-05,
          6.080122391788306e-05,
          6.651539488624154e-05,
          7.276090686566037e-05,
          7.958608344255322e-05,
          8.704347507913855e-05,
          9.519030620204265e-05,
          0.00010408839454971284,
          0.00011380487757790066,
          0.0001244124126642571,
          0.00013598937691434678,
          0.00014862072458362728,
          0.00016239778107807724,
          0.00017741913904107027,
          0.00019379075164087205,
          0.00021162633370543492,
          0.00023104777628138305,
          0.0002521852965494856,
          0.00027517762926251133,
          0.00030017244849280634,
          0.00032732575281973163,
          0.00035680292660852106,
          0.0003887767256256513,
          0.000423429442348381,
          0.0004609486680604851,
          0.0005015310010544186,
          0.0005453745990868172,
          0.0005926850460768178,
          0.0006436696532968404,
          0.0006985317705824292,
          0.0007574727374776303,
          0.0008206856412146872,
          0.0008883507287533699,
          0.0009606333037671908,
          0.001037674993871879,
          0.0011195884446534713,
          0.001206450042899807,
          0.0012982942151983038,
          0.001395100854614821,
          0.0014967889408910174,
          0.0016032074842445257,
          0.001714126373504267,
          0.001829227456314396,
          0.001948096539207613,
          0.002070216872181689,
          0.002194962454529135,
          0.0023215962258453355,
          0.0024492700579355656,
          0.002577027543053849,
          0.0027038105098526406,
          0.002828470157637944,
          0.0029497824636819893,
          0.003066467788552272,
          0.003177214517689932,
          0.003280706839926806,
          0.003375653625298493,
          0.0034608211918185066,
          0.003535066324994053,
          0.0035973681636025825,
          0.0036468570135317476,
          0.003682839923755375,
          0.003704821677163043,
          0.003712519661595398,
          0.0037058716786442358,
          0.0036850364588463277,
          0.003650386076616339,
          0.0036024946128448043,
          0.0035421181298130717,
          0.0034701704329960703,
          0.003387697496298589,
          0.003295841781790403,
          0.003195813751464215,
          0.0030888624429087665,
          0.0029762467868000965,
          0.00285920877463547,
          0.0027389497160222867,
          0.0026166104389379317,
          0.002493256272184341,
          0.0023698652002073334,
          0.002247319745614069,
          0.0021264023517581325,
          0.0020077941009052523,
          0.0018920763936511715,
          0.001779732608772437,
          0.001671153869752605,
          0.0015666466114899657,
          0.0014664384478135168,
          0.0013706861429747773,
          0.0012794842780933261,
          0.0011928718889742357,
          0.0011108403939383506,
          0.0010333407549117772,
          0.000960290073593795,
          0.0008915779238154102,
          0.0008270720880573513,
          0.0007666230642538062,
          0.0007100685694222322,
          0.0006572379231321543,
          0.0006079544489196345,
          0.0005620386484018029,
          0.00051931085113828,
          0.000479592789523758,
          0.0004427090862679021,
          0.0004084885508623064,
          0.0003767661298686207,
          0.00034738216992886024,
          0.00032018394912294444,
          0.00029502509363948226,
          0.0002717667935877259,
          0.0002502769619356822
         ]
        },
        {
         "name": "Recovered",
         "type": "scatter",
         "visible": "legendonly",
         "x": [
          0,
          1.0067114093959733,
          2.0134228187919465,
          3.0201342281879198,
          4.026845637583893,
          5.033557046979866,
          6.0402684563758395,
          7.046979865771813,
          8.053691275167786,
          9.060402684563758,
          10.067114093959733,
          11.073825503355707,
          12.080536912751679,
          13.087248322147651,
          14.093959731543626,
          15.1006711409396,
          16.107382550335572,
          17.114093959731544,
          18.120805369127517,
          19.127516778523493,
          20.134228187919465,
          21.140939597315437,
          22.147651006711413,
          23.154362416107386,
          24.161073825503358,
          25.16778523489933,
          26.174496644295303,
          27.18120805369128,
          28.18791946308725,
          29.194630872483224,
          30.2013422818792,
          31.208053691275172,
          32.214765100671144,
          33.22147651006712,
          34.22818791946309,
          35.234899328859065,
          36.241610738255034,
          37.24832214765101,
          38.255033557046985,
          39.261744966442954,
          40.26845637583893,
          41.275167785234906,
          42.281879194630875,
          43.28859060402685,
          44.29530201342283,
          45.302013422818796,
          46.30872483221477,
          47.31543624161074,
          48.322147651006716,
          49.32885906040269,
          50.33557046979866,
          51.34228187919464,
          52.348993288590606,
          53.35570469798658,
          54.36241610738256,
          55.369127516778526,
          56.3758389261745,
          57.38255033557048,
          58.38926174496645,
          59.39597315436242,
          60.4026845637584,
          61.40939597315437,
          62.416107382550344,
          63.42281879194631,
          64.42953020134229,
          65.43624161073826,
          66.44295302013424,
          67.4496644295302,
          68.45637583892618,
          69.46308724832215,
          70.46979865771813,
          71.4765100671141,
          72.48322147651007,
          73.48993288590604,
          74.49664429530202,
          75.503355704698,
          76.51006711409397,
          77.51677852348995,
          78.52348993288591,
          79.53020134228188,
          80.53691275167786,
          81.54362416107384,
          82.55033557046981,
          83.55704697986577,
          84.56375838926175,
          85.57046979865773,
          86.5771812080537,
          87.58389261744968,
          88.59060402684565,
          89.59731543624162,
          90.60402684563759,
          91.61073825503357,
          92.61744966442954,
          93.62416107382552,
          94.63087248322148,
          95.63758389261746,
          96.64429530201343,
          97.65100671140941,
          98.65771812080538,
          99.66442953020135,
          100.67114093959732,
          101.6778523489933,
          102.68456375838927,
          103.69127516778525,
          104.69798657718121,
          105.70469798657719,
          106.71140939597316,
          107.71812080536914,
          108.72483221476512,
          109.73154362416109,
          110.73825503355705,
          111.74496644295303,
          112.751677852349,
          113.75838926174498,
          114.76510067114096,
          115.77181208053692,
          116.7785234899329,
          117.78523489932887,
          118.79194630872485,
          119.79865771812082,
          120.8053691275168,
          121.81208053691276,
          122.81879194630874,
          123.82550335570471,
          124.83221476510069,
          125.83892617449666,
          126.84563758389262,
          127.8523489932886,
          128.85906040268458,
          129.86577181208054,
          130.87248322147653,
          131.8791946308725,
          132.88590604026848,
          133.89261744966444,
          134.8993288590604,
          135.9060402684564,
          136.91275167785236,
          137.91946308724835,
          138.9261744966443,
          139.93288590604027,
          140.93959731543626,
          141.94630872483222,
          142.9530201342282,
          143.95973154362417,
          144.96644295302013,
          145.97315436241612,
          146.9798657718121,
          147.98657718120808,
          148.99328859060404,
          150
         ],
         "y": [
          0,
          1.522971835172964e-06,
          3.1903753990888396e-06,
          5.015932779393415e-06,
          7.016709041056993e-06,
          9.208355390149362e-06,
          1.160477294811335e-05,
          1.4231412644793504e-05,
          1.710830524974272e-05,
          2.0256812026349703e-05,
          2.3701153038909753e-05,
          2.7471474573669227e-05,
          3.1599948045517985e-05,
          3.612034084833981e-05,
          4.107017908919986e-05,
          4.6492541536936714e-05,
          5.242791692861035e-05,
          5.892938199996327e-05,
          6.604396396937288e-05,
          7.383350207760665e-05,
          8.236191838812349e-05,
          9.169683245870261e-05,
          0.00010191852010304633,
          0.00011310818867211558,
          0.0001253558828170226,
          0.00013876471106478546,
          0.00015343793386425516,
          0.00016949716845410066,
          0.00018707476921992085,
          0.00020631472590937553,
          0.00022737520162282633,
          0.0002504284108858896,
          0.0002756611585747754,
          0.00030327972995919606,
          0.00033350679737199614,
          0.0003665886133958062,
          0.00040279232080850554,
          0.0004424109581216702,
          0.0004857653590439603,
          0.0005332035879826708,
          0.0005851096941190425,
          0.0006418978845195493,
          0.0007040221336172012,
          0.0007719803945823439,
          0.0008463146269220832,
          0.0009276167796379052,
          0.001016533795123623,
          0.0011137685181626022,
          0.0012200871252711933,
          0.0013363252462679739,
          0.0014633877137201073,
          0.00160226524309937,
          0.0017540276259385478,
          0.0019198434676201005,
          0.002100977240235371,
          0.002298802888485134,
          0.002514809222171806,
          0.0027506070974495332,
          0.003007940490758269,
          0.003288690590863861,
          0.00359488977749124,
          0.003928724183642382,
          0.004292547689189501,
          0.004688886070794825,
          0.00512044525701434,
          0.00559012187178141,
          0.006100997732601644,
          0.00665636212753989,
          0.007259705173864744,
          0.007914708932204048,
          0.00862526037569061,
          0.009395439679112248,
          0.010229502667117614,
          0.011131886209122057,
          0.012107169440366725,
          0.01316005505299756,
          0.014295338051266844,
          0.015517876846900983,
          0.016832529064415767,
          0.018244105236298547,
          0.019757304030796292,
          0.02137663934984294,
          0.023106358207605305,
          0.02495035190963233,
          0.026912062857912224,
          0.02899436509389534,
          0.03119946934221874,
          0.03352881185311774,
          0.035982953270431814,
          0.038561476115715525,
          0.04126287200100863,
          0.04408446534755173,
          0.04702236240560017,
          0.05007140981438462,
          0.053225172970352806,
          0.05647593398017997,
          0.05981473165246059,
          0.0632314465630593,
          0.06671490603366023,
          0.07025301248478062,
          0.07383290017698277,
          0.07744112015000407,
          0.08106384360726701,
          0.08468707426543959,
          0.08829686338463968,
          0.09187952139649294,
          0.0954218225882827,
          0.09891119088630981,
          0.10233586658268201,
          0.10568505835782781,
          0.10894903797207244,
          0.11211922970695078,
          0.11518826055382893,
          0.11814998463142729,
          0.12099947975514767,
          0.12373301859062057,
          0.12634801828042608,
          0.12884297441772485,
          0.13121738092953758,
          0.13347164065548545,
          0.13560696960979396,
          0.13762529828603823,
          0.1395291733315746,
          0.14132166174660948,
          0.14300625651527102,
          0.14458679109324116,
          0.14606735994797782,
          0.14745223952254188,
          0.14874583246524103,
          0.14995260734511864,
          0.15107704209553988,
          0.15212358952622834,
          0.15309663866827464,
          0.1540004814421554,
          0.1548392899027413,
          0.1556171006807573,
          0.1563377982076896,
          0.15700510046569036,
          0.15762255879583828,
          0.15819355045241462,
          0.1587212753699848,
          0.1592087593954615,
          0.15965885607790006,
          0.1600742516557586,
          0.16045746402332436,
          0.1608108560382937,
          0.16113663502775222,
          0.1614368605923045,
          0.16171346048682408,
          0.1619682200531104
         ]
        }
       ],
       "layout": {
        "autosize": true,
        "template": {
         "data": {
          "bar": [
           {
            "error_x": {
             "color": "#2a3f5f"
            },
            "error_y": {
             "color": "#2a3f5f"
            },
            "marker": {
             "line": {
              "color": "#E5ECF6",
              "width": 0.5
             }
            },
            "type": "bar"
           }
          ],
          "barpolar": [
           {
            "marker": {
             "line": {
              "color": "#E5ECF6",
              "width": 0.5
             }
            },
            "type": "barpolar"
           }
          ],
          "carpet": [
           {
            "aaxis": {
             "endlinecolor": "#2a3f5f",
             "gridcolor": "white",
             "linecolor": "white",
             "minorgridcolor": "white",
             "startlinecolor": "#2a3f5f"
            },
            "baxis": {
             "endlinecolor": "#2a3f5f",
             "gridcolor": "white",
             "linecolor": "white",
             "minorgridcolor": "white",
             "startlinecolor": "#2a3f5f"
            },
            "type": "carpet"
           }
          ],
          "choropleth": [
           {
            "colorbar": {
             "outlinewidth": 0,
             "ticks": ""
            },
            "type": "choropleth"
           }
          ],
          "contour": [
           {
            "colorbar": {
             "outlinewidth": 0,
             "ticks": ""
            },
            "colorscale": [
             [
              0,
              "#0d0887"
             ],
             [
              0.1111111111111111,
              "#46039f"
             ],
             [
              0.2222222222222222,
              "#7201a8"
             ],
             [
              0.3333333333333333,
              "#9c179e"
             ],
             [
              0.4444444444444444,
              "#bd3786"
             ],
             [
              0.5555555555555556,
              "#d8576b"
             ],
             [
              0.6666666666666666,
              "#ed7953"
             ],
             [
              0.7777777777777778,
              "#fb9f3a"
             ],
             [
              0.8888888888888888,
              "#fdca26"
             ],
             [
              1,
              "#f0f921"
             ]
            ],
            "type": "contour"
           }
          ],
          "contourcarpet": [
           {
            "colorbar": {
             "outlinewidth": 0,
             "ticks": ""
            },
            "type": "contourcarpet"
           }
          ],
          "heatmap": [
           {
            "colorbar": {
             "outlinewidth": 0,
             "ticks": ""
            },
            "colorscale": [
             [
              0,
              "#0d0887"
             ],
             [
              0.1111111111111111,
              "#46039f"
             ],
             [
              0.2222222222222222,
              "#7201a8"
             ],
             [
              0.3333333333333333,
              "#9c179e"
             ],
             [
              0.4444444444444444,
              "#bd3786"
             ],
             [
              0.5555555555555556,
              "#d8576b"
             ],
             [
              0.6666666666666666,
              "#ed7953"
             ],
             [
              0.7777777777777778,
              "#fb9f3a"
             ],
             [
              0.8888888888888888,
              "#fdca26"
             ],
             [
              1,
              "#f0f921"
             ]
            ],
            "type": "heatmap"
           }
          ],
          "heatmapgl": [
           {
            "colorbar": {
             "outlinewidth": 0,
             "ticks": ""
            },
            "colorscale": [
             [
              0,
              "#0d0887"
             ],
             [
              0.1111111111111111,
              "#46039f"
             ],
             [
              0.2222222222222222,
              "#7201a8"
             ],
             [
              0.3333333333333333,
              "#9c179e"
             ],
             [
              0.4444444444444444,
              "#bd3786"
             ],
             [
              0.5555555555555556,
              "#d8576b"
             ],
             [
              0.6666666666666666,
              "#ed7953"
             ],
             [
              0.7777777777777778,
              "#fb9f3a"
             ],
             [
              0.8888888888888888,
              "#fdca26"
             ],
             [
              1,
              "#f0f921"
             ]
            ],
            "type": "heatmapgl"
           }
          ],
          "histogram": [
           {
            "marker": {
             "colorbar": {
              "outlinewidth": 0,
              "ticks": ""
             }
            },
            "type": "histogram"
           }
          ],
          "histogram2d": [
           {
            "colorbar": {
             "outlinewidth": 0,
             "ticks": ""
            },
            "colorscale": [
             [
              0,
              "#0d0887"
             ],
             [
              0.1111111111111111,
              "#46039f"
             ],
             [
              0.2222222222222222,
              "#7201a8"
             ],
             [
              0.3333333333333333,
              "#9c179e"
             ],
             [
              0.4444444444444444,
              "#bd3786"
             ],
             [
              0.5555555555555556,
              "#d8576b"
             ],
             [
              0.6666666666666666,
              "#ed7953"
             ],
             [
              0.7777777777777778,
              "#fb9f3a"
             ],
             [
              0.8888888888888888,
              "#fdca26"
             ],
             [
              1,
              "#f0f921"
             ]
            ],
            "type": "histogram2d"
           }
          ],
          "histogram2dcontour": [
           {
            "colorbar": {
             "outlinewidth": 0,
             "ticks": ""
            },
            "colorscale": [
             [
              0,
              "#0d0887"
             ],
             [
              0.1111111111111111,
              "#46039f"
             ],
             [
              0.2222222222222222,
              "#7201a8"
             ],
             [
              0.3333333333333333,
              "#9c179e"
             ],
             [
              0.4444444444444444,
              "#bd3786"
             ],
             [
              0.5555555555555556,
              "#d8576b"
             ],
             [
              0.6666666666666666,
              "#ed7953"
             ],
             [
              0.7777777777777778,
              "#fb9f3a"
             ],
             [
              0.8888888888888888,
              "#fdca26"
             ],
             [
              1,
              "#f0f921"
             ]
            ],
            "type": "histogram2dcontour"
           }
          ],
          "mesh3d": [
           {
            "colorbar": {
             "outlinewidth": 0,
             "ticks": ""
            },
            "type": "mesh3d"
           }
          ],
          "parcoords": [
           {
            "line": {
             "colorbar": {
              "outlinewidth": 0,
              "ticks": ""
             }
            },
            "type": "parcoords"
           }
          ],
          "pie": [
           {
            "automargin": true,
            "type": "pie"
           }
          ],
          "scatter": [
           {
            "marker": {
             "colorbar": {
              "outlinewidth": 0,
              "ticks": ""
             }
            },
            "type": "scatter"
           }
          ],
          "scatter3d": [
           {
            "line": {
             "colorbar": {
              "outlinewidth": 0,
              "ticks": ""
             }
            },
            "marker": {
             "colorbar": {
              "outlinewidth": 0,
              "ticks": ""
             }
            },
            "type": "scatter3d"
           }
          ],
          "scattercarpet": [
           {
            "marker": {
             "colorbar": {
              "outlinewidth": 0,
              "ticks": ""
             }
            },
            "type": "scattercarpet"
           }
          ],
          "scattergeo": [
           {
            "marker": {
             "colorbar": {
              "outlinewidth": 0,
              "ticks": ""
             }
            },
            "type": "scattergeo"
           }
          ],
          "scattergl": [
           {
            "marker": {
             "colorbar": {
              "outlinewidth": 0,
              "ticks": ""
             }
            },
            "type": "scattergl"
           }
          ],
          "scattermapbox": [
           {
            "marker": {
             "colorbar": {
              "outlinewidth": 0,
              "ticks": ""
             }
            },
            "type": "scattermapbox"
           }
          ],
          "scatterpolar": [
           {
            "marker": {
             "colorbar": {
              "outlinewidth": 0,
              "ticks": ""
             }
            },
            "type": "scatterpolar"
           }
          ],
          "scatterpolargl": [
           {
            "marker": {
             "colorbar": {
              "outlinewidth": 0,
              "ticks": ""
             }
            },
            "type": "scatterpolargl"
           }
          ],
          "scatterternary": [
           {
            "marker": {
             "colorbar": {
              "outlinewidth": 0,
              "ticks": ""
             }
            },
            "type": "scatterternary"
           }
          ],
          "surface": [
           {
            "colorbar": {
             "outlinewidth": 0,
             "ticks": ""
            },
            "colorscale": [
             [
              0,
              "#0d0887"
             ],
             [
              0.1111111111111111,
              "#46039f"
             ],
             [
              0.2222222222222222,
              "#7201a8"
             ],
             [
              0.3333333333333333,
              "#9c179e"
             ],
             [
              0.4444444444444444,
              "#bd3786"
             ],
             [
              0.5555555555555556,
              "#d8576b"
             ],
             [
              0.6666666666666666,
              "#ed7953"
             ],
             [
              0.7777777777777778,
              "#fb9f3a"
             ],
             [
              0.8888888888888888,
              "#fdca26"
             ],
             [
              1,
              "#f0f921"
             ]
            ],
            "type": "surface"
           }
          ],
          "table": [
           {
            "cells": {
             "fill": {
              "color": "#EBF0F8"
             },
             "line": {
              "color": "white"
             }
            },
            "header": {
             "fill": {
              "color": "#C8D4E3"
             },
             "line": {
              "color": "white"
             }
            },
            "type": "table"
           }
          ]
         },
         "layout": {
          "annotationdefaults": {
           "arrowcolor": "#2a3f5f",
           "arrowhead": 0,
           "arrowwidth": 1
          },
          "coloraxis": {
           "colorbar": {
            "outlinewidth": 0,
            "ticks": ""
           }
          },
          "colorscale": {
           "diverging": [
            [
             0,
             "#8e0152"
            ],
            [
             0.1,
             "#c51b7d"
            ],
            [
             0.2,
             "#de77ae"
            ],
            [
             0.3,
             "#f1b6da"
            ],
            [
             0.4,
             "#fde0ef"
            ],
            [
             0.5,
             "#f7f7f7"
            ],
            [
             0.6,
             "#e6f5d0"
            ],
            [
             0.7,
             "#b8e186"
            ],
            [
             0.8,
             "#7fbc41"
            ],
            [
             0.9,
             "#4d9221"
            ],
            [
             1,
             "#276419"
            ]
           ],
           "sequential": [
            [
             0,
             "#0d0887"
            ],
            [
             0.1111111111111111,
             "#46039f"
            ],
            [
             0.2222222222222222,
             "#7201a8"
            ],
            [
             0.3333333333333333,
             "#9c179e"
            ],
            [
             0.4444444444444444,
             "#bd3786"
            ],
            [
             0.5555555555555556,
             "#d8576b"
            ],
            [
             0.6666666666666666,
             "#ed7953"
            ],
            [
             0.7777777777777778,
             "#fb9f3a"
            ],
            [
             0.8888888888888888,
             "#fdca26"
            ],
            [
             1,
             "#f0f921"
            ]
           ],
           "sequentialminus": [
            [
             0,
             "#0d0887"
            ],
            [
             0.1111111111111111,
             "#46039f"
            ],
            [
             0.2222222222222222,
             "#7201a8"
            ],
            [
             0.3333333333333333,
             "#9c179e"
            ],
            [
             0.4444444444444444,
             "#bd3786"
            ],
            [
             0.5555555555555556,
             "#d8576b"
            ],
            [
             0.6666666666666666,
             "#ed7953"
            ],
            [
             0.7777777777777778,
             "#fb9f3a"
            ],
            [
             0.8888888888888888,
             "#fdca26"
            ],
            [
             1,
             "#f0f921"
            ]
           ]
          },
          "colorway": [
           "#636efa",
           "#EF553B",
           "#00cc96",
           "#ab63fa",
           "#FFA15A",
           "#19d3f3",
           "#FF6692",
           "#B6E880",
           "#FF97FF",
           "#FECB52"
          ],
          "font": {
           "color": "#2a3f5f"
          },
          "geo": {
           "bgcolor": "white",
           "lakecolor": "white",
           "landcolor": "#E5ECF6",
           "showlakes": true,
           "showland": true,
           "subunitcolor": "white"
          },
          "hoverlabel": {
           "align": "left"
          },
          "hovermode": "closest",
          "mapbox": {
           "style": "light"
          },
          "paper_bgcolor": "white",
          "plot_bgcolor": "#E5ECF6",
          "polar": {
           "angularaxis": {
            "gridcolor": "white",
            "linecolor": "white",
            "ticks": ""
           },
           "bgcolor": "#E5ECF6",
           "radialaxis": {
            "gridcolor": "white",
            "linecolor": "white",
            "ticks": ""
           }
          },
          "scene": {
           "xaxis": {
            "backgroundcolor": "#E5ECF6",
            "gridcolor": "white",
            "gridwidth": 2,
            "linecolor": "white",
            "showbackground": true,
            "ticks": "",
            "zerolinecolor": "white"
           },
           "yaxis": {
            "backgroundcolor": "#E5ECF6",
            "gridcolor": "white",
            "gridwidth": 2,
            "linecolor": "white",
            "showbackground": true,
            "ticks": "",
            "zerolinecolor": "white"
           },
           "zaxis": {
            "backgroundcolor": "#E5ECF6",
            "gridcolor": "white",
            "gridwidth": 2,
            "linecolor": "white",
            "showbackground": true,
            "ticks": "",
            "zerolinecolor": "white"
           }
          },
          "shapedefaults": {
           "line": {
            "color": "#2a3f5f"
           }
          },
          "ternary": {
           "aaxis": {
            "gridcolor": "white",
            "linecolor": "white",
            "ticks": ""
           },
           "baxis": {
            "gridcolor": "white",
            "linecolor": "white",
            "ticks": ""
           },
           "bgcolor": "#E5ECF6",
           "caxis": {
            "gridcolor": "white",
            "linecolor": "white",
            "ticks": ""
           }
          },
          "title": {
           "x": 0.05
          },
          "xaxis": {
           "automargin": true,
           "gridcolor": "white",
           "linecolor": "white",
           "ticks": "",
           "title": {
            "standoff": 15
           },
           "zerolinecolor": "white",
           "zerolinewidth": 2
          },
          "yaxis": {
           "automargin": true,
           "gridcolor": "white",
           "linecolor": "white",
           "ticks": "",
           "title": {
            "standoff": 15
           },
           "zerolinecolor": "white",
           "zerolinewidth": 2
          }
         }
        },
        "title": {
         "text": "SEIR Model - Strong Restrictions"
        },
        "xaxis": {
         "autorange": true,
         "range": [
          0,
          150
         ],
         "title": {
          "text": "Time (days)"
         },
         "type": "linear"
        },
        "yaxis": {
         "autorange": true,
         "range": [
          -0.00020625109231085545,
          0.003918770753906254
         ],
         "title": {
          "text": "Percent of Population x100"
         },
         "type": "linear"
        }
       }
      },
      "image/png": "[encoded data removed]",
      "text/html": [
       "<div>                            <div id=\"3e37c07a-420d-4959-8997-73adcc8ad89c\" class=\"plotly-graph-div\" style=\"height:525px; width:100%;\"></div>            <script type=\"text/javascript\">                require([\"plotly\"], function(Plotly) {                    window.PLOTLYENV=window.PLOTLYENV || {};                                    if (document.getElementById(\"3e37c07a-420d-4959-8997-73adcc8ad89c\")) {                    Plotly.newPlot(                        \"3e37c07a-420d-4959-8997-73adcc8ad89c\",                        [{\"name\": \"Suseptible\", \"type\": \"scatter\", \"x\": [0.0, 1.0067114093959733, 2.0134228187919465, 3.0201342281879198, 4.026845637583893, 5.033557046979866, 6.0402684563758395, 7.046979865771813, 8.053691275167786, 9.060402684563758, 10.067114093959733, 11.073825503355707, 12.080536912751679, 13.087248322147651, 14.093959731543626, 15.1006711409396, 16.107382550335572, 17.114093959731544, 18.120805369127517, 19.127516778523493, 20.134228187919465, 21.140939597315437, 22.147651006711413, 23.154362416107386, 24.161073825503358, 25.16778523489933, 26.174496644295303, 27.18120805369128, 28.18791946308725, 29.194630872483224, 30.2013422818792, 31.208053691275172, 32.214765100671144, 33.22147651006712, 34.22818791946309, 35.234899328859065, 36.241610738255034, 37.24832214765101, 38.255033557046985, 39.261744966442954, 40.26845637583893, 41.275167785234906, 42.281879194630875, 43.28859060402685, 44.29530201342283, 45.302013422818796, 46.30872483221477, 47.31543624161074, 48.322147651006716, 49.32885906040269, 50.33557046979866, 51.34228187919464, 52.348993288590606, 53.35570469798658, 54.36241610738256, 55.369127516778526, 56.3758389261745, 57.38255033557048, 58.38926174496645, 59.39597315436242, 60.4026845637584, 61.40939597315437, 62.416107382550344, 63.42281879194631, 64.42953020134229, 65.43624161073826, 66.44295302013424, 67.4496644295302, 68.45637583892618, 69.46308724832215, 70.46979865771813, 71.4765100671141, 72.48322147651007, 73.48993288590604, 74.49664429530202, 75.503355704698, 76.51006711409397, 77.51677852348995, 78.52348993288591, 79.53020134228188, 80.53691275167786, 81.54362416107384, 82.55033557046981, 83.55704697986577, 84.56375838926175, 85.57046979865773, 86.5771812080537, 87.58389261744968, 88.59060402684565, 89.59731543624162, 90.60402684563759, 91.61073825503357, 92.61744966442954, 93.62416107382552, 94.63087248322148, 95.63758389261746, 96.64429530201343, 97.65100671140941, 98.65771812080538, 99.66442953020135, 100.67114093959732, 101.6778523489933, 102.68456375838927, 103.69127516778525, 104.69798657718121, 105.70469798657719, 106.71140939597316, 107.71812080536914, 108.72483221476512, 109.73154362416109, 110.73825503355705, 111.74496644295303, 112.751677852349, 113.75838926174498, 114.76510067114096, 115.77181208053692, 116.7785234899329, 117.78523489932887, 118.79194630872485, 119.79865771812082, 120.8053691275168, 121.81208053691276, 122.81879194630874, 123.82550335570471, 124.83221476510069, 125.83892617449666, 126.84563758389262, 127.8523489932886, 128.85906040268458, 129.86577181208054, 130.87248322147653, 131.8791946308725, 132.88590604026848, 133.89261744966444, 134.8993288590604, 135.9060402684564, 136.91275167785236, 137.91946308724835, 138.9261744966443, 139.93288590604027, 140.93959731543626, 141.94630872483222, 142.9530201342282, 143.95973154362417, 144.96644295302013, 145.97315436241612, 146.9798657718121, 147.98657718120808, 148.99328859060404, 150.0], \"y\": [1.0, 0.999998335722886, 0.9999965136164691, 0.9999945186864251, 0.999992332285679, 0.999989937312198, 0.9999873185764236, 0.9999844482687281, 0.9999813045022463, 0.9999778639366675, 0.999974100108265, 0.9999699800785399, 0.9999654686969678, 0.999960529069669, 0.9999551201971978, 0.9999491950148588, 0.9999427092872829, 0.9999356050297965, 0.9999278308656522, 0.9999193192406217, 0.999910000327366, 0.9998998002606994, 0.9998886313561735, 0.9998764049135396, 0.9998630225839396, 0.9998483717595125, 0.9998323396662518, 0.9998147934992861, 0.9997955887314055, 0.9997745681485605, 0.9997515590670443, 0.999726373487471, 0.9996988074926648, 0.9996686359351139, 0.9996356158010227, 0.9995994783845973, 0.9995599322216697, 0.9995166576430748, 0.9994693047257383, 0.9994174938975651, 0.9993608064592697, 0.9992987908915627, 0.9992309524714966, 0.999156748698552, 0.9990755892896354, 0.998986829745283, 0.9988897658986743, 0.9987836330872877, 0.9986675979971508, 0.9985407523410677, 0.9984021129093655, 0.9982506040323169, 0.9980850645929833, 0.9979042273933387, 0.9977067220081236, 0.9974910607778094, 0.9972556330015467, 0.9969986976060009, 0.9967183718799791, 0.9964126269606433, 0.9960792744696889, 0.9957159628897491, 0.9953201655851848, 0.9948891744868567, 0.9944200960749251, 0.9939098371271641, 0.9933551176683114, 0.9927524428263831, 0.9920981151728383, 0.9913882492972135, 0.9906187568868317, 0.9897853646796729, 0.9888836366041289, 0.9879089704871107, 0.9868566455657614, 0.9857218465023488, 0.9844997019058332, 0.9831853189379006, 0.9817738600809693, 0.9802605958228104, 0.9786409784849592, 0.9769107242766528, 0.9750659043360803, 0.97310304155116, 0.971019210269906, 0.9688121624515754, 0.9664804244319358, 0.9640234080889466, 0.9614415091865143, 0.9587362033744319, 0.9559101478413535, 0.9529672421887664, 0.9499126598058476, 0.9467528656679254, 0.9434956101897203, 0.9401499023945215, 0.9367259371557208, 0.9332349771119465, 0.929689215802737, 0.9261016205016875, 0.9224857498992617, 0.9188555481728328, 0.9152251267311375, 0.9116085440559162, 0.908019590156514, 0.9044715825268906, 0.9009771727988725, 0.8975481809838771, 0.8941954529843219, 0.8909287341458737, 0.8877566102461372, 0.884686446541585, 0.8817243670032624, 0.8788752585817727, 0.876142801470217, 0.8735295216933572, 0.8710368612806361, 0.8686652593100909, 0.8664142438702552, 0.8642825295989006, 0.862268118038448, 0.8603683976130566, 0.8585802402747743, 0.8569000956446182, 0.8553240796149766, 0.853848052295269, 0.852467691604209, 0.8511785643344836, 0.8499761732566659, 0.8488560107659073, 0.8478136075105219, 0.8468445597188601, 0.8459445612581318, 0.8451094306340295, 0.8443351280092017, 0.8436177662549892, 0.8429536232228885, 0.8423391516111778, 0.8417709767552424, 0.8412459008991839, 0.8407609037788774, 0.8403131378150152, 0.8398999248358324, 0.8395187497933795, 0.8391672598468074, 0.8388432517917778, 0.8385446710231252, 0.8382696043140564, 0.8380162627195885, 0.8377829929849542]}, {\"name\": \"Exposed\", \"type\": \"scatter\", \"x\": [0.0, 1.0067114093959733, 2.0134228187919465, 3.0201342281879198, 4.026845637583893, 5.033557046979866, 6.0402684563758395, 7.046979865771813, 8.053691275167786, 9.060402684563758, 10.067114093959733, 11.073825503355707, 12.080536912751679, 13.087248322147651, 14.093959731543626, 15.1006711409396, 16.107382550335572, 17.114093959731544, 18.120805369127517, 19.127516778523493, 20.134228187919465, 21.140939597315437, 22.147651006711413, 23.154362416107386, 24.161073825503358, 25.16778523489933, 26.174496644295303, 27.18120805369128, 28.18791946308725, 29.194630872483224, 30.2013422818792, 31.208053691275172, 32.214765100671144, 33.22147651006712, 34.22818791946309, 35.234899328859065, 36.241610738255034, 37.24832214765101, 38.255033557046985, 39.261744966442954, 40.26845637583893, 41.275167785234906, 42.281879194630875, 43.28859060402685, 44.29530201342283, 45.302013422818796, 46.30872483221477, 47.31543624161074, 48.322147651006716, 49.32885906040269, 50.33557046979866, 51.34228187919464, 52.348993288590606, 53.35570469798658, 54.36241610738256, 55.369127516778526, 56.3758389261745, 57.38255033557048, 58.38926174496645, 59.39597315436242, 60.4026845637584, 61.40939597315437, 62.416107382550344, 63.42281879194631, 64.42953020134229, 65.43624161073826, 66.44295302013424, 67.4496644295302, 68.45637583892618, 69.46308724832215, 70.46979865771813, 71.4765100671141, 72.48322147651007, 73.48993288590604, 74.49664429530202, 75.503355704698, 76.51006711409397, 77.51677852348995, 78.52348993288591, 79.53020134228188, 80.53691275167786, 81.54362416107384, 82.55033557046981, 83.55704697986577, 84.56375838926175, 85.57046979865773, 86.5771812080537, 87.58389261744968, 88.59060402684565, 89.59731543624162, 90.60402684563759, 91.61073825503357, 92.61744966442954, 93.62416107382552, 94.63087248322148, 95.63758389261746, 96.64429530201343, 97.65100671140941, 98.65771812080538, 99.66442953020135, 100.67114093959732, 101.6778523489933, 102.68456375838927, 103.69127516778525, 104.69798657718121, 105.70469798657719, 106.71140939597316, 107.71812080536914, 108.72483221476512, 109.73154362416109, 110.73825503355705, 111.74496644295303, 112.751677852349, 113.75838926174498, 114.76510067114096, 115.77181208053692, 116.7785234899329, 117.78523489932887, 118.79194630872485, 119.79865771812082, 120.8053691275168, 121.81208053691276, 122.81879194630874, 123.82550335570471, 124.83221476510069, 125.83892617449666, 126.84563758389262, 127.8523489932886, 128.85906040268458, 129.86577181208054, 130.87248322147653, 131.8791946308725, 132.88590604026848, 133.89261744966444, 134.8993288590604, 135.9060402684564, 136.91275167785236, 137.91946308724835, 138.9261744966443, 139.93288590604027, 140.93959731543626, 141.94630872483222, 142.9530201342282, 143.95973154362417, 144.96644295302013, 145.97315436241612, 146.9798657718121, 147.98657718120808, 148.99328859060404, 150.0], \"y\": [0.0, 4.1513425878705976e-07, 4.6271865870482343e-07, 5.06765189867905e-07, 5.549687148580686e-07, 6.081255399614392e-07, 6.651629467910695e-07, 7.282414076973489e-07, 7.974875056177315e-07, 8.732261127665142e-07, 9.56016523149872e-07, 1.046630717844269e-06, 1.1458501246198168e-06, 1.2544910400122192e-06, 1.373450599327599e-06, 1.5037553807769321e-06, 1.6463778193246134e-06, 1.8025876075856472e-06, 1.973511263261899e-06, 2.160629985703189e-06, 2.3654738047926317e-06, 2.5896609548738843e-06, 2.835109741992691e-06, 3.103760525456585e-06, 3.3977633522946132e-06, 3.719578301607448e-06, 4.071668824655897e-06, 4.456931539186668e-06, 4.878517892709858e-06, 5.339850796297035e-06, 5.844688592554357e-06, 6.397116023465455e-06, 7.00156100235575e-06, 7.662903264288415e-06, 8.386404492957775e-06, 9.177871235811299e-06, 1.0043592006445722e-05, 1.0990450811590836e-05, 1.2025965231287444e-05, 1.3158276216147524e-05, 1.4396332872961102e-05, 1.5749770004852524e-05, 1.7229104531157927e-05, 1.8845828673341274e-05, 2.0612404431130216e-05, 2.2542377425797533e-05, 2.4650491057837005e-05, 2.69526621560452e-05, 2.946616901593137e-05, 3.2209688280429845e-05, 3.520335903139342e-05, 3.846898171992061e-05, 4.202997640831208e-05, 4.591159432034397e-05, 5.0140946882427824e-05, 5.4747086685736933e-05, 5.976111322018328e-05, 6.521619268276435e-05, 7.114758075635958e-05, 7.759274321571694e-05, 8.4591144145175e-05, 9.218453440987766e-05, 0.00010041635256224666, 0.00010933232513606349, 0.00011897924406253856, 0.0001294059942042161, 0.00014066147705827387, 0.00015279619306584678, 0.0001658606555110199, 0.0001799037989038262, 0.0001949735345265019, 0.00021111502274008125, 0.00022836954111770955, 0.00024677382309357083, 0.00026635775099980043, 0.0002871426948296908, 0.0003091400375385236, 0.0003323495273047575, 0.0003567560545131555, 0.00038232801045257194, 0.00040901511565393834, 0.0004367462575709541, 0.0004654273368387631, 0.0004949394410153848, 0.0005251376718330129, 0.0005558495849986183, 0.0005868754587843899, 0.0006179887888859153, 0.0006489375294173037, 0.0006794463060347502, 0.0007092201946368535, 0.0007379490066951044, 0.0007653131657778022, 0.000790989616152767, 0.0008146598240278733, 0.0008360171538235441, 0.000854774677122347, 0.0008706736292168803, 0.0008834907667499517, 0.0008930450203294133, 0.0008992028194572961, 0.0009018819822341242, 0.0009010543702630062, 0.0008967467585413673, 0.0008890391204919669, 0.0008780612083181327, 0.0008639891140867672, 0.0008470396153435236, 0.0008274627136846295, 0.0008055350902829869, 0.0007815510776129037, 0.0007558156008707607, 0.0007286372215455512, 0.0007003216934072383, 0.0006711659286382723, 0.0006414525731157524, 0.0006114459640698488, 0.0005813897559520825, 0.0005515042388403867, 0.0005219850979055185, 0.0004930031170376831, 0.0004647044104516153, 0.0004372112102770373, 0.0004106227512040414, 0.0003850168638670809, 0.00036045206696464307, 0.0003369691367828831, 0.000314593172218237, 0.0002933356436354263, 0.0002731959788968632, 0.0002541635047080146, 0.0002362190453361462, 0.0002193364541476469, 0.00020348404514988698, 0.00018862586055891183, 0.00017472265195507254, 0.00016173287529753597, 0.00014961363935653066, 0.0001383211929790564, 0.0001278116048164044, 0.00011804131907391994, 0.00010896746672042964, 0.00010054816612237847, 9.274277280496932e-05, 8.551228429484556e-05, 7.881914767026324e-05, 7.262758266813391e-05, 6.690343648226618e-05, 6.161437490470903e-05, 5.6729763338309613e-05]}, {\"name\": \"Infected\", \"type\": \"scatter\", \"x\": [0.0, 1.0067114093959733, 2.0134228187919465, 3.0201342281879198, 4.026845637583893, 5.033557046979866, 6.0402684563758395, 7.046979865771813, 8.053691275167786, 9.060402684563758, 10.067114093959733, 11.073825503355707, 12.080536912751679, 13.087248322147651, 14.093959731543626, 15.1006711409396, 16.107382550335572, 17.114093959731544, 18.120805369127517, 19.127516778523493, 20.134228187919465, 21.140939597315437, 22.147651006711413, 23.154362416107386, 24.161073825503358, 25.16778523489933, 26.174496644295303, 27.18120805369128, 28.18791946308725, 29.194630872483224, 30.2013422818792, 31.208053691275172, 32.214765100671144, 33.22147651006712, 34.22818791946309, 35.234899328859065, 36.241610738255034, 37.24832214765101, 38.255033557046985, 39.261744966442954, 40.26845637583893, 41.275167785234906, 42.281879194630875, 43.28859060402685, 44.29530201342283, 45.302013422818796, 46.30872483221477, 47.31543624161074, 48.322147651006716, 49.32885906040269, 50.33557046979866, 51.34228187919464, 52.348993288590606, 53.35570469798658, 54.36241610738256, 55.369127516778526, 56.3758389261745, 57.38255033557048, 58.38926174496645, 59.39597315436242, 60.4026845637584, 61.40939597315437, 62.416107382550344, 63.42281879194631, 64.42953020134229, 65.43624161073826, 66.44295302013424, 67.4496644295302, 68.45637583892618, 69.46308724832215, 70.46979865771813, 71.4765100671141, 72.48322147651007, 73.48993288590604, 74.49664429530202, 75.503355704698, 76.51006711409397, 77.51677852348995, 78.52348993288591, 79.53020134228188, 80.53691275167786, 81.54362416107384, 82.55033557046981, 83.55704697986577, 84.56375838926175, 85.57046979865773, 86.5771812080537, 87.58389261744968, 88.59060402684565, 89.59731543624162, 90.60402684563759, 91.61073825503357, 92.61744966442954, 93.62416107382552, 94.63087248322148, 95.63758389261746, 96.64429530201343, 97.65100671140941, 98.65771812080538, 99.66442953020135, 100.67114093959732, 101.6778523489933, 102.68456375838927, 103.69127516778525, 104.69798657718121, 105.70469798657719, 106.71140939597316, 107.71812080536914, 108.72483221476512, 109.73154362416109, 110.73825503355705, 111.74496644295303, 112.751677852349, 113.75838926174498, 114.76510067114096, 115.77181208053692, 116.7785234899329, 117.78523489932887, 118.79194630872485, 119.79865771812082, 120.8053691275168, 121.81208053691276, 122.81879194630874, 123.82550335570471, 124.83221476510069, 125.83892617449666, 126.84563758389262, 127.8523489932886, 128.85906040268458, 129.86577181208054, 130.87248322147653, 131.8791946308725, 132.88590604026848, 133.89261744966444, 134.8993288590604, 135.9060402684564, 136.91275167785236, 137.91946308724835, 138.9261744966443, 139.93288590604027, 140.93959731543626, 141.94630872483222, 142.9530201342282, 143.95973154362417, 144.96644295302013, 145.97315436241612, 146.9798657718121, 147.98657718120808, 148.99328859060404, 150.0], \"y\": [1.49e-06, 1.6313052789838853e-06, 1.7860081320801124e-06, 1.9553807956930676e-06, 2.141005280251186e-06, 2.3443324120082035e-06, 2.5666506283111317e-06, 2.8103186271806204e-06, 3.077192504024622e-06, 3.3692513062016496e-06, 3.6887386961099454e-06, 4.038446886529349e-06, 4.421354986765957e-06, 4.840589482818376e-06, 5.299623713260806e-06, 5.8024436044328905e-06, 6.352795788721928e-06, 6.9555882038199885e-06, 7.615170378639546e-06, 8.33725730089531e-06, 9.127754246066874e-06, 9.992906842132172e-06, 1.0940123723696233e-05, 1.197689778852332e-05, 1.3111533243561032e-05, 1.4353529422925277e-05, 1.5712399884103598e-05, 1.7199332259886846e-05, 1.8826499374793316e-05, 2.060712553029779e-05, 2.255573133307386e-05, 2.46881016433373e-05, 2.7021348760568982e-05, 2.9574334927083428e-05, 3.2367401605478586e-05, 3.542300200703205e-05, 3.8765457521978046e-05, 4.242139880367933e-05, 4.641991521796803e-05, 5.0792514452398105e-05, 5.557384661126736e-05, 6.080122391788306e-05, 6.651539488624154e-05, 7.276090686566037e-05, 7.958608344255322e-05, 8.704347507913855e-05, 9.519030620204265e-05, 0.00010408839454971284, 0.00011380487757790066, 0.0001244124126642571, 0.00013598937691434678, 0.00014862072458362728, 0.00016239778107807724, 0.00017741913904107027, 0.00019379075164087205, 0.00021162633370543492, 0.00023104777628138305, 0.0002521852965494856, 0.00027517762926251133, 0.00030017244849280634, 0.00032732575281973163, 0.00035680292660852106, 0.0003887767256256513, 0.000423429442348381, 0.0004609486680604851, 0.0005015310010544186, 0.0005453745990868172, 0.0005926850460768178, 0.0006436696532968404, 0.0006985317705824292, 0.0007574727374776303, 0.0008206856412146872, 0.0008883507287533699, 0.0009606333037671908, 0.001037674993871879, 0.0011195884446534713, 0.001206450042899807, 0.0012982942151983038, 0.001395100854614821, 0.0014967889408910174, 0.0016032074842445257, 0.001714126373504267, 0.001829227456314396, 0.001948096539207613, 0.002070216872181689, 0.002194962454529135, 0.0023215962258453355, 0.0024492700579355656, 0.002577027543053849, 0.0027038105098526406, 0.002828470157637944, 0.0029497824636819893, 0.003066467788552272, 0.003177214517689932, 0.003280706839926806, 0.003375653625298493, 0.0034608211918185066, 0.003535066324994053, 0.0035973681636025825, 0.0036468570135317476, 0.003682839923755375, 0.003704821677163043, 0.003712519661595398, 0.0037058716786442358, 0.0036850364588463277, 0.003650386076616339, 0.0036024946128448043, 0.0035421181298130717, 0.0034701704329960703, 0.003387697496298589, 0.003295841781790403, 0.003195813751464215, 0.0030888624429087665, 0.0029762467868000965, 0.00285920877463547, 0.0027389497160222867, 0.0026166104389379317, 0.002493256272184341, 0.0023698652002073334, 0.002247319745614069, 0.0021264023517581325, 0.0020077941009052523, 0.0018920763936511715, 0.001779732608772437, 0.001671153869752605, 0.0015666466114899657, 0.0014664384478135168, 0.0013706861429747773, 0.0012794842780933261, 0.0011928718889742357, 0.0011108403939383506, 0.0010333407549117772, 0.000960290073593795, 0.0008915779238154102, 0.0008270720880573513, 0.0007666230642538062, 0.0007100685694222322, 0.0006572379231321543, 0.0006079544489196345, 0.0005620386484018029, 0.00051931085113828, 0.000479592789523758, 0.0004427090862679021, 0.0004084885508623064, 0.0003767661298686207, 0.00034738216992886024, 0.00032018394912294444, 0.00029502509363948226, 0.0002717667935877259, 0.0002502769619356822]}, {\"name\": \"Recovered\", \"type\": \"scatter\", \"x\": [0.0, 1.0067114093959733, 2.0134228187919465, 3.0201342281879198, 4.026845637583893, 5.033557046979866, 6.0402684563758395, 7.046979865771813, 8.053691275167786, 9.060402684563758, 10.067114093959733, 11.073825503355707, 12.080536912751679, 13.087248322147651, 14.093959731543626, 15.1006711409396, 16.107382550335572, 17.114093959731544, 18.120805369127517, 19.127516778523493, 20.134228187919465, 21.140939597315437, 22.147651006711413, 23.154362416107386, 24.161073825503358, 25.16778523489933, 26.174496644295303, 27.18120805369128, 28.18791946308725, 29.194630872483224, 30.2013422818792, 31.208053691275172, 32.214765100671144, 33.22147651006712, 34.22818791946309, 35.234899328859065, 36.241610738255034, 37.24832214765101, 38.255033557046985, 39.261744966442954, 40.26845637583893, 41.275167785234906, 42.281879194630875, 43.28859060402685, 44.29530201342283, 45.302013422818796, 46.30872483221477, 47.31543624161074, 48.322147651006716, 49.32885906040269, 50.33557046979866, 51.34228187919464, 52.348993288590606, 53.35570469798658, 54.36241610738256, 55.369127516778526, 56.3758389261745, 57.38255033557048, 58.38926174496645, 59.39597315436242, 60.4026845637584, 61.40939597315437, 62.416107382550344, 63.42281879194631, 64.42953020134229, 65.43624161073826, 66.44295302013424, 67.4496644295302, 68.45637583892618, 69.46308724832215, 70.46979865771813, 71.4765100671141, 72.48322147651007, 73.48993288590604, 74.49664429530202, 75.503355704698, 76.51006711409397, 77.51677852348995, 78.52348993288591, 79.53020134228188, 80.53691275167786, 81.54362416107384, 82.55033557046981, 83.55704697986577, 84.56375838926175, 85.57046979865773, 86.5771812080537, 87.58389261744968, 88.59060402684565, 89.59731543624162, 90.60402684563759, 91.61073825503357, 92.61744966442954, 93.62416107382552, 94.63087248322148, 95.63758389261746, 96.64429530201343, 97.65100671140941, 98.65771812080538, 99.66442953020135, 100.67114093959732, 101.6778523489933, 102.68456375838927, 103.69127516778525, 104.69798657718121, 105.70469798657719, 106.71140939597316, 107.71812080536914, 108.72483221476512, 109.73154362416109, 110.73825503355705, 111.74496644295303, 112.751677852349, 113.75838926174498, 114.76510067114096, 115.77181208053692, 116.7785234899329, 117.78523489932887, 118.79194630872485, 119.79865771812082, 120.8053691275168, 121.81208053691276, 122.81879194630874, 123.82550335570471, 124.83221476510069, 125.83892617449666, 126.84563758389262, 127.8523489932886, 128.85906040268458, 129.86577181208054, 130.87248322147653, 131.8791946308725, 132.88590604026848, 133.89261744966444, 134.8993288590604, 135.9060402684564, 136.91275167785236, 137.91946308724835, 138.9261744966443, 139.93288590604027, 140.93959731543626, 141.94630872483222, 142.9530201342282, 143.95973154362417, 144.96644295302013, 145.97315436241612, 146.9798657718121, 147.98657718120808, 148.99328859060404, 150.0], \"y\": [0.0, 1.522971835172964e-06, 3.1903753990888396e-06, 5.015932779393415e-06, 7.016709041056993e-06, 9.208355390149362e-06, 1.160477294811335e-05, 1.4231412644793504e-05, 1.710830524974272e-05, 2.0256812026349703e-05, 2.3701153038909753e-05, 2.7471474573669227e-05, 3.1599948045517985e-05, 3.612034084833981e-05, 4.107017908919986e-05, 4.6492541536936714e-05, 5.242791692861035e-05, 5.892938199996327e-05, 6.604396396937288e-05, 7.383350207760665e-05, 8.236191838812349e-05, 9.169683245870261e-05, 0.00010191852010304633, 0.00011310818867211558, 0.0001253558828170226, 0.00013876471106478546, 0.00015343793386425516, 0.00016949716845410066, 0.00018707476921992085, 0.00020631472590937553, 0.00022737520162282633, 0.0002504284108858896, 0.0002756611585747754, 0.00030327972995919606, 0.00033350679737199614, 0.0003665886133958062, 0.00040279232080850554, 0.0004424109581216702, 0.0004857653590439603, 0.0005332035879826708, 0.0005851096941190425, 0.0006418978845195493, 0.0007040221336172012, 0.0007719803945823439, 0.0008463146269220832, 0.0009276167796379052, 0.001016533795123623, 0.0011137685181626022, 0.0012200871252711933, 0.0013363252462679739, 0.0014633877137201073, 0.00160226524309937, 0.0017540276259385478, 0.0019198434676201005, 0.002100977240235371, 0.002298802888485134, 0.002514809222171806, 0.0027506070974495332, 0.003007940490758269, 0.003288690590863861, 0.00359488977749124, 0.003928724183642382, 0.004292547689189501, 0.004688886070794825, 0.00512044525701434, 0.00559012187178141, 0.006100997732601644, 0.00665636212753989, 0.007259705173864744, 0.007914708932204048, 0.00862526037569061, 0.009395439679112248, 0.010229502667117614, 0.011131886209122057, 0.012107169440366725, 0.01316005505299756, 0.014295338051266844, 0.015517876846900983, 0.016832529064415767, 0.018244105236298547, 0.019757304030796292, 0.02137663934984294, 0.023106358207605305, 0.02495035190963233, 0.026912062857912224, 0.02899436509389534, 0.03119946934221874, 0.03352881185311774, 0.035982953270431814, 0.038561476115715525, 0.04126287200100863, 0.04408446534755173, 0.04702236240560017, 0.05007140981438462, 0.053225172970352806, 0.05647593398017997, 0.05981473165246059, 0.0632314465630593, 0.06671490603366023, 0.07025301248478062, 0.07383290017698277, 0.07744112015000407, 0.08106384360726701, 0.08468707426543959, 0.08829686338463968, 0.09187952139649294, 0.0954218225882827, 0.09891119088630981, 0.10233586658268201, 0.10568505835782781, 0.10894903797207244, 0.11211922970695078, 0.11518826055382893, 0.11814998463142729, 0.12099947975514767, 0.12373301859062057, 0.12634801828042608, 0.12884297441772485, 0.13121738092953758, 0.13347164065548545, 0.13560696960979396, 0.13762529828603823, 0.1395291733315746, 0.14132166174660948, 0.14300625651527102, 0.14458679109324116, 0.14606735994797782, 0.14745223952254188, 0.14874583246524103, 0.14995260734511864, 0.15107704209553988, 0.15212358952622834, 0.15309663866827464, 0.1540004814421554, 0.1548392899027413, 0.1556171006807573, 0.1563377982076896, 0.15700510046569036, 0.15762255879583828, 0.15819355045241462, 0.1587212753699848, 0.1592087593954615, 0.15965885607790006, 0.1600742516557586, 0.16045746402332436, 0.1608108560382937, 0.16113663502775222, 0.1614368605923045, 0.16171346048682408, 0.1619682200531104]}],                        {\"template\": {\"data\": {\"bar\": [{\"error_x\": {\"color\": \"#2a3f5f\"}, \"error_y\": {\"color\": \"#2a3f5f\"}, \"marker\": {\"line\": {\"color\": \"#E5ECF6\", \"width\": 0.5}}, \"type\": \"bar\"}], \"barpolar\": [{\"marker\": {\"line\": {\"color\": \"#E5ECF6\", \"width\": 0.5}}, \"type\": \"barpolar\"}], \"carpet\": [{\"aaxis\": {\"endlinecolor\": \"#2a3f5f\", \"gridcolor\": \"white\", \"linecolor\": \"white\", \"minorgridcolor\": \"white\", \"startlinecolor\": \"#2a3f5f\"}, \"baxis\": {\"endlinecolor\": \"#2a3f5f\", \"gridcolor\": \"white\", \"linecolor\": \"white\", \"minorgridcolor\": \"white\", \"startlinecolor\": \"#2a3f5f\"}, \"type\": \"carpet\"}], \"choropleth\": [{\"colorbar\": {\"outlinewidth\": 0, \"ticks\": \"\"}, \"type\": \"choropleth\"}], \"contour\": [{\"colorbar\": {\"outlinewidth\": 0, \"ticks\": \"\"}, \"colorscale\": [[0.0, \"#0d0887\"], [0.1111111111111111, \"#46039f\"], [0.2222222222222222, \"#7201a8\"], [0.3333333333333333, \"#9c179e\"], [0.4444444444444444, \"#bd3786\"], [0.5555555555555556, \"#d8576b\"], [0.6666666666666666, \"#ed7953\"], [0.7777777777777778, \"#fb9f3a\"], [0.8888888888888888, \"#fdca26\"], [1.0, \"#f0f921\"]], \"type\": \"contour\"}], \"contourcarpet\": [{\"colorbar\": {\"outlinewidth\": 0, \"ticks\": \"\"}, \"type\": \"contourcarpet\"}], \"heatmap\": [{\"colorbar\": {\"outlinewidth\": 0, \"ticks\": \"\"}, \"colorscale\": [[0.0, \"#0d0887\"], [0.1111111111111111, \"#46039f\"], [0.2222222222222222, \"#7201a8\"], [0.3333333333333333, \"#9c179e\"], [0.4444444444444444, \"#bd3786\"], [0.5555555555555556, \"#d8576b\"], [0.6666666666666666, \"#ed7953\"], [0.7777777777777778, \"#fb9f3a\"], [0.8888888888888888, \"#fdca26\"], [1.0, \"#f0f921\"]], \"type\": \"heatmap\"}], \"heatmapgl\": [{\"colorbar\": {\"outlinewidth\": 0, \"ticks\": \"\"}, \"colorscale\": [[0.0, \"#0d0887\"], [0.1111111111111111, \"#46039f\"], [0.2222222222222222, \"#7201a8\"], [0.3333333333333333, \"#9c179e\"], [0.4444444444444444, \"#bd3786\"], [0.5555555555555556, \"#d8576b\"], [0.6666666666666666, \"#ed7953\"], [0.7777777777777778, \"#fb9f3a\"], [0.8888888888888888, \"#fdca26\"], [1.0, \"#f0f921\"]], \"type\": \"heatmapgl\"}], \"histogram\": [{\"marker\": {\"colorbar\": {\"outlinewidth\": 0, \"ticks\": \"\"}}, \"type\": \"histogram\"}], \"histogram2d\": [{\"colorbar\": {\"outlinewidth\": 0, \"ticks\": \"\"}, \"colorscale\": [[0.0, \"#0d0887\"], [0.1111111111111111, \"#46039f\"], [0.2222222222222222, \"#7201a8\"], [0.3333333333333333, \"#9c179e\"], [0.4444444444444444, \"#bd3786\"], [0.5555555555555556, \"#d8576b\"], [0.6666666666666666, \"#ed7953\"], [0.7777777777777778, \"#fb9f3a\"], [0.8888888888888888, \"#fdca26\"], [1.0, \"#f0f921\"]], \"type\": \"histogram2d\"}], \"histogram2dcontour\": [{\"colorbar\": {\"outlinewidth\": 0, \"ticks\": \"\"}, \"colorscale\": [[0.0, \"#0d0887\"], [0.1111111111111111, \"#46039f\"], [0.2222222222222222, \"#7201a8\"], [0.3333333333333333, \"#9c179e\"], [0.4444444444444444, \"#bd3786\"], [0.5555555555555556, \"#d8576b\"], [0.6666666666666666, \"#ed7953\"], [0.7777777777777778, \"#fb9f3a\"], [0.8888888888888888, \"#fdca26\"], [1.0, \"#f0f921\"]], \"type\": \"histogram2dcontour\"}], \"mesh3d\": [{\"colorbar\": {\"outlinewidth\": 0, \"ticks\": \"\"}, \"type\": \"mesh3d\"}], \"parcoords\": [{\"line\": {\"colorbar\": {\"outlinewidth\": 0, \"ticks\": \"\"}}, \"type\": \"parcoords\"}], \"pie\": [{\"automargin\": true, \"type\": \"pie\"}], \"scatter\": [{\"marker\": {\"colorbar\": {\"outlinewidth\": 0, \"ticks\": \"\"}}, \"type\": \"scatter\"}], \"scatter3d\": [{\"line\": {\"colorbar\": {\"outlinewidth\": 0, \"ticks\": \"\"}}, \"marker\": {\"colorbar\": {\"outlinewidth\": 0, \"ticks\": \"\"}}, \"type\": \"scatter3d\"}], \"scattercarpet\": [{\"marker\": {\"colorbar\": {\"outlinewidth\": 0, \"ticks\": \"\"}}, \"type\": \"scattercarpet\"}], \"scattergeo\": [{\"marker\": {\"colorbar\": {\"outlinewidth\": 0, \"ticks\": \"\"}}, \"type\": \"scattergeo\"}], \"scattergl\": [{\"marker\": {\"colorbar\": {\"outlinewidth\": 0, \"ticks\": \"\"}}, \"type\": \"scattergl\"}], \"scattermapbox\": [{\"marker\": {\"colorbar\": {\"outlinewidth\": 0, \"ticks\": \"\"}}, \"type\": \"scattermapbox\"}], \"scatterpolar\": [{\"marker\": {\"colorbar\": {\"outlinewidth\": 0, \"ticks\": \"\"}}, \"type\": \"scatterpolar\"}], \"scatterpolargl\": [{\"marker\": {\"colorbar\": {\"outlinewidth\": 0, \"ticks\": \"\"}}, \"type\": \"scatterpolargl\"}], \"scatterternary\": [{\"marker\": {\"colorbar\": {\"outlinewidth\": 0, \"ticks\": \"\"}}, \"type\": \"scatterternary\"}], \"surface\": [{\"colorbar\": {\"outlinewidth\": 0, \"ticks\": \"\"}, \"colorscale\": [[0.0, \"#0d0887\"], [0.1111111111111111, \"#46039f\"], [0.2222222222222222, \"#7201a8\"], [0.3333333333333333, \"#9c179e\"], [0.4444444444444444, \"#bd3786\"], [0.5555555555555556, \"#d8576b\"], [0.6666666666666666, \"#ed7953\"], [0.7777777777777778, \"#fb9f3a\"], [0.8888888888888888, \"#fdca26\"], [1.0, \"#f0f921\"]], \"type\": \"surface\"}], \"table\": [{\"cells\": {\"fill\": {\"color\": \"#EBF0F8\"}, \"line\": {\"color\": \"white\"}}, \"header\": {\"fill\": {\"color\": \"#C8D4E3\"}, \"line\": {\"color\": \"white\"}}, \"type\": \"table\"}]}, \"layout\": {\"annotationdefaults\": {\"arrowcolor\": \"#2a3f5f\", \"arrowhead\": 0, \"arrowwidth\": 1}, \"coloraxis\": {\"colorbar\": {\"outlinewidth\": 0, \"ticks\": \"\"}}, \"colorscale\": {\"diverging\": [[0, \"#8e0152\"], [0.1, \"#c51b7d\"], [0.2, \"#de77ae\"], [0.3, \"#f1b6da\"], [0.4, \"#fde0ef\"], [0.5, \"#f7f7f7\"], [0.6, \"#e6f5d0\"], [0.7, \"#b8e186\"], [0.8, \"#7fbc41\"], [0.9, \"#4d9221\"], [1, \"#276419\"]], \"sequential\": [[0.0, \"#0d0887\"], [0.1111111111111111, \"#46039f\"], [0.2222222222222222, \"#7201a8\"], [0.3333333333333333, \"#9c179e\"], [0.4444444444444444, \"#bd3786\"], [0.5555555555555556, \"#d8576b\"], [0.6666666666666666, \"#ed7953\"], [0.7777777777777778, \"#fb9f3a\"], [0.8888888888888888, \"#fdca26\"], [1.0, \"#f0f921\"]], \"sequentialminus\": [[0.0, \"#0d0887\"], [0.1111111111111111, \"#46039f\"], [0.2222222222222222, \"#7201a8\"], [0.3333333333333333, \"#9c179e\"], [0.4444444444444444, \"#bd3786\"], [0.5555555555555556, \"#d8576b\"], [0.6666666666666666, \"#ed7953\"], [0.7777777777777778, \"#fb9f3a\"], [0.8888888888888888, \"#fdca26\"], [1.0, \"#f0f921\"]]}, \"colorway\": [\"#636efa\", \"#EF553B\", \"#00cc96\", \"#ab63fa\", \"#FFA15A\", \"#19d3f3\", \"#FF6692\", \"#B6E880\", \"#FF97FF\", \"#FECB52\"], \"font\": {\"color\": \"#2a3f5f\"}, \"geo\": {\"bgcolor\": \"white\", \"lakecolor\": \"white\", \"landcolor\": \"#E5ECF6\", \"showlakes\": true, \"showland\": true, \"subunitcolor\": \"white\"}, \"hoverlabel\": {\"align\": \"left\"}, \"hovermode\": \"closest\", \"mapbox\": {\"style\": \"light\"}, \"paper_bgcolor\": \"white\", \"plot_bgcolor\": \"#E5ECF6\", \"polar\": {\"angularaxis\": {\"gridcolor\": \"white\", \"linecolor\": \"white\", \"ticks\": \"\"}, \"bgcolor\": \"#E5ECF6\", \"radialaxis\": {\"gridcolor\": \"white\", \"linecolor\": \"white\", \"ticks\": \"\"}}, \"scene\": {\"xaxis\": {\"backgroundcolor\": \"#E5ECF6\", \"gridcolor\": \"white\", \"gridwidth\": 2, \"linecolor\": \"white\", \"showbackground\": true, \"ticks\": \"\", \"zerolinecolor\": \"white\"}, \"yaxis\": {\"backgroundcolor\": \"#E5ECF6\", \"gridcolor\": \"white\", \"gridwidth\": 2, \"linecolor\": \"white\", \"showbackground\": true, \"ticks\": \"\", \"zerolinecolor\": \"white\"}, \"zaxis\": {\"backgroundcolor\": \"#E5ECF6\", \"gridcolor\": \"white\", \"gridwidth\": 2, \"linecolor\": \"white\", \"showbackground\": true, \"ticks\": \"\", \"zerolinecolor\": \"white\"}}, \"shapedefaults\": {\"line\": {\"color\": \"#2a3f5f\"}}, \"ternary\": {\"aaxis\": {\"gridcolor\": \"white\", \"linecolor\": \"white\", \"ticks\": \"\"}, \"baxis\": {\"gridcolor\": \"white\", \"linecolor\": \"white\", \"ticks\": \"\"}, \"bgcolor\": \"#E5ECF6\", \"caxis\": {\"gridcolor\": \"white\", \"linecolor\": \"white\", \"ticks\": \"\"}}, \"title\": {\"x\": 0.05}, \"xaxis\": {\"automargin\": true, \"gridcolor\": \"white\", \"linecolor\": \"white\", \"ticks\": \"\", \"title\": {\"standoff\": 15}, \"zerolinecolor\": \"white\", \"zerolinewidth\": 2}, \"yaxis\": {\"automargin\": true, \"gridcolor\": \"white\", \"linecolor\": \"white\", \"ticks\": \"\", \"title\": {\"standoff\": 15}, \"zerolinecolor\": \"white\", \"zerolinewidth\": 2}}}, \"title\": {\"text\": \"SEIR Model - Strong Restrictions\"}, \"xaxis\": {\"title\": {\"text\": \"Time (days)\"}}, \"yaxis\": {\"title\": {\"text\": \"Percent of Population x100\"}}},                        {\"responsive\": true}                    ).then(function(){\n",
       "                            \n",
       "var gd = document.getElementById('3e37c07a-420d-4959-8997-73adcc8ad89c');\n",
       "var x = new MutationObserver(function (mutations, observer) {{\n",
       "        var display = window.getComputedStyle(gd).display;\n",
       "        if (!display || display === 'none') {{\n",
       "            console.log([gd, 'removed!']);\n",
       "            Plotly.purge(gd);\n",
       "            observer.disconnect();\n",
       "        }}\n",
       "}});\n",
       "\n",
       "// Listen for the removal of the full notebook cells\n",
       "var notebookContainer = gd.closest('#notebook-container');\n",
       "if (notebookContainer) {{\n",
       "    x.observe(notebookContainer, {childList: true});\n",
       "}}\n",
       "\n",
       "// Listen for the clearing of the current output cell\n",
       "var outputEl = gd.closest('.output');\n",
       "if (outputEl) {{\n",
       "    x.observe(outputEl, {childList: true});\n",
       "}}\n",
       "\n",
       "                        })                };                });            </script>        </div>"
      ]
     },
     "metadata": {},
     "output_type": "display_data"
    }
   ],
   "source": [
    "fig.add_trace(go.Scatter(x=t, y=SEIR[:,0], name='Suseptible'))\n",
    "fig.add_trace(go.Scatter(x=t, y=SEIR[:,1], name='Exposed'))\n",
    "fig.add_trace(go.Scatter(x=t, y=SEIR[:,2], name='Infected'))\n",
    "fig.add_trace(go.Scatter(x=t, y=SEIR[:,3], name='Recovered')) \n",
    "fig.layout.update(dict(title='SEIR Model - Strong Restrictions',\n",
    "                       xaxis=dict(title='Time (days)'),\n",
    "                       yaxis=dict(title='Percent of Population x100')))\n",
    "fig.show()"
   ]
  },
  {
   "cell_type": "code",
   "execution_count": 16,
   "metadata": {},
   "outputs": [],
   "source": [
    "import pandas\n",
    "from plotly import graph_objs as go"
   ]
  },
  {
   "cell_type": "code",
   "execution_count": 17,
   "metadata": {},
   "outputs": [],
   "source": [
    "data = pandas.read_csv('https://storage.googleapis.com/covid19-open-data/v2/AU_VIC/main.csv')"
   ]
  },
  {
   "cell_type": "code",
   "execution_count": 18,
   "metadata": {},
   "outputs": [
    {
     "data": {
      "application/vnd.plotly.v1+json": {
       "config": {
        "plotlyServerURL": "https://plot.ly"
       },
       "data": [
        {
         "name": "new_recovered",
         "type": "scatter",
         "x": [
          "2020-01-01",
          "2020-01-02",
          "2020-01-03",
          "2020-01-04",
          "2020-01-05",
          "2020-01-06",
          "2020-01-07",
          "2020-01-08",
          "2020-01-09",
          "2020-01-10",
          "2020-01-11",
          "2020-01-12",
          "2020-01-13",
          "2020-01-14",
          "2020-01-15",
          "2020-01-16",
          "2020-01-17",
          "2020-01-18",
          "2020-01-19",
          "2020-01-20",
          "2020-01-21",
          "2020-01-22",
          "2020-01-23",
          "2020-01-24",
          "2020-01-25",
          "2020-01-26",
          "2020-01-27",
          "2020-01-28",
          "2020-01-29",
          "2020-01-30",
          "2020-01-31",
          "2020-02-01",
          "2020-02-02",
          "2020-02-03",
          "2020-02-04",
          "2020-02-05",
          "2020-02-06",
          "2020-02-07",
          "2020-02-08",
          "2020-02-09",
          "2020-02-10",
          "2020-02-11",
          "2020-02-12",
          "2020-02-13",
          "2020-02-14",
          "2020-02-15",
          "2020-02-16",
          "2020-02-17",
          "2020-02-18",
          "2020-02-19",
          "2020-02-20",
          "2020-02-21",
          "2020-02-22",
          "2020-02-23",
          "2020-02-24",
          "2020-02-25",
          "2020-02-26",
          "2020-02-27",
          "2020-02-28",
          "2020-02-29",
          "2020-03-01",
          "2020-03-02",
          "2020-03-03",
          "2020-03-04",
          "2020-03-05",
          "2020-03-06",
          "2020-03-07",
          "2020-03-08",
          "2020-03-09",
          "2020-03-10",
          "2020-03-11",
          "2020-03-12",
          "2020-03-13",
          "2020-03-14",
          "2020-03-15",
          "2020-03-16",
          "2020-03-17",
          "2020-03-18",
          "2020-03-19",
          "2020-03-20",
          "2020-03-21",
          "2020-03-22",
          "2020-03-23",
          "2020-03-24",
          "2020-03-25",
          "2020-03-26",
          "2020-03-27",
          "2020-03-28",
          "2020-03-29",
          "2020-03-30",
          "2020-03-31",
          "2020-04-01",
          "2020-04-02",
          "2020-04-03",
          "2020-04-04",
          "2020-04-05",
          "2020-04-06",
          "2020-04-07",
          "2020-04-08",
          "2020-04-09",
          "2020-04-10",
          "2020-04-11",
          "2020-04-12",
          "2020-04-13",
          "2020-04-14",
          "2020-04-15",
          "2020-04-16",
          "2020-04-17",
          "2020-04-18",
          "2020-04-19",
          "2020-04-20",
          "2020-04-21",
          "2020-04-22",
          "2020-04-23",
          "2020-04-24",
          "2020-04-25",
          "2020-04-26",
          "2020-04-27",
          "2020-04-28",
          "2020-04-29",
          "2020-04-30",
          "2020-05-01",
          "2020-05-02",
          "2020-05-03",
          "2020-05-04",
          "2020-05-05",
          "2020-05-06",
          "2020-05-07",
          "2020-05-08",
          "2020-05-09",
          "2020-05-10",
          "2020-05-11",
          "2020-05-12",
          "2020-05-13",
          "2020-05-14",
          "2020-05-15",
          "2020-05-16",
          "2020-05-17",
          "2020-05-18",
          "2020-05-19",
          "2020-05-20",
          "2020-05-21",
          "2020-05-22",
          "2020-05-23",
          "2020-05-24",
          "2020-05-25",
          "2020-05-26",
          "2020-05-27",
          "2020-05-28",
          "2020-05-29",
          "2020-05-30",
          "2020-05-31",
          "2020-06-01",
          "2020-06-02",
          "2020-06-03",
          "2020-06-04",
          "2020-06-05",
          "2020-06-06",
          "2020-06-07",
          "2020-06-08",
          "2020-06-09",
          "2020-06-10",
          "2020-06-11",
          "2020-06-12",
          "2020-06-13",
          "2020-06-14",
          "2020-06-15",
          "2020-06-16",
          "2020-06-17",
          "2020-06-18",
          "2020-06-19",
          "2020-06-20",
          "2020-06-21",
          "2020-06-22",
          "2020-06-23",
          "2020-06-24",
          "2020-06-25",
          "2020-06-26",
          "2020-06-27",
          "2020-06-28",
          "2020-06-29",
          "2020-06-30",
          "2020-07-01",
          "2020-07-02",
          "2020-07-03",
          "2020-07-04",
          "2020-07-05",
          "2020-07-06",
          "2020-07-07",
          "2020-07-08",
          "2020-07-09",
          "2020-07-10",
          "2020-07-11",
          "2020-07-12",
          "2020-07-13",
          "2020-07-14",
          "2020-07-15",
          "2020-07-16",
          "2020-07-17",
          "2020-07-18",
          "2020-07-19",
          "2020-07-20",
          "2020-07-21",
          "2020-07-22",
          "2020-07-23",
          "2020-07-24",
          "2020-07-25",
          "2020-07-26",
          "2020-07-27",
          "2020-07-28",
          "2020-07-29",
          "2020-07-30",
          "2020-07-31",
          "2020-08-01",
          "2020-08-02",
          "2020-08-03",
          "2020-08-04",
          "2020-08-05",
          "2020-08-06",
          "2020-08-07",
          "2020-08-08",
          "2020-08-09",
          "2020-08-10",
          "2020-08-11",
          "2020-08-12",
          "2020-08-13",
          "2020-08-14",
          "2020-08-15",
          "2020-08-16",
          "2020-08-17",
          "2020-08-18",
          "2020-08-19",
          "2020-08-20",
          "2020-08-21",
          "2020-08-22",
          "2020-08-23",
          "2020-08-24",
          "2020-08-25",
          "2020-08-26",
          "2020-08-27",
          "2020-08-28",
          "2020-08-29",
          "2020-08-30",
          "2020-08-31",
          "2020-09-01",
          "2020-09-02",
          "2020-09-03",
          "2020-09-04",
          "2020-09-05",
          "2020-09-06",
          "2020-09-07",
          "2020-09-08",
          "2020-09-09",
          "2020-09-10",
          "2020-09-11",
          "2020-09-12",
          "2020-09-13",
          "2020-09-14",
          "2020-09-15",
          "2020-09-16",
          "2020-09-17",
          "2020-09-18",
          "2020-09-19",
          "2020-09-20",
          "2020-09-21",
          "2020-09-22",
          "2020-09-23",
          "2020-09-24",
          "2020-09-25",
          "2020-09-26",
          "2020-09-27",
          "2020-09-28",
          "2020-09-29",
          "2020-09-30",
          "2020-10-01",
          "2020-10-02",
          "2020-10-03",
          "2020-10-04",
          "2020-10-05",
          "2020-10-06",
          "2020-10-07",
          "2020-10-08",
          "2020-10-09",
          "2020-10-10",
          "2020-10-11",
          "2020-10-12",
          "2020-10-13",
          "2020-10-14",
          "2020-10-15",
          "2020-10-16",
          "2020-10-17",
          "2020-10-18",
          "2020-10-19",
          "2020-10-20",
          "2020-10-21",
          "2020-10-22",
          "2020-10-23"
         ],
         "y": [
          null,
          null,
          null,
          null,
          null,
          null,
          null,
          null,
          null,
          null,
          null,
          null,
          null,
          null,
          null,
          null,
          null,
          null,
          null,
          null,
          null,
          null,
          null,
          null,
          null,
          null,
          null,
          null,
          null,
          null,
          null,
          null,
          null,
          null,
          null,
          null,
          null,
          null,
          null,
          null,
          null,
          null,
          null,
          null,
          null,
          null,
          null,
          null,
          null,
          null,
          null,
          null,
          null,
          null,
          null,
          null,
          null,
          null,
          null,
          null,
          null,
          null,
          null,
          null,
          null,
          null,
          null,
          null,
          null,
          null,
          null,
          null,
          null,
          null,
          null,
          null,
          null,
          null,
          0,
          0,
          0,
          70,
          27,
          36,
          -5,
          21,
          23,
          19,
          2,
          55,
          43,
          52,
          79,
          54,
          51,
          46,
          47,
          66,
          50,
          70,
          120,
          60,
          29,
          60,
          43,
          19,
          0,
          22,
          13,
          16,
          8,
          6,
          41,
          8,
          3,
          8,
          3,
          15,
          -1,
          8,
          4,
          2,
          7,
          0,
          10,
          1,
          10,
          1,
          5,
          9,
          10,
          14,
          16,
          9,
          0,
          22,
          10,
          0,
          22,
          15,
          11,
          8,
          6,
          5,
          14,
          22,
          13,
          6,
          5,
          5,
          4,
          4,
          3,
          3,
          6,
          15,
          2,
          3,
          4,
          2,
          7,
          14,
          5,
          11,
          9,
          16,
          4,
          3,
          7,
          7,
          2,
          6,
          8,
          0,
          18,
          9,
          11,
          10,
          19,
          14,
          14,
          27,
          23,
          27,
          40,
          32,
          33,
          21,
          36,
          30,
          84,
          41,
          103,
          3,
          40,
          66,
          93,
          103,
          78,
          40,
          110,
          114,
          145,
          106,
          114,
          152,
          79,
          151,
          137,
          120,
          186,
          136,
          220,
          217,
          219,
          196,
          172,
          141,
          204,
          201,
          237,
          312,
          264,
          247,
          382,
          222,
          349,
          279,
          449,
          453,
          390,
          316,
          2605,
          606,
          299,
          469,
          369,
          211,
          284,
          265,
          264,
          223,
          256,
          234,
          153,
          185,
          218,
          255,
          159,
          0,
          272,
          0,
          119,
          309,
          177,
          110,
          122,
          113,
          73,
          74,
          64,
          61,
          101,
          94,
          94,
          61,
          85,
          25,
          56,
          48,
          59,
          41,
          36,
          28,
          28,
          34,
          23,
          11,
          24,
          23,
          13,
          12,
          18,
          15,
          11,
          11,
          14,
          5,
          11,
          20,
          8,
          8,
          4,
          14,
          16,
          null,
          null
         ]
        },
        {
         "name": "new_confirmed",
         "type": "scatter",
         "x": [
          "2020-01-01",
          "2020-01-02",
          "2020-01-03",
          "2020-01-04",
          "2020-01-05",
          "2020-01-06",
          "2020-01-07",
          "2020-01-08",
          "2020-01-09",
          "2020-01-10",
          "2020-01-11",
          "2020-01-12",
          "2020-01-13",
          "2020-01-14",
          "2020-01-15",
          "2020-01-16",
          "2020-01-17",
          "2020-01-18",
          "2020-01-19",
          "2020-01-20",
          "2020-01-21",
          "2020-01-22",
          "2020-01-23",
          "2020-01-24",
          "2020-01-25",
          "2020-01-26",
          "2020-01-27",
          "2020-01-28",
          "2020-01-29",
          "2020-01-30",
          "2020-01-31",
          "2020-02-01",
          "2020-02-02",
          "2020-02-03",
          "2020-02-04",
          "2020-02-05",
          "2020-02-06",
          "2020-02-07",
          "2020-02-08",
          "2020-02-09",
          "2020-02-10",
          "2020-02-11",
          "2020-02-12",
          "2020-02-13",
          "2020-02-14",
          "2020-02-15",
          "2020-02-16",
          "2020-02-17",
          "2020-02-18",
          "2020-02-19",
          "2020-02-20",
          "2020-02-21",
          "2020-02-22",
          "2020-02-23",
          "2020-02-24",
          "2020-02-25",
          "2020-02-26",
          "2020-02-27",
          "2020-02-28",
          "2020-02-29",
          "2020-03-01",
          "2020-03-02",
          "2020-03-03",
          "2020-03-04",
          "2020-03-05",
          "2020-03-06",
          "2020-03-07",
          "2020-03-08",
          "2020-03-09",
          "2020-03-10",
          "2020-03-11",
          "2020-03-12",
          "2020-03-13",
          "2020-03-14",
          "2020-03-15",
          "2020-03-16",
          "2020-03-17",
          "2020-03-18",
          "2020-03-19",
          "2020-03-20",
          "2020-03-21",
          "2020-03-22",
          "2020-03-23",
          "2020-03-24",
          "2020-03-25",
          "2020-03-26",
          "2020-03-27",
          "2020-03-28",
          "2020-03-29",
          "2020-03-30",
          "2020-03-31",
          "2020-04-01",
          "2020-04-02",
          "2020-04-03",
          "2020-04-04",
          "2020-04-05",
          "2020-04-06",
          "2020-04-07",
          "2020-04-08",
          "2020-04-09",
          "2020-04-10",
          "2020-04-11",
          "2020-04-12",
          "2020-04-13",
          "2020-04-14",
          "2020-04-15",
          "2020-04-16",
          "2020-04-17",
          "2020-04-18",
          "2020-04-19",
          "2020-04-20",
          "2020-04-21",
          "2020-04-22",
          "2020-04-23",
          "2020-04-24",
          "2020-04-25",
          "2020-04-26",
          "2020-04-27",
          "2020-04-28",
          "2020-04-29",
          "2020-04-30",
          "2020-05-01",
          "2020-05-02",
          "2020-05-03",
          "2020-05-04",
          "2020-05-05",
          "2020-05-06",
          "2020-05-07",
          "2020-05-08",
          "2020-05-09",
          "2020-05-10",
          "2020-05-11",
          "2020-05-12",
          "2020-05-13",
          "2020-05-14",
          "2020-05-15",
          "2020-05-16",
          "2020-05-17",
          "2020-05-18",
          "2020-05-19",
          "2020-05-20",
          "2020-05-21",
          "2020-05-22",
          "2020-05-23",
          "2020-05-24",
          "2020-05-25",
          "2020-05-26",
          "2020-05-27",
          "2020-05-28",
          "2020-05-29",
          "2020-05-30",
          "2020-05-31",
          "2020-06-01",
          "2020-06-02",
          "2020-06-03",
          "2020-06-04",
          "2020-06-05",
          "2020-06-06",
          "2020-06-07",
          "2020-06-08",
          "2020-06-09",
          "2020-06-10",
          "2020-06-11",
          "2020-06-12",
          "2020-06-13",
          "2020-06-14",
          "2020-06-15",
          "2020-06-16",
          "2020-06-17",
          "2020-06-18",
          "2020-06-19",
          "2020-06-20",
          "2020-06-21",
          "2020-06-22",
          "2020-06-23",
          "2020-06-24",
          "2020-06-25",
          "2020-06-26",
          "2020-06-27",
          "2020-06-28",
          "2020-06-29",
          "2020-06-30",
          "2020-07-01",
          "2020-07-02",
          "2020-07-03",
          "2020-07-04",
          "2020-07-05",
          "2020-07-06",
          "2020-07-07",
          "2020-07-08",
          "2020-07-09",
          "2020-07-10",
          "2020-07-11",
          "2020-07-12",
          "2020-07-13",
          "2020-07-14",
          "2020-07-15",
          "2020-07-16",
          "2020-07-17",
          "2020-07-18",
          "2020-07-19",
          "2020-07-20",
          "2020-07-21",
          "2020-07-22",
          "2020-07-23",
          "2020-07-24",
          "2020-07-25",
          "2020-07-26",
          "2020-07-27",
          "2020-07-28",
          "2020-07-29",
          "2020-07-30",
          "2020-07-31",
          "2020-08-01",
          "2020-08-02",
          "2020-08-03",
          "2020-08-04",
          "2020-08-05",
          "2020-08-06",
          "2020-08-07",
          "2020-08-08",
          "2020-08-09",
          "2020-08-10",
          "2020-08-11",
          "2020-08-12",
          "2020-08-13",
          "2020-08-14",
          "2020-08-15",
          "2020-08-16",
          "2020-08-17",
          "2020-08-18",
          "2020-08-19",
          "2020-08-20",
          "2020-08-21",
          "2020-08-22",
          "2020-08-23",
          "2020-08-24",
          "2020-08-25",
          "2020-08-26",
          "2020-08-27",
          "2020-08-28",
          "2020-08-29",
          "2020-08-30",
          "2020-08-31",
          "2020-09-01",
          "2020-09-02",
          "2020-09-03",
          "2020-09-04",
          "2020-09-05",
          "2020-09-06",
          "2020-09-07",
          "2020-09-08",
          "2020-09-09",
          "2020-09-10",
          "2020-09-11",
          "2020-09-12",
          "2020-09-13",
          "2020-09-14",
          "2020-09-15",
          "2020-09-16",
          "2020-09-17",
          "2020-09-18",
          "2020-09-19",
          "2020-09-20",
          "2020-09-21",
          "2020-09-22",
          "2020-09-23",
          "2020-09-24",
          "2020-09-25",
          "2020-09-26",
          "2020-09-27",
          "2020-09-28",
          "2020-09-29",
          "2020-09-30",
          "2020-10-01",
          "2020-10-02",
          "2020-10-03",
          "2020-10-04",
          "2020-10-05",
          "2020-10-06",
          "2020-10-07",
          "2020-10-08",
          "2020-10-09",
          "2020-10-10",
          "2020-10-11",
          "2020-10-12",
          "2020-10-13",
          "2020-10-14",
          "2020-10-15",
          "2020-10-16",
          "2020-10-17",
          "2020-10-18",
          "2020-10-19",
          "2020-10-20",
          "2020-10-21",
          "2020-10-22",
          "2020-10-23"
         ],
         "y": [
          null,
          null,
          null,
          null,
          null,
          null,
          null,
          null,
          null,
          null,
          null,
          null,
          null,
          null,
          null,
          null,
          null,
          null,
          null,
          null,
          null,
          null,
          null,
          null,
          null,
          null,
          0,
          null,
          1,
          1,
          null,
          1,
          null,
          null,
          0,
          0,
          0,
          null,
          null,
          null,
          null,
          null,
          null,
          null,
          null,
          null,
          null,
          null,
          null,
          null,
          null,
          null,
          0,
          null,
          null,
          0,
          null,
          null,
          null,
          0,
          5,
          0,
          1,
          0,
          0,
          0,
          1,
          1,
          3,
          4,
          3,
          5,
          9,
          13,
          8,
          14,
          23,
          27,
          29,
          28,
          51,
          67,
          59,
          56,
          55,
          54,
          54,
          111,
          84,
          52,
          96,
          51,
          68,
          49,
          30,
          20,
          23,
          33,
          21,
          16,
          13,
          24,
          3,
          13,
          10,
          8,
          2,
          1,
          17,
          9,
          1,
          7,
          0,
          1,
          6,
          3,
          3,
          0,
          2,
          3,
          7,
          3,
          7,
          13,
          22,
          17,
          17,
          15,
          13,
          11,
          10,
          7,
          11,
          5,
          8,
          20,
          11,
          7,
          9,
          6,
          7,
          1,
          12,
          9,
          1,
          2,
          5,
          8,
          10,
          6,
          11,
          4,
          4,
          10,
          7,
          8,
          3,
          0,
          4,
          2,
          0,
          4,
          8,
          4,
          8,
          9,
          12,
          9,
          21,
          18,
          12,
          25,
          19,
          11,
          17,
          20,
          33,
          30,
          40,
          41,
          71,
          60,
          72,
          72,
          65,
          101,
          67,
          124,
          164,
          118,
          156,
          281,
          181,
          239,
          168,
          257,
          224,
          302,
          415,
          188,
          343,
          246,
          347,
          450,
          386,
          280,
          339,
          437,
          515,
          353,
          255,
          694,
          579,
          354,
          626,
          380,
          398,
          700,
          434,
          398,
          416,
          376,
          298,
          294,
          395,
          217,
          371,
          283,
          247,
          263,
          211,
          208,
          237,
          169,
          177,
          202,
          99,
          134,
          144,
          106,
          108,
          81,
          112,
          65,
          58,
          86,
          112,
          79,
          64,
          59,
          36,
          41,
          73,
          40,
          39,
          33,
          35,
          37,
          39,
          32,
          27,
          42,
          22,
          8,
          9,
          25,
          24,
          5,
          13,
          11,
          16,
          4,
          9,
          11,
          14,
          8,
          6,
          12,
          11,
          13,
          4,
          10,
          10,
          12,
          12,
          14,
          10,
          6,
          4,
          2,
          0,
          -2,
          4,
          2,
          2,
          null,
          null
         ]
        }
       ],
       "layout": {
        "autosize": true,
        "template": {
         "data": {
          "bar": [
           {
            "error_x": {
             "color": "#2a3f5f"
            },
            "error_y": {
             "color": "#2a3f5f"
            },
            "marker": {
             "line": {
              "color": "#E5ECF6",
              "width": 0.5
             }
            },
            "type": "bar"
           }
          ],
          "barpolar": [
           {
            "marker": {
             "line": {
              "color": "#E5ECF6",
              "width": 0.5
             }
            },
            "type": "barpolar"
           }
          ],
          "carpet": [
           {
            "aaxis": {
             "endlinecolor": "#2a3f5f",
             "gridcolor": "white",
             "linecolor": "white",
             "minorgridcolor": "white",
             "startlinecolor": "#2a3f5f"
            },
            "baxis": {
             "endlinecolor": "#2a3f5f",
             "gridcolor": "white",
             "linecolor": "white",
             "minorgridcolor": "white",
             "startlinecolor": "#2a3f5f"
            },
            "type": "carpet"
           }
          ],
          "choropleth": [
           {
            "colorbar": {
             "outlinewidth": 0,
             "ticks": ""
            },
            "type": "choropleth"
           }
          ],
          "contour": [
           {
            "colorbar": {
             "outlinewidth": 0,
             "ticks": ""
            },
            "colorscale": [
             [
              0,
              "#0d0887"
             ],
             [
              0.1111111111111111,
              "#46039f"
             ],
             [
              0.2222222222222222,
              "#7201a8"
             ],
             [
              0.3333333333333333,
              "#9c179e"
             ],
             [
              0.4444444444444444,
              "#bd3786"
             ],
             [
              0.5555555555555556,
              "#d8576b"
             ],
             [
              0.6666666666666666,
              "#ed7953"
             ],
             [
              0.7777777777777778,
              "#fb9f3a"
             ],
             [
              0.8888888888888888,
              "#fdca26"
             ],
             [
              1,
              "#f0f921"
             ]
            ],
            "type": "contour"
           }
          ],
          "contourcarpet": [
           {
            "colorbar": {
             "outlinewidth": 0,
             "ticks": ""
            },
            "type": "contourcarpet"
           }
          ],
          "heatmap": [
           {
            "colorbar": {
             "outlinewidth": 0,
             "ticks": ""
            },
            "colorscale": [
             [
              0,
              "#0d0887"
             ],
             [
              0.1111111111111111,
              "#46039f"
             ],
             [
              0.2222222222222222,
              "#7201a8"
             ],
             [
              0.3333333333333333,
              "#9c179e"
             ],
             [
              0.4444444444444444,
              "#bd3786"
             ],
             [
              0.5555555555555556,
              "#d8576b"
             ],
             [
              0.6666666666666666,
              "#ed7953"
             ],
             [
              0.7777777777777778,
              "#fb9f3a"
             ],
             [
              0.8888888888888888,
              "#fdca26"
             ],
             [
              1,
              "#f0f921"
             ]
            ],
            "type": "heatmap"
           }
          ],
          "heatmapgl": [
           {
            "colorbar": {
             "outlinewidth": 0,
             "ticks": ""
            },
            "colorscale": [
             [
              0,
              "#0d0887"
             ],
             [
              0.1111111111111111,
              "#46039f"
             ],
             [
              0.2222222222222222,
              "#7201a8"
             ],
             [
              0.3333333333333333,
              "#9c179e"
             ],
             [
              0.4444444444444444,
              "#bd3786"
             ],
             [
              0.5555555555555556,
              "#d8576b"
             ],
             [
              0.6666666666666666,
              "#ed7953"
             ],
             [
              0.7777777777777778,
              "#fb9f3a"
             ],
             [
              0.8888888888888888,
              "#fdca26"
             ],
             [
              1,
              "#f0f921"
             ]
            ],
            "type": "heatmapgl"
           }
          ],
          "histogram": [
           {
            "marker": {
             "colorbar": {
              "outlinewidth": 0,
              "ticks": ""
             }
            },
            "type": "histogram"
           }
          ],
          "histogram2d": [
           {
            "colorbar": {
             "outlinewidth": 0,
             "ticks": ""
            },
            "colorscale": [
             [
              0,
              "#0d0887"
             ],
             [
              0.1111111111111111,
              "#46039f"
             ],
             [
              0.2222222222222222,
              "#7201a8"
             ],
             [
              0.3333333333333333,
              "#9c179e"
             ],
             [
              0.4444444444444444,
              "#bd3786"
             ],
             [
              0.5555555555555556,
              "#d8576b"
             ],
             [
              0.6666666666666666,
              "#ed7953"
             ],
             [
              0.7777777777777778,
              "#fb9f3a"
             ],
             [
              0.8888888888888888,
              "#fdca26"
             ],
             [
              1,
              "#f0f921"
             ]
            ],
            "type": "histogram2d"
           }
          ],
          "histogram2dcontour": [
           {
            "colorbar": {
             "outlinewidth": 0,
             "ticks": ""
            },
            "colorscale": [
             [
              0,
              "#0d0887"
             ],
             [
              0.1111111111111111,
              "#46039f"
             ],
             [
              0.2222222222222222,
              "#7201a8"
             ],
             [
              0.3333333333333333,
              "#9c179e"
             ],
             [
              0.4444444444444444,
              "#bd3786"
             ],
             [
              0.5555555555555556,
              "#d8576b"
             ],
             [
              0.6666666666666666,
              "#ed7953"
             ],
             [
              0.7777777777777778,
              "#fb9f3a"
             ],
             [
              0.8888888888888888,
              "#fdca26"
             ],
             [
              1,
              "#f0f921"
             ]
            ],
            "type": "histogram2dcontour"
           }
          ],
          "mesh3d": [
           {
            "colorbar": {
             "outlinewidth": 0,
             "ticks": ""
            },
            "type": "mesh3d"
           }
          ],
          "parcoords": [
           {
            "line": {
             "colorbar": {
              "outlinewidth": 0,
              "ticks": ""
             }
            },
            "type": "parcoords"
           }
          ],
          "pie": [
           {
            "automargin": true,
            "type": "pie"
           }
          ],
          "scatter": [
           {
            "marker": {
             "colorbar": {
              "outlinewidth": 0,
              "ticks": ""
             }
            },
            "type": "scatter"
           }
          ],
          "scatter3d": [
           {
            "line": {
             "colorbar": {
              "outlinewidth": 0,
              "ticks": ""
             }
            },
            "marker": {
             "colorbar": {
              "outlinewidth": 0,
              "ticks": ""
             }
            },
            "type": "scatter3d"
           }
          ],
          "scattercarpet": [
           {
            "marker": {
             "colorbar": {
              "outlinewidth": 0,
              "ticks": ""
             }
            },
            "type": "scattercarpet"
           }
          ],
          "scattergeo": [
           {
            "marker": {
             "colorbar": {
              "outlinewidth": 0,
              "ticks": ""
             }
            },
            "type": "scattergeo"
           }
          ],
          "scattergl": [
           {
            "marker": {
             "colorbar": {
              "outlinewidth": 0,
              "ticks": ""
             }
            },
            "type": "scattergl"
           }
          ],
          "scattermapbox": [
           {
            "marker": {
             "colorbar": {
              "outlinewidth": 0,
              "ticks": ""
             }
            },
            "type": "scattermapbox"
           }
          ],
          "scatterpolar": [
           {
            "marker": {
             "colorbar": {
              "outlinewidth": 0,
              "ticks": ""
             }
            },
            "type": "scatterpolar"
           }
          ],
          "scatterpolargl": [
           {
            "marker": {
             "colorbar": {
              "outlinewidth": 0,
              "ticks": ""
             }
            },
            "type": "scatterpolargl"
           }
          ],
          "scatterternary": [
           {
            "marker": {
             "colorbar": {
              "outlinewidth": 0,
              "ticks": ""
             }
            },
            "type": "scatterternary"
           }
          ],
          "surface": [
           {
            "colorbar": {
             "outlinewidth": 0,
             "ticks": ""
            },
            "colorscale": [
             [
              0,
              "#0d0887"
             ],
             [
              0.1111111111111111,
              "#46039f"
             ],
             [
              0.2222222222222222,
              "#7201a8"
             ],
             [
              0.3333333333333333,
              "#9c179e"
             ],
             [
              0.4444444444444444,
              "#bd3786"
             ],
             [
              0.5555555555555556,
              "#d8576b"
             ],
             [
              0.6666666666666666,
              "#ed7953"
             ],
             [
              0.7777777777777778,
              "#fb9f3a"
             ],
             [
              0.8888888888888888,
              "#fdca26"
             ],
             [
              1,
              "#f0f921"
             ]
            ],
            "type": "surface"
           }
          ],
          "table": [
           {
            "cells": {
             "fill": {
              "color": "#EBF0F8"
             },
             "line": {
              "color": "white"
             }
            },
            "header": {
             "fill": {
              "color": "#C8D4E3"
             },
             "line": {
              "color": "white"
             }
            },
            "type": "table"
           }
          ]
         },
         "layout": {
          "annotationdefaults": {
           "arrowcolor": "#2a3f5f",
           "arrowhead": 0,
           "arrowwidth": 1
          },
          "coloraxis": {
           "colorbar": {
            "outlinewidth": 0,
            "ticks": ""
           }
          },
          "colorscale": {
           "diverging": [
            [
             0,
             "#8e0152"
            ],
            [
             0.1,
             "#c51b7d"
            ],
            [
             0.2,
             "#de77ae"
            ],
            [
             0.3,
             "#f1b6da"
            ],
            [
             0.4,
             "#fde0ef"
            ],
            [
             0.5,
             "#f7f7f7"
            ],
            [
             0.6,
             "#e6f5d0"
            ],
            [
             0.7,
             "#b8e186"
            ],
            [
             0.8,
             "#7fbc41"
            ],
            [
             0.9,
             "#4d9221"
            ],
            [
             1,
             "#276419"
            ]
           ],
           "sequential": [
            [
             0,
             "#0d0887"
            ],
            [
             0.1111111111111111,
             "#46039f"
            ],
            [
             0.2222222222222222,
             "#7201a8"
            ],
            [
             0.3333333333333333,
             "#9c179e"
            ],
            [
             0.4444444444444444,
             "#bd3786"
            ],
            [
             0.5555555555555556,
             "#d8576b"
            ],
            [
             0.6666666666666666,
             "#ed7953"
            ],
            [
             0.7777777777777778,
             "#fb9f3a"
            ],
            [
             0.8888888888888888,
             "#fdca26"
            ],
            [
             1,
             "#f0f921"
            ]
           ],
           "sequentialminus": [
            [
             0,
             "#0d0887"
            ],
            [
             0.1111111111111111,
             "#46039f"
            ],
            [
             0.2222222222222222,
             "#7201a8"
            ],
            [
             0.3333333333333333,
             "#9c179e"
            ],
            [
             0.4444444444444444,
             "#bd3786"
            ],
            [
             0.5555555555555556,
             "#d8576b"
            ],
            [
             0.6666666666666666,
             "#ed7953"
            ],
            [
             0.7777777777777778,
             "#fb9f3a"
            ],
            [
             0.8888888888888888,
             "#fdca26"
            ],
            [
             1,
             "#f0f921"
            ]
           ]
          },
          "colorway": [
           "#636efa",
           "#EF553B",
           "#00cc96",
           "#ab63fa",
           "#FFA15A",
           "#19d3f3",
           "#FF6692",
           "#B6E880",
           "#FF97FF",
           "#FECB52"
          ],
          "font": {
           "color": "#2a3f5f"
          },
          "geo": {
           "bgcolor": "white",
           "lakecolor": "white",
           "landcolor": "#E5ECF6",
           "showlakes": true,
           "showland": true,
           "subunitcolor": "white"
          },
          "hoverlabel": {
           "align": "left"
          },
          "hovermode": "closest",
          "mapbox": {
           "style": "light"
          },
          "paper_bgcolor": "white",
          "plot_bgcolor": "#E5ECF6",
          "polar": {
           "angularaxis": {
            "gridcolor": "white",
            "linecolor": "white",
            "ticks": ""
           },
           "bgcolor": "#E5ECF6",
           "radialaxis": {
            "gridcolor": "white",
            "linecolor": "white",
            "ticks": ""
           }
          },
          "scene": {
           "xaxis": {
            "backgroundcolor": "#E5ECF6",
            "gridcolor": "white",
            "gridwidth": 2,
            "linecolor": "white",
            "showbackground": true,
            "ticks": "",
            "zerolinecolor": "white"
           },
           "yaxis": {
            "backgroundcolor": "#E5ECF6",
            "gridcolor": "white",
            "gridwidth": 2,
            "linecolor": "white",
            "showbackground": true,
            "ticks": "",
            "zerolinecolor": "white"
           },
           "zaxis": {
            "backgroundcolor": "#E5ECF6",
            "gridcolor": "white",
            "gridwidth": 2,
            "linecolor": "white",
            "showbackground": true,
            "ticks": "",
            "zerolinecolor": "white"
           }
          },
          "shapedefaults": {
           "line": {
            "color": "#2a3f5f"
           }
          },
          "ternary": {
           "aaxis": {
            "gridcolor": "white",
            "linecolor": "white",
            "ticks": ""
           },
           "baxis": {
            "gridcolor": "white",
            "linecolor": "white",
            "ticks": ""
           },
           "bgcolor": "#E5ECF6",
           "caxis": {
            "gridcolor": "white",
            "linecolor": "white",
            "ticks": ""
           }
          },
          "title": {
           "x": 0.05
          },
          "xaxis": {
           "automargin": true,
           "gridcolor": "white",
           "linecolor": "white",
           "ticks": "",
           "title": {
            "standoff": 15
           },
           "zerolinecolor": "white",
           "zerolinewidth": 2
          },
          "yaxis": {
           "automargin": true,
           "gridcolor": "white",
           "linecolor": "white",
           "ticks": "",
           "title": {
            "standoff": 15
           },
           "zerolinecolor": "white",
           "zerolinewidth": 2
          }
         }
        },
        "xaxis": {
         "autorange": true,
         "range": [
          "2020-01-01",
          "2020-10-23"
         ],
         "type": "date"
        },
        "yaxis": {
         "autorange": true,
         "range": [
          -150,
          2750
         ],
         "type": "linear"
        }
       }
      },
      "image/png": "[encoded data removed]",
      "text/html": [
       "<div>                            <div id=\"03bc819e-ebd4-4f85-801e-e579e65172f4\" class=\"plotly-graph-div\" style=\"height:525px; width:100%;\"></div>            <script type=\"text/javascript\">                require([\"plotly\"], function(Plotly) {                    window.PLOTLYENV=window.PLOTLYENV || {};                                    if (document.getElementById(\"03bc819e-ebd4-4f85-801e-e579e65172f4\")) {                    Plotly.newPlot(                        \"03bc819e-ebd4-4f85-801e-e579e65172f4\",                        [{\"name\": \"new_recovered\", \"type\": \"scatter\", \"x\": [\"2020-01-01\", \"2020-01-02\", \"2020-01-03\", \"2020-01-04\", \"2020-01-05\", \"2020-01-06\", \"2020-01-07\", \"2020-01-08\", \"2020-01-09\", \"2020-01-10\", \"2020-01-11\", \"2020-01-12\", \"2020-01-13\", \"2020-01-14\", \"2020-01-15\", \"2020-01-16\", \"2020-01-17\", \"2020-01-18\", \"2020-01-19\", \"2020-01-20\", \"2020-01-21\", \"2020-01-22\", \"2020-01-23\", \"2020-01-24\", \"2020-01-25\", \"2020-01-26\", \"2020-01-27\", \"2020-01-28\", \"2020-01-29\", \"2020-01-30\", \"2020-01-31\", \"2020-02-01\", \"2020-02-02\", \"2020-02-03\", \"2020-02-04\", \"2020-02-05\", \"2020-02-06\", \"2020-02-07\", \"2020-02-08\", \"2020-02-09\", \"2020-02-10\", \"2020-02-11\", \"2020-02-12\", \"2020-02-13\", \"2020-02-14\", \"2020-02-15\", \"2020-02-16\", \"2020-02-17\", \"2020-02-18\", \"2020-02-19\", \"2020-02-20\", \"2020-02-21\", \"2020-02-22\", \"2020-02-23\", \"2020-02-24\", \"2020-02-25\", \"2020-02-26\", \"2020-02-27\", \"2020-02-28\", \"2020-02-29\", \"2020-03-01\", \"2020-03-02\", \"2020-03-03\", \"2020-03-04\", \"2020-03-05\", \"2020-03-06\", \"2020-03-07\", \"2020-03-08\", \"2020-03-09\", \"2020-03-10\", \"2020-03-11\", \"2020-03-12\", \"2020-03-13\", \"2020-03-14\", \"2020-03-15\", \"2020-03-16\", \"2020-03-17\", \"2020-03-18\", \"2020-03-19\", \"2020-03-20\", \"2020-03-21\", \"2020-03-22\", \"2020-03-23\", \"2020-03-24\", \"2020-03-25\", \"2020-03-26\", \"2020-03-27\", \"2020-03-28\", \"2020-03-29\", \"2020-03-30\", \"2020-03-31\", \"2020-04-01\", \"2020-04-02\", \"2020-04-03\", \"2020-04-04\", \"2020-04-05\", \"2020-04-06\", \"2020-04-07\", \"2020-04-08\", \"2020-04-09\", \"2020-04-10\", \"2020-04-11\", \"2020-04-12\", \"2020-04-13\", \"2020-04-14\", \"2020-04-15\", \"2020-04-16\", \"2020-04-17\", \"2020-04-18\", \"2020-04-19\", \"2020-04-20\", \"2020-04-21\", \"2020-04-22\", \"2020-04-23\", \"2020-04-24\", \"2020-04-25\", \"2020-04-26\", \"2020-04-27\", \"2020-04-28\", \"2020-04-29\", \"2020-04-30\", \"2020-05-01\", \"2020-05-02\", \"2020-05-03\", \"2020-05-04\", \"2020-05-05\", \"2020-05-06\", \"2020-05-07\", \"2020-05-08\", \"2020-05-09\", \"2020-05-10\", \"2020-05-11\", \"2020-05-12\", \"2020-05-13\", \"2020-05-14\", \"2020-05-15\", \"2020-05-16\", \"2020-05-17\", \"2020-05-18\", \"2020-05-19\", \"2020-05-20\", \"2020-05-21\", \"2020-05-22\", \"2020-05-23\", \"2020-05-24\", \"2020-05-25\", \"2020-05-26\", \"2020-05-27\", \"2020-05-28\", \"2020-05-29\", \"2020-05-30\", \"2020-05-31\", \"2020-06-01\", \"2020-06-02\", \"2020-06-03\", \"2020-06-04\", \"2020-06-05\", \"2020-06-06\", \"2020-06-07\", \"2020-06-08\", \"2020-06-09\", \"2020-06-10\", \"2020-06-11\", \"2020-06-12\", \"2020-06-13\", \"2020-06-14\", \"2020-06-15\", \"2020-06-16\", \"2020-06-17\", \"2020-06-18\", \"2020-06-19\", \"2020-06-20\", \"2020-06-21\", \"2020-06-22\", \"2020-06-23\", \"2020-06-24\", \"2020-06-25\", \"2020-06-26\", \"2020-06-27\", \"2020-06-28\", \"2020-06-29\", \"2020-06-30\", \"2020-07-01\", \"2020-07-02\", \"2020-07-03\", \"2020-07-04\", \"2020-07-05\", \"2020-07-06\", \"2020-07-07\", \"2020-07-08\", \"2020-07-09\", \"2020-07-10\", \"2020-07-11\", \"2020-07-12\", \"2020-07-13\", \"2020-07-14\", \"2020-07-15\", \"2020-07-16\", \"2020-07-17\", \"2020-07-18\", \"2020-07-19\", \"2020-07-20\", \"2020-07-21\", \"2020-07-22\", \"2020-07-23\", \"2020-07-24\", \"2020-07-25\", \"2020-07-26\", \"2020-07-27\", \"2020-07-28\", \"2020-07-29\", \"2020-07-30\", \"2020-07-31\", \"2020-08-01\", \"2020-08-02\", \"2020-08-03\", \"2020-08-04\", \"2020-08-05\", \"2020-08-06\", \"2020-08-07\", \"2020-08-08\", \"2020-08-09\", \"2020-08-10\", \"2020-08-11\", \"2020-08-12\", \"2020-08-13\", \"2020-08-14\", \"2020-08-15\", \"2020-08-16\", \"2020-08-17\", \"2020-08-18\", \"2020-08-19\", \"2020-08-20\", \"2020-08-21\", \"2020-08-22\", \"2020-08-23\", \"2020-08-24\", \"2020-08-25\", \"2020-08-26\", \"2020-08-27\", \"2020-08-28\", \"2020-08-29\", \"2020-08-30\", \"2020-08-31\", \"2020-09-01\", \"2020-09-02\", \"2020-09-03\", \"2020-09-04\", \"2020-09-05\", \"2020-09-06\", \"2020-09-07\", \"2020-09-08\", \"2020-09-09\", \"2020-09-10\", \"2020-09-11\", \"2020-09-12\", \"2020-09-13\", \"2020-09-14\", \"2020-09-15\", \"2020-09-16\", \"2020-09-17\", \"2020-09-18\", \"2020-09-19\", \"2020-09-20\", \"2020-09-21\", \"2020-09-22\", \"2020-09-23\", \"2020-09-24\", \"2020-09-25\", \"2020-09-26\", \"2020-09-27\", \"2020-09-28\", \"2020-09-29\", \"2020-09-30\", \"2020-10-01\", \"2020-10-02\", \"2020-10-03\", \"2020-10-04\", \"2020-10-05\", \"2020-10-06\", \"2020-10-07\", \"2020-10-08\", \"2020-10-09\", \"2020-10-10\", \"2020-10-11\", \"2020-10-12\", \"2020-10-13\", \"2020-10-14\", \"2020-10-15\", \"2020-10-16\", \"2020-10-17\", \"2020-10-18\", \"2020-10-19\", \"2020-10-20\", \"2020-10-21\", \"2020-10-22\", \"2020-10-23\"], \"y\": [null, null, null, null, null, null, null, null, null, null, null, null, null, null, null, null, null, null, null, null, null, null, null, null, null, null, null, null, null, null, null, null, null, null, null, null, null, null, null, null, null, null, null, null, null, null, null, null, null, null, null, null, null, null, null, null, null, null, null, null, null, null, null, null, null, null, null, null, null, null, null, null, null, null, null, null, null, null, 0.0, 0.0, 0.0, 70.0, 27.0, 36.0, -5.0, 21.0, 23.0, 19.0, 2.0, 55.0, 43.0, 52.0, 79.0, 54.0, 51.0, 46.0, 47.0, 66.0, 50.0, 70.0, 120.0, 60.0, 29.0, 60.0, 43.0, 19.0, 0.0, 22.0, 13.0, 16.0, 8.0, 6.0, 41.0, 8.0, 3.0, 8.0, 3.0, 15.0, -1.0, 8.0, 4.0, 2.0, 7.0, 0.0, 10.0, 1.0, 10.0, 1.0, 5.0, 9.0, 10.0, 14.0, 16.0, 9.0, 0.0, 22.0, 10.0, 0.0, 22.0, 15.0, 11.0, 8.0, 6.0, 5.0, 14.0, 22.0, 13.0, 6.0, 5.0, 5.0, 4.0, 4.0, 3.0, 3.0, 6.0, 15.0, 2.0, 3.0, 4.0, 2.0, 7.0, 14.0, 5.0, 11.0, 9.0, 16.0, 4.0, 3.0, 7.0, 7.0, 2.0, 6.0, 8.0, 0.0, 18.0, 9.0, 11.0, 10.0, 19.0, 14.0, 14.0, 27.0, 23.0, 27.0, 40.0, 32.0, 33.0, 21.0, 36.0, 30.0, 84.0, 41.0, 103.0, 3.0, 40.0, 66.0, 93.0, 103.0, 78.0, 40.0, 110.0, 114.0, 145.0, 106.0, 114.0, 152.0, 79.0, 151.0, 137.0, 120.0, 186.0, 136.0, 220.0, 217.0, 219.0, 196.0, 172.0, 141.0, 204.0, 201.0, 237.0, 312.0, 264.0, 247.0, 382.0, 222.0, 349.0, 279.0, 449.0, 453.0, 390.0, 316.0, 2605.0, 606.0, 299.0, 469.0, 369.0, 211.0, 284.0, 265.0, 264.0, 223.0, 256.0, 234.0, 153.0, 185.0, 218.0, 255.0, 159.0, 0.0, 272.0, 0.0, 119.0, 309.0, 177.0, 110.0, 122.0, 113.0, 73.0, 74.0, 64.0, 61.0, 101.0, 94.0, 94.0, 61.0, 85.0, 25.0, 56.0, 48.0, 59.0, 41.0, 36.0, 28.0, 28.0, 34.0, 23.0, 11.0, 24.0, 23.0, 13.0, 12.0, 18.0, 15.0, 11.0, 11.0, 14.0, 5.0, 11.0, 20.0, 8.0, 8.0, 4.0, 14.0, 16.0, null, null]}, {\"name\": \"new_confirmed\", \"type\": \"scatter\", \"x\": [\"2020-01-01\", \"2020-01-02\", \"2020-01-03\", \"2020-01-04\", \"2020-01-05\", \"2020-01-06\", \"2020-01-07\", \"2020-01-08\", \"2020-01-09\", \"2020-01-10\", \"2020-01-11\", \"2020-01-12\", \"2020-01-13\", \"2020-01-14\", \"2020-01-15\", \"2020-01-16\", \"2020-01-17\", \"2020-01-18\", \"2020-01-19\", \"2020-01-20\", \"2020-01-21\", \"2020-01-22\", \"2020-01-23\", \"2020-01-24\", \"2020-01-25\", \"2020-01-26\", \"2020-01-27\", \"2020-01-28\", \"2020-01-29\", \"2020-01-30\", \"2020-01-31\", \"2020-02-01\", \"2020-02-02\", \"2020-02-03\", \"2020-02-04\", \"2020-02-05\", \"2020-02-06\", \"2020-02-07\", \"2020-02-08\", \"2020-02-09\", \"2020-02-10\", \"2020-02-11\", \"2020-02-12\", \"2020-02-13\", \"2020-02-14\", \"2020-02-15\", \"2020-02-16\", \"2020-02-17\", \"2020-02-18\", \"2020-02-19\", \"2020-02-20\", \"2020-02-21\", \"2020-02-22\", \"2020-02-23\", \"2020-02-24\", \"2020-02-25\", \"2020-02-26\", \"2020-02-27\", \"2020-02-28\", \"2020-02-29\", \"2020-03-01\", \"2020-03-02\", \"2020-03-03\", \"2020-03-04\", \"2020-03-05\", \"2020-03-06\", \"2020-03-07\", \"2020-03-08\", \"2020-03-09\", \"2020-03-10\", \"2020-03-11\", \"2020-03-12\", \"2020-03-13\", \"2020-03-14\", \"2020-03-15\", \"2020-03-16\", \"2020-03-17\", \"2020-03-18\", \"2020-03-19\", \"2020-03-20\", \"2020-03-21\", \"2020-03-22\", \"2020-03-23\", \"2020-03-24\", \"2020-03-25\", \"2020-03-26\", \"2020-03-27\", \"2020-03-28\", \"2020-03-29\", \"2020-03-30\", \"2020-03-31\", \"2020-04-01\", \"2020-04-02\", \"2020-04-03\", \"2020-04-04\", \"2020-04-05\", \"2020-04-06\", \"2020-04-07\", \"2020-04-08\", \"2020-04-09\", \"2020-04-10\", \"2020-04-11\", \"2020-04-12\", \"2020-04-13\", \"2020-04-14\", \"2020-04-15\", \"2020-04-16\", \"2020-04-17\", \"2020-04-18\", \"2020-04-19\", \"2020-04-20\", \"2020-04-21\", \"2020-04-22\", \"2020-04-23\", \"2020-04-24\", \"2020-04-25\", \"2020-04-26\", \"2020-04-27\", \"2020-04-28\", \"2020-04-29\", \"2020-04-30\", \"2020-05-01\", \"2020-05-02\", \"2020-05-03\", \"2020-05-04\", \"2020-05-05\", \"2020-05-06\", \"2020-05-07\", \"2020-05-08\", \"2020-05-09\", \"2020-05-10\", \"2020-05-11\", \"2020-05-12\", \"2020-05-13\", \"2020-05-14\", \"2020-05-15\", \"2020-05-16\", \"2020-05-17\", \"2020-05-18\", \"2020-05-19\", \"2020-05-20\", \"2020-05-21\", \"2020-05-22\", \"2020-05-23\", \"2020-05-24\", \"2020-05-25\", \"2020-05-26\", \"2020-05-27\", \"2020-05-28\", \"2020-05-29\", \"2020-05-30\", \"2020-05-31\", \"2020-06-01\", \"2020-06-02\", \"2020-06-03\", \"2020-06-04\", \"2020-06-05\", \"2020-06-06\", \"2020-06-07\", \"2020-06-08\", \"2020-06-09\", \"2020-06-10\", \"2020-06-11\", \"2020-06-12\", \"2020-06-13\", \"2020-06-14\", \"2020-06-15\", \"2020-06-16\", \"2020-06-17\", \"2020-06-18\", \"2020-06-19\", \"2020-06-20\", \"2020-06-21\", \"2020-06-22\", \"2020-06-23\", \"2020-06-24\", \"2020-06-25\", \"2020-06-26\", \"2020-06-27\", \"2020-06-28\", \"2020-06-29\", \"2020-06-30\", \"2020-07-01\", \"2020-07-02\", \"2020-07-03\", \"2020-07-04\", \"2020-07-05\", \"2020-07-06\", \"2020-07-07\", \"2020-07-08\", \"2020-07-09\", \"2020-07-10\", \"2020-07-11\", \"2020-07-12\", \"2020-07-13\", \"2020-07-14\", \"2020-07-15\", \"2020-07-16\", \"2020-07-17\", \"2020-07-18\", \"2020-07-19\", \"2020-07-20\", \"2020-07-21\", \"2020-07-22\", \"2020-07-23\", \"2020-07-24\", \"2020-07-25\", \"2020-07-26\", \"2020-07-27\", \"2020-07-28\", \"2020-07-29\", \"2020-07-30\", \"2020-07-31\", \"2020-08-01\", \"2020-08-02\", \"2020-08-03\", \"2020-08-04\", \"2020-08-05\", \"2020-08-06\", \"2020-08-07\", \"2020-08-08\", \"2020-08-09\", \"2020-08-10\", \"2020-08-11\", \"2020-08-12\", \"2020-08-13\", \"2020-08-14\", \"2020-08-15\", \"2020-08-16\", \"2020-08-17\", \"2020-08-18\", \"2020-08-19\", \"2020-08-20\", \"2020-08-21\", \"2020-08-22\", \"2020-08-23\", \"2020-08-24\", \"2020-08-25\", \"2020-08-26\", \"2020-08-27\", \"2020-08-28\", \"2020-08-29\", \"2020-08-30\", \"2020-08-31\", \"2020-09-01\", \"2020-09-02\", \"2020-09-03\", \"2020-09-04\", \"2020-09-05\", \"2020-09-06\", \"2020-09-07\", \"2020-09-08\", \"2020-09-09\", \"2020-09-10\", \"2020-09-11\", \"2020-09-12\", \"2020-09-13\", \"2020-09-14\", \"2020-09-15\", \"2020-09-16\", \"2020-09-17\", \"2020-09-18\", \"2020-09-19\", \"2020-09-20\", \"2020-09-21\", \"2020-09-22\", \"2020-09-23\", \"2020-09-24\", \"2020-09-25\", \"2020-09-26\", \"2020-09-27\", \"2020-09-28\", \"2020-09-29\", \"2020-09-30\", \"2020-10-01\", \"2020-10-02\", \"2020-10-03\", \"2020-10-04\", \"2020-10-05\", \"2020-10-06\", \"2020-10-07\", \"2020-10-08\", \"2020-10-09\", \"2020-10-10\", \"2020-10-11\", \"2020-10-12\", \"2020-10-13\", \"2020-10-14\", \"2020-10-15\", \"2020-10-16\", \"2020-10-17\", \"2020-10-18\", \"2020-10-19\", \"2020-10-20\", \"2020-10-21\", \"2020-10-22\", \"2020-10-23\"], \"y\": [null, null, null, null, null, null, null, null, null, null, null, null, null, null, null, null, null, null, null, null, null, null, null, null, null, null, 0.0, null, 1.0, 1.0, null, 1.0, null, null, 0.0, 0.0, 0.0, null, null, null, null, null, null, null, null, null, null, null, null, null, null, null, 0.0, null, null, 0.0, null, null, null, 0.0, 5.0, 0.0, 1.0, 0.0, 0.0, 0.0, 1.0, 1.0, 3.0, 4.0, 3.0, 5.0, 9.0, 13.0, 8.0, 14.0, 23.0, 27.0, 29.0, 28.0, 51.0, 67.0, 59.0, 56.0, 55.0, 54.0, 54.0, 111.0, 84.0, 52.0, 96.0, 51.0, 68.0, 49.0, 30.0, 20.0, 23.0, 33.0, 21.0, 16.0, 13.0, 24.0, 3.0, 13.0, 10.0, 8.0, 2.0, 1.0, 17.0, 9.0, 1.0, 7.0, 0.0, 1.0, 6.0, 3.0, 3.0, 0.0, 2.0, 3.0, 7.0, 3.0, 7.0, 13.0, 22.0, 17.0, 17.0, 15.0, 13.0, 11.0, 10.0, 7.0, 11.0, 5.0, 8.0, 20.0, 11.0, 7.0, 9.0, 6.0, 7.0, 1.0, 12.0, 9.0, 1.0, 2.0, 5.0, 8.0, 10.0, 6.0, 11.0, 4.0, 4.0, 10.0, 7.0, 8.0, 3.0, 0.0, 4.0, 2.0, 0.0, 4.0, 8.0, 4.0, 8.0, 9.0, 12.0, 9.0, 21.0, 18.0, 12.0, 25.0, 19.0, 11.0, 17.0, 20.0, 33.0, 30.0, 40.0, 41.0, 71.0, 60.0, 72.0, 72.0, 65.0, 101.0, 67.0, 124.0, 164.0, 118.0, 156.0, 281.0, 181.0, 239.0, 168.0, 257.0, 224.0, 302.0, 415.0, 188.0, 343.0, 246.0, 347.0, 450.0, 386.0, 280.0, 339.0, 437.0, 515.0, 353.0, 255.0, 694.0, 579.0, 354.0, 626.0, 380.0, 398.0, 700.0, 434.0, 398.0, 416.0, 376.0, 298.0, 294.0, 395.0, 217.0, 371.0, 283.0, 247.0, 263.0, 211.0, 208.0, 237.0, 169.0, 177.0, 202.0, 99.0, 134.0, 144.0, 106.0, 108.0, 81.0, 112.0, 65.0, 58.0, 86.0, 112.0, 79.0, 64.0, 59.0, 36.0, 41.0, 73.0, 40.0, 39.0, 33.0, 35.0, 37.0, 39.0, 32.0, 27.0, 42.0, 22.0, 8.0, 9.0, 25.0, 24.0, 5.0, 13.0, 11.0, 16.0, 4.0, 9.0, 11.0, 14.0, 8.0, 6.0, 12.0, 11.0, 13.0, 4.0, 10.0, 10.0, 12.0, 12.0, 14.0, 10.0, 6.0, 4.0, 2.0, 0.0, -2.0, 4.0, 2.0, 2.0, null, null]}],                        {\"template\": {\"data\": {\"bar\": [{\"error_x\": {\"color\": \"#2a3f5f\"}, \"error_y\": {\"color\": \"#2a3f5f\"}, \"marker\": {\"line\": {\"color\": \"#E5ECF6\", \"width\": 0.5}}, \"type\": \"bar\"}], \"barpolar\": [{\"marker\": {\"line\": {\"color\": \"#E5ECF6\", \"width\": 0.5}}, \"type\": \"barpolar\"}], \"carpet\": [{\"aaxis\": {\"endlinecolor\": \"#2a3f5f\", \"gridcolor\": \"white\", \"linecolor\": \"white\", \"minorgridcolor\": \"white\", \"startlinecolor\": \"#2a3f5f\"}, \"baxis\": {\"endlinecolor\": \"#2a3f5f\", \"gridcolor\": \"white\", \"linecolor\": \"white\", \"minorgridcolor\": \"white\", \"startlinecolor\": \"#2a3f5f\"}, \"type\": \"carpet\"}], \"choropleth\": [{\"colorbar\": {\"outlinewidth\": 0, \"ticks\": \"\"}, \"type\": \"choropleth\"}], \"contour\": [{\"colorbar\": {\"outlinewidth\": 0, \"ticks\": \"\"}, \"colorscale\": [[0.0, \"#0d0887\"], [0.1111111111111111, \"#46039f\"], [0.2222222222222222, \"#7201a8\"], [0.3333333333333333, \"#9c179e\"], [0.4444444444444444, \"#bd3786\"], [0.5555555555555556, \"#d8576b\"], [0.6666666666666666, \"#ed7953\"], [0.7777777777777778, \"#fb9f3a\"], [0.8888888888888888, \"#fdca26\"], [1.0, \"#f0f921\"]], \"type\": \"contour\"}], \"contourcarpet\": [{\"colorbar\": {\"outlinewidth\": 0, \"ticks\": \"\"}, \"type\": \"contourcarpet\"}], \"heatmap\": [{\"colorbar\": {\"outlinewidth\": 0, \"ticks\": \"\"}, \"colorscale\": [[0.0, \"#0d0887\"], [0.1111111111111111, \"#46039f\"], [0.2222222222222222, \"#7201a8\"], [0.3333333333333333, \"#9c179e\"], [0.4444444444444444, \"#bd3786\"], [0.5555555555555556, \"#d8576b\"], [0.6666666666666666, \"#ed7953\"], [0.7777777777777778, \"#fb9f3a\"], [0.8888888888888888, \"#fdca26\"], [1.0, \"#f0f921\"]], \"type\": \"heatmap\"}], \"heatmapgl\": [{\"colorbar\": {\"outlinewidth\": 0, \"ticks\": \"\"}, \"colorscale\": [[0.0, \"#0d0887\"], [0.1111111111111111, \"#46039f\"], [0.2222222222222222, \"#7201a8\"], [0.3333333333333333, \"#9c179e\"], [0.4444444444444444, \"#bd3786\"], [0.5555555555555556, \"#d8576b\"], [0.6666666666666666, \"#ed7953\"], [0.7777777777777778, \"#fb9f3a\"], [0.8888888888888888, \"#fdca26\"], [1.0, \"#f0f921\"]], \"type\": \"heatmapgl\"}], \"histogram\": [{\"marker\": {\"colorbar\": {\"outlinewidth\": 0, \"ticks\": \"\"}}, \"type\": \"histogram\"}], \"histogram2d\": [{\"colorbar\": {\"outlinewidth\": 0, \"ticks\": \"\"}, \"colorscale\": [[0.0, \"#0d0887\"], [0.1111111111111111, \"#46039f\"], [0.2222222222222222, \"#7201a8\"], [0.3333333333333333, \"#9c179e\"], [0.4444444444444444, \"#bd3786\"], [0.5555555555555556, \"#d8576b\"], [0.6666666666666666, \"#ed7953\"], [0.7777777777777778, \"#fb9f3a\"], [0.8888888888888888, \"#fdca26\"], [1.0, \"#f0f921\"]], \"type\": \"histogram2d\"}], \"histogram2dcontour\": [{\"colorbar\": {\"outlinewidth\": 0, \"ticks\": \"\"}, \"colorscale\": [[0.0, \"#0d0887\"], [0.1111111111111111, \"#46039f\"], [0.2222222222222222, \"#7201a8\"], [0.3333333333333333, \"#9c179e\"], [0.4444444444444444, \"#bd3786\"], [0.5555555555555556, \"#d8576b\"], [0.6666666666666666, \"#ed7953\"], [0.7777777777777778, \"#fb9f3a\"], [0.8888888888888888, \"#fdca26\"], [1.0, \"#f0f921\"]], \"type\": \"histogram2dcontour\"}], \"mesh3d\": [{\"colorbar\": {\"outlinewidth\": 0, \"ticks\": \"\"}, \"type\": \"mesh3d\"}], \"parcoords\": [{\"line\": {\"colorbar\": {\"outlinewidth\": 0, \"ticks\": \"\"}}, \"type\": \"parcoords\"}], \"pie\": [{\"automargin\": true, \"type\": \"pie\"}], \"scatter\": [{\"marker\": {\"colorbar\": {\"outlinewidth\": 0, \"ticks\": \"\"}}, \"type\": \"scatter\"}], \"scatter3d\": [{\"line\": {\"colorbar\": {\"outlinewidth\": 0, \"ticks\": \"\"}}, \"marker\": {\"colorbar\": {\"outlinewidth\": 0, \"ticks\": \"\"}}, \"type\": \"scatter3d\"}], \"scattercarpet\": [{\"marker\": {\"colorbar\": {\"outlinewidth\": 0, \"ticks\": \"\"}}, \"type\": \"scattercarpet\"}], \"scattergeo\": [{\"marker\": {\"colorbar\": {\"outlinewidth\": 0, \"ticks\": \"\"}}, \"type\": \"scattergeo\"}], \"scattergl\": [{\"marker\": {\"colorbar\": {\"outlinewidth\": 0, \"ticks\": \"\"}}, \"type\": \"scattergl\"}], \"scattermapbox\": [{\"marker\": {\"colorbar\": {\"outlinewidth\": 0, \"ticks\": \"\"}}, \"type\": \"scattermapbox\"}], \"scatterpolar\": [{\"marker\": {\"colorbar\": {\"outlinewidth\": 0, \"ticks\": \"\"}}, \"type\": \"scatterpolar\"}], \"scatterpolargl\": [{\"marker\": {\"colorbar\": {\"outlinewidth\": 0, \"ticks\": \"\"}}, \"type\": \"scatterpolargl\"}], \"scatterternary\": [{\"marker\": {\"colorbar\": {\"outlinewidth\": 0, \"ticks\": \"\"}}, \"type\": \"scatterternary\"}], \"surface\": [{\"colorbar\": {\"outlinewidth\": 0, \"ticks\": \"\"}, \"colorscale\": [[0.0, \"#0d0887\"], [0.1111111111111111, \"#46039f\"], [0.2222222222222222, \"#7201a8\"], [0.3333333333333333, \"#9c179e\"], [0.4444444444444444, \"#bd3786\"], [0.5555555555555556, \"#d8576b\"], [0.6666666666666666, \"#ed7953\"], [0.7777777777777778, \"#fb9f3a\"], [0.8888888888888888, \"#fdca26\"], [1.0, \"#f0f921\"]], \"type\": \"surface\"}], \"table\": [{\"cells\": {\"fill\": {\"color\": \"#EBF0F8\"}, \"line\": {\"color\": \"white\"}}, \"header\": {\"fill\": {\"color\": \"#C8D4E3\"}, \"line\": {\"color\": \"white\"}}, \"type\": \"table\"}]}, \"layout\": {\"annotationdefaults\": {\"arrowcolor\": \"#2a3f5f\", \"arrowhead\": 0, \"arrowwidth\": 1}, \"coloraxis\": {\"colorbar\": {\"outlinewidth\": 0, \"ticks\": \"\"}}, \"colorscale\": {\"diverging\": [[0, \"#8e0152\"], [0.1, \"#c51b7d\"], [0.2, \"#de77ae\"], [0.3, \"#f1b6da\"], [0.4, \"#fde0ef\"], [0.5, \"#f7f7f7\"], [0.6, \"#e6f5d0\"], [0.7, \"#b8e186\"], [0.8, \"#7fbc41\"], [0.9, \"#4d9221\"], [1, \"#276419\"]], \"sequential\": [[0.0, \"#0d0887\"], [0.1111111111111111, \"#46039f\"], [0.2222222222222222, \"#7201a8\"], [0.3333333333333333, \"#9c179e\"], [0.4444444444444444, \"#bd3786\"], [0.5555555555555556, \"#d8576b\"], [0.6666666666666666, \"#ed7953\"], [0.7777777777777778, \"#fb9f3a\"], [0.8888888888888888, \"#fdca26\"], [1.0, \"#f0f921\"]], \"sequentialminus\": [[0.0, \"#0d0887\"], [0.1111111111111111, \"#46039f\"], [0.2222222222222222, \"#7201a8\"], [0.3333333333333333, \"#9c179e\"], [0.4444444444444444, \"#bd3786\"], [0.5555555555555556, \"#d8576b\"], [0.6666666666666666, \"#ed7953\"], [0.7777777777777778, \"#fb9f3a\"], [0.8888888888888888, \"#fdca26\"], [1.0, \"#f0f921\"]]}, \"colorway\": [\"#636efa\", \"#EF553B\", \"#00cc96\", \"#ab63fa\", \"#FFA15A\", \"#19d3f3\", \"#FF6692\", \"#B6E880\", \"#FF97FF\", \"#FECB52\"], \"font\": {\"color\": \"#2a3f5f\"}, \"geo\": {\"bgcolor\": \"white\", \"lakecolor\": \"white\", \"landcolor\": \"#E5ECF6\", \"showlakes\": true, \"showland\": true, \"subunitcolor\": \"white\"}, \"hoverlabel\": {\"align\": \"left\"}, \"hovermode\": \"closest\", \"mapbox\": {\"style\": \"light\"}, \"paper_bgcolor\": \"white\", \"plot_bgcolor\": \"#E5ECF6\", \"polar\": {\"angularaxis\": {\"gridcolor\": \"white\", \"linecolor\": \"white\", \"ticks\": \"\"}, \"bgcolor\": \"#E5ECF6\", \"radialaxis\": {\"gridcolor\": \"white\", \"linecolor\": \"white\", \"ticks\": \"\"}}, \"scene\": {\"xaxis\": {\"backgroundcolor\": \"#E5ECF6\", \"gridcolor\": \"white\", \"gridwidth\": 2, \"linecolor\": \"white\", \"showbackground\": true, \"ticks\": \"\", \"zerolinecolor\": \"white\"}, \"yaxis\": {\"backgroundcolor\": \"#E5ECF6\", \"gridcolor\": \"white\", \"gridwidth\": 2, \"linecolor\": \"white\", \"showbackground\": true, \"ticks\": \"\", \"zerolinecolor\": \"white\"}, \"zaxis\": {\"backgroundcolor\": \"#E5ECF6\", \"gridcolor\": \"white\", \"gridwidth\": 2, \"linecolor\": \"white\", \"showbackground\": true, \"ticks\": \"\", \"zerolinecolor\": \"white\"}}, \"shapedefaults\": {\"line\": {\"color\": \"#2a3f5f\"}}, \"ternary\": {\"aaxis\": {\"gridcolor\": \"white\", \"linecolor\": \"white\", \"ticks\": \"\"}, \"baxis\": {\"gridcolor\": \"white\", \"linecolor\": \"white\", \"ticks\": \"\"}, \"bgcolor\": \"#E5ECF6\", \"caxis\": {\"gridcolor\": \"white\", \"linecolor\": \"white\", \"ticks\": \"\"}}, \"title\": {\"x\": 0.05}, \"xaxis\": {\"automargin\": true, \"gridcolor\": \"white\", \"linecolor\": \"white\", \"ticks\": \"\", \"title\": {\"standoff\": 15}, \"zerolinecolor\": \"white\", \"zerolinewidth\": 2}, \"yaxis\": {\"automargin\": true, \"gridcolor\": \"white\", \"linecolor\": \"white\", \"ticks\": \"\", \"title\": {\"standoff\": 15}, \"zerolinecolor\": \"white\", \"zerolinewidth\": 2}}}},                        {\"responsive\": true}                    ).then(function(){\n",
       "                            \n",
       "var gd = document.getElementById('03bc819e-ebd4-4f85-801e-e579e65172f4');\n",
       "var x = new MutationObserver(function (mutations, observer) {{\n",
       "        var display = window.getComputedStyle(gd).display;\n",
       "        if (!display || display === 'none') {{\n",
       "            console.log([gd, 'removed!']);\n",
       "            Plotly.purge(gd);\n",
       "            observer.disconnect();\n",
       "        }}\n",
       "}});\n",
       "\n",
       "// Listen for the removal of the full notebook cells\n",
       "var notebookContainer = gd.closest('#notebook-container');\n",
       "if (notebookContainer) {{\n",
       "    x.observe(notebookContainer, {childList: true});\n",
       "}}\n",
       "\n",
       "// Listen for the clearing of the current output cell\n",
       "var outputEl = gd.closest('.output');\n",
       "if (outputEl) {{\n",
       "    x.observe(outputEl, {childList: true});\n",
       "}}\n",
       "\n",
       "                        })                };                });            </script>        </div>"
      ]
     },
     "metadata": {},
     "output_type": "display_data"
    }
   ],
   "source": [
    "fig = go.Figure()   \n",
    "fig.add_trace(go.Scatter(x=data['date'], y=data['new_recovered'], name='new_recovered')) \n",
    "fig.add_trace(go.Scatter(x=data['date'], y=data['new_confirmed'], name='new_confirmed'))\n",
    "fig.show()"
   ]
  },
  {
   "cell_type": "code",
   "execution_count": 19,
   "metadata": {},
   "outputs": [
    {
     "data": {
      "application/vnd.plotly.v1+json": {
       "config": {
        "plotlyServerURL": "https://plot.ly"
       },
       "data": [
        {
         "name": "total_recovered",
         "type": "scatter",
         "x": [
          "2020-01-01",
          "2020-01-02",
          "2020-01-03",
          "2020-01-04",
          "2020-01-05",
          "2020-01-06",
          "2020-01-07",
          "2020-01-08",
          "2020-01-09",
          "2020-01-10",
          "2020-01-11",
          "2020-01-12",
          "2020-01-13",
          "2020-01-14",
          "2020-01-15",
          "2020-01-16",
          "2020-01-17",
          "2020-01-18",
          "2020-01-19",
          "2020-01-20",
          "2020-01-21",
          "2020-01-22",
          "2020-01-23",
          "2020-01-24",
          "2020-01-25",
          "2020-01-26",
          "2020-01-27",
          "2020-01-28",
          "2020-01-29",
          "2020-01-30",
          "2020-01-31",
          "2020-02-01",
          "2020-02-02",
          "2020-02-03",
          "2020-02-04",
          "2020-02-05",
          "2020-02-06",
          "2020-02-07",
          "2020-02-08",
          "2020-02-09",
          "2020-02-10",
          "2020-02-11",
          "2020-02-12",
          "2020-02-13",
          "2020-02-14",
          "2020-02-15",
          "2020-02-16",
          "2020-02-17",
          "2020-02-18",
          "2020-02-19",
          "2020-02-20",
          "2020-02-21",
          "2020-02-22",
          "2020-02-23",
          "2020-02-24",
          "2020-02-25",
          "2020-02-26",
          "2020-02-27",
          "2020-02-28",
          "2020-02-29",
          "2020-03-01",
          "2020-03-02",
          "2020-03-03",
          "2020-03-04",
          "2020-03-05",
          "2020-03-06",
          "2020-03-07",
          "2020-03-08",
          "2020-03-09",
          "2020-03-10",
          "2020-03-11",
          "2020-03-12",
          "2020-03-13",
          "2020-03-14",
          "2020-03-15",
          "2020-03-16",
          "2020-03-17",
          "2020-03-18",
          "2020-03-19",
          "2020-03-20",
          "2020-03-21",
          "2020-03-22",
          "2020-03-23",
          "2020-03-24",
          "2020-03-25",
          "2020-03-26",
          "2020-03-27",
          "2020-03-28",
          "2020-03-29",
          "2020-03-30",
          "2020-03-31",
          "2020-04-01",
          "2020-04-02",
          "2020-04-03",
          "2020-04-04",
          "2020-04-05",
          "2020-04-06",
          "2020-04-07",
          "2020-04-08",
          "2020-04-09",
          "2020-04-10",
          "2020-04-11",
          "2020-04-12",
          "2020-04-13",
          "2020-04-14",
          "2020-04-15",
          "2020-04-16",
          "2020-04-17",
          "2020-04-18",
          "2020-04-19",
          "2020-04-20",
          "2020-04-21",
          "2020-04-22",
          "2020-04-23",
          "2020-04-24",
          "2020-04-25",
          "2020-04-26",
          "2020-04-27",
          "2020-04-28",
          "2020-04-29",
          "2020-04-30",
          "2020-05-01",
          "2020-05-02",
          "2020-05-03",
          "2020-05-04",
          "2020-05-05",
          "2020-05-06",
          "2020-05-07",
          "2020-05-08",
          "2020-05-09",
          "2020-05-10",
          "2020-05-11",
          "2020-05-12",
          "2020-05-13",
          "2020-05-14",
          "2020-05-15",
          "2020-05-16",
          "2020-05-17",
          "2020-05-18",
          "2020-05-19",
          "2020-05-20",
          "2020-05-21",
          "2020-05-22",
          "2020-05-23",
          "2020-05-24",
          "2020-05-25",
          "2020-05-26",
          "2020-05-27",
          "2020-05-28",
          "2020-05-29",
          "2020-05-30",
          "2020-05-31",
          "2020-06-01",
          "2020-06-02",
          "2020-06-03",
          "2020-06-04",
          "2020-06-05",
          "2020-06-06",
          "2020-06-07",
          "2020-06-08",
          "2020-06-09",
          "2020-06-10",
          "2020-06-11",
          "2020-06-12",
          "2020-06-13",
          "2020-06-14",
          "2020-06-15",
          "2020-06-16",
          "2020-06-17",
          "2020-06-18",
          "2020-06-19",
          "2020-06-20",
          "2020-06-21",
          "2020-06-22",
          "2020-06-23",
          "2020-06-24",
          "2020-06-25",
          "2020-06-26",
          "2020-06-27",
          "2020-06-28",
          "2020-06-29",
          "2020-06-30",
          "2020-07-01",
          "2020-07-02",
          "2020-07-03",
          "2020-07-04",
          "2020-07-05",
          "2020-07-06",
          "2020-07-07",
          "2020-07-08",
          "2020-07-09",
          "2020-07-10",
          "2020-07-11",
          "2020-07-12",
          "2020-07-13",
          "2020-07-14",
          "2020-07-15",
          "2020-07-16",
          "2020-07-17",
          "2020-07-18",
          "2020-07-19",
          "2020-07-20",
          "2020-07-21",
          "2020-07-22",
          "2020-07-23",
          "2020-07-24",
          "2020-07-25",
          "2020-07-26",
          "2020-07-27",
          "2020-07-28",
          "2020-07-29",
          "2020-07-30",
          "2020-07-31",
          "2020-08-01",
          "2020-08-02",
          "2020-08-03",
          "2020-08-04",
          "2020-08-05",
          "2020-08-06",
          "2020-08-07",
          "2020-08-08",
          "2020-08-09",
          "2020-08-10",
          "2020-08-11",
          "2020-08-12",
          "2020-08-13",
          "2020-08-14",
          "2020-08-15",
          "2020-08-16",
          "2020-08-17",
          "2020-08-18",
          "2020-08-19",
          "2020-08-20",
          "2020-08-21",
          "2020-08-22",
          "2020-08-23",
          "2020-08-24",
          "2020-08-25",
          "2020-08-26",
          "2020-08-27",
          "2020-08-28",
          "2020-08-29",
          "2020-08-30",
          "2020-08-31",
          "2020-09-01",
          "2020-09-02",
          "2020-09-03",
          "2020-09-04",
          "2020-09-05",
          "2020-09-06",
          "2020-09-07",
          "2020-09-08",
          "2020-09-09",
          "2020-09-10",
          "2020-09-11",
          "2020-09-12",
          "2020-09-13",
          "2020-09-14",
          "2020-09-15",
          "2020-09-16",
          "2020-09-17",
          "2020-09-18",
          "2020-09-19",
          "2020-09-20",
          "2020-09-21",
          "2020-09-22",
          "2020-09-23",
          "2020-09-24",
          "2020-09-25",
          "2020-09-26",
          "2020-09-27",
          "2020-09-28",
          "2020-09-29",
          "2020-09-30",
          "2020-10-01",
          "2020-10-02",
          "2020-10-03",
          "2020-10-04",
          "2020-10-05",
          "2020-10-06",
          "2020-10-07",
          "2020-10-08",
          "2020-10-09",
          "2020-10-10",
          "2020-10-11",
          "2020-10-12",
          "2020-10-13",
          "2020-10-14",
          "2020-10-15",
          "2020-10-16",
          "2020-10-17",
          "2020-10-18",
          "2020-10-19",
          "2020-10-20",
          "2020-10-21",
          "2020-10-22",
          "2020-10-23"
         ],
         "y": [
          null,
          null,
          null,
          null,
          null,
          null,
          null,
          null,
          null,
          null,
          null,
          null,
          null,
          null,
          null,
          null,
          null,
          null,
          null,
          null,
          null,
          null,
          null,
          null,
          null,
          null,
          null,
          null,
          null,
          null,
          null,
          null,
          null,
          null,
          null,
          null,
          null,
          null,
          null,
          null,
          null,
          null,
          null,
          null,
          null,
          null,
          null,
          null,
          null,
          null,
          null,
          null,
          null,
          null,
          null,
          null,
          null,
          null,
          null,
          null,
          null,
          null,
          null,
          null,
          null,
          null,
          null,
          null,
          null,
          null,
          null,
          null,
          null,
          null,
          null,
          null,
          null,
          0,
          0,
          0,
          0,
          70,
          97,
          133,
          128,
          149,
          172,
          191,
          193,
          248,
          291,
          343,
          422,
          476,
          527,
          573,
          620,
          686,
          736,
          806,
          926,
          986,
          1015,
          1075,
          1118,
          1137,
          1137,
          1159,
          1172,
          1188,
          1196,
          1202,
          1243,
          1251,
          1254,
          1262,
          1265,
          1280,
          1279,
          1287,
          1291,
          1293,
          1300,
          1300,
          1310,
          1311,
          1321,
          1322,
          1327,
          1336,
          1346,
          1360,
          1376,
          1385,
          1385,
          1407,
          1417,
          1417,
          1439,
          1454,
          1465,
          1473,
          1479,
          1484,
          1498,
          1520,
          1533,
          1539,
          1544,
          1549,
          1553,
          1557,
          1560,
          1563,
          1569,
          1584,
          1586,
          1589,
          1593,
          1595,
          1602,
          1616,
          1621,
          1632,
          1641,
          1657,
          1661,
          1664,
          1671,
          1678,
          1680,
          1686,
          1694,
          1694,
          1712,
          1721,
          1732,
          1742,
          1761,
          1775,
          1789,
          1816,
          1839,
          1866,
          1906,
          1938,
          1971,
          1992,
          2028,
          2058,
          2142,
          2183,
          2286,
          2289,
          2329,
          2395,
          2488,
          2591,
          2669,
          2709,
          2819,
          2933,
          3078,
          3184,
          3298,
          3450,
          3529,
          3680,
          3817,
          3937,
          4123,
          4259,
          4479,
          4696,
          4915,
          5111,
          5283,
          5424,
          5628,
          5829,
          6066,
          6378,
          6642,
          6889,
          7271,
          7493,
          7842,
          8121,
          8570,
          9023,
          9413,
          9729,
          12334,
          12940,
          13239,
          13708,
          14077,
          14288,
          14572,
          14837,
          15101,
          15324,
          15580,
          15814,
          15967,
          16152,
          16370,
          16625,
          16784,
          16784,
          17056,
          17056,
          17175,
          17484,
          17661,
          17771,
          17893,
          18006,
          18079,
          18153,
          18217,
          18278,
          18379,
          18473,
          18567,
          18628,
          18713,
          18738,
          18794,
          18842,
          18901,
          18942,
          18978,
          19006,
          19034,
          19068,
          19091,
          19102,
          19126,
          19149,
          19162,
          19174,
          19192,
          19207,
          19218,
          19229,
          19243,
          19248,
          19259,
          19279,
          19287,
          19295,
          19299,
          19313,
          19329,
          null,
          null
         ]
        },
        {
         "name": "total_confirmed",
         "type": "scatter",
         "x": [
          "2020-01-01",
          "2020-01-02",
          "2020-01-03",
          "2020-01-04",
          "2020-01-05",
          "2020-01-06",
          "2020-01-07",
          "2020-01-08",
          "2020-01-09",
          "2020-01-10",
          "2020-01-11",
          "2020-01-12",
          "2020-01-13",
          "2020-01-14",
          "2020-01-15",
          "2020-01-16",
          "2020-01-17",
          "2020-01-18",
          "2020-01-19",
          "2020-01-20",
          "2020-01-21",
          "2020-01-22",
          "2020-01-23",
          "2020-01-24",
          "2020-01-25",
          "2020-01-26",
          "2020-01-27",
          "2020-01-28",
          "2020-01-29",
          "2020-01-30",
          "2020-01-31",
          "2020-02-01",
          "2020-02-02",
          "2020-02-03",
          "2020-02-04",
          "2020-02-05",
          "2020-02-06",
          "2020-02-07",
          "2020-02-08",
          "2020-02-09",
          "2020-02-10",
          "2020-02-11",
          "2020-02-12",
          "2020-02-13",
          "2020-02-14",
          "2020-02-15",
          "2020-02-16",
          "2020-02-17",
          "2020-02-18",
          "2020-02-19",
          "2020-02-20",
          "2020-02-21",
          "2020-02-22",
          "2020-02-23",
          "2020-02-24",
          "2020-02-25",
          "2020-02-26",
          "2020-02-27",
          "2020-02-28",
          "2020-02-29",
          "2020-03-01",
          "2020-03-02",
          "2020-03-03",
          "2020-03-04",
          "2020-03-05",
          "2020-03-06",
          "2020-03-07",
          "2020-03-08",
          "2020-03-09",
          "2020-03-10",
          "2020-03-11",
          "2020-03-12",
          "2020-03-13",
          "2020-03-14",
          "2020-03-15",
          "2020-03-16",
          "2020-03-17",
          "2020-03-18",
          "2020-03-19",
          "2020-03-20",
          "2020-03-21",
          "2020-03-22",
          "2020-03-23",
          "2020-03-24",
          "2020-03-25",
          "2020-03-26",
          "2020-03-27",
          "2020-03-28",
          "2020-03-29",
          "2020-03-30",
          "2020-03-31",
          "2020-04-01",
          "2020-04-02",
          "2020-04-03",
          "2020-04-04",
          "2020-04-05",
          "2020-04-06",
          "2020-04-07",
          "2020-04-08",
          "2020-04-09",
          "2020-04-10",
          "2020-04-11",
          "2020-04-12",
          "2020-04-13",
          "2020-04-14",
          "2020-04-15",
          "2020-04-16",
          "2020-04-17",
          "2020-04-18",
          "2020-04-19",
          "2020-04-20",
          "2020-04-21",
          "2020-04-22",
          "2020-04-23",
          "2020-04-24",
          "2020-04-25",
          "2020-04-26",
          "2020-04-27",
          "2020-04-28",
          "2020-04-29",
          "2020-04-30",
          "2020-05-01",
          "2020-05-02",
          "2020-05-03",
          "2020-05-04",
          "2020-05-05",
          "2020-05-06",
          "2020-05-07",
          "2020-05-08",
          "2020-05-09",
          "2020-05-10",
          "2020-05-11",
          "2020-05-12",
          "2020-05-13",
          "2020-05-14",
          "2020-05-15",
          "2020-05-16",
          "2020-05-17",
          "2020-05-18",
          "2020-05-19",
          "2020-05-20",
          "2020-05-21",
          "2020-05-22",
          "2020-05-23",
          "2020-05-24",
          "2020-05-25",
          "2020-05-26",
          "2020-05-27",
          "2020-05-28",
          "2020-05-29",
          "2020-05-30",
          "2020-05-31",
          "2020-06-01",
          "2020-06-02",
          "2020-06-03",
          "2020-06-04",
          "2020-06-05",
          "2020-06-06",
          "2020-06-07",
          "2020-06-08",
          "2020-06-09",
          "2020-06-10",
          "2020-06-11",
          "2020-06-12",
          "2020-06-13",
          "2020-06-14",
          "2020-06-15",
          "2020-06-16",
          "2020-06-17",
          "2020-06-18",
          "2020-06-19",
          "2020-06-20",
          "2020-06-21",
          "2020-06-22",
          "2020-06-23",
          "2020-06-24",
          "2020-06-25",
          "2020-06-26",
          "2020-06-27",
          "2020-06-28",
          "2020-06-29",
          "2020-06-30",
          "2020-07-01",
          "2020-07-02",
          "2020-07-03",
          "2020-07-04",
          "2020-07-05",
          "2020-07-06",
          "2020-07-07",
          "2020-07-08",
          "2020-07-09",
          "2020-07-10",
          "2020-07-11",
          "2020-07-12",
          "2020-07-13",
          "2020-07-14",
          "2020-07-15",
          "2020-07-16",
          "2020-07-17",
          "2020-07-18",
          "2020-07-19",
          "2020-07-20",
          "2020-07-21",
          "2020-07-22",
          "2020-07-23",
          "2020-07-24",
          "2020-07-25",
          "2020-07-26",
          "2020-07-27",
          "2020-07-28",
          "2020-07-29",
          "2020-07-30",
          "2020-07-31",
          "2020-08-01",
          "2020-08-02",
          "2020-08-03",
          "2020-08-04",
          "2020-08-05",
          "2020-08-06",
          "2020-08-07",
          "2020-08-08",
          "2020-08-09",
          "2020-08-10",
          "2020-08-11",
          "2020-08-12",
          "2020-08-13",
          "2020-08-14",
          "2020-08-15",
          "2020-08-16",
          "2020-08-17",
          "2020-08-18",
          "2020-08-19",
          "2020-08-20",
          "2020-08-21",
          "2020-08-22",
          "2020-08-23",
          "2020-08-24",
          "2020-08-25",
          "2020-08-26",
          "2020-08-27",
          "2020-08-28",
          "2020-08-29",
          "2020-08-30",
          "2020-08-31",
          "2020-09-01",
          "2020-09-02",
          "2020-09-03",
          "2020-09-04",
          "2020-09-05",
          "2020-09-06",
          "2020-09-07",
          "2020-09-08",
          "2020-09-09",
          "2020-09-10",
          "2020-09-11",
          "2020-09-12",
          "2020-09-13",
          "2020-09-14",
          "2020-09-15",
          "2020-09-16",
          "2020-09-17",
          "2020-09-18",
          "2020-09-19",
          "2020-09-20",
          "2020-09-21",
          "2020-09-22",
          "2020-09-23",
          "2020-09-24",
          "2020-09-25",
          "2020-09-26",
          "2020-09-27",
          "2020-09-28",
          "2020-09-29",
          "2020-09-30",
          "2020-10-01",
          "2020-10-02",
          "2020-10-03",
          "2020-10-04",
          "2020-10-05",
          "2020-10-06",
          "2020-10-07",
          "2020-10-08",
          "2020-10-09",
          "2020-10-10",
          "2020-10-11",
          "2020-10-12",
          "2020-10-13",
          "2020-10-14",
          "2020-10-15",
          "2020-10-16",
          "2020-10-17",
          "2020-10-18",
          "2020-10-19",
          "2020-10-20",
          "2020-10-21",
          "2020-10-22",
          "2020-10-23"
         ],
         "y": [
          null,
          null,
          null,
          null,
          null,
          null,
          null,
          null,
          null,
          null,
          null,
          null,
          null,
          null,
          null,
          null,
          null,
          null,
          null,
          null,
          null,
          null,
          null,
          null,
          1,
          null,
          1,
          null,
          2,
          3,
          null,
          4,
          null,
          null,
          4,
          4,
          4,
          null,
          null,
          null,
          null,
          null,
          null,
          null,
          null,
          null,
          null,
          null,
          null,
          null,
          null,
          null,
          4,
          null,
          null,
          4,
          null,
          null,
          null,
          4,
          9,
          9,
          10,
          10,
          10,
          10,
          11,
          12,
          15,
          19,
          22,
          27,
          36,
          49,
          57,
          71,
          94,
          121,
          150,
          178,
          229,
          296,
          355,
          411,
          466,
          520,
          574,
          685,
          769,
          821,
          917,
          968,
          1036,
          1085,
          1115,
          1135,
          1158,
          1191,
          1212,
          1228,
          1241,
          1265,
          1268,
          1281,
          1291,
          1299,
          1301,
          1302,
          1319,
          1328,
          1329,
          1336,
          1336,
          1337,
          1343,
          1346,
          1349,
          1349,
          1351,
          1354,
          1361,
          1364,
          1371,
          1384,
          1406,
          1423,
          1440,
          1455,
          1468,
          1479,
          1489,
          1496,
          1507,
          1512,
          1520,
          1540,
          1551,
          1558,
          1567,
          1573,
          1580,
          1581,
          1593,
          1602,
          1603,
          1605,
          1610,
          1618,
          1628,
          1634,
          1645,
          1649,
          1653,
          1663,
          1670,
          1678,
          1681,
          1681,
          1685,
          1687,
          1687,
          1691,
          1699,
          1703,
          1711,
          1720,
          1732,
          1741,
          1762,
          1780,
          1792,
          1817,
          1836,
          1847,
          1864,
          1884,
          1917,
          1947,
          1987,
          2028,
          2099,
          2159,
          2231,
          2303,
          2368,
          2469,
          2536,
          2660,
          2824,
          2942,
          3098,
          3379,
          3560,
          3799,
          3967,
          4224,
          4448,
          4750,
          5165,
          5353,
          5696,
          5942,
          6289,
          6739,
          7125,
          7405,
          7744,
          8181,
          8696,
          9049,
          9304,
          9998,
          10577,
          10931,
          11557,
          11937,
          12335,
          13035,
          13469,
          13867,
          14283,
          14659,
          14957,
          15251,
          15646,
          15863,
          16234,
          16517,
          16764,
          17027,
          17238,
          17446,
          17683,
          17852,
          18029,
          18231,
          18330,
          18464,
          18608,
          18714,
          18822,
          18903,
          19015,
          19080,
          19138,
          19224,
          19336,
          19415,
          19479,
          19538,
          19574,
          19615,
          19688,
          19728,
          19767,
          19800,
          19835,
          19872,
          19911,
          19943,
          19970,
          20012,
          20034,
          20042,
          20051,
          20076,
          20100,
          20105,
          20118,
          20129,
          20145,
          20149,
          20158,
          20169,
          20183,
          20191,
          20197,
          20209,
          20220,
          20233,
          20237,
          20247,
          20257,
          20269,
          20281,
          20295,
          20305,
          20311,
          20315,
          20317,
          20317,
          20315,
          20319,
          20321,
          20323,
          null,
          null
         ]
        }
       ],
       "layout": {
        "autosize": true,
        "template": {
         "data": {
          "bar": [
           {
            "error_x": {
             "color": "#2a3f5f"
            },
            "error_y": {
             "color": "#2a3f5f"
            },
            "marker": {
             "line": {
              "color": "#E5ECF6",
              "width": 0.5
             }
            },
            "type": "bar"
           }
          ],
          "barpolar": [
           {
            "marker": {
             "line": {
              "color": "#E5ECF6",
              "width": 0.5
             }
            },
            "type": "barpolar"
           }
          ],
          "carpet": [
           {
            "aaxis": {
             "endlinecolor": "#2a3f5f",
             "gridcolor": "white",
             "linecolor": "white",
             "minorgridcolor": "white",
             "startlinecolor": "#2a3f5f"
            },
            "baxis": {
             "endlinecolor": "#2a3f5f",
             "gridcolor": "white",
             "linecolor": "white",
             "minorgridcolor": "white",
             "startlinecolor": "#2a3f5f"
            },
            "type": "carpet"
           }
          ],
          "choropleth": [
           {
            "colorbar": {
             "outlinewidth": 0,
             "ticks": ""
            },
            "type": "choropleth"
           }
          ],
          "contour": [
           {
            "colorbar": {
             "outlinewidth": 0,
             "ticks": ""
            },
            "colorscale": [
             [
              0,
              "#0d0887"
             ],
             [
              0.1111111111111111,
              "#46039f"
             ],
             [
              0.2222222222222222,
              "#7201a8"
             ],
             [
              0.3333333333333333,
              "#9c179e"
             ],
             [
              0.4444444444444444,
              "#bd3786"
             ],
             [
              0.5555555555555556,
              "#d8576b"
             ],
             [
              0.6666666666666666,
              "#ed7953"
             ],
             [
              0.7777777777777778,
              "#fb9f3a"
             ],
             [
              0.8888888888888888,
              "#fdca26"
             ],
             [
              1,
              "#f0f921"
             ]
            ],
            "type": "contour"
           }
          ],
          "contourcarpet": [
           {
            "colorbar": {
             "outlinewidth": 0,
             "ticks": ""
            },
            "type": "contourcarpet"
           }
          ],
          "heatmap": [
           {
            "colorbar": {
             "outlinewidth": 0,
             "ticks": ""
            },
            "colorscale": [
             [
              0,
              "#0d0887"
             ],
             [
              0.1111111111111111,
              "#46039f"
             ],
             [
              0.2222222222222222,
              "#7201a8"
             ],
             [
              0.3333333333333333,
              "#9c179e"
             ],
             [
              0.4444444444444444,
              "#bd3786"
             ],
             [
              0.5555555555555556,
              "#d8576b"
             ],
             [
              0.6666666666666666,
              "#ed7953"
             ],
             [
              0.7777777777777778,
              "#fb9f3a"
             ],
             [
              0.8888888888888888,
              "#fdca26"
             ],
             [
              1,
              "#f0f921"
             ]
            ],
            "type": "heatmap"
           }
          ],
          "heatmapgl": [
           {
            "colorbar": {
             "outlinewidth": 0,
             "ticks": ""
            },
            "colorscale": [
             [
              0,
              "#0d0887"
             ],
             [
              0.1111111111111111,
              "#46039f"
             ],
             [
              0.2222222222222222,
              "#7201a8"
             ],
             [
              0.3333333333333333,
              "#9c179e"
             ],
             [
              0.4444444444444444,
              "#bd3786"
             ],
             [
              0.5555555555555556,
              "#d8576b"
             ],
             [
              0.6666666666666666,
              "#ed7953"
             ],
             [
              0.7777777777777778,
              "#fb9f3a"
             ],
             [
              0.8888888888888888,
              "#fdca26"
             ],
             [
              1,
              "#f0f921"
             ]
            ],
            "type": "heatmapgl"
           }
          ],
          "histogram": [
           {
            "marker": {
             "colorbar": {
              "outlinewidth": 0,
              "ticks": ""
             }
            },
            "type": "histogram"
           }
          ],
          "histogram2d": [
           {
            "colorbar": {
             "outlinewidth": 0,
             "ticks": ""
            },
            "colorscale": [
             [
              0,
              "#0d0887"
             ],
             [
              0.1111111111111111,
              "#46039f"
             ],
             [
              0.2222222222222222,
              "#7201a8"
             ],
             [
              0.3333333333333333,
              "#9c179e"
             ],
             [
              0.4444444444444444,
              "#bd3786"
             ],
             [
              0.5555555555555556,
              "#d8576b"
             ],
             [
              0.6666666666666666,
              "#ed7953"
             ],
             [
              0.7777777777777778,
              "#fb9f3a"
             ],
             [
              0.8888888888888888,
              "#fdca26"
             ],
             [
              1,
              "#f0f921"
             ]
            ],
            "type": "histogram2d"
           }
          ],
          "histogram2dcontour": [
           {
            "colorbar": {
             "outlinewidth": 0,
             "ticks": ""
            },
            "colorscale": [
             [
              0,
              "#0d0887"
             ],
             [
              0.1111111111111111,
              "#46039f"
             ],
             [
              0.2222222222222222,
              "#7201a8"
             ],
             [
              0.3333333333333333,
              "#9c179e"
             ],
             [
              0.4444444444444444,
              "#bd3786"
             ],
             [
              0.5555555555555556,
              "#d8576b"
             ],
             [
              0.6666666666666666,
              "#ed7953"
             ],
             [
              0.7777777777777778,
              "#fb9f3a"
             ],
             [
              0.8888888888888888,
              "#fdca26"
             ],
             [
              1,
              "#f0f921"
             ]
            ],
            "type": "histogram2dcontour"
           }
          ],
          "mesh3d": [
           {
            "colorbar": {
             "outlinewidth": 0,
             "ticks": ""
            },
            "type": "mesh3d"
           }
          ],
          "parcoords": [
           {
            "line": {
             "colorbar": {
              "outlinewidth": 0,
              "ticks": ""
             }
            },
            "type": "parcoords"
           }
          ],
          "pie": [
           {
            "automargin": true,
            "type": "pie"
           }
          ],
          "scatter": [
           {
            "marker": {
             "colorbar": {
              "outlinewidth": 0,
              "ticks": ""
             }
            },
            "type": "scatter"
           }
          ],
          "scatter3d": [
           {
            "line": {
             "colorbar": {
              "outlinewidth": 0,
              "ticks": ""
             }
            },
            "marker": {
             "colorbar": {
              "outlinewidth": 0,
              "ticks": ""
             }
            },
            "type": "scatter3d"
           }
          ],
          "scattercarpet": [
           {
            "marker": {
             "colorbar": {
              "outlinewidth": 0,
              "ticks": ""
             }
            },
            "type": "scattercarpet"
           }
          ],
          "scattergeo": [
           {
            "marker": {
             "colorbar": {
              "outlinewidth": 0,
              "ticks": ""
             }
            },
            "type": "scattergeo"
           }
          ],
          "scattergl": [
           {
            "marker": {
             "colorbar": {
              "outlinewidth": 0,
              "ticks": ""
             }
            },
            "type": "scattergl"
           }
          ],
          "scattermapbox": [
           {
            "marker": {
             "colorbar": {
              "outlinewidth": 0,
              "ticks": ""
             }
            },
            "type": "scattermapbox"
           }
          ],
          "scatterpolar": [
           {
            "marker": {
             "colorbar": {
              "outlinewidth": 0,
              "ticks": ""
             }
            },
            "type": "scatterpolar"
           }
          ],
          "scatterpolargl": [
           {
            "marker": {
             "colorbar": {
              "outlinewidth": 0,
              "ticks": ""
             }
            },
            "type": "scatterpolargl"
           }
          ],
          "scatterternary": [
           {
            "marker": {
             "colorbar": {
              "outlinewidth": 0,
              "ticks": ""
             }
            },
            "type": "scatterternary"
           }
          ],
          "surface": [
           {
            "colorbar": {
             "outlinewidth": 0,
             "ticks": ""
            },
            "colorscale": [
             [
              0,
              "#0d0887"
             ],
             [
              0.1111111111111111,
              "#46039f"
             ],
             [
              0.2222222222222222,
              "#7201a8"
             ],
             [
              0.3333333333333333,
              "#9c179e"
             ],
             [
              0.4444444444444444,
              "#bd3786"
             ],
             [
              0.5555555555555556,
              "#d8576b"
             ],
             [
              0.6666666666666666,
              "#ed7953"
             ],
             [
              0.7777777777777778,
              "#fb9f3a"
             ],
             [
              0.8888888888888888,
              "#fdca26"
             ],
             [
              1,
              "#f0f921"
             ]
            ],
            "type": "surface"
           }
          ],
          "table": [
           {
            "cells": {
             "fill": {
              "color": "#EBF0F8"
             },
             "line": {
              "color": "white"
             }
            },
            "header": {
             "fill": {
              "color": "#C8D4E3"
             },
             "line": {
              "color": "white"
             }
            },
            "type": "table"
           }
          ]
         },
         "layout": {
          "annotationdefaults": {
           "arrowcolor": "#2a3f5f",
           "arrowhead": 0,
           "arrowwidth": 1
          },
          "coloraxis": {
           "colorbar": {
            "outlinewidth": 0,
            "ticks": ""
           }
          },
          "colorscale": {
           "diverging": [
            [
             0,
             "#8e0152"
            ],
            [
             0.1,
             "#c51b7d"
            ],
            [
             0.2,
             "#de77ae"
            ],
            [
             0.3,
             "#f1b6da"
            ],
            [
             0.4,
             "#fde0ef"
            ],
            [
             0.5,
             "#f7f7f7"
            ],
            [
             0.6,
             "#e6f5d0"
            ],
            [
             0.7,
             "#b8e186"
            ],
            [
             0.8,
             "#7fbc41"
            ],
            [
             0.9,
             "#4d9221"
            ],
            [
             1,
             "#276419"
            ]
           ],
           "sequential": [
            [
             0,
             "#0d0887"
            ],
            [
             0.1111111111111111,
             "#46039f"
            ],
            [
             0.2222222222222222,
             "#7201a8"
            ],
            [
             0.3333333333333333,
             "#9c179e"
            ],
            [
             0.4444444444444444,
             "#bd3786"
            ],
            [
             0.5555555555555556,
             "#d8576b"
            ],
            [
             0.6666666666666666,
             "#ed7953"
            ],
            [
             0.7777777777777778,
             "#fb9f3a"
            ],
            [
             0.8888888888888888,
             "#fdca26"
            ],
            [
             1,
             "#f0f921"
            ]
           ],
           "sequentialminus": [
            [
             0,
             "#0d0887"
            ],
            [
             0.1111111111111111,
             "#46039f"
            ],
            [
             0.2222222222222222,
             "#7201a8"
            ],
            [
             0.3333333333333333,
             "#9c179e"
            ],
            [
             0.4444444444444444,
             "#bd3786"
            ],
            [
             0.5555555555555556,
             "#d8576b"
            ],
            [
             0.6666666666666666,
             "#ed7953"
            ],
            [
             0.7777777777777778,
             "#fb9f3a"
            ],
            [
             0.8888888888888888,
             "#fdca26"
            ],
            [
             1,
             "#f0f921"
            ]
           ]
          },
          "colorway": [
           "#636efa",
           "#EF553B",
           "#00cc96",
           "#ab63fa",
           "#FFA15A",
           "#19d3f3",
           "#FF6692",
           "#B6E880",
           "#FF97FF",
           "#FECB52"
          ],
          "font": {
           "color": "#2a3f5f"
          },
          "geo": {
           "bgcolor": "white",
           "lakecolor": "white",
           "landcolor": "#E5ECF6",
           "showlakes": true,
           "showland": true,
           "subunitcolor": "white"
          },
          "hoverlabel": {
           "align": "left"
          },
          "hovermode": "closest",
          "mapbox": {
           "style": "light"
          },
          "paper_bgcolor": "white",
          "plot_bgcolor": "#E5ECF6",
          "polar": {
           "angularaxis": {
            "gridcolor": "white",
            "linecolor": "white",
            "ticks": ""
           },
           "bgcolor": "#E5ECF6",
           "radialaxis": {
            "gridcolor": "white",
            "linecolor": "white",
            "ticks": ""
           }
          },
          "scene": {
           "xaxis": {
            "backgroundcolor": "#E5ECF6",
            "gridcolor": "white",
            "gridwidth": 2,
            "linecolor": "white",
            "showbackground": true,
            "ticks": "",
            "zerolinecolor": "white"
           },
           "yaxis": {
            "backgroundcolor": "#E5ECF6",
            "gridcolor": "white",
            "gridwidth": 2,
            "linecolor": "white",
            "showbackground": true,
            "ticks": "",
            "zerolinecolor": "white"
           },
           "zaxis": {
            "backgroundcolor": "#E5ECF6",
            "gridcolor": "white",
            "gridwidth": 2,
            "linecolor": "white",
            "showbackground": true,
            "ticks": "",
            "zerolinecolor": "white"
           }
          },
          "shapedefaults": {
           "line": {
            "color": "#2a3f5f"
           }
          },
          "ternary": {
           "aaxis": {
            "gridcolor": "white",
            "linecolor": "white",
            "ticks": ""
           },
           "baxis": {
            "gridcolor": "white",
            "linecolor": "white",
            "ticks": ""
           },
           "bgcolor": "#E5ECF6",
           "caxis": {
            "gridcolor": "white",
            "linecolor": "white",
            "ticks": ""
           }
          },
          "title": {
           "x": 0.05
          },
          "xaxis": {
           "automargin": true,
           "gridcolor": "white",
           "linecolor": "white",
           "ticks": "",
           "title": {
            "standoff": 15
           },
           "zerolinecolor": "white",
           "zerolinewidth": 2
          },
          "yaxis": {
           "automargin": true,
           "gridcolor": "white",
           "linecolor": "white",
           "ticks": "",
           "title": {
            "standoff": 15
           },
           "zerolinecolor": "white",
           "zerolinewidth": 2
          }
         }
        },
        "xaxis": {
         "autorange": true,
         "range": [
          "2020-01-01",
          "2020-10-23"
         ],
         "type": "date"
        },
        "yaxis": {
         "autorange": true,
         "range": [
          -1129.0555555555557,
          21452.055555555555
         ],
         "type": "linear"
        }
       }
      },
      "image/png": "[encoded data removed]",
      "text/html": [
       "<div>                            <div id=\"08fb5163-0c13-4f55-bcb7-36a34a8fde7f\" class=\"plotly-graph-div\" style=\"height:525px; width:100%;\"></div>            <script type=\"text/javascript\">                require([\"plotly\"], function(Plotly) {                    window.PLOTLYENV=window.PLOTLYENV || {};                                    if (document.getElementById(\"08fb5163-0c13-4f55-bcb7-36a34a8fde7f\")) {                    Plotly.newPlot(                        \"08fb5163-0c13-4f55-bcb7-36a34a8fde7f\",                        [{\"name\": \"total_recovered\", \"type\": \"scatter\", \"x\": [\"2020-01-01\", \"2020-01-02\", \"2020-01-03\", \"2020-01-04\", \"2020-01-05\", \"2020-01-06\", \"2020-01-07\", \"2020-01-08\", \"2020-01-09\", \"2020-01-10\", \"2020-01-11\", \"2020-01-12\", \"2020-01-13\", \"2020-01-14\", \"2020-01-15\", \"2020-01-16\", \"2020-01-17\", \"2020-01-18\", \"2020-01-19\", \"2020-01-20\", \"2020-01-21\", \"2020-01-22\", \"2020-01-23\", \"2020-01-24\", \"2020-01-25\", \"2020-01-26\", \"2020-01-27\", \"2020-01-28\", \"2020-01-29\", \"2020-01-30\", \"2020-01-31\", \"2020-02-01\", \"2020-02-02\", \"2020-02-03\", \"2020-02-04\", \"2020-02-05\", \"2020-02-06\", \"2020-02-07\", \"2020-02-08\", \"2020-02-09\", \"2020-02-10\", \"2020-02-11\", \"2020-02-12\", \"2020-02-13\", \"2020-02-14\", \"2020-02-15\", \"2020-02-16\", \"2020-02-17\", \"2020-02-18\", \"2020-02-19\", \"2020-02-20\", \"2020-02-21\", \"2020-02-22\", \"2020-02-23\", \"2020-02-24\", \"2020-02-25\", \"2020-02-26\", \"2020-02-27\", \"2020-02-28\", \"2020-02-29\", \"2020-03-01\", \"2020-03-02\", \"2020-03-03\", \"2020-03-04\", \"2020-03-05\", \"2020-03-06\", \"2020-03-07\", \"2020-03-08\", \"2020-03-09\", \"2020-03-10\", \"2020-03-11\", \"2020-03-12\", \"2020-03-13\", \"2020-03-14\", \"2020-03-15\", \"2020-03-16\", \"2020-03-17\", \"2020-03-18\", \"2020-03-19\", \"2020-03-20\", \"2020-03-21\", \"2020-03-22\", \"2020-03-23\", \"2020-03-24\", \"2020-03-25\", \"2020-03-26\", \"2020-03-27\", \"2020-03-28\", \"2020-03-29\", \"2020-03-30\", \"2020-03-31\", \"2020-04-01\", \"2020-04-02\", \"2020-04-03\", \"2020-04-04\", \"2020-04-05\", \"2020-04-06\", \"2020-04-07\", \"2020-04-08\", \"2020-04-09\", \"2020-04-10\", \"2020-04-11\", \"2020-04-12\", \"2020-04-13\", \"2020-04-14\", \"2020-04-15\", \"2020-04-16\", \"2020-04-17\", \"2020-04-18\", \"2020-04-19\", \"2020-04-20\", \"2020-04-21\", \"2020-04-22\", \"2020-04-23\", \"2020-04-24\", \"2020-04-25\", \"2020-04-26\", \"2020-04-27\", \"2020-04-28\", \"2020-04-29\", \"2020-04-30\", \"2020-05-01\", \"2020-05-02\", \"2020-05-03\", \"2020-05-04\", \"2020-05-05\", \"2020-05-06\", \"2020-05-07\", \"2020-05-08\", \"2020-05-09\", \"2020-05-10\", \"2020-05-11\", \"2020-05-12\", \"2020-05-13\", \"2020-05-14\", \"2020-05-15\", \"2020-05-16\", \"2020-05-17\", \"2020-05-18\", \"2020-05-19\", \"2020-05-20\", \"2020-05-21\", \"2020-05-22\", \"2020-05-23\", \"2020-05-24\", \"2020-05-25\", \"2020-05-26\", \"2020-05-27\", \"2020-05-28\", \"2020-05-29\", \"2020-05-30\", \"2020-05-31\", \"2020-06-01\", \"2020-06-02\", \"2020-06-03\", \"2020-06-04\", \"2020-06-05\", \"2020-06-06\", \"2020-06-07\", \"2020-06-08\", \"2020-06-09\", \"2020-06-10\", \"2020-06-11\", \"2020-06-12\", \"2020-06-13\", \"2020-06-14\", \"2020-06-15\", \"2020-06-16\", \"2020-06-17\", \"2020-06-18\", \"2020-06-19\", \"2020-06-20\", \"2020-06-21\", \"2020-06-22\", \"2020-06-23\", \"2020-06-24\", \"2020-06-25\", \"2020-06-26\", \"2020-06-27\", \"2020-06-28\", \"2020-06-29\", \"2020-06-30\", \"2020-07-01\", \"2020-07-02\", \"2020-07-03\", \"2020-07-04\", \"2020-07-05\", \"2020-07-06\", \"2020-07-07\", \"2020-07-08\", \"2020-07-09\", \"2020-07-10\", \"2020-07-11\", \"2020-07-12\", \"2020-07-13\", \"2020-07-14\", \"2020-07-15\", \"2020-07-16\", \"2020-07-17\", \"2020-07-18\", \"2020-07-19\", \"2020-07-20\", \"2020-07-21\", \"2020-07-22\", \"2020-07-23\", \"2020-07-24\", \"2020-07-25\", \"2020-07-26\", \"2020-07-27\", \"2020-07-28\", \"2020-07-29\", \"2020-07-30\", \"2020-07-31\", \"2020-08-01\", \"2020-08-02\", \"2020-08-03\", \"2020-08-04\", \"2020-08-05\", \"2020-08-06\", \"2020-08-07\", \"2020-08-08\", \"2020-08-09\", \"2020-08-10\", \"2020-08-11\", \"2020-08-12\", \"2020-08-13\", \"2020-08-14\", \"2020-08-15\", \"2020-08-16\", \"2020-08-17\", \"2020-08-18\", \"2020-08-19\", \"2020-08-20\", \"2020-08-21\", \"2020-08-22\", \"2020-08-23\", \"2020-08-24\", \"2020-08-25\", \"2020-08-26\", \"2020-08-27\", \"2020-08-28\", \"2020-08-29\", \"2020-08-30\", \"2020-08-31\", \"2020-09-01\", \"2020-09-02\", \"2020-09-03\", \"2020-09-04\", \"2020-09-05\", \"2020-09-06\", \"2020-09-07\", \"2020-09-08\", \"2020-09-09\", \"2020-09-10\", \"2020-09-11\", \"2020-09-12\", \"2020-09-13\", \"2020-09-14\", \"2020-09-15\", \"2020-09-16\", \"2020-09-17\", \"2020-09-18\", \"2020-09-19\", \"2020-09-20\", \"2020-09-21\", \"2020-09-22\", \"2020-09-23\", \"2020-09-24\", \"2020-09-25\", \"2020-09-26\", \"2020-09-27\", \"2020-09-28\", \"2020-09-29\", \"2020-09-30\", \"2020-10-01\", \"2020-10-02\", \"2020-10-03\", \"2020-10-04\", \"2020-10-05\", \"2020-10-06\", \"2020-10-07\", \"2020-10-08\", \"2020-10-09\", \"2020-10-10\", \"2020-10-11\", \"2020-10-12\", \"2020-10-13\", \"2020-10-14\", \"2020-10-15\", \"2020-10-16\", \"2020-10-17\", \"2020-10-18\", \"2020-10-19\", \"2020-10-20\", \"2020-10-21\", \"2020-10-22\", \"2020-10-23\"], \"y\": [null, null, null, null, null, null, null, null, null, null, null, null, null, null, null, null, null, null, null, null, null, null, null, null, null, null, null, null, null, null, null, null, null, null, null, null, null, null, null, null, null, null, null, null, null, null, null, null, null, null, null, null, null, null, null, null, null, null, null, null, null, null, null, null, null, null, null, null, null, null, null, null, null, null, null, null, null, 0.0, 0.0, 0.0, 0.0, 70.0, 97.0, 133.0, 128.0, 149.0, 172.0, 191.0, 193.0, 248.0, 291.0, 343.0, 422.0, 476.0, 527.0, 573.0, 620.0, 686.0, 736.0, 806.0, 926.0, 986.0, 1015.0, 1075.0, 1118.0, 1137.0, 1137.0, 1159.0, 1172.0, 1188.0, 1196.0, 1202.0, 1243.0, 1251.0, 1254.0, 1262.0, 1265.0, 1280.0, 1279.0, 1287.0, 1291.0, 1293.0, 1300.0, 1300.0, 1310.0, 1311.0, 1321.0, 1322.0, 1327.0, 1336.0, 1346.0, 1360.0, 1376.0, 1385.0, 1385.0, 1407.0, 1417.0, 1417.0, 1439.0, 1454.0, 1465.0, 1473.0, 1479.0, 1484.0, 1498.0, 1520.0, 1533.0, 1539.0, 1544.0, 1549.0, 1553.0, 1557.0, 1560.0, 1563.0, 1569.0, 1584.0, 1586.0, 1589.0, 1593.0, 1595.0, 1602.0, 1616.0, 1621.0, 1632.0, 1641.0, 1657.0, 1661.0, 1664.0, 1671.0, 1678.0, 1680.0, 1686.0, 1694.0, 1694.0, 1712.0, 1721.0, 1732.0, 1742.0, 1761.0, 1775.0, 1789.0, 1816.0, 1839.0, 1866.0, 1906.0, 1938.0, 1971.0, 1992.0, 2028.0, 2058.0, 2142.0, 2183.0, 2286.0, 2289.0, 2329.0, 2395.0, 2488.0, 2591.0, 2669.0, 2709.0, 2819.0, 2933.0, 3078.0, 3184.0, 3298.0, 3450.0, 3529.0, 3680.0, 3817.0, 3937.0, 4123.0, 4259.0, 4479.0, 4696.0, 4915.0, 5111.0, 5283.0, 5424.0, 5628.0, 5829.0, 6066.0, 6378.0, 6642.0, 6889.0, 7271.0, 7493.0, 7842.0, 8121.0, 8570.0, 9023.0, 9413.0, 9729.0, 12334.0, 12940.0, 13239.0, 13708.0, 14077.0, 14288.0, 14572.0, 14837.0, 15101.0, 15324.0, 15580.0, 15814.0, 15967.0, 16152.0, 16370.0, 16625.0, 16784.0, 16784.0, 17056.0, 17056.0, 17175.0, 17484.0, 17661.0, 17771.0, 17893.0, 18006.0, 18079.0, 18153.0, 18217.0, 18278.0, 18379.0, 18473.0, 18567.0, 18628.0, 18713.0, 18738.0, 18794.0, 18842.0, 18901.0, 18942.0, 18978.0, 19006.0, 19034.0, 19068.0, 19091.0, 19102.0, 19126.0, 19149.0, 19162.0, 19174.0, 19192.0, 19207.0, 19218.0, 19229.0, 19243.0, 19248.0, 19259.0, 19279.0, 19287.0, 19295.0, 19299.0, 19313.0, 19329.0, null, null]}, {\"name\": \"total_confirmed\", \"type\": \"scatter\", \"x\": [\"2020-01-01\", \"2020-01-02\", \"2020-01-03\", \"2020-01-04\", \"2020-01-05\", \"2020-01-06\", \"2020-01-07\", \"2020-01-08\", \"2020-01-09\", \"2020-01-10\", \"2020-01-11\", \"2020-01-12\", \"2020-01-13\", \"2020-01-14\", \"2020-01-15\", \"2020-01-16\", \"2020-01-17\", \"2020-01-18\", \"2020-01-19\", \"2020-01-20\", \"2020-01-21\", \"2020-01-22\", \"2020-01-23\", \"2020-01-24\", \"2020-01-25\", \"2020-01-26\", \"2020-01-27\", \"2020-01-28\", \"2020-01-29\", \"2020-01-30\", \"2020-01-31\", \"2020-02-01\", \"2020-02-02\", \"2020-02-03\", \"2020-02-04\", \"2020-02-05\", \"2020-02-06\", \"2020-02-07\", \"2020-02-08\", \"2020-02-09\", \"2020-02-10\", \"2020-02-11\", \"2020-02-12\", \"2020-02-13\", \"2020-02-14\", \"2020-02-15\", \"2020-02-16\", \"2020-02-17\", \"2020-02-18\", \"2020-02-19\", \"2020-02-20\", \"2020-02-21\", \"2020-02-22\", \"2020-02-23\", \"2020-02-24\", \"2020-02-25\", \"2020-02-26\", \"2020-02-27\", \"2020-02-28\", \"2020-02-29\", \"2020-03-01\", \"2020-03-02\", \"2020-03-03\", \"2020-03-04\", \"2020-03-05\", \"2020-03-06\", \"2020-03-07\", \"2020-03-08\", \"2020-03-09\", \"2020-03-10\", \"2020-03-11\", \"2020-03-12\", \"2020-03-13\", \"2020-03-14\", \"2020-03-15\", \"2020-03-16\", \"2020-03-17\", \"2020-03-18\", \"2020-03-19\", \"2020-03-20\", \"2020-03-21\", \"2020-03-22\", \"2020-03-23\", \"2020-03-24\", \"2020-03-25\", \"2020-03-26\", \"2020-03-27\", \"2020-03-28\", \"2020-03-29\", \"2020-03-30\", \"2020-03-31\", \"2020-04-01\", \"2020-04-02\", \"2020-04-03\", \"2020-04-04\", \"2020-04-05\", \"2020-04-06\", \"2020-04-07\", \"2020-04-08\", \"2020-04-09\", \"2020-04-10\", \"2020-04-11\", \"2020-04-12\", \"2020-04-13\", \"2020-04-14\", \"2020-04-15\", \"2020-04-16\", \"2020-04-17\", \"2020-04-18\", \"2020-04-19\", \"2020-04-20\", \"2020-04-21\", \"2020-04-22\", \"2020-04-23\", \"2020-04-24\", \"2020-04-25\", \"2020-04-26\", \"2020-04-27\", \"2020-04-28\", \"2020-04-29\", \"2020-04-30\", \"2020-05-01\", \"2020-05-02\", \"2020-05-03\", \"2020-05-04\", \"2020-05-05\", \"2020-05-06\", \"2020-05-07\", \"2020-05-08\", \"2020-05-09\", \"2020-05-10\", \"2020-05-11\", \"2020-05-12\", \"2020-05-13\", \"2020-05-14\", \"2020-05-15\", \"2020-05-16\", \"2020-05-17\", \"2020-05-18\", \"2020-05-19\", \"2020-05-20\", \"2020-05-21\", \"2020-05-22\", \"2020-05-23\", \"2020-05-24\", \"2020-05-25\", \"2020-05-26\", \"2020-05-27\", \"2020-05-28\", \"2020-05-29\", \"2020-05-30\", \"2020-05-31\", \"2020-06-01\", \"2020-06-02\", \"2020-06-03\", \"2020-06-04\", \"2020-06-05\", \"2020-06-06\", \"2020-06-07\", \"2020-06-08\", \"2020-06-09\", \"2020-06-10\", \"2020-06-11\", \"2020-06-12\", \"2020-06-13\", \"2020-06-14\", \"2020-06-15\", \"2020-06-16\", \"2020-06-17\", \"2020-06-18\", \"2020-06-19\", \"2020-06-20\", \"2020-06-21\", \"2020-06-22\", \"2020-06-23\", \"2020-06-24\", \"2020-06-25\", \"2020-06-26\", \"2020-06-27\", \"2020-06-28\", \"2020-06-29\", \"2020-06-30\", \"2020-07-01\", \"2020-07-02\", \"2020-07-03\", \"2020-07-04\", \"2020-07-05\", \"2020-07-06\", \"2020-07-07\", \"2020-07-08\", \"2020-07-09\", \"2020-07-10\", \"2020-07-11\", \"2020-07-12\", \"2020-07-13\", \"2020-07-14\", \"2020-07-15\", \"2020-07-16\", \"2020-07-17\", \"2020-07-18\", \"2020-07-19\", \"2020-07-20\", \"2020-07-21\", \"2020-07-22\", \"2020-07-23\", \"2020-07-24\", \"2020-07-25\", \"2020-07-26\", \"2020-07-27\", \"2020-07-28\", \"2020-07-29\", \"2020-07-30\", \"2020-07-31\", \"2020-08-01\", \"2020-08-02\", \"2020-08-03\", \"2020-08-04\", \"2020-08-05\", \"2020-08-06\", \"2020-08-07\", \"2020-08-08\", \"2020-08-09\", \"2020-08-10\", \"2020-08-11\", \"2020-08-12\", \"2020-08-13\", \"2020-08-14\", \"2020-08-15\", \"2020-08-16\", \"2020-08-17\", \"2020-08-18\", \"2020-08-19\", \"2020-08-20\", \"2020-08-21\", \"2020-08-22\", \"2020-08-23\", \"2020-08-24\", \"2020-08-25\", \"2020-08-26\", \"2020-08-27\", \"2020-08-28\", \"2020-08-29\", \"2020-08-30\", \"2020-08-31\", \"2020-09-01\", \"2020-09-02\", \"2020-09-03\", \"2020-09-04\", \"2020-09-05\", \"2020-09-06\", \"2020-09-07\", \"2020-09-08\", \"2020-09-09\", \"2020-09-10\", \"2020-09-11\", \"2020-09-12\", \"2020-09-13\", \"2020-09-14\", \"2020-09-15\", \"2020-09-16\", \"2020-09-17\", \"2020-09-18\", \"2020-09-19\", \"2020-09-20\", \"2020-09-21\", \"2020-09-22\", \"2020-09-23\", \"2020-09-24\", \"2020-09-25\", \"2020-09-26\", \"2020-09-27\", \"2020-09-28\", \"2020-09-29\", \"2020-09-30\", \"2020-10-01\", \"2020-10-02\", \"2020-10-03\", \"2020-10-04\", \"2020-10-05\", \"2020-10-06\", \"2020-10-07\", \"2020-10-08\", \"2020-10-09\", \"2020-10-10\", \"2020-10-11\", \"2020-10-12\", \"2020-10-13\", \"2020-10-14\", \"2020-10-15\", \"2020-10-16\", \"2020-10-17\", \"2020-10-18\", \"2020-10-19\", \"2020-10-20\", \"2020-10-21\", \"2020-10-22\", \"2020-10-23\"], \"y\": [null, null, null, null, null, null, null, null, null, null, null, null, null, null, null, null, null, null, null, null, null, null, null, null, 1.0, null, 1.0, null, 2.0, 3.0, null, 4.0, null, null, 4.0, 4.0, 4.0, null, null, null, null, null, null, null, null, null, null, null, null, null, null, null, 4.0, null, null, 4.0, null, null, null, 4.0, 9.0, 9.0, 10.0, 10.0, 10.0, 10.0, 11.0, 12.0, 15.0, 19.0, 22.0, 27.0, 36.0, 49.0, 57.0, 71.0, 94.0, 121.0, 150.0, 178.0, 229.0, 296.0, 355.0, 411.0, 466.0, 520.0, 574.0, 685.0, 769.0, 821.0, 917.0, 968.0, 1036.0, 1085.0, 1115.0, 1135.0, 1158.0, 1191.0, 1212.0, 1228.0, 1241.0, 1265.0, 1268.0, 1281.0, 1291.0, 1299.0, 1301.0, 1302.0, 1319.0, 1328.0, 1329.0, 1336.0, 1336.0, 1337.0, 1343.0, 1346.0, 1349.0, 1349.0, 1351.0, 1354.0, 1361.0, 1364.0, 1371.0, 1384.0, 1406.0, 1423.0, 1440.0, 1455.0, 1468.0, 1479.0, 1489.0, 1496.0, 1507.0, 1512.0, 1520.0, 1540.0, 1551.0, 1558.0, 1567.0, 1573.0, 1580.0, 1581.0, 1593.0, 1602.0, 1603.0, 1605.0, 1610.0, 1618.0, 1628.0, 1634.0, 1645.0, 1649.0, 1653.0, 1663.0, 1670.0, 1678.0, 1681.0, 1681.0, 1685.0, 1687.0, 1687.0, 1691.0, 1699.0, 1703.0, 1711.0, 1720.0, 1732.0, 1741.0, 1762.0, 1780.0, 1792.0, 1817.0, 1836.0, 1847.0, 1864.0, 1884.0, 1917.0, 1947.0, 1987.0, 2028.0, 2099.0, 2159.0, 2231.0, 2303.0, 2368.0, 2469.0, 2536.0, 2660.0, 2824.0, 2942.0, 3098.0, 3379.0, 3560.0, 3799.0, 3967.0, 4224.0, 4448.0, 4750.0, 5165.0, 5353.0, 5696.0, 5942.0, 6289.0, 6739.0, 7125.0, 7405.0, 7744.0, 8181.0, 8696.0, 9049.0, 9304.0, 9998.0, 10577.0, 10931.0, 11557.0, 11937.0, 12335.0, 13035.0, 13469.0, 13867.0, 14283.0, 14659.0, 14957.0, 15251.0, 15646.0, 15863.0, 16234.0, 16517.0, 16764.0, 17027.0, 17238.0, 17446.0, 17683.0, 17852.0, 18029.0, 18231.0, 18330.0, 18464.0, 18608.0, 18714.0, 18822.0, 18903.0, 19015.0, 19080.0, 19138.0, 19224.0, 19336.0, 19415.0, 19479.0, 19538.0, 19574.0, 19615.0, 19688.0, 19728.0, 19767.0, 19800.0, 19835.0, 19872.0, 19911.0, 19943.0, 19970.0, 20012.0, 20034.0, 20042.0, 20051.0, 20076.0, 20100.0, 20105.0, 20118.0, 20129.0, 20145.0, 20149.0, 20158.0, 20169.0, 20183.0, 20191.0, 20197.0, 20209.0, 20220.0, 20233.0, 20237.0, 20247.0, 20257.0, 20269.0, 20281.0, 20295.0, 20305.0, 20311.0, 20315.0, 20317.0, 20317.0, 20315.0, 20319.0, 20321.0, 20323.0, null, null]}],                        {\"template\": {\"data\": {\"bar\": [{\"error_x\": {\"color\": \"#2a3f5f\"}, \"error_y\": {\"color\": \"#2a3f5f\"}, \"marker\": {\"line\": {\"color\": \"#E5ECF6\", \"width\": 0.5}}, \"type\": \"bar\"}], \"barpolar\": [{\"marker\": {\"line\": {\"color\": \"#E5ECF6\", \"width\": 0.5}}, \"type\": \"barpolar\"}], \"carpet\": [{\"aaxis\": {\"endlinecolor\": \"#2a3f5f\", \"gridcolor\": \"white\", \"linecolor\": \"white\", \"minorgridcolor\": \"white\", \"startlinecolor\": \"#2a3f5f\"}, \"baxis\": {\"endlinecolor\": \"#2a3f5f\", \"gridcolor\": \"white\", \"linecolor\": \"white\", \"minorgridcolor\": \"white\", \"startlinecolor\": \"#2a3f5f\"}, \"type\": \"carpet\"}], \"choropleth\": [{\"colorbar\": {\"outlinewidth\": 0, \"ticks\": \"\"}, \"type\": \"choropleth\"}], \"contour\": [{\"colorbar\": {\"outlinewidth\": 0, \"ticks\": \"\"}, \"colorscale\": [[0.0, \"#0d0887\"], [0.1111111111111111, \"#46039f\"], [0.2222222222222222, \"#7201a8\"], [0.3333333333333333, \"#9c179e\"], [0.4444444444444444, \"#bd3786\"], [0.5555555555555556, \"#d8576b\"], [0.6666666666666666, \"#ed7953\"], [0.7777777777777778, \"#fb9f3a\"], [0.8888888888888888, \"#fdca26\"], [1.0, \"#f0f921\"]], \"type\": \"contour\"}], \"contourcarpet\": [{\"colorbar\": {\"outlinewidth\": 0, \"ticks\": \"\"}, \"type\": \"contourcarpet\"}], \"heatmap\": [{\"colorbar\": {\"outlinewidth\": 0, \"ticks\": \"\"}, \"colorscale\": [[0.0, \"#0d0887\"], [0.1111111111111111, \"#46039f\"], [0.2222222222222222, \"#7201a8\"], [0.3333333333333333, \"#9c179e\"], [0.4444444444444444, \"#bd3786\"], [0.5555555555555556, \"#d8576b\"], [0.6666666666666666, \"#ed7953\"], [0.7777777777777778, \"#fb9f3a\"], [0.8888888888888888, \"#fdca26\"], [1.0, \"#f0f921\"]], \"type\": \"heatmap\"}], \"heatmapgl\": [{\"colorbar\": {\"outlinewidth\": 0, \"ticks\": \"\"}, \"colorscale\": [[0.0, \"#0d0887\"], [0.1111111111111111, \"#46039f\"], [0.2222222222222222, \"#7201a8\"], [0.3333333333333333, \"#9c179e\"], [0.4444444444444444, \"#bd3786\"], [0.5555555555555556, \"#d8576b\"], [0.6666666666666666, \"#ed7953\"], [0.7777777777777778, \"#fb9f3a\"], [0.8888888888888888, \"#fdca26\"], [1.0, \"#f0f921\"]], \"type\": \"heatmapgl\"}], \"histogram\": [{\"marker\": {\"colorbar\": {\"outlinewidth\": 0, \"ticks\": \"\"}}, \"type\": \"histogram\"}], \"histogram2d\": [{\"colorbar\": {\"outlinewidth\": 0, \"ticks\": \"\"}, \"colorscale\": [[0.0, \"#0d0887\"], [0.1111111111111111, \"#46039f\"], [0.2222222222222222, \"#7201a8\"], [0.3333333333333333, \"#9c179e\"], [0.4444444444444444, \"#bd3786\"], [0.5555555555555556, \"#d8576b\"], [0.6666666666666666, \"#ed7953\"], [0.7777777777777778, \"#fb9f3a\"], [0.8888888888888888, \"#fdca26\"], [1.0, \"#f0f921\"]], \"type\": \"histogram2d\"}], \"histogram2dcontour\": [{\"colorbar\": {\"outlinewidth\": 0, \"ticks\": \"\"}, \"colorscale\": [[0.0, \"#0d0887\"], [0.1111111111111111, \"#46039f\"], [0.2222222222222222, \"#7201a8\"], [0.3333333333333333, \"#9c179e\"], [0.4444444444444444, \"#bd3786\"], [0.5555555555555556, \"#d8576b\"], [0.6666666666666666, \"#ed7953\"], [0.7777777777777778, \"#fb9f3a\"], [0.8888888888888888, \"#fdca26\"], [1.0, \"#f0f921\"]], \"type\": \"histogram2dcontour\"}], \"mesh3d\": [{\"colorbar\": {\"outlinewidth\": 0, \"ticks\": \"\"}, \"type\": \"mesh3d\"}], \"parcoords\": [{\"line\": {\"colorbar\": {\"outlinewidth\": 0, \"ticks\": \"\"}}, \"type\": \"parcoords\"}], \"pie\": [{\"automargin\": true, \"type\": \"pie\"}], \"scatter\": [{\"marker\": {\"colorbar\": {\"outlinewidth\": 0, \"ticks\": \"\"}}, \"type\": \"scatter\"}], \"scatter3d\": [{\"line\": {\"colorbar\": {\"outlinewidth\": 0, \"ticks\": \"\"}}, \"marker\": {\"colorbar\": {\"outlinewidth\": 0, \"ticks\": \"\"}}, \"type\": \"scatter3d\"}], \"scattercarpet\": [{\"marker\": {\"colorbar\": {\"outlinewidth\": 0, \"ticks\": \"\"}}, \"type\": \"scattercarpet\"}], \"scattergeo\": [{\"marker\": {\"colorbar\": {\"outlinewidth\": 0, \"ticks\": \"\"}}, \"type\": \"scattergeo\"}], \"scattergl\": [{\"marker\": {\"colorbar\": {\"outlinewidth\": 0, \"ticks\": \"\"}}, \"type\": \"scattergl\"}], \"scattermapbox\": [{\"marker\": {\"colorbar\": {\"outlinewidth\": 0, \"ticks\": \"\"}}, \"type\": \"scattermapbox\"}], \"scatterpolar\": [{\"marker\": {\"colorbar\": {\"outlinewidth\": 0, \"ticks\": \"\"}}, \"type\": \"scatterpolar\"}], \"scatterpolargl\": [{\"marker\": {\"colorbar\": {\"outlinewidth\": 0, \"ticks\": \"\"}}, \"type\": \"scatterpolargl\"}], \"scatterternary\": [{\"marker\": {\"colorbar\": {\"outlinewidth\": 0, \"ticks\": \"\"}}, \"type\": \"scatterternary\"}], \"surface\": [{\"colorbar\": {\"outlinewidth\": 0, \"ticks\": \"\"}, \"colorscale\": [[0.0, \"#0d0887\"], [0.1111111111111111, \"#46039f\"], [0.2222222222222222, \"#7201a8\"], [0.3333333333333333, \"#9c179e\"], [0.4444444444444444, \"#bd3786\"], [0.5555555555555556, \"#d8576b\"], [0.6666666666666666, \"#ed7953\"], [0.7777777777777778, \"#fb9f3a\"], [0.8888888888888888, \"#fdca26\"], [1.0, \"#f0f921\"]], \"type\": \"surface\"}], \"table\": [{\"cells\": {\"fill\": {\"color\": \"#EBF0F8\"}, \"line\": {\"color\": \"white\"}}, \"header\": {\"fill\": {\"color\": \"#C8D4E3\"}, \"line\": {\"color\": \"white\"}}, \"type\": \"table\"}]}, \"layout\": {\"annotationdefaults\": {\"arrowcolor\": \"#2a3f5f\", \"arrowhead\": 0, \"arrowwidth\": 1}, \"coloraxis\": {\"colorbar\": {\"outlinewidth\": 0, \"ticks\": \"\"}}, \"colorscale\": {\"diverging\": [[0, \"#8e0152\"], [0.1, \"#c51b7d\"], [0.2, \"#de77ae\"], [0.3, \"#f1b6da\"], [0.4, \"#fde0ef\"], [0.5, \"#f7f7f7\"], [0.6, \"#e6f5d0\"], [0.7, \"#b8e186\"], [0.8, \"#7fbc41\"], [0.9, \"#4d9221\"], [1, \"#276419\"]], \"sequential\": [[0.0, \"#0d0887\"], [0.1111111111111111, \"#46039f\"], [0.2222222222222222, \"#7201a8\"], [0.3333333333333333, \"#9c179e\"], [0.4444444444444444, \"#bd3786\"], [0.5555555555555556, \"#d8576b\"], [0.6666666666666666, \"#ed7953\"], [0.7777777777777778, \"#fb9f3a\"], [0.8888888888888888, \"#fdca26\"], [1.0, \"#f0f921\"]], \"sequentialminus\": [[0.0, \"#0d0887\"], [0.1111111111111111, \"#46039f\"], [0.2222222222222222, \"#7201a8\"], [0.3333333333333333, \"#9c179e\"], [0.4444444444444444, \"#bd3786\"], [0.5555555555555556, \"#d8576b\"], [0.6666666666666666, \"#ed7953\"], [0.7777777777777778, \"#fb9f3a\"], [0.8888888888888888, \"#fdca26\"], [1.0, \"#f0f921\"]]}, \"colorway\": [\"#636efa\", \"#EF553B\", \"#00cc96\", \"#ab63fa\", \"#FFA15A\", \"#19d3f3\", \"#FF6692\", \"#B6E880\", \"#FF97FF\", \"#FECB52\"], \"font\": {\"color\": \"#2a3f5f\"}, \"geo\": {\"bgcolor\": \"white\", \"lakecolor\": \"white\", \"landcolor\": \"#E5ECF6\", \"showlakes\": true, \"showland\": true, \"subunitcolor\": \"white\"}, \"hoverlabel\": {\"align\": \"left\"}, \"hovermode\": \"closest\", \"mapbox\": {\"style\": \"light\"}, \"paper_bgcolor\": \"white\", \"plot_bgcolor\": \"#E5ECF6\", \"polar\": {\"angularaxis\": {\"gridcolor\": \"white\", \"linecolor\": \"white\", \"ticks\": \"\"}, \"bgcolor\": \"#E5ECF6\", \"radialaxis\": {\"gridcolor\": \"white\", \"linecolor\": \"white\", \"ticks\": \"\"}}, \"scene\": {\"xaxis\": {\"backgroundcolor\": \"#E5ECF6\", \"gridcolor\": \"white\", \"gridwidth\": 2, \"linecolor\": \"white\", \"showbackground\": true, \"ticks\": \"\", \"zerolinecolor\": \"white\"}, \"yaxis\": {\"backgroundcolor\": \"#E5ECF6\", \"gridcolor\": \"white\", \"gridwidth\": 2, \"linecolor\": \"white\", \"showbackground\": true, \"ticks\": \"\", \"zerolinecolor\": \"white\"}, \"zaxis\": {\"backgroundcolor\": \"#E5ECF6\", \"gridcolor\": \"white\", \"gridwidth\": 2, \"linecolor\": \"white\", \"showbackground\": true, \"ticks\": \"\", \"zerolinecolor\": \"white\"}}, \"shapedefaults\": {\"line\": {\"color\": \"#2a3f5f\"}}, \"ternary\": {\"aaxis\": {\"gridcolor\": \"white\", \"linecolor\": \"white\", \"ticks\": \"\"}, \"baxis\": {\"gridcolor\": \"white\", \"linecolor\": \"white\", \"ticks\": \"\"}, \"bgcolor\": \"#E5ECF6\", \"caxis\": {\"gridcolor\": \"white\", \"linecolor\": \"white\", \"ticks\": \"\"}}, \"title\": {\"x\": 0.05}, \"xaxis\": {\"automargin\": true, \"gridcolor\": \"white\", \"linecolor\": \"white\", \"ticks\": \"\", \"title\": {\"standoff\": 15}, \"zerolinecolor\": \"white\", \"zerolinewidth\": 2}, \"yaxis\": {\"automargin\": true, \"gridcolor\": \"white\", \"linecolor\": \"white\", \"ticks\": \"\", \"title\": {\"standoff\": 15}, \"zerolinecolor\": \"white\", \"zerolinewidth\": 2}}}},                        {\"responsive\": true}                    ).then(function(){\n",
       "                            \n",
       "var gd = document.getElementById('08fb5163-0c13-4f55-bcb7-36a34a8fde7f');\n",
       "var x = new MutationObserver(function (mutations, observer) {{\n",
       "        var display = window.getComputedStyle(gd).display;\n",
       "        if (!display || display === 'none') {{\n",
       "            console.log([gd, 'removed!']);\n",
       "            Plotly.purge(gd);\n",
       "            observer.disconnect();\n",
       "        }}\n",
       "}});\n",
       "\n",
       "// Listen for the removal of the full notebook cells\n",
       "var notebookContainer = gd.closest('#notebook-container');\n",
       "if (notebookContainer) {{\n",
       "    x.observe(notebookContainer, {childList: true});\n",
       "}}\n",
       "\n",
       "// Listen for the clearing of the current output cell\n",
       "var outputEl = gd.closest('.output');\n",
       "if (outputEl) {{\n",
       "    x.observe(outputEl, {childList: true});\n",
       "}}\n",
       "\n",
       "                        })                };                });            </script>        </div>"
      ]
     },
     "metadata": {},
     "output_type": "display_data"
    }
   ],
   "source": [
    "fig = go.Figure() \n",
    "fig.add_trace(go.Scatter(x=data['date'], y=data['total_recovered'], name='total_recovered'))\n",
    "fig.add_trace(go.Scatter(x=data['date'], y=data['total_confirmed'], name='total_confirmed'))  \n",
    "fig.show()"
   ]
  },
  {
   "cell_type": "code",
   "execution_count": null,
   "metadata": {},
   "outputs": [],
   "source": []
  }
 ],
 "metadata": {
  "kernelspec": {
   "display_name": "Python 3",
   "language": "python",
   "name": "python3"
  },
  "language_info": {
   "codemirror_mode": {
    "name": "ipython",
    "version": 3
   },
   "file_extension": ".py",
   "mimetype": "text/x-python",
   "name": "python",
   "nbconvert_exporter": "python",
   "pygments_lexer": "ipython3",
   "version": "3.8.5"
  }
 },
 "nbformat": 4,
 "nbformat_minor": 4
}
