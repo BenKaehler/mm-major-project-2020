{
 "cells": [
  {
   "cell_type": "markdown",
   "metadata": {},
   "source": [
    "# ZPEM2311 Maths Modelling Project Sophee Turner, Joshua Elphick & Liam Goldsworthy "
   ]
  },
  {
   "cell_type": "code",
   "execution_count": 213,
   "metadata": {},
   "outputs": [
    {
     "data": {
      "text/html": [
       "        <script type=\"text/javascript\">\n",
       "        window.PlotlyConfig = {MathJaxConfig: 'local'};\n",
       "        if (window.MathJax) {MathJax.Hub.Config({SVG: {font: \"STIX-Web\"}});}\n",
       "        if (typeof require !== 'undefined') {\n",
       "        require.undef(\"plotly\");\n",
       "        requirejs.config({\n",
       "            paths: {\n",
       "                'plotly': ['https://cdn.plot.ly/plotly-latest.min']\n",
       "            }\n",
       "        });\n",
       "        require(['plotly'], function(Plotly) {\n",
       "            window._Plotly = Plotly;\n",
       "        });\n",
       "        }\n",
       "        </script>\n",
       "        "
      ]
     },
     "metadata": {},
     "output_type": "display_data"
    }
   ],
   "source": [
    "from numpy import arange, empty, exp, array, linspace\n",
    "from scipy.integrate import odeint\n",
    "from scipy.optimize import minimize\n",
    "from plotly.offline import init_notebook_mode\n",
    "from plotly import graph_objs as go\n",
    "init_notebook_mode(connected=True)"
   ]
  },
  {
   "cell_type": "code",
   "execution_count": 214,
   "metadata": {},
   "outputs": [],
   "source": [
    "def dSEIRdt(SEIR, t, beta, gamma, kappa):\n",
    "    S, E, I, R = SEIR\n",
    "    dSdt = -beta*S*I\n",
    "    dEdt = beta*S*I-kappa*E\n",
    "    dIdt = beta*S*I-gamma*I\n",
    "    dRdt = gamma*I\n",
    "    return array([dSdt, dEdt, dIdt, dRdt])"
   ]
  },
  {
   "cell_type": "code",
   "execution_count": 215,
   "metadata": {},
   "outputs": [],
   "source": [
    "# Initial number of infected and recovered individuals, I0 and R0.\n",
    "# Everyone else, S0, is initially susceptible to infection. \n",
    "# Initial number of exposed individuals, E0\n",
    "I0 = 10\n",
    "S0 = 670000\n",
    "R0 = 0 \n",
    "E0 = 0 \n",
    "# Contraction rate, beta, and mean recovery rate, gamma, incubation period, kappa.\n",
    "beta, gamma, kappa = 2.5, .97, 4 "
   ]
  },
  {
   "cell_type": "markdown",
   "metadata": {},
   "source": [
    "# Basic graph of COVID-19 with no restrictions implemented   "
   ]
  },
  {
   "cell_type": "code",
   "execution_count": 216,
   "metadata": {},
   "outputs": [],
   "source": [
    "#Y axis represents S, E, I and R values\n",
    "#X axis represents time\n",
    "t = linspace(0, 30, 30)\n",
    "SEIR = odeint(dSEIRdt, [1, 0,.00000149, 0], t, (beta, gamma, kappa))  \n",
    "fig = go.Figure()"
   ]
  },
  {
   "cell_type": "code",
   "execution_count": 217,
   "metadata": {},
   "outputs": [
    {
     "data": {
      "application/vnd.plotly.v1+json": {
       "config": {
        "plotlyServerURL": "https://plot.ly"
       },
       "data": [
        {
         "name": "Suseptible",
         "type": "scatter",
         "x": [
          0,
          1.0344827586206897,
          2.0689655172413794,
          3.1034482758620694,
          4.137931034482759,
          5.172413793103448,
          6.206896551724139,
          7.241379310344828,
          8.275862068965518,
          9.310344827586208,
          10.344827586206897,
          11.379310344827587,
          12.413793103448278,
          13.448275862068966,
          14.482758620689657,
          15.517241379310345,
          16.551724137931036,
          17.586206896551726,
          18.620689655172416,
          19.655172413793103,
          20.689655172413794,
          21.724137931034484,
          22.758620689655174,
          23.793103448275865,
          24.827586206896555,
          25.862068965517242,
          26.896551724137932,
          27.931034482758623,
          28.965517241379313,
          30
         ],
         "y": [
          1,
          0.9999905367019475,
          0.9999444039845357,
          0.9997199055490891,
          0.9986287805964712,
          0.9933611240375511,
          0.9687265405918138,
          0.8685387920606171,
          0.6125577813288633,
          0.33621482096018745,
          0.1952322513541811,
          0.13907562119677827,
          0.11613360079683553,
          0.10617093273701166,
          0.1016650330706621,
          0.09958211345902024,
          0.09860870479498973,
          0.09815139861515901,
          0.09793600730501685,
          0.09783445187039513,
          0.09778652889809435,
          0.09776391230220942,
          0.09775323582362273,
          0.09774819605159049,
          0.09774581856444443,
          0.0977446960445788,
          0.09774416595097704,
          0.09774391675056021,
          0.09774379784378644,
          0.09774374149845566
         ]
        },
        {
         "name": "Exposed",
         "type": "scatter",
         "x": [
          0,
          1.0344827586206897,
          2.0689655172413794,
          3.1034482758620694,
          4.137931034482759,
          5.172413793103448,
          6.206896551724139,
          7.241379310344828,
          8.275862068965518,
          9.310344827586208,
          10.344827586206897,
          11.379310344827587,
          12.413793103448278,
          13.448275862068966,
          14.482758620689657,
          15.517241379310345,
          16.551724137931036,
          17.586206896551726,
          18.620689655172416,
          19.655172413793103,
          20.689655172413794,
          21.724137931034484,
          22.758620689655174,
          23.793103448275865,
          24.827586206896555,
          25.862068965517242,
          26.896551724137932,
          27.931034482758623,
          28.965517241379313,
          30
         ],
         "y": [
          0,
          3.278835349871798e-06,
          1.6054713224563325e-05,
          7.815181876082089e-05,
          0.0003796637958907145,
          0.001828342941014457,
          0.008448681806106478,
          0.032603607062268475,
          0.07036101771461468,
          0.05892972898290266,
          0.02673811673947217,
          0.010636505772848316,
          0.004424814478286005,
          0.001946547602375547,
          0.0008866763122742295,
          0.00041135959740418583,
          0.00019257419120843,
          9.054867292290997e-05,
          4.266323750574583e-05,
          2.012211582872254e-05,
          9.49531732710071e-06,
          4.4815263490262995e-06,
          2.11527213814806e-06,
          9.979187938669294e-07,
          4.7549727558082765e-07,
          2.1443448005983903e-07,
          1.0474813313517564e-07,
          4.9648603249648084e-08,
          2.1017205221132322e-08,
          1.0094326265848119e-08
         ]
        },
        {
         "name": "Infected",
         "type": "scatter",
         "x": [
          0,
          1.0344827586206897,
          2.0689655172413794,
          3.1034482758620694,
          4.137931034482759,
          5.172413793103448,
          6.206896551724139,
          7.241379310344828,
          8.275862068965518,
          9.310344827586208,
          10.344827586206897,
          11.379310344827587,
          12.413793103448278,
          13.448275862068966,
          14.482758620689657,
          15.517241379310345,
          16.551724137931036,
          17.586206896551726,
          18.620689655172416,
          19.655172413793103,
          20.689655172413794,
          21.724137931034484,
          22.758620689655174,
          23.793103448275865,
          24.827586206896555,
          25.862068965517242,
          26.896551724137932,
          27.931034482758623,
          28.965517241379313,
          30
         ],
         "y": [
          1.49e-06,
          7.281520847659543e-06,
          3.5514158298090435e-05,
          0.00017289255100808352,
          0.0008403107878164278,
          0.004055890335707025,
          0.01894703670868505,
          0.07677676362617106,
          0.19728025066598853,
          0.24086473519872,
          0.17094586066078343,
          0.09550370500583093,
          0.048498408734851624,
          0.023661027220485027,
          0.0113405544397421,
          0.005391539308818292,
          0.0025536083906782543,
          0.0012073459679500316,
          0.0005703443506274656,
          0.0002693498131642467,
          0.0001271693121937935,
          6.003678947089602e-05,
          2.833876167380736e-05,
          1.3374275169142249e-05,
          6.31449529906731e-06,
          2.9811711934911414e-06,
          1.4070393674772127e-06,
          6.670258278450828e-07,
          3.139251148852476e-07,
          1.466041297795649e-07
         ]
        },
        {
         "name": "Recovered",
         "type": "scatter",
         "x": [
          0,
          1.0344827586206897,
          2.0689655172413794,
          3.1034482758620694,
          4.137931034482759,
          5.172413793103448,
          6.206896551724139,
          7.241379310344828,
          8.275862068965518,
          9.310344827586208,
          10.344827586206897,
          11.379310344827587,
          12.413793103448278,
          13.448275862068966,
          14.482758620689657,
          15.517241379310345,
          16.551724137931036,
          17.586206896551726,
          18.620689655172416,
          19.655172413793103,
          20.689655172413794,
          21.724137931034484,
          22.758620689655174,
          23.793103448275865,
          24.827586206896555,
          25.862068965517242,
          26.896551724137932,
          27.931034482758623,
          28.965517241379313,
          30
         ],
         "y": [
          0,
          3.6717772048548104e-06,
          2.157185716622159e-05,
          0.00010869189990290304,
          0.0005323986157124419,
          0.002584475626741922,
          0.012327912699501276,
          0.05468593431321194,
          0.19016345800514833,
          0.42292193384109283,
          0.6338233779850359,
          0.765422163797391,
          0.8353694804683132,
          0.8701695300425039,
          0.8869959024895963,
          0.8950278372321621,
          0.8988391768143325,
          0.9006427454168912,
          0.9014951383443558,
          0.901897688316441,
          0.9020877917897121,
          0.90217754090832,
          0.9022199154147037,
          0.9022399196732406,
          0.9022493569402569,
          0.902253812784228,
          0.9022559170096559,
          0.9022569062236123,
          0.9022573782310991,
          0.9022576018974149
         ]
        }
       ],
       "layout": {
        "autosize": true,
        "template": {
         "data": {
          "bar": [
           {
            "error_x": {
             "color": "#2a3f5f"
            },
            "error_y": {
             "color": "#2a3f5f"
            },
            "marker": {
             "line": {
              "color": "#E5ECF6",
              "width": 0.5
             }
            },
            "type": "bar"
           }
          ],
          "barpolar": [
           {
            "marker": {
             "line": {
              "color": "#E5ECF6",
              "width": 0.5
             }
            },
            "type": "barpolar"
           }
          ],
          "carpet": [
           {
            "aaxis": {
             "endlinecolor": "#2a3f5f",
             "gridcolor": "white",
             "linecolor": "white",
             "minorgridcolor": "white",
             "startlinecolor": "#2a3f5f"
            },
            "baxis": {
             "endlinecolor": "#2a3f5f",
             "gridcolor": "white",
             "linecolor": "white",
             "minorgridcolor": "white",
             "startlinecolor": "#2a3f5f"
            },
            "type": "carpet"
           }
          ],
          "choropleth": [
           {
            "colorbar": {
             "outlinewidth": 0,
             "ticks": ""
            },
            "type": "choropleth"
           }
          ],
          "contour": [
           {
            "colorbar": {
             "outlinewidth": 0,
             "ticks": ""
            },
            "colorscale": [
             [
              0,
              "#0d0887"
             ],
             [
              0.1111111111111111,
              "#46039f"
             ],
             [
              0.2222222222222222,
              "#7201a8"
             ],
             [
              0.3333333333333333,
              "#9c179e"
             ],
             [
              0.4444444444444444,
              "#bd3786"
             ],
             [
              0.5555555555555556,
              "#d8576b"
             ],
             [
              0.6666666666666666,
              "#ed7953"
             ],
             [
              0.7777777777777778,
              "#fb9f3a"
             ],
             [
              0.8888888888888888,
              "#fdca26"
             ],
             [
              1,
              "#f0f921"
             ]
            ],
            "type": "contour"
           }
          ],
          "contourcarpet": [
           {
            "colorbar": {
             "outlinewidth": 0,
             "ticks": ""
            },
            "type": "contourcarpet"
           }
          ],
          "heatmap": [
           {
            "colorbar": {
             "outlinewidth": 0,
             "ticks": ""
            },
            "colorscale": [
             [
              0,
              "#0d0887"
             ],
             [
              0.1111111111111111,
              "#46039f"
             ],
             [
              0.2222222222222222,
              "#7201a8"
             ],
             [
              0.3333333333333333,
              "#9c179e"
             ],
             [
              0.4444444444444444,
              "#bd3786"
             ],
             [
              0.5555555555555556,
              "#d8576b"
             ],
             [
              0.6666666666666666,
              "#ed7953"
             ],
             [
              0.7777777777777778,
              "#fb9f3a"
             ],
             [
              0.8888888888888888,
              "#fdca26"
             ],
             [
              1,
              "#f0f921"
             ]
            ],
            "type": "heatmap"
           }
          ],
          "heatmapgl": [
           {
            "colorbar": {
             "outlinewidth": 0,
             "ticks": ""
            },
            "colorscale": [
             [
              0,
              "#0d0887"
             ],
             [
              0.1111111111111111,
              "#46039f"
             ],
             [
              0.2222222222222222,
              "#7201a8"
             ],
             [
              0.3333333333333333,
              "#9c179e"
             ],
             [
              0.4444444444444444,
              "#bd3786"
             ],
             [
              0.5555555555555556,
              "#d8576b"
             ],
             [
              0.6666666666666666,
              "#ed7953"
             ],
             [
              0.7777777777777778,
              "#fb9f3a"
             ],
             [
              0.8888888888888888,
              "#fdca26"
             ],
             [
              1,
              "#f0f921"
             ]
            ],
            "type": "heatmapgl"
           }
          ],
          "histogram": [
           {
            "marker": {
             "colorbar": {
              "outlinewidth": 0,
              "ticks": ""
             }
            },
            "type": "histogram"
           }
          ],
          "histogram2d": [
           {
            "colorbar": {
             "outlinewidth": 0,
             "ticks": ""
            },
            "colorscale": [
             [
              0,
              "#0d0887"
             ],
             [
              0.1111111111111111,
              "#46039f"
             ],
             [
              0.2222222222222222,
              "#7201a8"
             ],
             [
              0.3333333333333333,
              "#9c179e"
             ],
             [
              0.4444444444444444,
              "#bd3786"
             ],
             [
              0.5555555555555556,
              "#d8576b"
             ],
             [
              0.6666666666666666,
              "#ed7953"
             ],
             [
              0.7777777777777778,
              "#fb9f3a"
             ],
             [
              0.8888888888888888,
              "#fdca26"
             ],
             [
              1,
              "#f0f921"
             ]
            ],
            "type": "histogram2d"
           }
          ],
          "histogram2dcontour": [
           {
            "colorbar": {
             "outlinewidth": 0,
             "ticks": ""
            },
            "colorscale": [
             [
              0,
              "#0d0887"
             ],
             [
              0.1111111111111111,
              "#46039f"
             ],
             [
              0.2222222222222222,
              "#7201a8"
             ],
             [
              0.3333333333333333,
              "#9c179e"
             ],
             [
              0.4444444444444444,
              "#bd3786"
             ],
             [
              0.5555555555555556,
              "#d8576b"
             ],
             [
              0.6666666666666666,
              "#ed7953"
             ],
             [
              0.7777777777777778,
              "#fb9f3a"
             ],
             [
              0.8888888888888888,
              "#fdca26"
             ],
             [
              1,
              "#f0f921"
             ]
            ],
            "type": "histogram2dcontour"
           }
          ],
          "mesh3d": [
           {
            "colorbar": {
             "outlinewidth": 0,
             "ticks": ""
            },
            "type": "mesh3d"
           }
          ],
          "parcoords": [
           {
            "line": {
             "colorbar": {
              "outlinewidth": 0,
              "ticks": ""
             }
            },
            "type": "parcoords"
           }
          ],
          "pie": [
           {
            "automargin": true,
            "type": "pie"
           }
          ],
          "scatter": [
           {
            "marker": {
             "colorbar": {
              "outlinewidth": 0,
              "ticks": ""
             }
            },
            "type": "scatter"
           }
          ],
          "scatter3d": [
           {
            "line": {
             "colorbar": {
              "outlinewidth": 0,
              "ticks": ""
             }
            },
            "marker": {
             "colorbar": {
              "outlinewidth": 0,
              "ticks": ""
             }
            },
            "type": "scatter3d"
           }
          ],
          "scattercarpet": [
           {
            "marker": {
             "colorbar": {
              "outlinewidth": 0,
              "ticks": ""
             }
            },
            "type": "scattercarpet"
           }
          ],
          "scattergeo": [
           {
            "marker": {
             "colorbar": {
              "outlinewidth": 0,
              "ticks": ""
             }
            },
            "type": "scattergeo"
           }
          ],
          "scattergl": [
           {
            "marker": {
             "colorbar": {
              "outlinewidth": 0,
              "ticks": ""
             }
            },
            "type": "scattergl"
           }
          ],
          "scattermapbox": [
           {
            "marker": {
             "colorbar": {
              "outlinewidth": 0,
              "ticks": ""
             }
            },
            "type": "scattermapbox"
           }
          ],
          "scatterpolar": [
           {
            "marker": {
             "colorbar": {
              "outlinewidth": 0,
              "ticks": ""
             }
            },
            "type": "scatterpolar"
           }
          ],
          "scatterpolargl": [
           {
            "marker": {
             "colorbar": {
              "outlinewidth": 0,
              "ticks": ""
             }
            },
            "type": "scatterpolargl"
           }
          ],
          "scatterternary": [
           {
            "marker": {
             "colorbar": {
              "outlinewidth": 0,
              "ticks": ""
             }
            },
            "type": "scatterternary"
           }
          ],
          "surface": [
           {
            "colorbar": {
             "outlinewidth": 0,
             "ticks": ""
            },
            "colorscale": [
             [
              0,
              "#0d0887"
             ],
             [
              0.1111111111111111,
              "#46039f"
             ],
             [
              0.2222222222222222,
              "#7201a8"
             ],
             [
              0.3333333333333333,
              "#9c179e"
             ],
             [
              0.4444444444444444,
              "#bd3786"
             ],
             [
              0.5555555555555556,
              "#d8576b"
             ],
             [
              0.6666666666666666,
              "#ed7953"
             ],
             [
              0.7777777777777778,
              "#fb9f3a"
             ],
             [
              0.8888888888888888,
              "#fdca26"
             ],
             [
              1,
              "#f0f921"
             ]
            ],
            "type": "surface"
           }
          ],
          "table": [
           {
            "cells": {
             "fill": {
              "color": "#EBF0F8"
             },
             "line": {
              "color": "white"
             }
            },
            "header": {
             "fill": {
              "color": "#C8D4E3"
             },
             "line": {
              "color": "white"
             }
            },
            "type": "table"
           }
          ]
         },
         "layout": {
          "annotationdefaults": {
           "arrowcolor": "#2a3f5f",
           "arrowhead": 0,
           "arrowwidth": 1
          },
          "coloraxis": {
           "colorbar": {
            "outlinewidth": 0,
            "ticks": ""
           }
          },
          "colorscale": {
           "diverging": [
            [
             0,
             "#8e0152"
            ],
            [
             0.1,
             "#c51b7d"
            ],
            [
             0.2,
             "#de77ae"
            ],
            [
             0.3,
             "#f1b6da"
            ],
            [
             0.4,
             "#fde0ef"
            ],
            [
             0.5,
             "#f7f7f7"
            ],
            [
             0.6,
             "#e6f5d0"
            ],
            [
             0.7,
             "#b8e186"
            ],
            [
             0.8,
             "#7fbc41"
            ],
            [
             0.9,
             "#4d9221"
            ],
            [
             1,
             "#276419"
            ]
           ],
           "sequential": [
            [
             0,
             "#0d0887"
            ],
            [
             0.1111111111111111,
             "#46039f"
            ],
            [
             0.2222222222222222,
             "#7201a8"
            ],
            [
             0.3333333333333333,
             "#9c179e"
            ],
            [
             0.4444444444444444,
             "#bd3786"
            ],
            [
             0.5555555555555556,
             "#d8576b"
            ],
            [
             0.6666666666666666,
             "#ed7953"
            ],
            [
             0.7777777777777778,
             "#fb9f3a"
            ],
            [
             0.8888888888888888,
             "#fdca26"
            ],
            [
             1,
             "#f0f921"
            ]
           ],
           "sequentialminus": [
            [
             0,
             "#0d0887"
            ],
            [
             0.1111111111111111,
             "#46039f"
            ],
            [
             0.2222222222222222,
             "#7201a8"
            ],
            [
             0.3333333333333333,
             "#9c179e"
            ],
            [
             0.4444444444444444,
             "#bd3786"
            ],
            [
             0.5555555555555556,
             "#d8576b"
            ],
            [
             0.6666666666666666,
             "#ed7953"
            ],
            [
             0.7777777777777778,
             "#fb9f3a"
            ],
            [
             0.8888888888888888,
             "#fdca26"
            ],
            [
             1,
             "#f0f921"
            ]
           ]
          },
          "colorway": [
           "#636efa",
           "#EF553B",
           "#00cc96",
           "#ab63fa",
           "#FFA15A",
           "#19d3f3",
           "#FF6692",
           "#B6E880",
           "#FF97FF",
           "#FECB52"
          ],
          "font": {
           "color": "#2a3f5f"
          },
          "geo": {
           "bgcolor": "white",
           "lakecolor": "white",
           "landcolor": "#E5ECF6",
           "showlakes": true,
           "showland": true,
           "subunitcolor": "white"
          },
          "hoverlabel": {
           "align": "left"
          },
          "hovermode": "closest",
          "mapbox": {
           "style": "light"
          },
          "paper_bgcolor": "white",
          "plot_bgcolor": "#E5ECF6",
          "polar": {
           "angularaxis": {
            "gridcolor": "white",
            "linecolor": "white",
            "ticks": ""
           },
           "bgcolor": "#E5ECF6",
           "radialaxis": {
            "gridcolor": "white",
            "linecolor": "white",
            "ticks": ""
           }
          },
          "scene": {
           "xaxis": {
            "backgroundcolor": "#E5ECF6",
            "gridcolor": "white",
            "gridwidth": 2,
            "linecolor": "white",
            "showbackground": true,
            "ticks": "",
            "zerolinecolor": "white"
           },
           "yaxis": {
            "backgroundcolor": "#E5ECF6",
            "gridcolor": "white",
            "gridwidth": 2,
            "linecolor": "white",
            "showbackground": true,
            "ticks": "",
            "zerolinecolor": "white"
           },
           "zaxis": {
            "backgroundcolor": "#E5ECF6",
            "gridcolor": "white",
            "gridwidth": 2,
            "linecolor": "white",
            "showbackground": true,
            "ticks": "",
            "zerolinecolor": "white"
           }
          },
          "shapedefaults": {
           "line": {
            "color": "#2a3f5f"
           }
          },
          "ternary": {
           "aaxis": {
            "gridcolor": "white",
            "linecolor": "white",
            "ticks": ""
           },
           "baxis": {
            "gridcolor": "white",
            "linecolor": "white",
            "ticks": ""
           },
           "bgcolor": "#E5ECF6",
           "caxis": {
            "gridcolor": "white",
            "linecolor": "white",
            "ticks": ""
           }
          },
          "title": {
           "x": 0.05
          },
          "xaxis": {
           "automargin": true,
           "gridcolor": "white",
           "linecolor": "white",
           "ticks": "",
           "title": {
            "standoff": 15
           },
           "zerolinecolor": "white",
           "zerolinewidth": 2
          },
          "yaxis": {
           "automargin": true,
           "gridcolor": "white",
           "linecolor": "white",
           "ticks": "",
           "title": {
            "standoff": 15
           },
           "zerolinecolor": "white",
           "zerolinewidth": 2
          }
         }
        },
        "title": {
         "text": "SEIR Model - No Restrictions"
        },
        "xaxis": {
         "autorange": true,
         "range": [
          0,
          30
         ],
         "title": {
          "text": "Time (weeks)"
         },
         "type": "linear"
        },
        "yaxis": {
         "autorange": true,
         "range": [
          -0.05555555555555556,
          1.0555555555555556
         ],
         "title": {
          "text": "Percent of Population x100"
         },
         "type": "linear"
        }
       }
      },
      "image/png": "[encoded data removed]",
      "text/html": [
       "<div>                            <div id=\"8dd37f6c-42b7-44aa-a7e1-28f6500f759b\" class=\"plotly-graph-div\" style=\"height:525px; width:100%;\"></div>            <script type=\"text/javascript\">                require([\"plotly\"], function(Plotly) {                    window.PLOTLYENV=window.PLOTLYENV || {};                                    if (document.getElementById(\"8dd37f6c-42b7-44aa-a7e1-28f6500f759b\")) {                    Plotly.newPlot(                        \"8dd37f6c-42b7-44aa-a7e1-28f6500f759b\",                        [{\"name\": \"Suseptible\", \"type\": \"scatter\", \"x\": [0.0, 1.0344827586206897, 2.0689655172413794, 3.1034482758620694, 4.137931034482759, 5.172413793103448, 6.206896551724139, 7.241379310344828, 8.275862068965518, 9.310344827586208, 10.344827586206897, 11.379310344827587, 12.413793103448278, 13.448275862068966, 14.482758620689657, 15.517241379310345, 16.551724137931036, 17.586206896551726, 18.620689655172416, 19.655172413793103, 20.689655172413794, 21.724137931034484, 22.758620689655174, 23.793103448275865, 24.827586206896555, 25.862068965517242, 26.896551724137932, 27.931034482758623, 28.965517241379313, 30.0], \"y\": [1.0, 0.9999905367019475, 0.9999444039845357, 0.9997199055490891, 0.9986287805964712, 0.9933611240375511, 0.9687265405918138, 0.8685387920606171, 0.6125577813288633, 0.33621482096018745, 0.1952322513541811, 0.13907562119677827, 0.11613360079683553, 0.10617093273701166, 0.1016650330706621, 0.09958211345902024, 0.09860870479498973, 0.09815139861515901, 0.09793600730501685, 0.09783445187039513, 0.09778652889809435, 0.09776391230220942, 0.09775323582362273, 0.09774819605159049, 0.09774581856444443, 0.0977446960445788, 0.09774416595097704, 0.09774391675056021, 0.09774379784378644, 0.09774374149845566]}, {\"name\": \"Exposed\", \"type\": \"scatter\", \"x\": [0.0, 1.0344827586206897, 2.0689655172413794, 3.1034482758620694, 4.137931034482759, 5.172413793103448, 6.206896551724139, 7.241379310344828, 8.275862068965518, 9.310344827586208, 10.344827586206897, 11.379310344827587, 12.413793103448278, 13.448275862068966, 14.482758620689657, 15.517241379310345, 16.551724137931036, 17.586206896551726, 18.620689655172416, 19.655172413793103, 20.689655172413794, 21.724137931034484, 22.758620689655174, 23.793103448275865, 24.827586206896555, 25.862068965517242, 26.896551724137932, 27.931034482758623, 28.965517241379313, 30.0], \"y\": [0.0, 3.278835349871798e-06, 1.6054713224563325e-05, 7.815181876082089e-05, 0.0003796637958907145, 0.001828342941014457, 0.008448681806106478, 0.032603607062268475, 0.07036101771461468, 0.05892972898290266, 0.02673811673947217, 0.010636505772848316, 0.004424814478286005, 0.001946547602375547, 0.0008866763122742295, 0.00041135959740418583, 0.00019257419120843, 9.054867292290997e-05, 4.266323750574583e-05, 2.012211582872254e-05, 9.49531732710071e-06, 4.4815263490262995e-06, 2.11527213814806e-06, 9.979187938669294e-07, 4.7549727558082765e-07, 2.1443448005983903e-07, 1.0474813313517564e-07, 4.9648603249648084e-08, 2.1017205221132322e-08, 1.0094326265848119e-08]}, {\"name\": \"Infected\", \"type\": \"scatter\", \"x\": [0.0, 1.0344827586206897, 2.0689655172413794, 3.1034482758620694, 4.137931034482759, 5.172413793103448, 6.206896551724139, 7.241379310344828, 8.275862068965518, 9.310344827586208, 10.344827586206897, 11.379310344827587, 12.413793103448278, 13.448275862068966, 14.482758620689657, 15.517241379310345, 16.551724137931036, 17.586206896551726, 18.620689655172416, 19.655172413793103, 20.689655172413794, 21.724137931034484, 22.758620689655174, 23.793103448275865, 24.827586206896555, 25.862068965517242, 26.896551724137932, 27.931034482758623, 28.965517241379313, 30.0], \"y\": [1.49e-06, 7.281520847659543e-06, 3.5514158298090435e-05, 0.00017289255100808352, 0.0008403107878164278, 0.004055890335707025, 0.01894703670868505, 0.07677676362617106, 0.19728025066598853, 0.24086473519872, 0.17094586066078343, 0.09550370500583093, 0.048498408734851624, 0.023661027220485027, 0.0113405544397421, 0.005391539308818292, 0.0025536083906782543, 0.0012073459679500316, 0.0005703443506274656, 0.0002693498131642467, 0.0001271693121937935, 6.003678947089602e-05, 2.833876167380736e-05, 1.3374275169142249e-05, 6.31449529906731e-06, 2.9811711934911414e-06, 1.4070393674772127e-06, 6.670258278450828e-07, 3.139251148852476e-07, 1.466041297795649e-07]}, {\"name\": \"Recovered\", \"type\": \"scatter\", \"x\": [0.0, 1.0344827586206897, 2.0689655172413794, 3.1034482758620694, 4.137931034482759, 5.172413793103448, 6.206896551724139, 7.241379310344828, 8.275862068965518, 9.310344827586208, 10.344827586206897, 11.379310344827587, 12.413793103448278, 13.448275862068966, 14.482758620689657, 15.517241379310345, 16.551724137931036, 17.586206896551726, 18.620689655172416, 19.655172413793103, 20.689655172413794, 21.724137931034484, 22.758620689655174, 23.793103448275865, 24.827586206896555, 25.862068965517242, 26.896551724137932, 27.931034482758623, 28.965517241379313, 30.0], \"y\": [0.0, 3.6717772048548104e-06, 2.157185716622159e-05, 0.00010869189990290304, 0.0005323986157124419, 0.002584475626741922, 0.012327912699501276, 0.05468593431321194, 0.19016345800514833, 0.42292193384109283, 0.6338233779850359, 0.765422163797391, 0.8353694804683132, 0.8701695300425039, 0.8869959024895963, 0.8950278372321621, 0.8988391768143325, 0.9006427454168912, 0.9014951383443558, 0.901897688316441, 0.9020877917897121, 0.90217754090832, 0.9022199154147037, 0.9022399196732406, 0.9022493569402569, 0.902253812784228, 0.9022559170096559, 0.9022569062236123, 0.9022573782310991, 0.9022576018974149]}],                        {\"template\": {\"data\": {\"bar\": [{\"error_x\": {\"color\": \"#2a3f5f\"}, \"error_y\": {\"color\": \"#2a3f5f\"}, \"marker\": {\"line\": {\"color\": \"#E5ECF6\", \"width\": 0.5}}, \"type\": \"bar\"}], \"barpolar\": [{\"marker\": {\"line\": {\"color\": \"#E5ECF6\", \"width\": 0.5}}, \"type\": \"barpolar\"}], \"carpet\": [{\"aaxis\": {\"endlinecolor\": \"#2a3f5f\", \"gridcolor\": \"white\", \"linecolor\": \"white\", \"minorgridcolor\": \"white\", \"startlinecolor\": \"#2a3f5f\"}, \"baxis\": {\"endlinecolor\": \"#2a3f5f\", \"gridcolor\": \"white\", \"linecolor\": \"white\", \"minorgridcolor\": \"white\", \"startlinecolor\": \"#2a3f5f\"}, \"type\": \"carpet\"}], \"choropleth\": [{\"colorbar\": {\"outlinewidth\": 0, \"ticks\": \"\"}, \"type\": \"choropleth\"}], \"contour\": [{\"colorbar\": {\"outlinewidth\": 0, \"ticks\": \"\"}, \"colorscale\": [[0.0, \"#0d0887\"], [0.1111111111111111, \"#46039f\"], [0.2222222222222222, \"#7201a8\"], [0.3333333333333333, \"#9c179e\"], [0.4444444444444444, \"#bd3786\"], [0.5555555555555556, \"#d8576b\"], [0.6666666666666666, \"#ed7953\"], [0.7777777777777778, \"#fb9f3a\"], [0.8888888888888888, \"#fdca26\"], [1.0, \"#f0f921\"]], \"type\": \"contour\"}], \"contourcarpet\": [{\"colorbar\": {\"outlinewidth\": 0, \"ticks\": \"\"}, \"type\": \"contourcarpet\"}], \"heatmap\": [{\"colorbar\": {\"outlinewidth\": 0, \"ticks\": \"\"}, \"colorscale\": [[0.0, \"#0d0887\"], [0.1111111111111111, \"#46039f\"], [0.2222222222222222, \"#7201a8\"], [0.3333333333333333, \"#9c179e\"], [0.4444444444444444, \"#bd3786\"], [0.5555555555555556, \"#d8576b\"], [0.6666666666666666, \"#ed7953\"], [0.7777777777777778, \"#fb9f3a\"], [0.8888888888888888, \"#fdca26\"], [1.0, \"#f0f921\"]], \"type\": \"heatmap\"}], \"heatmapgl\": [{\"colorbar\": {\"outlinewidth\": 0, \"ticks\": \"\"}, \"colorscale\": [[0.0, \"#0d0887\"], [0.1111111111111111, \"#46039f\"], [0.2222222222222222, \"#7201a8\"], [0.3333333333333333, \"#9c179e\"], [0.4444444444444444, \"#bd3786\"], [0.5555555555555556, \"#d8576b\"], [0.6666666666666666, \"#ed7953\"], [0.7777777777777778, \"#fb9f3a\"], [0.8888888888888888, \"#fdca26\"], [1.0, \"#f0f921\"]], \"type\": \"heatmapgl\"}], \"histogram\": [{\"marker\": {\"colorbar\": {\"outlinewidth\": 0, \"ticks\": \"\"}}, \"type\": \"histogram\"}], \"histogram2d\": [{\"colorbar\": {\"outlinewidth\": 0, \"ticks\": \"\"}, \"colorscale\": [[0.0, \"#0d0887\"], [0.1111111111111111, \"#46039f\"], [0.2222222222222222, \"#7201a8\"], [0.3333333333333333, \"#9c179e\"], [0.4444444444444444, \"#bd3786\"], [0.5555555555555556, \"#d8576b\"], [0.6666666666666666, \"#ed7953\"], [0.7777777777777778, \"#fb9f3a\"], [0.8888888888888888, \"#fdca26\"], [1.0, \"#f0f921\"]], \"type\": \"histogram2d\"}], \"histogram2dcontour\": [{\"colorbar\": {\"outlinewidth\": 0, \"ticks\": \"\"}, \"colorscale\": [[0.0, \"#0d0887\"], [0.1111111111111111, \"#46039f\"], [0.2222222222222222, \"#7201a8\"], [0.3333333333333333, \"#9c179e\"], [0.4444444444444444, \"#bd3786\"], [0.5555555555555556, \"#d8576b\"], [0.6666666666666666, \"#ed7953\"], [0.7777777777777778, \"#fb9f3a\"], [0.8888888888888888, \"#fdca26\"], [1.0, \"#f0f921\"]], \"type\": \"histogram2dcontour\"}], \"mesh3d\": [{\"colorbar\": {\"outlinewidth\": 0, \"ticks\": \"\"}, \"type\": \"mesh3d\"}], \"parcoords\": [{\"line\": {\"colorbar\": {\"outlinewidth\": 0, \"ticks\": \"\"}}, \"type\": \"parcoords\"}], \"pie\": [{\"automargin\": true, \"type\": \"pie\"}], \"scatter\": [{\"marker\": {\"colorbar\": {\"outlinewidth\": 0, \"ticks\": \"\"}}, \"type\": \"scatter\"}], \"scatter3d\": [{\"line\": {\"colorbar\": {\"outlinewidth\": 0, \"ticks\": \"\"}}, \"marker\": {\"colorbar\": {\"outlinewidth\": 0, \"ticks\": \"\"}}, \"type\": \"scatter3d\"}], \"scattercarpet\": [{\"marker\": {\"colorbar\": {\"outlinewidth\": 0, \"ticks\": \"\"}}, \"type\": \"scattercarpet\"}], \"scattergeo\": [{\"marker\": {\"colorbar\": {\"outlinewidth\": 0, \"ticks\": \"\"}}, \"type\": \"scattergeo\"}], \"scattergl\": [{\"marker\": {\"colorbar\": {\"outlinewidth\": 0, \"ticks\": \"\"}}, \"type\": \"scattergl\"}], \"scattermapbox\": [{\"marker\": {\"colorbar\": {\"outlinewidth\": 0, \"ticks\": \"\"}}, \"type\": \"scattermapbox\"}], \"scatterpolar\": [{\"marker\": {\"colorbar\": {\"outlinewidth\": 0, \"ticks\": \"\"}}, \"type\": \"scatterpolar\"}], \"scatterpolargl\": [{\"marker\": {\"colorbar\": {\"outlinewidth\": 0, \"ticks\": \"\"}}, \"type\": \"scatterpolargl\"}], \"scatterternary\": [{\"marker\": {\"colorbar\": {\"outlinewidth\": 0, \"ticks\": \"\"}}, \"type\": \"scatterternary\"}], \"surface\": [{\"colorbar\": {\"outlinewidth\": 0, \"ticks\": \"\"}, \"colorscale\": [[0.0, \"#0d0887\"], [0.1111111111111111, \"#46039f\"], [0.2222222222222222, \"#7201a8\"], [0.3333333333333333, \"#9c179e\"], [0.4444444444444444, \"#bd3786\"], [0.5555555555555556, \"#d8576b\"], [0.6666666666666666, \"#ed7953\"], [0.7777777777777778, \"#fb9f3a\"], [0.8888888888888888, \"#fdca26\"], [1.0, \"#f0f921\"]], \"type\": \"surface\"}], \"table\": [{\"cells\": {\"fill\": {\"color\": \"#EBF0F8\"}, \"line\": {\"color\": \"white\"}}, \"header\": {\"fill\": {\"color\": \"#C8D4E3\"}, \"line\": {\"color\": \"white\"}}, \"type\": \"table\"}]}, \"layout\": {\"annotationdefaults\": {\"arrowcolor\": \"#2a3f5f\", \"arrowhead\": 0, \"arrowwidth\": 1}, \"coloraxis\": {\"colorbar\": {\"outlinewidth\": 0, \"ticks\": \"\"}}, \"colorscale\": {\"diverging\": [[0, \"#8e0152\"], [0.1, \"#c51b7d\"], [0.2, \"#de77ae\"], [0.3, \"#f1b6da\"], [0.4, \"#fde0ef\"], [0.5, \"#f7f7f7\"], [0.6, \"#e6f5d0\"], [0.7, \"#b8e186\"], [0.8, \"#7fbc41\"], [0.9, \"#4d9221\"], [1, \"#276419\"]], \"sequential\": [[0.0, \"#0d0887\"], [0.1111111111111111, \"#46039f\"], [0.2222222222222222, \"#7201a8\"], [0.3333333333333333, \"#9c179e\"], [0.4444444444444444, \"#bd3786\"], [0.5555555555555556, \"#d8576b\"], [0.6666666666666666, \"#ed7953\"], [0.7777777777777778, \"#fb9f3a\"], [0.8888888888888888, \"#fdca26\"], [1.0, \"#f0f921\"]], \"sequentialminus\": [[0.0, \"#0d0887\"], [0.1111111111111111, \"#46039f\"], [0.2222222222222222, \"#7201a8\"], [0.3333333333333333, \"#9c179e\"], [0.4444444444444444, \"#bd3786\"], [0.5555555555555556, \"#d8576b\"], [0.6666666666666666, \"#ed7953\"], [0.7777777777777778, \"#fb9f3a\"], [0.8888888888888888, \"#fdca26\"], [1.0, \"#f0f921\"]]}, \"colorway\": [\"#636efa\", \"#EF553B\", \"#00cc96\", \"#ab63fa\", \"#FFA15A\", \"#19d3f3\", \"#FF6692\", \"#B6E880\", \"#FF97FF\", \"#FECB52\"], \"font\": {\"color\": \"#2a3f5f\"}, \"geo\": {\"bgcolor\": \"white\", \"lakecolor\": \"white\", \"landcolor\": \"#E5ECF6\", \"showlakes\": true, \"showland\": true, \"subunitcolor\": \"white\"}, \"hoverlabel\": {\"align\": \"left\"}, \"hovermode\": \"closest\", \"mapbox\": {\"style\": \"light\"}, \"paper_bgcolor\": \"white\", \"plot_bgcolor\": \"#E5ECF6\", \"polar\": {\"angularaxis\": {\"gridcolor\": \"white\", \"linecolor\": \"white\", \"ticks\": \"\"}, \"bgcolor\": \"#E5ECF6\", \"radialaxis\": {\"gridcolor\": \"white\", \"linecolor\": \"white\", \"ticks\": \"\"}}, \"scene\": {\"xaxis\": {\"backgroundcolor\": \"#E5ECF6\", \"gridcolor\": \"white\", \"gridwidth\": 2, \"linecolor\": \"white\", \"showbackground\": true, \"ticks\": \"\", \"zerolinecolor\": \"white\"}, \"yaxis\": {\"backgroundcolor\": \"#E5ECF6\", \"gridcolor\": \"white\", \"gridwidth\": 2, \"linecolor\": \"white\", \"showbackground\": true, \"ticks\": \"\", \"zerolinecolor\": \"white\"}, \"zaxis\": {\"backgroundcolor\": \"#E5ECF6\", \"gridcolor\": \"white\", \"gridwidth\": 2, \"linecolor\": \"white\", \"showbackground\": true, \"ticks\": \"\", \"zerolinecolor\": \"white\"}}, \"shapedefaults\": {\"line\": {\"color\": \"#2a3f5f\"}}, \"ternary\": {\"aaxis\": {\"gridcolor\": \"white\", \"linecolor\": \"white\", \"ticks\": \"\"}, \"baxis\": {\"gridcolor\": \"white\", \"linecolor\": \"white\", \"ticks\": \"\"}, \"bgcolor\": \"#E5ECF6\", \"caxis\": {\"gridcolor\": \"white\", \"linecolor\": \"white\", \"ticks\": \"\"}}, \"title\": {\"x\": 0.05}, \"xaxis\": {\"automargin\": true, \"gridcolor\": \"white\", \"linecolor\": \"white\", \"ticks\": \"\", \"title\": {\"standoff\": 15}, \"zerolinecolor\": \"white\", \"zerolinewidth\": 2}, \"yaxis\": {\"automargin\": true, \"gridcolor\": \"white\", \"linecolor\": \"white\", \"ticks\": \"\", \"title\": {\"standoff\": 15}, \"zerolinecolor\": \"white\", \"zerolinewidth\": 2}}}, \"title\": {\"text\": \"SEIR Model - No Restrictions\"}, \"xaxis\": {\"title\": {\"text\": \"Time (weeks)\"}}, \"yaxis\": {\"title\": {\"text\": \"Percent of Population x100\"}}},                        {\"responsive\": true}                    ).then(function(){\n",
       "                            \n",
       "var gd = document.getElementById('8dd37f6c-42b7-44aa-a7e1-28f6500f759b');\n",
       "var x = new MutationObserver(function (mutations, observer) {{\n",
       "        var display = window.getComputedStyle(gd).display;\n",
       "        if (!display || display === 'none') {{\n",
       "            console.log([gd, 'removed!']);\n",
       "            Plotly.purge(gd);\n",
       "            observer.disconnect();\n",
       "        }}\n",
       "}});\n",
       "\n",
       "// Listen for the removal of the full notebook cells\n",
       "var notebookContainer = gd.closest('#notebook-container');\n",
       "if (notebookContainer) {{\n",
       "    x.observe(notebookContainer, {childList: true});\n",
       "}}\n",
       "\n",
       "// Listen for the clearing of the current output cell\n",
       "var outputEl = gd.closest('.output');\n",
       "if (outputEl) {{\n",
       "    x.observe(outputEl, {childList: true});\n",
       "}}\n",
       "\n",
       "                        })                };                });            </script>        </div>"
      ]
     },
     "metadata": {},
     "output_type": "display_data"
    }
   ],
   "source": [
    "fig.add_trace(go.Scatter(x=t, y=SEIR[:,0], name='Suseptible'))\n",
    "fig.add_trace(go.Scatter(x=t, y=SEIR[:,1], name='Exposed'))\n",
    "fig.add_trace(go.Scatter(x=t, y=SEIR[:,2], name='Infected'))\n",
    "fig.add_trace(go.Scatter(x=t, y=SEIR[:,3], name='Recovered')) \n",
    "fig.layout.update(dict(title='SEIR Model - No Restrictions',\n",
    "                       xaxis=dict(title='Time (weeks)'),\n",
    "                       yaxis=dict(title='Percent of Population x100')))\n",
    "fig.show()"
   ]
  },
  {
   "cell_type": "markdown",
   "metadata": {},
   "source": [
    "# Basic graph of COVID-19 with restrictions implemented - marginal effect    "
   ]
  },
  {
   "cell_type": "code",
   "execution_count": 218,
   "metadata": {},
   "outputs": [],
   "source": [
    "# Initial number of infected and recovered individuals, I0 and R0.\n",
    "# Everyone else, S0, is initially susceptible to infection. \n",
    "# Initial number of exposed individuals, E0\n",
    "I0 = 10\n",
    "S0 = 670000\n",
    "R0 = 0 \n",
    "E0 = 0 \n",
    "# Contraction rate, beta, and mean recovery rate, gamma, incubation period, kappa.\n",
    "beta, gamma, kappa = 2, .97, 4 "
   ]
  },
  {
   "cell_type": "code",
   "execution_count": 219,
   "metadata": {},
   "outputs": [],
   "source": [
    "#Y axis represents S, E, I and R values\n",
    "#X axis represents time\n",
    "t = linspace(0, 30, 30)\n",
    "SEIR = odeint(dSEIRdt, [1, 0,.00000149, 0], t, (beta, gamma, kappa))  \n",
    "fig = go.Figure()"
   ]
  },
  {
   "cell_type": "code",
   "execution_count": 220,
   "metadata": {},
   "outputs": [
    {
     "data": {
      "application/vnd.plotly.v1+json": {
       "config": {
        "plotlyServerURL": "https://plot.ly"
       },
       "data": [
        {
         "name": "Suseptible",
         "type": "scatter",
         "x": [
          0,
          1.0344827586206897,
          2.0689655172413794,
          3.1034482758620694,
          4.137931034482759,
          5.172413793103448,
          6.206896551724139,
          7.241379310344828,
          8.275862068965518,
          9.310344827586208,
          10.344827586206897,
          11.379310344827587,
          12.413793103448278,
          13.448275862068966,
          14.482758620689657,
          15.517241379310345,
          16.551724137931036,
          17.586206896551726,
          18.620689655172416,
          19.655172413793103,
          20.689655172413794,
          21.724137931034484,
          22.758620689655174,
          23.793103448275865,
          24.827586206896555,
          25.862068965517242,
          26.896551724137932,
          27.931034482758623,
          28.965517241379313,
          30
         ],
         "y": [
          1,
          0.9999944811286394,
          0.9999784599598124,
          0.999931950290801,
          0.9997970187822816,
          0.9994056645813169,
          0.9982723645622116,
          0.9950044643258019,
          0.985695510950904,
          0.9600717694771559,
          0.8956711414681059,
          0.7645202658368299,
          0.5805670636721493,
          0.41549606912688825,
          0.30975559771648137,
          0.251825488527584,
          0.22138156255666624,
          0.20538152190574635,
          0.19690116114362732,
          0.19237339917356483,
          0.18994436540683748,
          0.18863754252437157,
          0.18793332289900438,
          0.18755351556095198,
          0.1873485603040167,
          0.18723793660506505,
          0.18717821308743865,
          0.18714597190150178,
          0.18712857164958516,
          0.18711917018518717
         ]
        },
        {
         "name": "Exposed",
         "type": "scatter",
         "x": [
          0,
          1.0344827586206897,
          2.0689655172413794,
          3.1034482758620694,
          4.137931034482759,
          5.172413793103448,
          6.206896551724139,
          7.241379310344828,
          8.275862068965518,
          9.310344827586208,
          10.344827586206897,
          11.379310344827587,
          12.413793103448278,
          13.448275862068966,
          14.482758620689657,
          15.517241379310345,
          16.551724137931036,
          17.586206896551726,
          18.620689655172416,
          19.655172413793103,
          20.689655172413794,
          21.724137931034484,
          22.758620689655174,
          23.793103448275865,
          24.827586206896555,
          25.862068965517242,
          26.896551724137932,
          27.931034482758623,
          28.965517241379313,
          30
         ],
         "y": [
          0,
          1.7119679566474609e-06,
          5.005829429476762e-06,
          1.4526401579869679e-05,
          4.214985529467231e-05,
          0.00012222490851838318,
          0.00035376859599148036,
          0.0010185640756766986,
          0.0028888662640116497,
          0.007855465953375738,
          0.019121712269426633,
          0.03625621510204382,
          0.04533917573415782,
          0.036417354399116496,
          0.021975217043661725,
          0.011822429502042672,
          0.006202875713332286,
          0.0032672165622770564,
          0.0017355369317452146,
          0.0009280296776655546,
          0.0004983250120764669,
          0.00026823703501077656,
          0.0001445855931036012,
          7.799621511565333e-05,
          4.2091168924174264e-05,
          2.272021329551131e-05,
          1.2265049379257927e-05,
          6.620716329058291e-06,
          3.5893050739148597e-06,
          1.9316960587903274e-06
         ]
        },
        {
         "name": "Infected",
         "type": "scatter",
         "x": [
          0,
          1.0344827586206897,
          2.0689655172413794,
          3.1034482758620694,
          4.137931034482759,
          5.172413793103448,
          6.206896551724139,
          7.241379310344828,
          8.275862068965518,
          9.310344827586208,
          10.344827586206897,
          11.379310344827587,
          12.413793103448278,
          13.448275862068966,
          14.482758620689657,
          15.517241379310345,
          16.551724137931036,
          17.586206896551726,
          18.620689655172416,
          19.655172413793103,
          20.689655172413794,
          21.724137931034484,
          22.758620689655174,
          23.793103448275865,
          24.827586206896555,
          25.862068965517242,
          26.896551724137932,
          27.931034482758623,
          28.965517241379313,
          30
         ],
         "y": [
          1.49e-06,
          4.332211276792281e-06,
          1.2583007249818526e-05,
          3.6534473555442404e-05,
          0.00010601531887725687,
          0.00030748697543634264,
          0.0008904971816051586,
          0.0025681170803668442,
          0.007318189463299984,
          0.020167262095258154,
          0.05089203577437678,
          0.10525541003665624,
          0.155715645698526,
          0.1585384873026857,
          0.12183953846738806,
          0.07935172162098902,
          0.04730408879708629,
          0.026920189988729533,
          0.014949336418140592,
          0.008194243554735567,
          0.004460346531543121,
          0.0024188221044068553,
          0.0013090586146865093,
          0.0007077025188759461,
          0.00038236833440665575,
          0.00020652946401848377,
          0.00011152735895550164,
          6.02208030999772e-05,
          3.2525064841747854e-05,
          1.7559178062267522e-05
         ]
        },
        {
         "name": "Recovered",
         "type": "scatter",
         "x": [
          0,
          1.0344827586206897,
          2.0689655172413794,
          3.1034482758620694,
          4.137931034482759,
          5.172413793103448,
          6.206896551724139,
          7.241379310344828,
          8.275862068965518,
          9.310344827586208,
          10.344827586206897,
          11.379310344827587,
          12.413793103448278,
          13.448275862068966,
          14.482758620689657,
          15.517241379310345,
          16.551724137931036,
          17.586206896551726,
          18.620689655172416,
          19.655172413793103,
          20.689655172413794,
          21.724137931034484,
          22.758620689655174,
          23.793103448275865,
          24.827586206896555,
          25.862068965517242,
          26.896551724137932,
          27.931034482758623,
          28.965517241379313,
          30
         ],
         "y": [
          0,
          2.6766600839060316e-06,
          1.044703293798151e-05,
          3.300523564384778e-05,
          9.845589884135156e-05,
          0.00028833844324680576,
          0.000838628256183115,
          0.002428908593831035,
          0.006987789585795809,
          0.019762458427585998,
          0.0534383127575172,
          0.13022581412651374,
          0.2637187806293247,
          0.42596693357042587,
          0.5684063538161304,
          0.6688242798514269,
          0.7313158386462474,
          0.7676997781055239,
          0.788150992438232,
          0.7994338472716994,
          0.8055967780616193,
          0.8089451253712215,
          0.8107591084863094,
          0.8117402719201725,
          0.812270561361577,
          0.8125570239309169,
          0.8127117495536061,
          0.8127952972953985,
          0.8128403932855734,
          0.812864760636751
         ]
        }
       ],
       "layout": {
        "autosize": true,
        "template": {
         "data": {
          "bar": [
           {
            "error_x": {
             "color": "#2a3f5f"
            },
            "error_y": {
             "color": "#2a3f5f"
            },
            "marker": {
             "line": {
              "color": "#E5ECF6",
              "width": 0.5
             }
            },
            "type": "bar"
           }
          ],
          "barpolar": [
           {
            "marker": {
             "line": {
              "color": "#E5ECF6",
              "width": 0.5
             }
            },
            "type": "barpolar"
           }
          ],
          "carpet": [
           {
            "aaxis": {
             "endlinecolor": "#2a3f5f",
             "gridcolor": "white",
             "linecolor": "white",
             "minorgridcolor": "white",
             "startlinecolor": "#2a3f5f"
            },
            "baxis": {
             "endlinecolor": "#2a3f5f",
             "gridcolor": "white",
             "linecolor": "white",
             "minorgridcolor": "white",
             "startlinecolor": "#2a3f5f"
            },
            "type": "carpet"
           }
          ],
          "choropleth": [
           {
            "colorbar": {
             "outlinewidth": 0,
             "ticks": ""
            },
            "type": "choropleth"
           }
          ],
          "contour": [
           {
            "colorbar": {
             "outlinewidth": 0,
             "ticks": ""
            },
            "colorscale": [
             [
              0,
              "#0d0887"
             ],
             [
              0.1111111111111111,
              "#46039f"
             ],
             [
              0.2222222222222222,
              "#7201a8"
             ],
             [
              0.3333333333333333,
              "#9c179e"
             ],
             [
              0.4444444444444444,
              "#bd3786"
             ],
             [
              0.5555555555555556,
              "#d8576b"
             ],
             [
              0.6666666666666666,
              "#ed7953"
             ],
             [
              0.7777777777777778,
              "#fb9f3a"
             ],
             [
              0.8888888888888888,
              "#fdca26"
             ],
             [
              1,
              "#f0f921"
             ]
            ],
            "type": "contour"
           }
          ],
          "contourcarpet": [
           {
            "colorbar": {
             "outlinewidth": 0,
             "ticks": ""
            },
            "type": "contourcarpet"
           }
          ],
          "heatmap": [
           {
            "colorbar": {
             "outlinewidth": 0,
             "ticks": ""
            },
            "colorscale": [
             [
              0,
              "#0d0887"
             ],
             [
              0.1111111111111111,
              "#46039f"
             ],
             [
              0.2222222222222222,
              "#7201a8"
             ],
             [
              0.3333333333333333,
              "#9c179e"
             ],
             [
              0.4444444444444444,
              "#bd3786"
             ],
             [
              0.5555555555555556,
              "#d8576b"
             ],
             [
              0.6666666666666666,
              "#ed7953"
             ],
             [
              0.7777777777777778,
              "#fb9f3a"
             ],
             [
              0.8888888888888888,
              "#fdca26"
             ],
             [
              1,
              "#f0f921"
             ]
            ],
            "type": "heatmap"
           }
          ],
          "heatmapgl": [
           {
            "colorbar": {
             "outlinewidth": 0,
             "ticks": ""
            },
            "colorscale": [
             [
              0,
              "#0d0887"
             ],
             [
              0.1111111111111111,
              "#46039f"
             ],
             [
              0.2222222222222222,
              "#7201a8"
             ],
             [
              0.3333333333333333,
              "#9c179e"
             ],
             [
              0.4444444444444444,
              "#bd3786"
             ],
             [
              0.5555555555555556,
              "#d8576b"
             ],
             [
              0.6666666666666666,
              "#ed7953"
             ],
             [
              0.7777777777777778,
              "#fb9f3a"
             ],
             [
              0.8888888888888888,
              "#fdca26"
             ],
             [
              1,
              "#f0f921"
             ]
            ],
            "type": "heatmapgl"
           }
          ],
          "histogram": [
           {
            "marker": {
             "colorbar": {
              "outlinewidth": 0,
              "ticks": ""
             }
            },
            "type": "histogram"
           }
          ],
          "histogram2d": [
           {
            "colorbar": {
             "outlinewidth": 0,
             "ticks": ""
            },
            "colorscale": [
             [
              0,
              "#0d0887"
             ],
             [
              0.1111111111111111,
              "#46039f"
             ],
             [
              0.2222222222222222,
              "#7201a8"
             ],
             [
              0.3333333333333333,
              "#9c179e"
             ],
             [
              0.4444444444444444,
              "#bd3786"
             ],
             [
              0.5555555555555556,
              "#d8576b"
             ],
             [
              0.6666666666666666,
              "#ed7953"
             ],
             [
              0.7777777777777778,
              "#fb9f3a"
             ],
             [
              0.8888888888888888,
              "#fdca26"
             ],
             [
              1,
              "#f0f921"
             ]
            ],
            "type": "histogram2d"
           }
          ],
          "histogram2dcontour": [
           {
            "colorbar": {
             "outlinewidth": 0,
             "ticks": ""
            },
            "colorscale": [
             [
              0,
              "#0d0887"
             ],
             [
              0.1111111111111111,
              "#46039f"
             ],
             [
              0.2222222222222222,
              "#7201a8"
             ],
             [
              0.3333333333333333,
              "#9c179e"
             ],
             [
              0.4444444444444444,
              "#bd3786"
             ],
             [
              0.5555555555555556,
              "#d8576b"
             ],
             [
              0.6666666666666666,
              "#ed7953"
             ],
             [
              0.7777777777777778,
              "#fb9f3a"
             ],
             [
              0.8888888888888888,
              "#fdca26"
             ],
             [
              1,
              "#f0f921"
             ]
            ],
            "type": "histogram2dcontour"
           }
          ],
          "mesh3d": [
           {
            "colorbar": {
             "outlinewidth": 0,
             "ticks": ""
            },
            "type": "mesh3d"
           }
          ],
          "parcoords": [
           {
            "line": {
             "colorbar": {
              "outlinewidth": 0,
              "ticks": ""
             }
            },
            "type": "parcoords"
           }
          ],
          "pie": [
           {
            "automargin": true,
            "type": "pie"
           }
          ],
          "scatter": [
           {
            "marker": {
             "colorbar": {
              "outlinewidth": 0,
              "ticks": ""
             }
            },
            "type": "scatter"
           }
          ],
          "scatter3d": [
           {
            "line": {
             "colorbar": {
              "outlinewidth": 0,
              "ticks": ""
             }
            },
            "marker": {
             "colorbar": {
              "outlinewidth": 0,
              "ticks": ""
             }
            },
            "type": "scatter3d"
           }
          ],
          "scattercarpet": [
           {
            "marker": {
             "colorbar": {
              "outlinewidth": 0,
              "ticks": ""
             }
            },
            "type": "scattercarpet"
           }
          ],
          "scattergeo": [
           {
            "marker": {
             "colorbar": {
              "outlinewidth": 0,
              "ticks": ""
             }
            },
            "type": "scattergeo"
           }
          ],
          "scattergl": [
           {
            "marker": {
             "colorbar": {
              "outlinewidth": 0,
              "ticks": ""
             }
            },
            "type": "scattergl"
           }
          ],
          "scattermapbox": [
           {
            "marker": {
             "colorbar": {
              "outlinewidth": 0,
              "ticks": ""
             }
            },
            "type": "scattermapbox"
           }
          ],
          "scatterpolar": [
           {
            "marker": {
             "colorbar": {
              "outlinewidth": 0,
              "ticks": ""
             }
            },
            "type": "scatterpolar"
           }
          ],
          "scatterpolargl": [
           {
            "marker": {
             "colorbar": {
              "outlinewidth": 0,
              "ticks": ""
             }
            },
            "type": "scatterpolargl"
           }
          ],
          "scatterternary": [
           {
            "marker": {
             "colorbar": {
              "outlinewidth": 0,
              "ticks": ""
             }
            },
            "type": "scatterternary"
           }
          ],
          "surface": [
           {
            "colorbar": {
             "outlinewidth": 0,
             "ticks": ""
            },
            "colorscale": [
             [
              0,
              "#0d0887"
             ],
             [
              0.1111111111111111,
              "#46039f"
             ],
             [
              0.2222222222222222,
              "#7201a8"
             ],
             [
              0.3333333333333333,
              "#9c179e"
             ],
             [
              0.4444444444444444,
              "#bd3786"
             ],
             [
              0.5555555555555556,
              "#d8576b"
             ],
             [
              0.6666666666666666,
              "#ed7953"
             ],
             [
              0.7777777777777778,
              "#fb9f3a"
             ],
             [
              0.8888888888888888,
              "#fdca26"
             ],
             [
              1,
              "#f0f921"
             ]
            ],
            "type": "surface"
           }
          ],
          "table": [
           {
            "cells": {
             "fill": {
              "color": "#EBF0F8"
             },
             "line": {
              "color": "white"
             }
            },
            "header": {
             "fill": {
              "color": "#C8D4E3"
             },
             "line": {
              "color": "white"
             }
            },
            "type": "table"
           }
          ]
         },
         "layout": {
          "annotationdefaults": {
           "arrowcolor": "#2a3f5f",
           "arrowhead": 0,
           "arrowwidth": 1
          },
          "coloraxis": {
           "colorbar": {
            "outlinewidth": 0,
            "ticks": ""
           }
          },
          "colorscale": {
           "diverging": [
            [
             0,
             "#8e0152"
            ],
            [
             0.1,
             "#c51b7d"
            ],
            [
             0.2,
             "#de77ae"
            ],
            [
             0.3,
             "#f1b6da"
            ],
            [
             0.4,
             "#fde0ef"
            ],
            [
             0.5,
             "#f7f7f7"
            ],
            [
             0.6,
             "#e6f5d0"
            ],
            [
             0.7,
             "#b8e186"
            ],
            [
             0.8,
             "#7fbc41"
            ],
            [
             0.9,
             "#4d9221"
            ],
            [
             1,
             "#276419"
            ]
           ],
           "sequential": [
            [
             0,
             "#0d0887"
            ],
            [
             0.1111111111111111,
             "#46039f"
            ],
            [
             0.2222222222222222,
             "#7201a8"
            ],
            [
             0.3333333333333333,
             "#9c179e"
            ],
            [
             0.4444444444444444,
             "#bd3786"
            ],
            [
             0.5555555555555556,
             "#d8576b"
            ],
            [
             0.6666666666666666,
             "#ed7953"
            ],
            [
             0.7777777777777778,
             "#fb9f3a"
            ],
            [
             0.8888888888888888,
             "#fdca26"
            ],
            [
             1,
             "#f0f921"
            ]
           ],
           "sequentialminus": [
            [
             0,
             "#0d0887"
            ],
            [
             0.1111111111111111,
             "#46039f"
            ],
            [
             0.2222222222222222,
             "#7201a8"
            ],
            [
             0.3333333333333333,
             "#9c179e"
            ],
            [
             0.4444444444444444,
             "#bd3786"
            ],
            [
             0.5555555555555556,
             "#d8576b"
            ],
            [
             0.6666666666666666,
             "#ed7953"
            ],
            [
             0.7777777777777778,
             "#fb9f3a"
            ],
            [
             0.8888888888888888,
             "#fdca26"
            ],
            [
             1,
             "#f0f921"
            ]
           ]
          },
          "colorway": [
           "#636efa",
           "#EF553B",
           "#00cc96",
           "#ab63fa",
           "#FFA15A",
           "#19d3f3",
           "#FF6692",
           "#B6E880",
           "#FF97FF",
           "#FECB52"
          ],
          "font": {
           "color": "#2a3f5f"
          },
          "geo": {
           "bgcolor": "white",
           "lakecolor": "white",
           "landcolor": "#E5ECF6",
           "showlakes": true,
           "showland": true,
           "subunitcolor": "white"
          },
          "hoverlabel": {
           "align": "left"
          },
          "hovermode": "closest",
          "mapbox": {
           "style": "light"
          },
          "paper_bgcolor": "white",
          "plot_bgcolor": "#E5ECF6",
          "polar": {
           "angularaxis": {
            "gridcolor": "white",
            "linecolor": "white",
            "ticks": ""
           },
           "bgcolor": "#E5ECF6",
           "radialaxis": {
            "gridcolor": "white",
            "linecolor": "white",
            "ticks": ""
           }
          },
          "scene": {
           "xaxis": {
            "backgroundcolor": "#E5ECF6",
            "gridcolor": "white",
            "gridwidth": 2,
            "linecolor": "white",
            "showbackground": true,
            "ticks": "",
            "zerolinecolor": "white"
           },
           "yaxis": {
            "backgroundcolor": "#E5ECF6",
            "gridcolor": "white",
            "gridwidth": 2,
            "linecolor": "white",
            "showbackground": true,
            "ticks": "",
            "zerolinecolor": "white"
           },
           "zaxis": {
            "backgroundcolor": "#E5ECF6",
            "gridcolor": "white",
            "gridwidth": 2,
            "linecolor": "white",
            "showbackground": true,
            "ticks": "",
            "zerolinecolor": "white"
           }
          },
          "shapedefaults": {
           "line": {
            "color": "#2a3f5f"
           }
          },
          "ternary": {
           "aaxis": {
            "gridcolor": "white",
            "linecolor": "white",
            "ticks": ""
           },
           "baxis": {
            "gridcolor": "white",
            "linecolor": "white",
            "ticks": ""
           },
           "bgcolor": "#E5ECF6",
           "caxis": {
            "gridcolor": "white",
            "linecolor": "white",
            "ticks": ""
           }
          },
          "title": {
           "x": 0.05
          },
          "xaxis": {
           "automargin": true,
           "gridcolor": "white",
           "linecolor": "white",
           "ticks": "",
           "title": {
            "standoff": 15
           },
           "zerolinecolor": "white",
           "zerolinewidth": 2
          },
          "yaxis": {
           "automargin": true,
           "gridcolor": "white",
           "linecolor": "white",
           "ticks": "",
           "title": {
            "standoff": 15
           },
           "zerolinecolor": "white",
           "zerolinewidth": 2
          }
         }
        },
        "title": {
         "text": "SEIR Model - Marginal Restrictions"
        },
        "xaxis": {
         "autorange": true,
         "range": [
          0,
          30
         ],
         "title": {
          "text": "Time (weeks)"
         },
         "type": "linear"
        },
        "yaxis": {
         "autorange": true,
         "range": [
          -0.05555555555555556,
          1.0555555555555556
         ],
         "title": {
          "text": "Percent of Population x100"
         },
         "type": "linear"
        }
       }
      },
      "image/png": "[encoded data removed]",
      "text/html": [
       "<div>                            <div id=\"cff7f90b-58f2-4932-9eef-fbd374e64920\" class=\"plotly-graph-div\" style=\"height:525px; width:100%;\"></div>            <script type=\"text/javascript\">                require([\"plotly\"], function(Plotly) {                    window.PLOTLYENV=window.PLOTLYENV || {};                                    if (document.getElementById(\"cff7f90b-58f2-4932-9eef-fbd374e64920\")) {                    Plotly.newPlot(                        \"cff7f90b-58f2-4932-9eef-fbd374e64920\",                        [{\"name\": \"Suseptible\", \"type\": \"scatter\", \"x\": [0.0, 1.0344827586206897, 2.0689655172413794, 3.1034482758620694, 4.137931034482759, 5.172413793103448, 6.206896551724139, 7.241379310344828, 8.275862068965518, 9.310344827586208, 10.344827586206897, 11.379310344827587, 12.413793103448278, 13.448275862068966, 14.482758620689657, 15.517241379310345, 16.551724137931036, 17.586206896551726, 18.620689655172416, 19.655172413793103, 20.689655172413794, 21.724137931034484, 22.758620689655174, 23.793103448275865, 24.827586206896555, 25.862068965517242, 26.896551724137932, 27.931034482758623, 28.965517241379313, 30.0], \"y\": [1.0, 0.9999944811286394, 0.9999784599598124, 0.999931950290801, 0.9997970187822816, 0.9994056645813169, 0.9982723645622116, 0.9950044643258019, 0.985695510950904, 0.9600717694771559, 0.8956711414681059, 0.7645202658368299, 0.5805670636721493, 0.41549606912688825, 0.30975559771648137, 0.251825488527584, 0.22138156255666624, 0.20538152190574635, 0.19690116114362732, 0.19237339917356483, 0.18994436540683748, 0.18863754252437157, 0.18793332289900438, 0.18755351556095198, 0.1873485603040167, 0.18723793660506505, 0.18717821308743865, 0.18714597190150178, 0.18712857164958516, 0.18711917018518717]}, {\"name\": \"Exposed\", \"type\": \"scatter\", \"x\": [0.0, 1.0344827586206897, 2.0689655172413794, 3.1034482758620694, 4.137931034482759, 5.172413793103448, 6.206896551724139, 7.241379310344828, 8.275862068965518, 9.310344827586208, 10.344827586206897, 11.379310344827587, 12.413793103448278, 13.448275862068966, 14.482758620689657, 15.517241379310345, 16.551724137931036, 17.586206896551726, 18.620689655172416, 19.655172413793103, 20.689655172413794, 21.724137931034484, 22.758620689655174, 23.793103448275865, 24.827586206896555, 25.862068965517242, 26.896551724137932, 27.931034482758623, 28.965517241379313, 30.0], \"y\": [0.0, 1.7119679566474609e-06, 5.005829429476762e-06, 1.4526401579869679e-05, 4.214985529467231e-05, 0.00012222490851838318, 0.00035376859599148036, 0.0010185640756766986, 0.0028888662640116497, 0.007855465953375738, 0.019121712269426633, 0.03625621510204382, 0.04533917573415782, 0.036417354399116496, 0.021975217043661725, 0.011822429502042672, 0.006202875713332286, 0.0032672165622770564, 0.0017355369317452146, 0.0009280296776655546, 0.0004983250120764669, 0.00026823703501077656, 0.0001445855931036012, 7.799621511565333e-05, 4.2091168924174264e-05, 2.272021329551131e-05, 1.2265049379257927e-05, 6.620716329058291e-06, 3.5893050739148597e-06, 1.9316960587903274e-06]}, {\"name\": \"Infected\", \"type\": \"scatter\", \"x\": [0.0, 1.0344827586206897, 2.0689655172413794, 3.1034482758620694, 4.137931034482759, 5.172413793103448, 6.206896551724139, 7.241379310344828, 8.275862068965518, 9.310344827586208, 10.344827586206897, 11.379310344827587, 12.413793103448278, 13.448275862068966, 14.482758620689657, 15.517241379310345, 16.551724137931036, 17.586206896551726, 18.620689655172416, 19.655172413793103, 20.689655172413794, 21.724137931034484, 22.758620689655174, 23.793103448275865, 24.827586206896555, 25.862068965517242, 26.896551724137932, 27.931034482758623, 28.965517241379313, 30.0], \"y\": [1.49e-06, 4.332211276792281e-06, 1.2583007249818526e-05, 3.6534473555442404e-05, 0.00010601531887725687, 0.00030748697543634264, 0.0008904971816051586, 0.0025681170803668442, 0.007318189463299984, 0.020167262095258154, 0.05089203577437678, 0.10525541003665624, 0.155715645698526, 0.1585384873026857, 0.12183953846738806, 0.07935172162098902, 0.04730408879708629, 0.026920189988729533, 0.014949336418140592, 0.008194243554735567, 0.004460346531543121, 0.0024188221044068553, 0.0013090586146865093, 0.0007077025188759461, 0.00038236833440665575, 0.00020652946401848377, 0.00011152735895550164, 6.02208030999772e-05, 3.2525064841747854e-05, 1.7559178062267522e-05]}, {\"name\": \"Recovered\", \"type\": \"scatter\", \"x\": [0.0, 1.0344827586206897, 2.0689655172413794, 3.1034482758620694, 4.137931034482759, 5.172413793103448, 6.206896551724139, 7.241379310344828, 8.275862068965518, 9.310344827586208, 10.344827586206897, 11.379310344827587, 12.413793103448278, 13.448275862068966, 14.482758620689657, 15.517241379310345, 16.551724137931036, 17.586206896551726, 18.620689655172416, 19.655172413793103, 20.689655172413794, 21.724137931034484, 22.758620689655174, 23.793103448275865, 24.827586206896555, 25.862068965517242, 26.896551724137932, 27.931034482758623, 28.965517241379313, 30.0], \"y\": [0.0, 2.6766600839060316e-06, 1.044703293798151e-05, 3.300523564384778e-05, 9.845589884135156e-05, 0.00028833844324680576, 0.000838628256183115, 0.002428908593831035, 0.006987789585795809, 0.019762458427585998, 0.0534383127575172, 0.13022581412651374, 0.2637187806293247, 0.42596693357042587, 0.5684063538161304, 0.6688242798514269, 0.7313158386462474, 0.7676997781055239, 0.788150992438232, 0.7994338472716994, 0.8055967780616193, 0.8089451253712215, 0.8107591084863094, 0.8117402719201725, 0.812270561361577, 0.8125570239309169, 0.8127117495536061, 0.8127952972953985, 0.8128403932855734, 0.812864760636751]}],                        {\"template\": {\"data\": {\"bar\": [{\"error_x\": {\"color\": \"#2a3f5f\"}, \"error_y\": {\"color\": \"#2a3f5f\"}, \"marker\": {\"line\": {\"color\": \"#E5ECF6\", \"width\": 0.5}}, \"type\": \"bar\"}], \"barpolar\": [{\"marker\": {\"line\": {\"color\": \"#E5ECF6\", \"width\": 0.5}}, \"type\": \"barpolar\"}], \"carpet\": [{\"aaxis\": {\"endlinecolor\": \"#2a3f5f\", \"gridcolor\": \"white\", \"linecolor\": \"white\", \"minorgridcolor\": \"white\", \"startlinecolor\": \"#2a3f5f\"}, \"baxis\": {\"endlinecolor\": \"#2a3f5f\", \"gridcolor\": \"white\", \"linecolor\": \"white\", \"minorgridcolor\": \"white\", \"startlinecolor\": \"#2a3f5f\"}, \"type\": \"carpet\"}], \"choropleth\": [{\"colorbar\": {\"outlinewidth\": 0, \"ticks\": \"\"}, \"type\": \"choropleth\"}], \"contour\": [{\"colorbar\": {\"outlinewidth\": 0, \"ticks\": \"\"}, \"colorscale\": [[0.0, \"#0d0887\"], [0.1111111111111111, \"#46039f\"], [0.2222222222222222, \"#7201a8\"], [0.3333333333333333, \"#9c179e\"], [0.4444444444444444, \"#bd3786\"], [0.5555555555555556, \"#d8576b\"], [0.6666666666666666, \"#ed7953\"], [0.7777777777777778, \"#fb9f3a\"], [0.8888888888888888, \"#fdca26\"], [1.0, \"#f0f921\"]], \"type\": \"contour\"}], \"contourcarpet\": [{\"colorbar\": {\"outlinewidth\": 0, \"ticks\": \"\"}, \"type\": \"contourcarpet\"}], \"heatmap\": [{\"colorbar\": {\"outlinewidth\": 0, \"ticks\": \"\"}, \"colorscale\": [[0.0, \"#0d0887\"], [0.1111111111111111, \"#46039f\"], [0.2222222222222222, \"#7201a8\"], [0.3333333333333333, \"#9c179e\"], [0.4444444444444444, \"#bd3786\"], [0.5555555555555556, \"#d8576b\"], [0.6666666666666666, \"#ed7953\"], [0.7777777777777778, \"#fb9f3a\"], [0.8888888888888888, \"#fdca26\"], [1.0, \"#f0f921\"]], \"type\": \"heatmap\"}], \"heatmapgl\": [{\"colorbar\": {\"outlinewidth\": 0, \"ticks\": \"\"}, \"colorscale\": [[0.0, \"#0d0887\"], [0.1111111111111111, \"#46039f\"], [0.2222222222222222, \"#7201a8\"], [0.3333333333333333, \"#9c179e\"], [0.4444444444444444, \"#bd3786\"], [0.5555555555555556, \"#d8576b\"], [0.6666666666666666, \"#ed7953\"], [0.7777777777777778, \"#fb9f3a\"], [0.8888888888888888, \"#fdca26\"], [1.0, \"#f0f921\"]], \"type\": \"heatmapgl\"}], \"histogram\": [{\"marker\": {\"colorbar\": {\"outlinewidth\": 0, \"ticks\": \"\"}}, \"type\": \"histogram\"}], \"histogram2d\": [{\"colorbar\": {\"outlinewidth\": 0, \"ticks\": \"\"}, \"colorscale\": [[0.0, \"#0d0887\"], [0.1111111111111111, \"#46039f\"], [0.2222222222222222, \"#7201a8\"], [0.3333333333333333, \"#9c179e\"], [0.4444444444444444, \"#bd3786\"], [0.5555555555555556, \"#d8576b\"], [0.6666666666666666, \"#ed7953\"], [0.7777777777777778, \"#fb9f3a\"], [0.8888888888888888, \"#fdca26\"], [1.0, \"#f0f921\"]], \"type\": \"histogram2d\"}], \"histogram2dcontour\": [{\"colorbar\": {\"outlinewidth\": 0, \"ticks\": \"\"}, \"colorscale\": [[0.0, \"#0d0887\"], [0.1111111111111111, \"#46039f\"], [0.2222222222222222, \"#7201a8\"], [0.3333333333333333, \"#9c179e\"], [0.4444444444444444, \"#bd3786\"], [0.5555555555555556, \"#d8576b\"], [0.6666666666666666, \"#ed7953\"], [0.7777777777777778, \"#fb9f3a\"], [0.8888888888888888, \"#fdca26\"], [1.0, \"#f0f921\"]], \"type\": \"histogram2dcontour\"}], \"mesh3d\": [{\"colorbar\": {\"outlinewidth\": 0, \"ticks\": \"\"}, \"type\": \"mesh3d\"}], \"parcoords\": [{\"line\": {\"colorbar\": {\"outlinewidth\": 0, \"ticks\": \"\"}}, \"type\": \"parcoords\"}], \"pie\": [{\"automargin\": true, \"type\": \"pie\"}], \"scatter\": [{\"marker\": {\"colorbar\": {\"outlinewidth\": 0, \"ticks\": \"\"}}, \"type\": \"scatter\"}], \"scatter3d\": [{\"line\": {\"colorbar\": {\"outlinewidth\": 0, \"ticks\": \"\"}}, \"marker\": {\"colorbar\": {\"outlinewidth\": 0, \"ticks\": \"\"}}, \"type\": \"scatter3d\"}], \"scattercarpet\": [{\"marker\": {\"colorbar\": {\"outlinewidth\": 0, \"ticks\": \"\"}}, \"type\": \"scattercarpet\"}], \"scattergeo\": [{\"marker\": {\"colorbar\": {\"outlinewidth\": 0, \"ticks\": \"\"}}, \"type\": \"scattergeo\"}], \"scattergl\": [{\"marker\": {\"colorbar\": {\"outlinewidth\": 0, \"ticks\": \"\"}}, \"type\": \"scattergl\"}], \"scattermapbox\": [{\"marker\": {\"colorbar\": {\"outlinewidth\": 0, \"ticks\": \"\"}}, \"type\": \"scattermapbox\"}], \"scatterpolar\": [{\"marker\": {\"colorbar\": {\"outlinewidth\": 0, \"ticks\": \"\"}}, \"type\": \"scatterpolar\"}], \"scatterpolargl\": [{\"marker\": {\"colorbar\": {\"outlinewidth\": 0, \"ticks\": \"\"}}, \"type\": \"scatterpolargl\"}], \"scatterternary\": [{\"marker\": {\"colorbar\": {\"outlinewidth\": 0, \"ticks\": \"\"}}, \"type\": \"scatterternary\"}], \"surface\": [{\"colorbar\": {\"outlinewidth\": 0, \"ticks\": \"\"}, \"colorscale\": [[0.0, \"#0d0887\"], [0.1111111111111111, \"#46039f\"], [0.2222222222222222, \"#7201a8\"], [0.3333333333333333, \"#9c179e\"], [0.4444444444444444, \"#bd3786\"], [0.5555555555555556, \"#d8576b\"], [0.6666666666666666, \"#ed7953\"], [0.7777777777777778, \"#fb9f3a\"], [0.8888888888888888, \"#fdca26\"], [1.0, \"#f0f921\"]], \"type\": \"surface\"}], \"table\": [{\"cells\": {\"fill\": {\"color\": \"#EBF0F8\"}, \"line\": {\"color\": \"white\"}}, \"header\": {\"fill\": {\"color\": \"#C8D4E3\"}, \"line\": {\"color\": \"white\"}}, \"type\": \"table\"}]}, \"layout\": {\"annotationdefaults\": {\"arrowcolor\": \"#2a3f5f\", \"arrowhead\": 0, \"arrowwidth\": 1}, \"coloraxis\": {\"colorbar\": {\"outlinewidth\": 0, \"ticks\": \"\"}}, \"colorscale\": {\"diverging\": [[0, \"#8e0152\"], [0.1, \"#c51b7d\"], [0.2, \"#de77ae\"], [0.3, \"#f1b6da\"], [0.4, \"#fde0ef\"], [0.5, \"#f7f7f7\"], [0.6, \"#e6f5d0\"], [0.7, \"#b8e186\"], [0.8, \"#7fbc41\"], [0.9, \"#4d9221\"], [1, \"#276419\"]], \"sequential\": [[0.0, \"#0d0887\"], [0.1111111111111111, \"#46039f\"], [0.2222222222222222, \"#7201a8\"], [0.3333333333333333, \"#9c179e\"], [0.4444444444444444, \"#bd3786\"], [0.5555555555555556, \"#d8576b\"], [0.6666666666666666, \"#ed7953\"], [0.7777777777777778, \"#fb9f3a\"], [0.8888888888888888, \"#fdca26\"], [1.0, \"#f0f921\"]], \"sequentialminus\": [[0.0, \"#0d0887\"], [0.1111111111111111, \"#46039f\"], [0.2222222222222222, \"#7201a8\"], [0.3333333333333333, \"#9c179e\"], [0.4444444444444444, \"#bd3786\"], [0.5555555555555556, \"#d8576b\"], [0.6666666666666666, \"#ed7953\"], [0.7777777777777778, \"#fb9f3a\"], [0.8888888888888888, \"#fdca26\"], [1.0, \"#f0f921\"]]}, \"colorway\": [\"#636efa\", \"#EF553B\", \"#00cc96\", \"#ab63fa\", \"#FFA15A\", \"#19d3f3\", \"#FF6692\", \"#B6E880\", \"#FF97FF\", \"#FECB52\"], \"font\": {\"color\": \"#2a3f5f\"}, \"geo\": {\"bgcolor\": \"white\", \"lakecolor\": \"white\", \"landcolor\": \"#E5ECF6\", \"showlakes\": true, \"showland\": true, \"subunitcolor\": \"white\"}, \"hoverlabel\": {\"align\": \"left\"}, \"hovermode\": \"closest\", \"mapbox\": {\"style\": \"light\"}, \"paper_bgcolor\": \"white\", \"plot_bgcolor\": \"#E5ECF6\", \"polar\": {\"angularaxis\": {\"gridcolor\": \"white\", \"linecolor\": \"white\", \"ticks\": \"\"}, \"bgcolor\": \"#E5ECF6\", \"radialaxis\": {\"gridcolor\": \"white\", \"linecolor\": \"white\", \"ticks\": \"\"}}, \"scene\": {\"xaxis\": {\"backgroundcolor\": \"#E5ECF6\", \"gridcolor\": \"white\", \"gridwidth\": 2, \"linecolor\": \"white\", \"showbackground\": true, \"ticks\": \"\", \"zerolinecolor\": \"white\"}, \"yaxis\": {\"backgroundcolor\": \"#E5ECF6\", \"gridcolor\": \"white\", \"gridwidth\": 2, \"linecolor\": \"white\", \"showbackground\": true, \"ticks\": \"\", \"zerolinecolor\": \"white\"}, \"zaxis\": {\"backgroundcolor\": \"#E5ECF6\", \"gridcolor\": \"white\", \"gridwidth\": 2, \"linecolor\": \"white\", \"showbackground\": true, \"ticks\": \"\", \"zerolinecolor\": \"white\"}}, \"shapedefaults\": {\"line\": {\"color\": \"#2a3f5f\"}}, \"ternary\": {\"aaxis\": {\"gridcolor\": \"white\", \"linecolor\": \"white\", \"ticks\": \"\"}, \"baxis\": {\"gridcolor\": \"white\", \"linecolor\": \"white\", \"ticks\": \"\"}, \"bgcolor\": \"#E5ECF6\", \"caxis\": {\"gridcolor\": \"white\", \"linecolor\": \"white\", \"ticks\": \"\"}}, \"title\": {\"x\": 0.05}, \"xaxis\": {\"automargin\": true, \"gridcolor\": \"white\", \"linecolor\": \"white\", \"ticks\": \"\", \"title\": {\"standoff\": 15}, \"zerolinecolor\": \"white\", \"zerolinewidth\": 2}, \"yaxis\": {\"automargin\": true, \"gridcolor\": \"white\", \"linecolor\": \"white\", \"ticks\": \"\", \"title\": {\"standoff\": 15}, \"zerolinecolor\": \"white\", \"zerolinewidth\": 2}}}, \"title\": {\"text\": \"SEIR Model - Marginal Restrictions\"}, \"xaxis\": {\"title\": {\"text\": \"Time (weeks)\"}}, \"yaxis\": {\"title\": {\"text\": \"Percent of Population x100\"}}},                        {\"responsive\": true}                    ).then(function(){\n",
       "                            \n",
       "var gd = document.getElementById('cff7f90b-58f2-4932-9eef-fbd374e64920');\n",
       "var x = new MutationObserver(function (mutations, observer) {{\n",
       "        var display = window.getComputedStyle(gd).display;\n",
       "        if (!display || display === 'none') {{\n",
       "            console.log([gd, 'removed!']);\n",
       "            Plotly.purge(gd);\n",
       "            observer.disconnect();\n",
       "        }}\n",
       "}});\n",
       "\n",
       "// Listen for the removal of the full notebook cells\n",
       "var notebookContainer = gd.closest('#notebook-container');\n",
       "if (notebookContainer) {{\n",
       "    x.observe(notebookContainer, {childList: true});\n",
       "}}\n",
       "\n",
       "// Listen for the clearing of the current output cell\n",
       "var outputEl = gd.closest('.output');\n",
       "if (outputEl) {{\n",
       "    x.observe(outputEl, {childList: true});\n",
       "}}\n",
       "\n",
       "                        })                };                });            </script>        </div>"
      ]
     },
     "metadata": {},
     "output_type": "display_data"
    }
   ],
   "source": [
    "fig.add_trace(go.Scatter(x=t, y=SEIR[:,0], name='Suseptible'))\n",
    "fig.add_trace(go.Scatter(x=t, y=SEIR[:,1], name='Exposed'))\n",
    "fig.add_trace(go.Scatter(x=t, y=SEIR[:,2], name='Infected'))\n",
    "fig.add_trace(go.Scatter(x=t, y=SEIR[:,3], name='Recovered')) \n",
    "fig.layout.update(dict(title='SEIR Model - Marginal Restrictions',\n",
    "                       xaxis=dict(title='Time (weeks)'),\n",
    "                       yaxis=dict(title='Percent of Population x100')))\n",
    "fig.show()"
   ]
  },
  {
   "cell_type": "markdown",
   "metadata": {},
   "source": [
    "# Basic graph of COVID-19 with restrictions implemented - adequate effect    "
   ]
  },
  {
   "cell_type": "code",
   "execution_count": 221,
   "metadata": {},
   "outputs": [],
   "source": [
    "# Initial number of infected and recovered individuals, I0 and R0.\n",
    "# Everyone else, S0, is initially susceptible to infection. \n",
    "# Initial number of exposed individuals, E0\n",
    "I0 = 10\n",
    "S0 = 670000\n",
    "R0 = 0 \n",
    "E0 = 0 \n",
    "# Contraction rate, beta, and mean recovery rate, gamma, incubation period, kappa.\n",
    "beta, gamma, kappa = 1.8, .97, 4 "
   ]
  },
  {
   "cell_type": "code",
   "execution_count": 222,
   "metadata": {},
   "outputs": [],
   "source": [
    "#Y axis represents S, E, I and R values\n",
    "#X axis represents time\n",
    "t = linspace(0, 40, 40)\n",
    "SEIR = odeint(dSEIRdt, [1, 0,.00000149, 0], t, (beta, gamma, kappa))  \n",
    "fig = go.Figure()"
   ]
  },
  {
   "cell_type": "code",
   "execution_count": 223,
   "metadata": {},
   "outputs": [
    {
     "data": {
      "application/vnd.plotly.v1+json": {
       "config": {
        "plotlyServerURL": "https://plot.ly"
       },
       "data": [
        {
         "name": "Suseptible",
         "type": "scatter",
         "x": [
          0,
          1.0256410256410255,
          2.051282051282051,
          3.0769230769230766,
          4.102564102564102,
          5.128205128205128,
          6.153846153846153,
          7.179487179487179,
          8.205128205128204,
          9.23076923076923,
          10.256410256410255,
          11.282051282051281,
          12.307692307692307,
          13.333333333333332,
          14.358974358974358,
          15.384615384615383,
          16.41025641025641,
          17.435897435897434,
          18.46153846153846,
          19.487179487179485,
          20.51282051282051,
          21.538461538461537,
          22.564102564102562,
          23.589743589743588,
          24.615384615384613,
          25.64102564102564,
          26.666666666666664,
          27.69230769230769,
          28.717948717948715,
          29.74358974358974,
          30.769230769230766,
          31.794871794871792,
          32.82051282051282,
          33.84615384615384,
          34.87179487179487,
          35.8974358974359,
          36.92307692307692,
          37.94871794871794,
          38.97435897435897,
          40
         ],
         "y": [
          1,
          0.9999956545599186,
          0.9999854589812597,
          0.9999615686419354,
          0.9999055776082695,
          0.9997744229796088,
          0.9994673435743584,
          0.9987491905259835,
          0.9970732046249653,
          0.9931816407960306,
          0.984250813499715,
          0.964293400284571,
          0.9222134475591692,
          0.8432941443910971,
          0.7225189037975223,
          0.5828435717107567,
          0.4615738072782767,
          0.3764576598961553,
          0.3232966803191731,
          0.29170075090539666,
          0.27323374671096756,
          0.26248380643878044,
          0.2562264005059159,
          0.25258099383381427,
          0.2504555855904594,
          0.2492157056798136,
          0.24849211899347462,
          0.24806974172868948,
          0.24782315732865215,
          0.2476791889623827,
          0.2475951310961017,
          0.24754605290873996,
          0.2475173967197399,
          0.24750065630366008,
          0.24749088522045803,
          0.2474851773613305,
          0.24748184740108842,
          0.24747990222584917,
          0.24747876609928626,
          0.2474781072543418
         ]
        },
        {
         "name": "Exposed",
         "type": "scatter",
         "x": [
          0,
          1.0256410256410255,
          2.051282051282051,
          3.0769230769230766,
          4.102564102564102,
          5.128205128205128,
          6.153846153846153,
          7.179487179487179,
          8.205128205128204,
          9.23076923076923,
          10.256410256410255,
          11.282051282051281,
          12.307692307692307,
          13.333333333333332,
          14.358974358974358,
          15.384615384615383,
          16.41025641025641,
          17.435897435897434,
          18.46153846153846,
          19.487179487179485,
          20.51282051282051,
          21.538461538461537,
          22.564102564102562,
          23.589743589743588,
          24.615384615384613,
          25.64102564102564,
          26.666666666666664,
          27.69230769230769,
          28.717948717948715,
          29.74358974358974,
          30.769230769230766,
          31.794871794871792,
          32.82051282051282,
          33.84615384615384,
          34.87179487179487,
          35.8974358974359,
          36.92307692307692,
          37.94871794871794,
          38.97435897435897,
          40
         ],
         "y": [
          0,
          1.2918573077195455e-06,
          3.053634101931565e-06,
          7.162280516590653e-06,
          1.6777482370154944e-05,
          3.9308669085360694e-05,
          9.203335863114523e-05,
          0.00021519533394397957,
          0.0005018527806218621,
          0.0011632713465628804,
          0.002658988004953626,
          0.005888515538043002,
          0.012175904987938212,
          0.021976223885113274,
          0.03157805054709296,
          0.0337841969889825,
          0.027430190894113485,
          0.018492389774013206,
          0.011343307258461468,
          0.006698907442934962,
          0.003908633015076802,
          0.0022748744023347927,
          0.0013244477076446537,
          0.0007717678241644745,
          0.0004500515711182355,
          0.0002625580415282094,
          0.0001532453816052539,
          8.945648964065648e-05,
          5.222559756435711e-05,
          3.0494545419665493e-05,
          1.7804054702385296e-05,
          1.0396223037181645e-05,
          6.070998425731236e-06,
          3.5445175070662356e-06,
          2.06949125460023e-06,
          1.2087414276541366e-06,
          7.152584858146079e-07,
          4.121484680098938e-07,
          2.405141539135289e-07,
          1.4056686503575718e-07
         ]
        },
        {
         "name": "Infected",
         "type": "scatter",
         "x": [
          0,
          1.0256410256410255,
          2.051282051282051,
          3.0769230769230766,
          4.102564102564102,
          5.128205128205128,
          6.153846153846153,
          7.179487179487179,
          8.205128205128204,
          9.23076923076923,
          10.256410256410255,
          11.282051282051281,
          12.307692307692307,
          13.333333333333332,
          14.358974358974358,
          15.384615384615383,
          16.41025641025641,
          17.435897435897434,
          18.46153846153846,
          19.487179487179485,
          20.51282051282051,
          21.538461538461537,
          22.564102564102562,
          23.589743589743588,
          24.615384615384613,
          25.64102564102564,
          26.666666666666664,
          27.69230769230769,
          28.717948717948715,
          29.74358974358974,
          30.769230769230766,
          31.794871794871792,
          32.82051282051282,
          33.84615384615384,
          34.87179487179487,
          35.8974358974359,
          36.92307692307692,
          37.94871794871794,
          38.97435897435897,
          40
         ],
         "y": [
          1.49e-06,
          3.4937255718492825e-06,
          8.19496787548368e-06,
          1.921072421398511e-05,
          4.5026794949686006e-05,
          0.0001054923061264022,
          0.00024702715846800047,
          0.0005778298746676575,
          0.0013487542422760854,
          0.0031329237029400414,
          0.007196066125728635,
          0.016114255362033224,
          0.03414957216640428,
          0.06485942163877775,
          0.10233743432342103,
          0.12624607811155772,
          0.12180551588706796,
          0.09707653039059096,
          0.06819966483112198,
          0.04437520266728057,
          0.027598433495319315,
          0.016718308356466174,
          0.009973423897100158,
          0.005896851195103191,
          0.0034684606630689166,
          0.0020339382805597047,
          0.0011906092625298536,
          0.0006962250263706077,
          0.00040688110582585567,
          0.00023770093712669713,
          0.0001388385552066889,
          8.10878481969542e-05,
          4.7358064837839866e-05,
          2.7650439921911228e-05,
          1.6146302016778537e-05,
          9.425680089784832e-06,
          5.5047410178579385e-06,
          3.2143028312629784e-06,
          1.87650171186586e-06,
          1.1006991968163e-06
         ]
        },
        {
         "name": "Recovered",
         "type": "scatter",
         "x": [
          0,
          1.0256410256410255,
          2.051282051282051,
          3.0769230769230766,
          4.102564102564102,
          5.128205128205128,
          6.153846153846153,
          7.179487179487179,
          8.205128205128204,
          9.23076923076923,
          10.256410256410255,
          11.282051282051281,
          12.307692307692307,
          13.333333333333332,
          14.358974358974358,
          15.384615384615383,
          16.41025641025641,
          17.435897435897434,
          18.46153846153846,
          19.487179487179485,
          20.51282051282051,
          21.538461538461537,
          22.564102564102562,
          23.589743589743588,
          24.615384615384613,
          25.64102564102564,
          26.666666666666664,
          27.69230769230769,
          28.717948717948715,
          29.74358974358974,
          30.769230769230766,
          31.794871794871792,
          32.82051282051282,
          33.84615384615384,
          34.87179487179487,
          35.8974358974359,
          36.92307692307692,
          37.94871794871794,
          38.97435897435897,
          40
         ],
         "y": [
          0,
          2.341714509823441e-06,
          7.836050864887244e-06,
          2.0710633850643105e-05,
          5.088559678071329e-05,
          0.00012157471426468635,
          0.00028711926717347585,
          0.0006744695993486398,
          0.001579531132758633,
          0.0036869255010294334,
          0.00855461037455647,
          0.0195938343533957,
          0.04363847027442645,
          0.09184792397012509,
          0.1751451518790565,
          0.29091184017768534,
          0.4166221668346552,
          0.5264672997132537,
          0.6085051448497049,
          0.6639255364273223,
          0.6991693097937127,
          0.7207993752047529,
          0.7338016655969833,
          0.7415236449710819,
          0.7460774437464711,
          0.7487518460396262,
          0.7503187617439949,
          0.7512355232449393,
          0.7517714515655213,
          0.75208460010049,
          0.7522675203486908,
          0.7523743492430622,
          0.7524367352154215,
          0.7524731832564173,
          0.7524944584775245,
          0.752506886958579,
          0.7525141378578931,
          0.7525183734713192,
          0.7525208473990014,
          0.7525222820464609
         ]
        }
       ],
       "layout": {
        "autosize": true,
        "template": {
         "data": {
          "bar": [
           {
            "error_x": {
             "color": "#2a3f5f"
            },
            "error_y": {
             "color": "#2a3f5f"
            },
            "marker": {
             "line": {
              "color": "#E5ECF6",
              "width": 0.5
             }
            },
            "type": "bar"
           }
          ],
          "barpolar": [
           {
            "marker": {
             "line": {
              "color": "#E5ECF6",
              "width": 0.5
             }
            },
            "type": "barpolar"
           }
          ],
          "carpet": [
           {
            "aaxis": {
             "endlinecolor": "#2a3f5f",
             "gridcolor": "white",
             "linecolor": "white",
             "minorgridcolor": "white",
             "startlinecolor": "#2a3f5f"
            },
            "baxis": {
             "endlinecolor": "#2a3f5f",
             "gridcolor": "white",
             "linecolor": "white",
             "minorgridcolor": "white",
             "startlinecolor": "#2a3f5f"
            },
            "type": "carpet"
           }
          ],
          "choropleth": [
           {
            "colorbar": {
             "outlinewidth": 0,
             "ticks": ""
            },
            "type": "choropleth"
           }
          ],
          "contour": [
           {
            "colorbar": {
             "outlinewidth": 0,
             "ticks": ""
            },
            "colorscale": [
             [
              0,
              "#0d0887"
             ],
             [
              0.1111111111111111,
              "#46039f"
             ],
             [
              0.2222222222222222,
              "#7201a8"
             ],
             [
              0.3333333333333333,
              "#9c179e"
             ],
             [
              0.4444444444444444,
              "#bd3786"
             ],
             [
              0.5555555555555556,
              "#d8576b"
             ],
             [
              0.6666666666666666,
              "#ed7953"
             ],
             [
              0.7777777777777778,
              "#fb9f3a"
             ],
             [
              0.8888888888888888,
              "#fdca26"
             ],
             [
              1,
              "#f0f921"
             ]
            ],
            "type": "contour"
           }
          ],
          "contourcarpet": [
           {
            "colorbar": {
             "outlinewidth": 0,
             "ticks": ""
            },
            "type": "contourcarpet"
           }
          ],
          "heatmap": [
           {
            "colorbar": {
             "outlinewidth": 0,
             "ticks": ""
            },
            "colorscale": [
             [
              0,
              "#0d0887"
             ],
             [
              0.1111111111111111,
              "#46039f"
             ],
             [
              0.2222222222222222,
              "#7201a8"
             ],
             [
              0.3333333333333333,
              "#9c179e"
             ],
             [
              0.4444444444444444,
              "#bd3786"
             ],
             [
              0.5555555555555556,
              "#d8576b"
             ],
             [
              0.6666666666666666,
              "#ed7953"
             ],
             [
              0.7777777777777778,
              "#fb9f3a"
             ],
             [
              0.8888888888888888,
              "#fdca26"
             ],
             [
              1,
              "#f0f921"
             ]
            ],
            "type": "heatmap"
           }
          ],
          "heatmapgl": [
           {
            "colorbar": {
             "outlinewidth": 0,
             "ticks": ""
            },
            "colorscale": [
             [
              0,
              "#0d0887"
             ],
             [
              0.1111111111111111,
              "#46039f"
             ],
             [
              0.2222222222222222,
              "#7201a8"
             ],
             [
              0.3333333333333333,
              "#9c179e"
             ],
             [
              0.4444444444444444,
              "#bd3786"
             ],
             [
              0.5555555555555556,
              "#d8576b"
             ],
             [
              0.6666666666666666,
              "#ed7953"
             ],
             [
              0.7777777777777778,
              "#fb9f3a"
             ],
             [
              0.8888888888888888,
              "#fdca26"
             ],
             [
              1,
              "#f0f921"
             ]
            ],
            "type": "heatmapgl"
           }
          ],
          "histogram": [
           {
            "marker": {
             "colorbar": {
              "outlinewidth": 0,
              "ticks": ""
             }
            },
            "type": "histogram"
           }
          ],
          "histogram2d": [
           {
            "colorbar": {
             "outlinewidth": 0,
             "ticks": ""
            },
            "colorscale": [
             [
              0,
              "#0d0887"
             ],
             [
              0.1111111111111111,
              "#46039f"
             ],
             [
              0.2222222222222222,
              "#7201a8"
             ],
             [
              0.3333333333333333,
              "#9c179e"
             ],
             [
              0.4444444444444444,
              "#bd3786"
             ],
             [
              0.5555555555555556,
              "#d8576b"
             ],
             [
              0.6666666666666666,
              "#ed7953"
             ],
             [
              0.7777777777777778,
              "#fb9f3a"
             ],
             [
              0.8888888888888888,
              "#fdca26"
             ],
             [
              1,
              "#f0f921"
             ]
            ],
            "type": "histogram2d"
           }
          ],
          "histogram2dcontour": [
           {
            "colorbar": {
             "outlinewidth": 0,
             "ticks": ""
            },
            "colorscale": [
             [
              0,
              "#0d0887"
             ],
             [
              0.1111111111111111,
              "#46039f"
             ],
             [
              0.2222222222222222,
              "#7201a8"
             ],
             [
              0.3333333333333333,
              "#9c179e"
             ],
             [
              0.4444444444444444,
              "#bd3786"
             ],
             [
              0.5555555555555556,
              "#d8576b"
             ],
             [
              0.6666666666666666,
              "#ed7953"
             ],
             [
              0.7777777777777778,
              "#fb9f3a"
             ],
             [
              0.8888888888888888,
              "#fdca26"
             ],
             [
              1,
              "#f0f921"
             ]
            ],
            "type": "histogram2dcontour"
           }
          ],
          "mesh3d": [
           {
            "colorbar": {
             "outlinewidth": 0,
             "ticks": ""
            },
            "type": "mesh3d"
           }
          ],
          "parcoords": [
           {
            "line": {
             "colorbar": {
              "outlinewidth": 0,
              "ticks": ""
             }
            },
            "type": "parcoords"
           }
          ],
          "pie": [
           {
            "automargin": true,
            "type": "pie"
           }
          ],
          "scatter": [
           {
            "marker": {
             "colorbar": {
              "outlinewidth": 0,
              "ticks": ""
             }
            },
            "type": "scatter"
           }
          ],
          "scatter3d": [
           {
            "line": {
             "colorbar": {
              "outlinewidth": 0,
              "ticks": ""
             }
            },
            "marker": {
             "colorbar": {
              "outlinewidth": 0,
              "ticks": ""
             }
            },
            "type": "scatter3d"
           }
          ],
          "scattercarpet": [
           {
            "marker": {
             "colorbar": {
              "outlinewidth": 0,
              "ticks": ""
             }
            },
            "type": "scattercarpet"
           }
          ],
          "scattergeo": [
           {
            "marker": {
             "colorbar": {
              "outlinewidth": 0,
              "ticks": ""
             }
            },
            "type": "scattergeo"
           }
          ],
          "scattergl": [
           {
            "marker": {
             "colorbar": {
              "outlinewidth": 0,
              "ticks": ""
             }
            },
            "type": "scattergl"
           }
          ],
          "scattermapbox": [
           {
            "marker": {
             "colorbar": {
              "outlinewidth": 0,
              "ticks": ""
             }
            },
            "type": "scattermapbox"
           }
          ],
          "scatterpolar": [
           {
            "marker": {
             "colorbar": {
              "outlinewidth": 0,
              "ticks": ""
             }
            },
            "type": "scatterpolar"
           }
          ],
          "scatterpolargl": [
           {
            "marker": {
             "colorbar": {
              "outlinewidth": 0,
              "ticks": ""
             }
            },
            "type": "scatterpolargl"
           }
          ],
          "scatterternary": [
           {
            "marker": {
             "colorbar": {
              "outlinewidth": 0,
              "ticks": ""
             }
            },
            "type": "scatterternary"
           }
          ],
          "surface": [
           {
            "colorbar": {
             "outlinewidth": 0,
             "ticks": ""
            },
            "colorscale": [
             [
              0,
              "#0d0887"
             ],
             [
              0.1111111111111111,
              "#46039f"
             ],
             [
              0.2222222222222222,
              "#7201a8"
             ],
             [
              0.3333333333333333,
              "#9c179e"
             ],
             [
              0.4444444444444444,
              "#bd3786"
             ],
             [
              0.5555555555555556,
              "#d8576b"
             ],
             [
              0.6666666666666666,
              "#ed7953"
             ],
             [
              0.7777777777777778,
              "#fb9f3a"
             ],
             [
              0.8888888888888888,
              "#fdca26"
             ],
             [
              1,
              "#f0f921"
             ]
            ],
            "type": "surface"
           }
          ],
          "table": [
           {
            "cells": {
             "fill": {
              "color": "#EBF0F8"
             },
             "line": {
              "color": "white"
             }
            },
            "header": {
             "fill": {
              "color": "#C8D4E3"
             },
             "line": {
              "color": "white"
             }
            },
            "type": "table"
           }
          ]
         },
         "layout": {
          "annotationdefaults": {
           "arrowcolor": "#2a3f5f",
           "arrowhead": 0,
           "arrowwidth": 1
          },
          "coloraxis": {
           "colorbar": {
            "outlinewidth": 0,
            "ticks": ""
           }
          },
          "colorscale": {
           "diverging": [
            [
             0,
             "#8e0152"
            ],
            [
             0.1,
             "#c51b7d"
            ],
            [
             0.2,
             "#de77ae"
            ],
            [
             0.3,
             "#f1b6da"
            ],
            [
             0.4,
             "#fde0ef"
            ],
            [
             0.5,
             "#f7f7f7"
            ],
            [
             0.6,
             "#e6f5d0"
            ],
            [
             0.7,
             "#b8e186"
            ],
            [
             0.8,
             "#7fbc41"
            ],
            [
             0.9,
             "#4d9221"
            ],
            [
             1,
             "#276419"
            ]
           ],
           "sequential": [
            [
             0,
             "#0d0887"
            ],
            [
             0.1111111111111111,
             "#46039f"
            ],
            [
             0.2222222222222222,
             "#7201a8"
            ],
            [
             0.3333333333333333,
             "#9c179e"
            ],
            [
             0.4444444444444444,
             "#bd3786"
            ],
            [
             0.5555555555555556,
             "#d8576b"
            ],
            [
             0.6666666666666666,
             "#ed7953"
            ],
            [
             0.7777777777777778,
             "#fb9f3a"
            ],
            [
             0.8888888888888888,
             "#fdca26"
            ],
            [
             1,
             "#f0f921"
            ]
           ],
           "sequentialminus": [
            [
             0,
             "#0d0887"
            ],
            [
             0.1111111111111111,
             "#46039f"
            ],
            [
             0.2222222222222222,
             "#7201a8"
            ],
            [
             0.3333333333333333,
             "#9c179e"
            ],
            [
             0.4444444444444444,
             "#bd3786"
            ],
            [
             0.5555555555555556,
             "#d8576b"
            ],
            [
             0.6666666666666666,
             "#ed7953"
            ],
            [
             0.7777777777777778,
             "#fb9f3a"
            ],
            [
             0.8888888888888888,
             "#fdca26"
            ],
            [
             1,
             "#f0f921"
            ]
           ]
          },
          "colorway": [
           "#636efa",
           "#EF553B",
           "#00cc96",
           "#ab63fa",
           "#FFA15A",
           "#19d3f3",
           "#FF6692",
           "#B6E880",
           "#FF97FF",
           "#FECB52"
          ],
          "font": {
           "color": "#2a3f5f"
          },
          "geo": {
           "bgcolor": "white",
           "lakecolor": "white",
           "landcolor": "#E5ECF6",
           "showlakes": true,
           "showland": true,
           "subunitcolor": "white"
          },
          "hoverlabel": {
           "align": "left"
          },
          "hovermode": "closest",
          "mapbox": {
           "style": "light"
          },
          "paper_bgcolor": "white",
          "plot_bgcolor": "#E5ECF6",
          "polar": {
           "angularaxis": {
            "gridcolor": "white",
            "linecolor": "white",
            "ticks": ""
           },
           "bgcolor": "#E5ECF6",
           "radialaxis": {
            "gridcolor": "white",
            "linecolor": "white",
            "ticks": ""
           }
          },
          "scene": {
           "xaxis": {
            "backgroundcolor": "#E5ECF6",
            "gridcolor": "white",
            "gridwidth": 2,
            "linecolor": "white",
            "showbackground": true,
            "ticks": "",
            "zerolinecolor": "white"
           },
           "yaxis": {
            "backgroundcolor": "#E5ECF6",
            "gridcolor": "white",
            "gridwidth": 2,
            "linecolor": "white",
            "showbackground": true,
            "ticks": "",
            "zerolinecolor": "white"
           },
           "zaxis": {
            "backgroundcolor": "#E5ECF6",
            "gridcolor": "white",
            "gridwidth": 2,
            "linecolor": "white",
            "showbackground": true,
            "ticks": "",
            "zerolinecolor": "white"
           }
          },
          "shapedefaults": {
           "line": {
            "color": "#2a3f5f"
           }
          },
          "ternary": {
           "aaxis": {
            "gridcolor": "white",
            "linecolor": "white",
            "ticks": ""
           },
           "baxis": {
            "gridcolor": "white",
            "linecolor": "white",
            "ticks": ""
           },
           "bgcolor": "#E5ECF6",
           "caxis": {
            "gridcolor": "white",
            "linecolor": "white",
            "ticks": ""
           }
          },
          "title": {
           "x": 0.05
          },
          "xaxis": {
           "automargin": true,
           "gridcolor": "white",
           "linecolor": "white",
           "ticks": "",
           "title": {
            "standoff": 15
           },
           "zerolinecolor": "white",
           "zerolinewidth": 2
          },
          "yaxis": {
           "automargin": true,
           "gridcolor": "white",
           "linecolor": "white",
           "ticks": "",
           "title": {
            "standoff": 15
           },
           "zerolinecolor": "white",
           "zerolinewidth": 2
          }
         }
        },
        "title": {
         "text": "SEIR Model - Adequate Restrictions"
        },
        "xaxis": {
         "autorange": true,
         "range": [
          0,
          40
         ],
         "title": {
          "text": "Time (weeks)"
         },
         "type": "linear"
        },
        "yaxis": {
         "autorange": true,
         "range": [
          -0.05555555555555556,
          1.0555555555555556
         ],
         "title": {
          "text": "Percent of Population x100"
         },
         "type": "linear"
        }
       }
      },
      "image/png": "[encoded data removed]",
      "text/html": [
       "<div>                            <div id=\"66c8974b-82ea-4a4a-906c-ec7f40dd86cc\" class=\"plotly-graph-div\" style=\"height:525px; width:100%;\"></div>            <script type=\"text/javascript\">                require([\"plotly\"], function(Plotly) {                    window.PLOTLYENV=window.PLOTLYENV || {};                                    if (document.getElementById(\"66c8974b-82ea-4a4a-906c-ec7f40dd86cc\")) {                    Plotly.newPlot(                        \"66c8974b-82ea-4a4a-906c-ec7f40dd86cc\",                        [{\"name\": \"Suseptible\", \"type\": \"scatter\", \"x\": [0.0, 1.0256410256410255, 2.051282051282051, 3.0769230769230766, 4.102564102564102, 5.128205128205128, 6.153846153846153, 7.179487179487179, 8.205128205128204, 9.23076923076923, 10.256410256410255, 11.282051282051281, 12.307692307692307, 13.333333333333332, 14.358974358974358, 15.384615384615383, 16.41025641025641, 17.435897435897434, 18.46153846153846, 19.487179487179485, 20.51282051282051, 21.538461538461537, 22.564102564102562, 23.589743589743588, 24.615384615384613, 25.64102564102564, 26.666666666666664, 27.69230769230769, 28.717948717948715, 29.74358974358974, 30.769230769230766, 31.794871794871792, 32.82051282051282, 33.84615384615384, 34.87179487179487, 35.8974358974359, 36.92307692307692, 37.94871794871794, 38.97435897435897, 40.0], \"y\": [1.0, 0.9999956545599186, 0.9999854589812597, 0.9999615686419354, 0.9999055776082695, 0.9997744229796088, 0.9994673435743584, 0.9987491905259835, 0.9970732046249653, 0.9931816407960306, 0.984250813499715, 0.964293400284571, 0.9222134475591692, 0.8432941443910971, 0.7225189037975223, 0.5828435717107567, 0.4615738072782767, 0.3764576598961553, 0.3232966803191731, 0.29170075090539666, 0.27323374671096756, 0.26248380643878044, 0.2562264005059159, 0.25258099383381427, 0.2504555855904594, 0.2492157056798136, 0.24849211899347462, 0.24806974172868948, 0.24782315732865215, 0.2476791889623827, 0.2475951310961017, 0.24754605290873996, 0.2475173967197399, 0.24750065630366008, 0.24749088522045803, 0.2474851773613305, 0.24748184740108842, 0.24747990222584917, 0.24747876609928626, 0.2474781072543418]}, {\"name\": \"Exposed\", \"type\": \"scatter\", \"x\": [0.0, 1.0256410256410255, 2.051282051282051, 3.0769230769230766, 4.102564102564102, 5.128205128205128, 6.153846153846153, 7.179487179487179, 8.205128205128204, 9.23076923076923, 10.256410256410255, 11.282051282051281, 12.307692307692307, 13.333333333333332, 14.358974358974358, 15.384615384615383, 16.41025641025641, 17.435897435897434, 18.46153846153846, 19.487179487179485, 20.51282051282051, 21.538461538461537, 22.564102564102562, 23.589743589743588, 24.615384615384613, 25.64102564102564, 26.666666666666664, 27.69230769230769, 28.717948717948715, 29.74358974358974, 30.769230769230766, 31.794871794871792, 32.82051282051282, 33.84615384615384, 34.87179487179487, 35.8974358974359, 36.92307692307692, 37.94871794871794, 38.97435897435897, 40.0], \"y\": [0.0, 1.2918573077195455e-06, 3.053634101931565e-06, 7.162280516590653e-06, 1.6777482370154944e-05, 3.9308669085360694e-05, 9.203335863114523e-05, 0.00021519533394397957, 0.0005018527806218621, 0.0011632713465628804, 0.002658988004953626, 0.005888515538043002, 0.012175904987938212, 0.021976223885113274, 0.03157805054709296, 0.0337841969889825, 0.027430190894113485, 0.018492389774013206, 0.011343307258461468, 0.006698907442934962, 0.003908633015076802, 0.0022748744023347927, 0.0013244477076446537, 0.0007717678241644745, 0.0004500515711182355, 0.0002625580415282094, 0.0001532453816052539, 8.945648964065648e-05, 5.222559756435711e-05, 3.0494545419665493e-05, 1.7804054702385296e-05, 1.0396223037181645e-05, 6.070998425731236e-06, 3.5445175070662356e-06, 2.06949125460023e-06, 1.2087414276541366e-06, 7.152584858146079e-07, 4.121484680098938e-07, 2.405141539135289e-07, 1.4056686503575718e-07]}, {\"name\": \"Infected\", \"type\": \"scatter\", \"x\": [0.0, 1.0256410256410255, 2.051282051282051, 3.0769230769230766, 4.102564102564102, 5.128205128205128, 6.153846153846153, 7.179487179487179, 8.205128205128204, 9.23076923076923, 10.256410256410255, 11.282051282051281, 12.307692307692307, 13.333333333333332, 14.358974358974358, 15.384615384615383, 16.41025641025641, 17.435897435897434, 18.46153846153846, 19.487179487179485, 20.51282051282051, 21.538461538461537, 22.564102564102562, 23.589743589743588, 24.615384615384613, 25.64102564102564, 26.666666666666664, 27.69230769230769, 28.717948717948715, 29.74358974358974, 30.769230769230766, 31.794871794871792, 32.82051282051282, 33.84615384615384, 34.87179487179487, 35.8974358974359, 36.92307692307692, 37.94871794871794, 38.97435897435897, 40.0], \"y\": [1.49e-06, 3.4937255718492825e-06, 8.19496787548368e-06, 1.921072421398511e-05, 4.5026794949686006e-05, 0.0001054923061264022, 0.00024702715846800047, 0.0005778298746676575, 0.0013487542422760854, 0.0031329237029400414, 0.007196066125728635, 0.016114255362033224, 0.03414957216640428, 0.06485942163877775, 0.10233743432342103, 0.12624607811155772, 0.12180551588706796, 0.09707653039059096, 0.06819966483112198, 0.04437520266728057, 0.027598433495319315, 0.016718308356466174, 0.009973423897100158, 0.005896851195103191, 0.0034684606630689166, 0.0020339382805597047, 0.0011906092625298536, 0.0006962250263706077, 0.00040688110582585567, 0.00023770093712669713, 0.0001388385552066889, 8.10878481969542e-05, 4.7358064837839866e-05, 2.7650439921911228e-05, 1.6146302016778537e-05, 9.425680089784832e-06, 5.5047410178579385e-06, 3.2143028312629784e-06, 1.87650171186586e-06, 1.1006991968163e-06]}, {\"name\": \"Recovered\", \"type\": \"scatter\", \"x\": [0.0, 1.0256410256410255, 2.051282051282051, 3.0769230769230766, 4.102564102564102, 5.128205128205128, 6.153846153846153, 7.179487179487179, 8.205128205128204, 9.23076923076923, 10.256410256410255, 11.282051282051281, 12.307692307692307, 13.333333333333332, 14.358974358974358, 15.384615384615383, 16.41025641025641, 17.435897435897434, 18.46153846153846, 19.487179487179485, 20.51282051282051, 21.538461538461537, 22.564102564102562, 23.589743589743588, 24.615384615384613, 25.64102564102564, 26.666666666666664, 27.69230769230769, 28.717948717948715, 29.74358974358974, 30.769230769230766, 31.794871794871792, 32.82051282051282, 33.84615384615384, 34.87179487179487, 35.8974358974359, 36.92307692307692, 37.94871794871794, 38.97435897435897, 40.0], \"y\": [0.0, 2.341714509823441e-06, 7.836050864887244e-06, 2.0710633850643105e-05, 5.088559678071329e-05, 0.00012157471426468635, 0.00028711926717347585, 0.0006744695993486398, 0.001579531132758633, 0.0036869255010294334, 0.00855461037455647, 0.0195938343533957, 0.04363847027442645, 0.09184792397012509, 0.1751451518790565, 0.29091184017768534, 0.4166221668346552, 0.5264672997132537, 0.6085051448497049, 0.6639255364273223, 0.6991693097937127, 0.7207993752047529, 0.7338016655969833, 0.7415236449710819, 0.7460774437464711, 0.7487518460396262, 0.7503187617439949, 0.7512355232449393, 0.7517714515655213, 0.75208460010049, 0.7522675203486908, 0.7523743492430622, 0.7524367352154215, 0.7524731832564173, 0.7524944584775245, 0.752506886958579, 0.7525141378578931, 0.7525183734713192, 0.7525208473990014, 0.7525222820464609]}],                        {\"template\": {\"data\": {\"bar\": [{\"error_x\": {\"color\": \"#2a3f5f\"}, \"error_y\": {\"color\": \"#2a3f5f\"}, \"marker\": {\"line\": {\"color\": \"#E5ECF6\", \"width\": 0.5}}, \"type\": \"bar\"}], \"barpolar\": [{\"marker\": {\"line\": {\"color\": \"#E5ECF6\", \"width\": 0.5}}, \"type\": \"barpolar\"}], \"carpet\": [{\"aaxis\": {\"endlinecolor\": \"#2a3f5f\", \"gridcolor\": \"white\", \"linecolor\": \"white\", \"minorgridcolor\": \"white\", \"startlinecolor\": \"#2a3f5f\"}, \"baxis\": {\"endlinecolor\": \"#2a3f5f\", \"gridcolor\": \"white\", \"linecolor\": \"white\", \"minorgridcolor\": \"white\", \"startlinecolor\": \"#2a3f5f\"}, \"type\": \"carpet\"}], \"choropleth\": [{\"colorbar\": {\"outlinewidth\": 0, \"ticks\": \"\"}, \"type\": \"choropleth\"}], \"contour\": [{\"colorbar\": {\"outlinewidth\": 0, \"ticks\": \"\"}, \"colorscale\": [[0.0, \"#0d0887\"], [0.1111111111111111, \"#46039f\"], [0.2222222222222222, \"#7201a8\"], [0.3333333333333333, \"#9c179e\"], [0.4444444444444444, \"#bd3786\"], [0.5555555555555556, \"#d8576b\"], [0.6666666666666666, \"#ed7953\"], [0.7777777777777778, \"#fb9f3a\"], [0.8888888888888888, \"#fdca26\"], [1.0, \"#f0f921\"]], \"type\": \"contour\"}], \"contourcarpet\": [{\"colorbar\": {\"outlinewidth\": 0, \"ticks\": \"\"}, \"type\": \"contourcarpet\"}], \"heatmap\": [{\"colorbar\": {\"outlinewidth\": 0, \"ticks\": \"\"}, \"colorscale\": [[0.0, \"#0d0887\"], [0.1111111111111111, \"#46039f\"], [0.2222222222222222, \"#7201a8\"], [0.3333333333333333, \"#9c179e\"], [0.4444444444444444, \"#bd3786\"], [0.5555555555555556, \"#d8576b\"], [0.6666666666666666, \"#ed7953\"], [0.7777777777777778, \"#fb9f3a\"], [0.8888888888888888, \"#fdca26\"], [1.0, \"#f0f921\"]], \"type\": \"heatmap\"}], \"heatmapgl\": [{\"colorbar\": {\"outlinewidth\": 0, \"ticks\": \"\"}, \"colorscale\": [[0.0, \"#0d0887\"], [0.1111111111111111, \"#46039f\"], [0.2222222222222222, \"#7201a8\"], [0.3333333333333333, \"#9c179e\"], [0.4444444444444444, \"#bd3786\"], [0.5555555555555556, \"#d8576b\"], [0.6666666666666666, \"#ed7953\"], [0.7777777777777778, \"#fb9f3a\"], [0.8888888888888888, \"#fdca26\"], [1.0, \"#f0f921\"]], \"type\": \"heatmapgl\"}], \"histogram\": [{\"marker\": {\"colorbar\": {\"outlinewidth\": 0, \"ticks\": \"\"}}, \"type\": \"histogram\"}], \"histogram2d\": [{\"colorbar\": {\"outlinewidth\": 0, \"ticks\": \"\"}, \"colorscale\": [[0.0, \"#0d0887\"], [0.1111111111111111, \"#46039f\"], [0.2222222222222222, \"#7201a8\"], [0.3333333333333333, \"#9c179e\"], [0.4444444444444444, \"#bd3786\"], [0.5555555555555556, \"#d8576b\"], [0.6666666666666666, \"#ed7953\"], [0.7777777777777778, \"#fb9f3a\"], [0.8888888888888888, \"#fdca26\"], [1.0, \"#f0f921\"]], \"type\": \"histogram2d\"}], \"histogram2dcontour\": [{\"colorbar\": {\"outlinewidth\": 0, \"ticks\": \"\"}, \"colorscale\": [[0.0, \"#0d0887\"], [0.1111111111111111, \"#46039f\"], [0.2222222222222222, \"#7201a8\"], [0.3333333333333333, \"#9c179e\"], [0.4444444444444444, \"#bd3786\"], [0.5555555555555556, \"#d8576b\"], [0.6666666666666666, \"#ed7953\"], [0.7777777777777778, \"#fb9f3a\"], [0.8888888888888888, \"#fdca26\"], [1.0, \"#f0f921\"]], \"type\": \"histogram2dcontour\"}], \"mesh3d\": [{\"colorbar\": {\"outlinewidth\": 0, \"ticks\": \"\"}, \"type\": \"mesh3d\"}], \"parcoords\": [{\"line\": {\"colorbar\": {\"outlinewidth\": 0, \"ticks\": \"\"}}, \"type\": \"parcoords\"}], \"pie\": [{\"automargin\": true, \"type\": \"pie\"}], \"scatter\": [{\"marker\": {\"colorbar\": {\"outlinewidth\": 0, \"ticks\": \"\"}}, \"type\": \"scatter\"}], \"scatter3d\": [{\"line\": {\"colorbar\": {\"outlinewidth\": 0, \"ticks\": \"\"}}, \"marker\": {\"colorbar\": {\"outlinewidth\": 0, \"ticks\": \"\"}}, \"type\": \"scatter3d\"}], \"scattercarpet\": [{\"marker\": {\"colorbar\": {\"outlinewidth\": 0, \"ticks\": \"\"}}, \"type\": \"scattercarpet\"}], \"scattergeo\": [{\"marker\": {\"colorbar\": {\"outlinewidth\": 0, \"ticks\": \"\"}}, \"type\": \"scattergeo\"}], \"scattergl\": [{\"marker\": {\"colorbar\": {\"outlinewidth\": 0, \"ticks\": \"\"}}, \"type\": \"scattergl\"}], \"scattermapbox\": [{\"marker\": {\"colorbar\": {\"outlinewidth\": 0, \"ticks\": \"\"}}, \"type\": \"scattermapbox\"}], \"scatterpolar\": [{\"marker\": {\"colorbar\": {\"outlinewidth\": 0, \"ticks\": \"\"}}, \"type\": \"scatterpolar\"}], \"scatterpolargl\": [{\"marker\": {\"colorbar\": {\"outlinewidth\": 0, \"ticks\": \"\"}}, \"type\": \"scatterpolargl\"}], \"scatterternary\": [{\"marker\": {\"colorbar\": {\"outlinewidth\": 0, \"ticks\": \"\"}}, \"type\": \"scatterternary\"}], \"surface\": [{\"colorbar\": {\"outlinewidth\": 0, \"ticks\": \"\"}, \"colorscale\": [[0.0, \"#0d0887\"], [0.1111111111111111, \"#46039f\"], [0.2222222222222222, \"#7201a8\"], [0.3333333333333333, \"#9c179e\"], [0.4444444444444444, \"#bd3786\"], [0.5555555555555556, \"#d8576b\"], [0.6666666666666666, \"#ed7953\"], [0.7777777777777778, \"#fb9f3a\"], [0.8888888888888888, \"#fdca26\"], [1.0, \"#f0f921\"]], \"type\": \"surface\"}], \"table\": [{\"cells\": {\"fill\": {\"color\": \"#EBF0F8\"}, \"line\": {\"color\": \"white\"}}, \"header\": {\"fill\": {\"color\": \"#C8D4E3\"}, \"line\": {\"color\": \"white\"}}, \"type\": \"table\"}]}, \"layout\": {\"annotationdefaults\": {\"arrowcolor\": \"#2a3f5f\", \"arrowhead\": 0, \"arrowwidth\": 1}, \"coloraxis\": {\"colorbar\": {\"outlinewidth\": 0, \"ticks\": \"\"}}, \"colorscale\": {\"diverging\": [[0, \"#8e0152\"], [0.1, \"#c51b7d\"], [0.2, \"#de77ae\"], [0.3, \"#f1b6da\"], [0.4, \"#fde0ef\"], [0.5, \"#f7f7f7\"], [0.6, \"#e6f5d0\"], [0.7, \"#b8e186\"], [0.8, \"#7fbc41\"], [0.9, \"#4d9221\"], [1, \"#276419\"]], \"sequential\": [[0.0, \"#0d0887\"], [0.1111111111111111, \"#46039f\"], [0.2222222222222222, \"#7201a8\"], [0.3333333333333333, \"#9c179e\"], [0.4444444444444444, \"#bd3786\"], [0.5555555555555556, \"#d8576b\"], [0.6666666666666666, \"#ed7953\"], [0.7777777777777778, \"#fb9f3a\"], [0.8888888888888888, \"#fdca26\"], [1.0, \"#f0f921\"]], \"sequentialminus\": [[0.0, \"#0d0887\"], [0.1111111111111111, \"#46039f\"], [0.2222222222222222, \"#7201a8\"], [0.3333333333333333, \"#9c179e\"], [0.4444444444444444, \"#bd3786\"], [0.5555555555555556, \"#d8576b\"], [0.6666666666666666, \"#ed7953\"], [0.7777777777777778, \"#fb9f3a\"], [0.8888888888888888, \"#fdca26\"], [1.0, \"#f0f921\"]]}, \"colorway\": [\"#636efa\", \"#EF553B\", \"#00cc96\", \"#ab63fa\", \"#FFA15A\", \"#19d3f3\", \"#FF6692\", \"#B6E880\", \"#FF97FF\", \"#FECB52\"], \"font\": {\"color\": \"#2a3f5f\"}, \"geo\": {\"bgcolor\": \"white\", \"lakecolor\": \"white\", \"landcolor\": \"#E5ECF6\", \"showlakes\": true, \"showland\": true, \"subunitcolor\": \"white\"}, \"hoverlabel\": {\"align\": \"left\"}, \"hovermode\": \"closest\", \"mapbox\": {\"style\": \"light\"}, \"paper_bgcolor\": \"white\", \"plot_bgcolor\": \"#E5ECF6\", \"polar\": {\"angularaxis\": {\"gridcolor\": \"white\", \"linecolor\": \"white\", \"ticks\": \"\"}, \"bgcolor\": \"#E5ECF6\", \"radialaxis\": {\"gridcolor\": \"white\", \"linecolor\": \"white\", \"ticks\": \"\"}}, \"scene\": {\"xaxis\": {\"backgroundcolor\": \"#E5ECF6\", \"gridcolor\": \"white\", \"gridwidth\": 2, \"linecolor\": \"white\", \"showbackground\": true, \"ticks\": \"\", \"zerolinecolor\": \"white\"}, \"yaxis\": {\"backgroundcolor\": \"#E5ECF6\", \"gridcolor\": \"white\", \"gridwidth\": 2, \"linecolor\": \"white\", \"showbackground\": true, \"ticks\": \"\", \"zerolinecolor\": \"white\"}, \"zaxis\": {\"backgroundcolor\": \"#E5ECF6\", \"gridcolor\": \"white\", \"gridwidth\": 2, \"linecolor\": \"white\", \"showbackground\": true, \"ticks\": \"\", \"zerolinecolor\": \"white\"}}, \"shapedefaults\": {\"line\": {\"color\": \"#2a3f5f\"}}, \"ternary\": {\"aaxis\": {\"gridcolor\": \"white\", \"linecolor\": \"white\", \"ticks\": \"\"}, \"baxis\": {\"gridcolor\": \"white\", \"linecolor\": \"white\", \"ticks\": \"\"}, \"bgcolor\": \"#E5ECF6\", \"caxis\": {\"gridcolor\": \"white\", \"linecolor\": \"white\", \"ticks\": \"\"}}, \"title\": {\"x\": 0.05}, \"xaxis\": {\"automargin\": true, \"gridcolor\": \"white\", \"linecolor\": \"white\", \"ticks\": \"\", \"title\": {\"standoff\": 15}, \"zerolinecolor\": \"white\", \"zerolinewidth\": 2}, \"yaxis\": {\"automargin\": true, \"gridcolor\": \"white\", \"linecolor\": \"white\", \"ticks\": \"\", \"title\": {\"standoff\": 15}, \"zerolinecolor\": \"white\", \"zerolinewidth\": 2}}}, \"title\": {\"text\": \"SEIR Model - Adequate Restrictions\"}, \"xaxis\": {\"title\": {\"text\": \"Time (weeks)\"}}, \"yaxis\": {\"title\": {\"text\": \"Percent of Population x100\"}}},                        {\"responsive\": true}                    ).then(function(){\n",
       "                            \n",
       "var gd = document.getElementById('66c8974b-82ea-4a4a-906c-ec7f40dd86cc');\n",
       "var x = new MutationObserver(function (mutations, observer) {{\n",
       "        var display = window.getComputedStyle(gd).display;\n",
       "        if (!display || display === 'none') {{\n",
       "            console.log([gd, 'removed!']);\n",
       "            Plotly.purge(gd);\n",
       "            observer.disconnect();\n",
       "        }}\n",
       "}});\n",
       "\n",
       "// Listen for the removal of the full notebook cells\n",
       "var notebookContainer = gd.closest('#notebook-container');\n",
       "if (notebookContainer) {{\n",
       "    x.observe(notebookContainer, {childList: true});\n",
       "}}\n",
       "\n",
       "// Listen for the clearing of the current output cell\n",
       "var outputEl = gd.closest('.output');\n",
       "if (outputEl) {{\n",
       "    x.observe(outputEl, {childList: true});\n",
       "}}\n",
       "\n",
       "                        })                };                });            </script>        </div>"
      ]
     },
     "metadata": {},
     "output_type": "display_data"
    }
   ],
   "source": [
    "fig.add_trace(go.Scatter(x=t, y=SEIR[:,0], name='Suseptible'))\n",
    "fig.add_trace(go.Scatter(x=t, y=SEIR[:,1], name='Exposed'))\n",
    "fig.add_trace(go.Scatter(x=t, y=SEIR[:,2], name='Infected'))\n",
    "fig.add_trace(go.Scatter(x=t, y=SEIR[:,3], name='Recovered')) \n",
    "fig.layout.update(dict(title='SEIR Model - Adequate Restrictions',\n",
    "                       xaxis=dict(title='Time (weeks)'),\n",
    "                       yaxis=dict(title='Percent of Population x100')))\n",
    "fig.show()"
   ]
  },
  {
   "cell_type": "markdown",
   "metadata": {},
   "source": [
    "# Basic graph of COVID-19 with restrictions implemented - great effect    "
   ]
  },
  {
   "cell_type": "code",
   "execution_count": 224,
   "metadata": {},
   "outputs": [],
   "source": [
    "# Initial number of infected and recovered individuals, I0 and R0.\n",
    "# Everyone else, S0, is initially susceptible to infection. \n",
    "# Initial number of exposed individuals, E0\n",
    "I0 = 10\n",
    "S0 = 670000\n",
    "R0 = 0 \n",
    "E0 = 0 \n",
    "# Contraction rate, beta, and mean recovery rate, gamma, incubation period, kappa.\n",
    "beta, gamma, kappa = 1.4, .97, 4 "
   ]
  },
  {
   "cell_type": "code",
   "execution_count": 225,
   "metadata": {},
   "outputs": [],
   "source": [
    "#Y axis represents S, E, I and R values\n",
    "#X axis represents time\n",
    "t = linspace(0, 50, 50)\n",
    "SEIR = odeint(dSEIRdt, [1, 0,.00000149, 0], t, (beta, gamma, kappa))  \n",
    "fig = go.Figure()"
   ]
  },
  {
   "cell_type": "code",
   "execution_count": 226,
   "metadata": {},
   "outputs": [
    {
     "data": {
      "application/vnd.plotly.v1+json": {
       "config": {
        "plotlyServerURL": "https://plot.ly"
       },
       "data": [
        {
         "name": "Suseptible",
         "type": "scatter",
         "x": [
          0,
          1.0204081632653061,
          2.0408163265306123,
          3.0612244897959187,
          4.081632653061225,
          5.1020408163265305,
          6.122448979591837,
          7.142857142857143,
          8.16326530612245,
          9.183673469387756,
          10.204081632653061,
          11.224489795918368,
          12.244897959183675,
          13.26530612244898,
          14.285714285714286,
          15.306122448979592,
          16.3265306122449,
          17.346938775510203,
          18.367346938775512,
          19.387755102040817,
          20.408163265306122,
          21.42857142857143,
          22.448979591836736,
          23.46938775510204,
          24.48979591836735,
          25.510204081632654,
          26.53061224489796,
          27.551020408163264,
          28.571428571428573,
          29.591836734693878,
          30.612244897959183,
          31.63265306122449,
          32.6530612244898,
          33.673469387755105,
          34.69387755102041,
          35.714285714285715,
          36.734693877551024,
          37.755102040816325,
          38.775510204081634,
          39.79591836734694,
          40.816326530612244,
          41.83673469387755,
          42.85714285714286,
          43.87755102040816,
          44.89795918367347,
          45.91836734693878,
          46.93877551020408,
          47.95918367346939,
          48.9795918367347,
          50
         ],
         "y": [
          1,
          0.9999973269878648,
          0.999993180166694,
          0.9999867495336627,
          0.9999767792933902,
          0.9999613154358182,
          0.9999373306765645,
          0.9999001444637801,
          0.9998424668978166,
          0.9997530666771026,
          0.9996144868981842,
          0.9993997364040657,
          0.9990670697887557,
          0.9985521181329537,
          0.997755737439668,
          0.9965260567889235,
          0.9946317542497702,
          0.9917242413786513,
          0.9872863415304569,
          0.9805696542276477,
          0.9705328341194196,
          0.9558154772047235,
          0.9348178900926865,
          0.9059892719910188,
          0.8683975444253942,
          0.8224726514603568,
          0.7705050388292414,
          0.7163654296346665,
          0.6643725662838302,
          0.6179667398487405,
          0.5789869337986927,
          0.5477496013993237,
          0.5235705157061855,
          0.5053124873753749,
          0.49176250460027615,
          0.48182689995187067,
          0.47460216895390456,
          0.469379057261871,
          0.46561829063359395,
          0.46291813570293183,
          0.46098331448365404,
          0.45959887939668864,
          0.4586092501763663,
          0.45790234034028365,
          0.457397624653678,
          0.4570374088609409,
          0.45678038359674555,
          0.4565970375742555,
          0.45646624660151913,
          0.4563729547269596
         ]
        },
        {
         "name": "Exposed",
         "type": "scatter",
         "x": [
          0,
          1.0204081632653061,
          2.0408163265306123,
          3.0612244897959187,
          4.081632653061225,
          5.1020408163265305,
          6.122448979591837,
          7.142857142857143,
          8.16326530612245,
          9.183673469387756,
          10.204081632653061,
          11.224489795918368,
          12.244897959183675,
          13.26530612244898,
          14.285714285714286,
          15.306122448979592,
          16.3265306122449,
          17.346938775510203,
          18.367346938775512,
          19.387755102040817,
          20.408163265306122,
          21.42857142857143,
          22.448979591836736,
          23.46938775510204,
          24.48979591836735,
          25.510204081632654,
          26.53061224489796,
          27.551020408163264,
          28.571428571428573,
          29.591836734693878,
          30.612244897959183,
          31.63265306122449,
          32.6530612244898,
          33.673469387755105,
          34.69387755102041,
          35.714285714285715,
          36.734693877551024,
          37.755102040816325,
          38.775510204081634,
          39.79591836734694,
          40.816326530612244,
          41.83673469387755,
          42.85714285714286,
          43.87755102040816,
          44.89795918367347,
          45.91836734693878,
          46.93877551020408,
          47.95918367346939,
          48.9795918367347,
          50
         ],
         "y": [
          0,
          7.215771171108918e-07,
          1.1326218288600433e-06,
          1.75801319551617e-06,
          2.724878509993514e-06,
          4.227368334870388e-06,
          6.554106336457523e-06,
          1.01617171506939e-05,
          1.5753653989677855e-05,
          2.443080734761203e-05,
          3.786556929879125e-05,
          5.867432641513819e-05,
          9.087794620263582e-05,
          0.0001406535785409271,
          0.00021745419887005585,
          0.00033562498749529465,
          0.0005166172923642057,
          0.0007920942876763541,
          0.0012069815811700428,
          0.001822072541261172,
          0.0027123031303355675,
          0.0039547031289070105,
          0.005596618664155814,
          0.007597977760962917,
          0.00976218428399052,
          0.011711294754116792,
          0.012981724448217324,
          0.01323905349820947,
          0.012462195869939489,
          0.010933724792151633,
          0.009059693264086236,
          0.0071863902637813275,
          0.005521813343312617,
          0.004148106265641167,
          0.0030674169168478267,
          0.0022435981602800755,
          0.0016286261424168645,
          0.0011759916077827733,
          0.0008460277125586366,
          0.0006070750917215923,
          0.00043482168564540683,
          0.00031103325332538243,
          0.00022228618823042596,
          0.0001587639911175208,
          0.00011333223876032601,
          8.088632077624789e-05,
          5.770996746724279e-05,
          4.116951334552497e-05,
          2.936568297348386e-05,
          2.0945635286420095e-05
         ]
        },
        {
         "name": "Infected",
         "type": "scatter",
         "x": [
          0,
          1.0204081632653061,
          2.0408163265306123,
          3.0612244897959187,
          4.081632653061225,
          5.1020408163265305,
          6.122448979591837,
          7.142857142857143,
          8.16326530612245,
          9.183673469387756,
          10.204081632653061,
          11.224489795918368,
          12.244897959183675,
          13.26530612244898,
          14.285714285714286,
          15.306122448979592,
          16.3265306122449,
          17.346938775510203,
          18.367346938775512,
          19.387755102040817,
          20.408163265306122,
          21.42857142857143,
          22.448979591836736,
          23.46938775510204,
          24.48979591836735,
          25.510204081632654,
          26.53061224489796,
          27.551020408163264,
          28.571428571428573,
          29.591836734693878,
          30.612244897959183,
          31.63265306122449,
          32.6530612244898,
          33.673469387755105,
          34.69387755102041,
          35.714285714285715,
          36.734693877551024,
          37.755102040816325,
          38.775510204081634,
          39.79591836734694,
          40.816326530612244,
          41.83673469387755,
          42.85714285714286,
          43.87755102040816,
          44.89795918367347,
          45.91836734693878,
          46.93877551020408,
          47.95918367346939,
          48.9795918367347,
          50
         ],
         "y": [
          1.49e-06,
          2.310994098909264e-06,
          3.5846469194468556e-06,
          5.559724881084442e-06,
          8.621886945493437e-06,
          1.3371167764375977e-05,
          2.0737071755681835e-05,
          3.215645527085059e-05,
          4.9866552002482515e-05,
          7.731265222655062e-05,
          0.00011984606268095237,
          0.0001857317442441972,
          0.0002877310108389374,
          0.00044546940016904074,
          0.0006890511989511026,
          0.0010642954496590921,
          0.001640287061456109,
          0.0025194692503757725,
          0.0038499210906704634,
          0.005836866405020154,
          0.008745255054815567,
          0.012875500287031293,
          0.018482539352502242,
          0.025607903834515056,
          0.03383783756662034,
          0.042116775603250334,
          0.048862273680411315,
          0.05252324842720716,
          0.05231116425949852,
          0.048548276955599774,
          0.042385158196669506,
          0.035195497395834704,
          0.028094493116165038,
          0.02175975215302555,
          0.016477102877733303,
          0.012270822564311506,
          0.009027861635457969,
          0.0065836511257009005,
          0.004770741153464831,
          0.0034412687322732958,
          0.0024741472571818864,
          0.0017746493265760547,
          0.0012707788106724497,
          0.000908880160231527,
          0.0006494841748130092,
          0.0004638372765647981,
          0.0003311091653163963,
          0.00023629491273585406,
          0.0001685904042320991,
          0.0001202628083581667
         ]
        },
        {
         "name": "Recovered",
         "type": "scatter",
         "x": [
          0,
          1.0204081632653061,
          2.0408163265306123,
          3.0612244897959187,
          4.081632653061225,
          5.1020408163265305,
          6.122448979591837,
          7.142857142857143,
          8.16326530612245,
          9.183673469387756,
          10.204081632653061,
          11.224489795918368,
          12.244897959183675,
          13.26530612244898,
          14.285714285714286,
          15.306122448979592,
          16.3265306122449,
          17.346938775510203,
          18.367346938775512,
          19.387755102040817,
          20.408163265306122,
          21.42857142857143,
          22.448979591836736,
          23.46938775510204,
          24.48979591836735,
          25.510204081632654,
          26.53061224489796,
          27.551020408163264,
          28.571428571428573,
          29.591836734693878,
          30.612244897959183,
          31.63265306122449,
          32.6530612244898,
          33.673469387755105,
          34.69387755102041,
          35.714285714285715,
          36.734693877551024,
          37.755102040816325,
          38.775510204081634,
          39.79591836734694,
          40.816326530612244,
          41.83673469387755,
          42.85714285714286,
          43.87755102040816,
          44.89795918367347,
          45.91836734693878,
          46.93877551020408,
          47.95918367346939,
          48.9795918367347,
          50
         ],
         "y": [
          0,
          1.8520180363974156e-06,
          4.725186386623092e-06,
          9.180741456256208e-06,
          1.608881966420926e-05,
          2.680339641726675e-05,
          4.342225167973063e-05,
          6.918908094885072e-05,
          0.00010915655018058426,
          0.00017111067067065742,
          0.0002671570391345237,
          0.00041602185168992934,
          0.0006466892004052679,
          0.0010039024668770417,
          0.0015567013613807822,
          0.0024111377614174636,
          0.0037294486887736416,
          0.005757779370972772,
          0.008865227378872565,
          0.013594969367332291,
          0.020723400825765115,
          0.03131051250824547,
          0.04670106055481154,
          0.06840431417446657,
          0.09776610800798606,
          0.13541206293639338,
          0.1806341774903477,
          0.2311128119381266,
          0.28331775945667154,
          0.3334864731956602,
          0.3786293980046385,
          0.41705639120484234,
          0.4483364811776504,
          0.47292925047160034,
          0.49176188252199127,
          0.5059037674838185,
          0.516371459410638,
          0.5240387816124287,
          0.5296124582129418,
          0.5336420855647954,
          0.5365440282591646,
          0.5386279612767358,
          0.540121461012962,
          0.5411902694994857,
          0.5419543811715097,
          0.5425002438624951,
          0.5428899972379388,
          0.5431681575130094,
          0.5433666529942495,
          0.5435082724646831
         ]
        }
       ],
       "layout": {
        "autosize": true,
        "template": {
         "data": {
          "bar": [
           {
            "error_x": {
             "color": "#2a3f5f"
            },
            "error_y": {
             "color": "#2a3f5f"
            },
            "marker": {
             "line": {
              "color": "#E5ECF6",
              "width": 0.5
             }
            },
            "type": "bar"
           }
          ],
          "barpolar": [
           {
            "marker": {
             "line": {
              "color": "#E5ECF6",
              "width": 0.5
             }
            },
            "type": "barpolar"
           }
          ],
          "carpet": [
           {
            "aaxis": {
             "endlinecolor": "#2a3f5f",
             "gridcolor": "white",
             "linecolor": "white",
             "minorgridcolor": "white",
             "startlinecolor": "#2a3f5f"
            },
            "baxis": {
             "endlinecolor": "#2a3f5f",
             "gridcolor": "white",
             "linecolor": "white",
             "minorgridcolor": "white",
             "startlinecolor": "#2a3f5f"
            },
            "type": "carpet"
           }
          ],
          "choropleth": [
           {
            "colorbar": {
             "outlinewidth": 0,
             "ticks": ""
            },
            "type": "choropleth"
           }
          ],
          "contour": [
           {
            "colorbar": {
             "outlinewidth": 0,
             "ticks": ""
            },
            "colorscale": [
             [
              0,
              "#0d0887"
             ],
             [
              0.1111111111111111,
              "#46039f"
             ],
             [
              0.2222222222222222,
              "#7201a8"
             ],
             [
              0.3333333333333333,
              "#9c179e"
             ],
             [
              0.4444444444444444,
              "#bd3786"
             ],
             [
              0.5555555555555556,
              "#d8576b"
             ],
             [
              0.6666666666666666,
              "#ed7953"
             ],
             [
              0.7777777777777778,
              "#fb9f3a"
             ],
             [
              0.8888888888888888,
              "#fdca26"
             ],
             [
              1,
              "#f0f921"
             ]
            ],
            "type": "contour"
           }
          ],
          "contourcarpet": [
           {
            "colorbar": {
             "outlinewidth": 0,
             "ticks": ""
            },
            "type": "contourcarpet"
           }
          ],
          "heatmap": [
           {
            "colorbar": {
             "outlinewidth": 0,
             "ticks": ""
            },
            "colorscale": [
             [
              0,
              "#0d0887"
             ],
             [
              0.1111111111111111,
              "#46039f"
             ],
             [
              0.2222222222222222,
              "#7201a8"
             ],
             [
              0.3333333333333333,
              "#9c179e"
             ],
             [
              0.4444444444444444,
              "#bd3786"
             ],
             [
              0.5555555555555556,
              "#d8576b"
             ],
             [
              0.6666666666666666,
              "#ed7953"
             ],
             [
              0.7777777777777778,
              "#fb9f3a"
             ],
             [
              0.8888888888888888,
              "#fdca26"
             ],
             [
              1,
              "#f0f921"
             ]
            ],
            "type": "heatmap"
           }
          ],
          "heatmapgl": [
           {
            "colorbar": {
             "outlinewidth": 0,
             "ticks": ""
            },
            "colorscale": [
             [
              0,
              "#0d0887"
             ],
             [
              0.1111111111111111,
              "#46039f"
             ],
             [
              0.2222222222222222,
              "#7201a8"
             ],
             [
              0.3333333333333333,
              "#9c179e"
             ],
             [
              0.4444444444444444,
              "#bd3786"
             ],
             [
              0.5555555555555556,
              "#d8576b"
             ],
             [
              0.6666666666666666,
              "#ed7953"
             ],
             [
              0.7777777777777778,
              "#fb9f3a"
             ],
             [
              0.8888888888888888,
              "#fdca26"
             ],
             [
              1,
              "#f0f921"
             ]
            ],
            "type": "heatmapgl"
           }
          ],
          "histogram": [
           {
            "marker": {
             "colorbar": {
              "outlinewidth": 0,
              "ticks": ""
             }
            },
            "type": "histogram"
           }
          ],
          "histogram2d": [
           {
            "colorbar": {
             "outlinewidth": 0,
             "ticks": ""
            },
            "colorscale": [
             [
              0,
              "#0d0887"
             ],
             [
              0.1111111111111111,
              "#46039f"
             ],
             [
              0.2222222222222222,
              "#7201a8"
             ],
             [
              0.3333333333333333,
              "#9c179e"
             ],
             [
              0.4444444444444444,
              "#bd3786"
             ],
             [
              0.5555555555555556,
              "#d8576b"
             ],
             [
              0.6666666666666666,
              "#ed7953"
             ],
             [
              0.7777777777777778,
              "#fb9f3a"
             ],
             [
              0.8888888888888888,
              "#fdca26"
             ],
             [
              1,
              "#f0f921"
             ]
            ],
            "type": "histogram2d"
           }
          ],
          "histogram2dcontour": [
           {
            "colorbar": {
             "outlinewidth": 0,
             "ticks": ""
            },
            "colorscale": [
             [
              0,
              "#0d0887"
             ],
             [
              0.1111111111111111,
              "#46039f"
             ],
             [
              0.2222222222222222,
              "#7201a8"
             ],
             [
              0.3333333333333333,
              "#9c179e"
             ],
             [
              0.4444444444444444,
              "#bd3786"
             ],
             [
              0.5555555555555556,
              "#d8576b"
             ],
             [
              0.6666666666666666,
              "#ed7953"
             ],
             [
              0.7777777777777778,
              "#fb9f3a"
             ],
             [
              0.8888888888888888,
              "#fdca26"
             ],
             [
              1,
              "#f0f921"
             ]
            ],
            "type": "histogram2dcontour"
           }
          ],
          "mesh3d": [
           {
            "colorbar": {
             "outlinewidth": 0,
             "ticks": ""
            },
            "type": "mesh3d"
           }
          ],
          "parcoords": [
           {
            "line": {
             "colorbar": {
              "outlinewidth": 0,
              "ticks": ""
             }
            },
            "type": "parcoords"
           }
          ],
          "pie": [
           {
            "automargin": true,
            "type": "pie"
           }
          ],
          "scatter": [
           {
            "marker": {
             "colorbar": {
              "outlinewidth": 0,
              "ticks": ""
             }
            },
            "type": "scatter"
           }
          ],
          "scatter3d": [
           {
            "line": {
             "colorbar": {
              "outlinewidth": 0,
              "ticks": ""
             }
            },
            "marker": {
             "colorbar": {
              "outlinewidth": 0,
              "ticks": ""
             }
            },
            "type": "scatter3d"
           }
          ],
          "scattercarpet": [
           {
            "marker": {
             "colorbar": {
              "outlinewidth": 0,
              "ticks": ""
             }
            },
            "type": "scattercarpet"
           }
          ],
          "scattergeo": [
           {
            "marker": {
             "colorbar": {
              "outlinewidth": 0,
              "ticks": ""
             }
            },
            "type": "scattergeo"
           }
          ],
          "scattergl": [
           {
            "marker": {
             "colorbar": {
              "outlinewidth": 0,
              "ticks": ""
             }
            },
            "type": "scattergl"
           }
          ],
          "scattermapbox": [
           {
            "marker": {
             "colorbar": {
              "outlinewidth": 0,
              "ticks": ""
             }
            },
            "type": "scattermapbox"
           }
          ],
          "scatterpolar": [
           {
            "marker": {
             "colorbar": {
              "outlinewidth": 0,
              "ticks": ""
             }
            },
            "type": "scatterpolar"
           }
          ],
          "scatterpolargl": [
           {
            "marker": {
             "colorbar": {
              "outlinewidth": 0,
              "ticks": ""
             }
            },
            "type": "scatterpolargl"
           }
          ],
          "scatterternary": [
           {
            "marker": {
             "colorbar": {
              "outlinewidth": 0,
              "ticks": ""
             }
            },
            "type": "scatterternary"
           }
          ],
          "surface": [
           {
            "colorbar": {
             "outlinewidth": 0,
             "ticks": ""
            },
            "colorscale": [
             [
              0,
              "#0d0887"
             ],
             [
              0.1111111111111111,
              "#46039f"
             ],
             [
              0.2222222222222222,
              "#7201a8"
             ],
             [
              0.3333333333333333,
              "#9c179e"
             ],
             [
              0.4444444444444444,
              "#bd3786"
             ],
             [
              0.5555555555555556,
              "#d8576b"
             ],
             [
              0.6666666666666666,
              "#ed7953"
             ],
             [
              0.7777777777777778,
              "#fb9f3a"
             ],
             [
              0.8888888888888888,
              "#fdca26"
             ],
             [
              1,
              "#f0f921"
             ]
            ],
            "type": "surface"
           }
          ],
          "table": [
           {
            "cells": {
             "fill": {
              "color": "#EBF0F8"
             },
             "line": {
              "color": "white"
             }
            },
            "header": {
             "fill": {
              "color": "#C8D4E3"
             },
             "line": {
              "color": "white"
             }
            },
            "type": "table"
           }
          ]
         },
         "layout": {
          "annotationdefaults": {
           "arrowcolor": "#2a3f5f",
           "arrowhead": 0,
           "arrowwidth": 1
          },
          "coloraxis": {
           "colorbar": {
            "outlinewidth": 0,
            "ticks": ""
           }
          },
          "colorscale": {
           "diverging": [
            [
             0,
             "#8e0152"
            ],
            [
             0.1,
             "#c51b7d"
            ],
            [
             0.2,
             "#de77ae"
            ],
            [
             0.3,
             "#f1b6da"
            ],
            [
             0.4,
             "#fde0ef"
            ],
            [
             0.5,
             "#f7f7f7"
            ],
            [
             0.6,
             "#e6f5d0"
            ],
            [
             0.7,
             "#b8e186"
            ],
            [
             0.8,
             "#7fbc41"
            ],
            [
             0.9,
             "#4d9221"
            ],
            [
             1,
             "#276419"
            ]
           ],
           "sequential": [
            [
             0,
             "#0d0887"
            ],
            [
             0.1111111111111111,
             "#46039f"
            ],
            [
             0.2222222222222222,
             "#7201a8"
            ],
            [
             0.3333333333333333,
             "#9c179e"
            ],
            [
             0.4444444444444444,
             "#bd3786"
            ],
            [
             0.5555555555555556,
             "#d8576b"
            ],
            [
             0.6666666666666666,
             "#ed7953"
            ],
            [
             0.7777777777777778,
             "#fb9f3a"
            ],
            [
             0.8888888888888888,
             "#fdca26"
            ],
            [
             1,
             "#f0f921"
            ]
           ],
           "sequentialminus": [
            [
             0,
             "#0d0887"
            ],
            [
             0.1111111111111111,
             "#46039f"
            ],
            [
             0.2222222222222222,
             "#7201a8"
            ],
            [
             0.3333333333333333,
             "#9c179e"
            ],
            [
             0.4444444444444444,
             "#bd3786"
            ],
            [
             0.5555555555555556,
             "#d8576b"
            ],
            [
             0.6666666666666666,
             "#ed7953"
            ],
            [
             0.7777777777777778,
             "#fb9f3a"
            ],
            [
             0.8888888888888888,
             "#fdca26"
            ],
            [
             1,
             "#f0f921"
            ]
           ]
          },
          "colorway": [
           "#636efa",
           "#EF553B",
           "#00cc96",
           "#ab63fa",
           "#FFA15A",
           "#19d3f3",
           "#FF6692",
           "#B6E880",
           "#FF97FF",
           "#FECB52"
          ],
          "font": {
           "color": "#2a3f5f"
          },
          "geo": {
           "bgcolor": "white",
           "lakecolor": "white",
           "landcolor": "#E5ECF6",
           "showlakes": true,
           "showland": true,
           "subunitcolor": "white"
          },
          "hoverlabel": {
           "align": "left"
          },
          "hovermode": "closest",
          "mapbox": {
           "style": "light"
          },
          "paper_bgcolor": "white",
          "plot_bgcolor": "#E5ECF6",
          "polar": {
           "angularaxis": {
            "gridcolor": "white",
            "linecolor": "white",
            "ticks": ""
           },
           "bgcolor": "#E5ECF6",
           "radialaxis": {
            "gridcolor": "white",
            "linecolor": "white",
            "ticks": ""
           }
          },
          "scene": {
           "xaxis": {
            "backgroundcolor": "#E5ECF6",
            "gridcolor": "white",
            "gridwidth": 2,
            "linecolor": "white",
            "showbackground": true,
            "ticks": "",
            "zerolinecolor": "white"
           },
           "yaxis": {
            "backgroundcolor": "#E5ECF6",
            "gridcolor": "white",
            "gridwidth": 2,
            "linecolor": "white",
            "showbackground": true,
            "ticks": "",
            "zerolinecolor": "white"
           },
           "zaxis": {
            "backgroundcolor": "#E5ECF6",
            "gridcolor": "white",
            "gridwidth": 2,
            "linecolor": "white",
            "showbackground": true,
            "ticks": "",
            "zerolinecolor": "white"
           }
          },
          "shapedefaults": {
           "line": {
            "color": "#2a3f5f"
           }
          },
          "ternary": {
           "aaxis": {
            "gridcolor": "white",
            "linecolor": "white",
            "ticks": ""
           },
           "baxis": {
            "gridcolor": "white",
            "linecolor": "white",
            "ticks": ""
           },
           "bgcolor": "#E5ECF6",
           "caxis": {
            "gridcolor": "white",
            "linecolor": "white",
            "ticks": ""
           }
          },
          "title": {
           "x": 0.05
          },
          "xaxis": {
           "automargin": true,
           "gridcolor": "white",
           "linecolor": "white",
           "ticks": "",
           "title": {
            "standoff": 15
           },
           "zerolinecolor": "white",
           "zerolinewidth": 2
          },
          "yaxis": {
           "automargin": true,
           "gridcolor": "white",
           "linecolor": "white",
           "ticks": "",
           "title": {
            "standoff": 15
           },
           "zerolinecolor": "white",
           "zerolinewidth": 2
          }
         }
        },
        "title": {
         "text": "SEIR Model - Strong Restrictions"
        },
        "xaxis": {
         "autorange": true,
         "range": [
          0,
          50
         ],
         "title": {
          "text": "Time (weeks)"
         },
         "type": "linear"
        },
        "yaxis": {
         "autorange": true,
         "range": [
          -0.05555555555555556,
          1.0555555555555556
         ],
         "title": {
          "text": "Percent of Population x100"
         },
         "type": "linear"
        }
       }
      },
      "image/png": "[encoded data removed]",
      "text/html": [
       "<div>                            <div id=\"de358321-50b0-45d0-9646-dbbe380a5fb6\" class=\"plotly-graph-div\" style=\"height:525px; width:100%;\"></div>            <script type=\"text/javascript\">                require([\"plotly\"], function(Plotly) {                    window.PLOTLYENV=window.PLOTLYENV || {};                                    if (document.getElementById(\"de358321-50b0-45d0-9646-dbbe380a5fb6\")) {                    Plotly.newPlot(                        \"de358321-50b0-45d0-9646-dbbe380a5fb6\",                        [{\"name\": \"Suseptible\", \"type\": \"scatter\", \"x\": [0.0, 1.0204081632653061, 2.0408163265306123, 3.0612244897959187, 4.081632653061225, 5.1020408163265305, 6.122448979591837, 7.142857142857143, 8.16326530612245, 9.183673469387756, 10.204081632653061, 11.224489795918368, 12.244897959183675, 13.26530612244898, 14.285714285714286, 15.306122448979592, 16.3265306122449, 17.346938775510203, 18.367346938775512, 19.387755102040817, 20.408163265306122, 21.42857142857143, 22.448979591836736, 23.46938775510204, 24.48979591836735, 25.510204081632654, 26.53061224489796, 27.551020408163264, 28.571428571428573, 29.591836734693878, 30.612244897959183, 31.63265306122449, 32.6530612244898, 33.673469387755105, 34.69387755102041, 35.714285714285715, 36.734693877551024, 37.755102040816325, 38.775510204081634, 39.79591836734694, 40.816326530612244, 41.83673469387755, 42.85714285714286, 43.87755102040816, 44.89795918367347, 45.91836734693878, 46.93877551020408, 47.95918367346939, 48.9795918367347, 50.0], \"y\": [1.0, 0.9999973269878648, 0.999993180166694, 0.9999867495336627, 0.9999767792933902, 0.9999613154358182, 0.9999373306765645, 0.9999001444637801, 0.9998424668978166, 0.9997530666771026, 0.9996144868981842, 0.9993997364040657, 0.9990670697887557, 0.9985521181329537, 0.997755737439668, 0.9965260567889235, 0.9946317542497702, 0.9917242413786513, 0.9872863415304569, 0.9805696542276477, 0.9705328341194196, 0.9558154772047235, 0.9348178900926865, 0.9059892719910188, 0.8683975444253942, 0.8224726514603568, 0.7705050388292414, 0.7163654296346665, 0.6643725662838302, 0.6179667398487405, 0.5789869337986927, 0.5477496013993237, 0.5235705157061855, 0.5053124873753749, 0.49176250460027615, 0.48182689995187067, 0.47460216895390456, 0.469379057261871, 0.46561829063359395, 0.46291813570293183, 0.46098331448365404, 0.45959887939668864, 0.4586092501763663, 0.45790234034028365, 0.457397624653678, 0.4570374088609409, 0.45678038359674555, 0.4565970375742555, 0.45646624660151913, 0.4563729547269596]}, {\"name\": \"Exposed\", \"type\": \"scatter\", \"x\": [0.0, 1.0204081632653061, 2.0408163265306123, 3.0612244897959187, 4.081632653061225, 5.1020408163265305, 6.122448979591837, 7.142857142857143, 8.16326530612245, 9.183673469387756, 10.204081632653061, 11.224489795918368, 12.244897959183675, 13.26530612244898, 14.285714285714286, 15.306122448979592, 16.3265306122449, 17.346938775510203, 18.367346938775512, 19.387755102040817, 20.408163265306122, 21.42857142857143, 22.448979591836736, 23.46938775510204, 24.48979591836735, 25.510204081632654, 26.53061224489796, 27.551020408163264, 28.571428571428573, 29.591836734693878, 30.612244897959183, 31.63265306122449, 32.6530612244898, 33.673469387755105, 34.69387755102041, 35.714285714285715, 36.734693877551024, 37.755102040816325, 38.775510204081634, 39.79591836734694, 40.816326530612244, 41.83673469387755, 42.85714285714286, 43.87755102040816, 44.89795918367347, 45.91836734693878, 46.93877551020408, 47.95918367346939, 48.9795918367347, 50.0], \"y\": [0.0, 7.215771171108918e-07, 1.1326218288600433e-06, 1.75801319551617e-06, 2.724878509993514e-06, 4.227368334870388e-06, 6.554106336457523e-06, 1.01617171506939e-05, 1.5753653989677855e-05, 2.443080734761203e-05, 3.786556929879125e-05, 5.867432641513819e-05, 9.087794620263582e-05, 0.0001406535785409271, 0.00021745419887005585, 0.00033562498749529465, 0.0005166172923642057, 0.0007920942876763541, 0.0012069815811700428, 0.001822072541261172, 0.0027123031303355675, 0.0039547031289070105, 0.005596618664155814, 0.007597977760962917, 0.00976218428399052, 0.011711294754116792, 0.012981724448217324, 0.01323905349820947, 0.012462195869939489, 0.010933724792151633, 0.009059693264086236, 0.0071863902637813275, 0.005521813343312617, 0.004148106265641167, 0.0030674169168478267, 0.0022435981602800755, 0.0016286261424168645, 0.0011759916077827733, 0.0008460277125586366, 0.0006070750917215923, 0.00043482168564540683, 0.00031103325332538243, 0.00022228618823042596, 0.0001587639911175208, 0.00011333223876032601, 8.088632077624789e-05, 5.770996746724279e-05, 4.116951334552497e-05, 2.936568297348386e-05, 2.0945635286420095e-05]}, {\"name\": \"Infected\", \"type\": \"scatter\", \"x\": [0.0, 1.0204081632653061, 2.0408163265306123, 3.0612244897959187, 4.081632653061225, 5.1020408163265305, 6.122448979591837, 7.142857142857143, 8.16326530612245, 9.183673469387756, 10.204081632653061, 11.224489795918368, 12.244897959183675, 13.26530612244898, 14.285714285714286, 15.306122448979592, 16.3265306122449, 17.346938775510203, 18.367346938775512, 19.387755102040817, 20.408163265306122, 21.42857142857143, 22.448979591836736, 23.46938775510204, 24.48979591836735, 25.510204081632654, 26.53061224489796, 27.551020408163264, 28.571428571428573, 29.591836734693878, 30.612244897959183, 31.63265306122449, 32.6530612244898, 33.673469387755105, 34.69387755102041, 35.714285714285715, 36.734693877551024, 37.755102040816325, 38.775510204081634, 39.79591836734694, 40.816326530612244, 41.83673469387755, 42.85714285714286, 43.87755102040816, 44.89795918367347, 45.91836734693878, 46.93877551020408, 47.95918367346939, 48.9795918367347, 50.0], \"y\": [1.49e-06, 2.310994098909264e-06, 3.5846469194468556e-06, 5.559724881084442e-06, 8.621886945493437e-06, 1.3371167764375977e-05, 2.0737071755681835e-05, 3.215645527085059e-05, 4.9866552002482515e-05, 7.731265222655062e-05, 0.00011984606268095237, 0.0001857317442441972, 0.0002877310108389374, 0.00044546940016904074, 0.0006890511989511026, 0.0010642954496590921, 0.001640287061456109, 0.0025194692503757725, 0.0038499210906704634, 0.005836866405020154, 0.008745255054815567, 0.012875500287031293, 0.018482539352502242, 0.025607903834515056, 0.03383783756662034, 0.042116775603250334, 0.048862273680411315, 0.05252324842720716, 0.05231116425949852, 0.048548276955599774, 0.042385158196669506, 0.035195497395834704, 0.028094493116165038, 0.02175975215302555, 0.016477102877733303, 0.012270822564311506, 0.009027861635457969, 0.0065836511257009005, 0.004770741153464831, 0.0034412687322732958, 0.0024741472571818864, 0.0017746493265760547, 0.0012707788106724497, 0.000908880160231527, 0.0006494841748130092, 0.0004638372765647981, 0.0003311091653163963, 0.00023629491273585406, 0.0001685904042320991, 0.0001202628083581667]}, {\"name\": \"Recovered\", \"type\": \"scatter\", \"x\": [0.0, 1.0204081632653061, 2.0408163265306123, 3.0612244897959187, 4.081632653061225, 5.1020408163265305, 6.122448979591837, 7.142857142857143, 8.16326530612245, 9.183673469387756, 10.204081632653061, 11.224489795918368, 12.244897959183675, 13.26530612244898, 14.285714285714286, 15.306122448979592, 16.3265306122449, 17.346938775510203, 18.367346938775512, 19.387755102040817, 20.408163265306122, 21.42857142857143, 22.448979591836736, 23.46938775510204, 24.48979591836735, 25.510204081632654, 26.53061224489796, 27.551020408163264, 28.571428571428573, 29.591836734693878, 30.612244897959183, 31.63265306122449, 32.6530612244898, 33.673469387755105, 34.69387755102041, 35.714285714285715, 36.734693877551024, 37.755102040816325, 38.775510204081634, 39.79591836734694, 40.816326530612244, 41.83673469387755, 42.85714285714286, 43.87755102040816, 44.89795918367347, 45.91836734693878, 46.93877551020408, 47.95918367346939, 48.9795918367347, 50.0], \"y\": [0.0, 1.8520180363974156e-06, 4.725186386623092e-06, 9.180741456256208e-06, 1.608881966420926e-05, 2.680339641726675e-05, 4.342225167973063e-05, 6.918908094885072e-05, 0.00010915655018058426, 0.00017111067067065742, 0.0002671570391345237, 0.00041602185168992934, 0.0006466892004052679, 0.0010039024668770417, 0.0015567013613807822, 0.0024111377614174636, 0.0037294486887736416, 0.005757779370972772, 0.008865227378872565, 0.013594969367332291, 0.020723400825765115, 0.03131051250824547, 0.04670106055481154, 0.06840431417446657, 0.09776610800798606, 0.13541206293639338, 0.1806341774903477, 0.2311128119381266, 0.28331775945667154, 0.3334864731956602, 0.3786293980046385, 0.41705639120484234, 0.4483364811776504, 0.47292925047160034, 0.49176188252199127, 0.5059037674838185, 0.516371459410638, 0.5240387816124287, 0.5296124582129418, 0.5336420855647954, 0.5365440282591646, 0.5386279612767358, 0.540121461012962, 0.5411902694994857, 0.5419543811715097, 0.5425002438624951, 0.5428899972379388, 0.5431681575130094, 0.5433666529942495, 0.5435082724646831]}],                        {\"template\": {\"data\": {\"bar\": [{\"error_x\": {\"color\": \"#2a3f5f\"}, \"error_y\": {\"color\": \"#2a3f5f\"}, \"marker\": {\"line\": {\"color\": \"#E5ECF6\", \"width\": 0.5}}, \"type\": \"bar\"}], \"barpolar\": [{\"marker\": {\"line\": {\"color\": \"#E5ECF6\", \"width\": 0.5}}, \"type\": \"barpolar\"}], \"carpet\": [{\"aaxis\": {\"endlinecolor\": \"#2a3f5f\", \"gridcolor\": \"white\", \"linecolor\": \"white\", \"minorgridcolor\": \"white\", \"startlinecolor\": \"#2a3f5f\"}, \"baxis\": {\"endlinecolor\": \"#2a3f5f\", \"gridcolor\": \"white\", \"linecolor\": \"white\", \"minorgridcolor\": \"white\", \"startlinecolor\": \"#2a3f5f\"}, \"type\": \"carpet\"}], \"choropleth\": [{\"colorbar\": {\"outlinewidth\": 0, \"ticks\": \"\"}, \"type\": \"choropleth\"}], \"contour\": [{\"colorbar\": {\"outlinewidth\": 0, \"ticks\": \"\"}, \"colorscale\": [[0.0, \"#0d0887\"], [0.1111111111111111, \"#46039f\"], [0.2222222222222222, \"#7201a8\"], [0.3333333333333333, \"#9c179e\"], [0.4444444444444444, \"#bd3786\"], [0.5555555555555556, \"#d8576b\"], [0.6666666666666666, \"#ed7953\"], [0.7777777777777778, \"#fb9f3a\"], [0.8888888888888888, \"#fdca26\"], [1.0, \"#f0f921\"]], \"type\": \"contour\"}], \"contourcarpet\": [{\"colorbar\": {\"outlinewidth\": 0, \"ticks\": \"\"}, \"type\": \"contourcarpet\"}], \"heatmap\": [{\"colorbar\": {\"outlinewidth\": 0, \"ticks\": \"\"}, \"colorscale\": [[0.0, \"#0d0887\"], [0.1111111111111111, \"#46039f\"], [0.2222222222222222, \"#7201a8\"], [0.3333333333333333, \"#9c179e\"], [0.4444444444444444, \"#bd3786\"], [0.5555555555555556, \"#d8576b\"], [0.6666666666666666, \"#ed7953\"], [0.7777777777777778, \"#fb9f3a\"], [0.8888888888888888, \"#fdca26\"], [1.0, \"#f0f921\"]], \"type\": \"heatmap\"}], \"heatmapgl\": [{\"colorbar\": {\"outlinewidth\": 0, \"ticks\": \"\"}, \"colorscale\": [[0.0, \"#0d0887\"], [0.1111111111111111, \"#46039f\"], [0.2222222222222222, \"#7201a8\"], [0.3333333333333333, \"#9c179e\"], [0.4444444444444444, \"#bd3786\"], [0.5555555555555556, \"#d8576b\"], [0.6666666666666666, \"#ed7953\"], [0.7777777777777778, \"#fb9f3a\"], [0.8888888888888888, \"#fdca26\"], [1.0, \"#f0f921\"]], \"type\": \"heatmapgl\"}], \"histogram\": [{\"marker\": {\"colorbar\": {\"outlinewidth\": 0, \"ticks\": \"\"}}, \"type\": \"histogram\"}], \"histogram2d\": [{\"colorbar\": {\"outlinewidth\": 0, \"ticks\": \"\"}, \"colorscale\": [[0.0, \"#0d0887\"], [0.1111111111111111, \"#46039f\"], [0.2222222222222222, \"#7201a8\"], [0.3333333333333333, \"#9c179e\"], [0.4444444444444444, \"#bd3786\"], [0.5555555555555556, \"#d8576b\"], [0.6666666666666666, \"#ed7953\"], [0.7777777777777778, \"#fb9f3a\"], [0.8888888888888888, \"#fdca26\"], [1.0, \"#f0f921\"]], \"type\": \"histogram2d\"}], \"histogram2dcontour\": [{\"colorbar\": {\"outlinewidth\": 0, \"ticks\": \"\"}, \"colorscale\": [[0.0, \"#0d0887\"], [0.1111111111111111, \"#46039f\"], [0.2222222222222222, \"#7201a8\"], [0.3333333333333333, \"#9c179e\"], [0.4444444444444444, \"#bd3786\"], [0.5555555555555556, \"#d8576b\"], [0.6666666666666666, \"#ed7953\"], [0.7777777777777778, \"#fb9f3a\"], [0.8888888888888888, \"#fdca26\"], [1.0, \"#f0f921\"]], \"type\": \"histogram2dcontour\"}], \"mesh3d\": [{\"colorbar\": {\"outlinewidth\": 0, \"ticks\": \"\"}, \"type\": \"mesh3d\"}], \"parcoords\": [{\"line\": {\"colorbar\": {\"outlinewidth\": 0, \"ticks\": \"\"}}, \"type\": \"parcoords\"}], \"pie\": [{\"automargin\": true, \"type\": \"pie\"}], \"scatter\": [{\"marker\": {\"colorbar\": {\"outlinewidth\": 0, \"ticks\": \"\"}}, \"type\": \"scatter\"}], \"scatter3d\": [{\"line\": {\"colorbar\": {\"outlinewidth\": 0, \"ticks\": \"\"}}, \"marker\": {\"colorbar\": {\"outlinewidth\": 0, \"ticks\": \"\"}}, \"type\": \"scatter3d\"}], \"scattercarpet\": [{\"marker\": {\"colorbar\": {\"outlinewidth\": 0, \"ticks\": \"\"}}, \"type\": \"scattercarpet\"}], \"scattergeo\": [{\"marker\": {\"colorbar\": {\"outlinewidth\": 0, \"ticks\": \"\"}}, \"type\": \"scattergeo\"}], \"scattergl\": [{\"marker\": {\"colorbar\": {\"outlinewidth\": 0, \"ticks\": \"\"}}, \"type\": \"scattergl\"}], \"scattermapbox\": [{\"marker\": {\"colorbar\": {\"outlinewidth\": 0, \"ticks\": \"\"}}, \"type\": \"scattermapbox\"}], \"scatterpolar\": [{\"marker\": {\"colorbar\": {\"outlinewidth\": 0, \"ticks\": \"\"}}, \"type\": \"scatterpolar\"}], \"scatterpolargl\": [{\"marker\": {\"colorbar\": {\"outlinewidth\": 0, \"ticks\": \"\"}}, \"type\": \"scatterpolargl\"}], \"scatterternary\": [{\"marker\": {\"colorbar\": {\"outlinewidth\": 0, \"ticks\": \"\"}}, \"type\": \"scatterternary\"}], \"surface\": [{\"colorbar\": {\"outlinewidth\": 0, \"ticks\": \"\"}, \"colorscale\": [[0.0, \"#0d0887\"], [0.1111111111111111, \"#46039f\"], [0.2222222222222222, \"#7201a8\"], [0.3333333333333333, \"#9c179e\"], [0.4444444444444444, \"#bd3786\"], [0.5555555555555556, \"#d8576b\"], [0.6666666666666666, \"#ed7953\"], [0.7777777777777778, \"#fb9f3a\"], [0.8888888888888888, \"#fdca26\"], [1.0, \"#f0f921\"]], \"type\": \"surface\"}], \"table\": [{\"cells\": {\"fill\": {\"color\": \"#EBF0F8\"}, \"line\": {\"color\": \"white\"}}, \"header\": {\"fill\": {\"color\": \"#C8D4E3\"}, \"line\": {\"color\": \"white\"}}, \"type\": \"table\"}]}, \"layout\": {\"annotationdefaults\": {\"arrowcolor\": \"#2a3f5f\", \"arrowhead\": 0, \"arrowwidth\": 1}, \"coloraxis\": {\"colorbar\": {\"outlinewidth\": 0, \"ticks\": \"\"}}, \"colorscale\": {\"diverging\": [[0, \"#8e0152\"], [0.1, \"#c51b7d\"], [0.2, \"#de77ae\"], [0.3, \"#f1b6da\"], [0.4, \"#fde0ef\"], [0.5, \"#f7f7f7\"], [0.6, \"#e6f5d0\"], [0.7, \"#b8e186\"], [0.8, \"#7fbc41\"], [0.9, \"#4d9221\"], [1, \"#276419\"]], \"sequential\": [[0.0, \"#0d0887\"], [0.1111111111111111, \"#46039f\"], [0.2222222222222222, \"#7201a8\"], [0.3333333333333333, \"#9c179e\"], [0.4444444444444444, \"#bd3786\"], [0.5555555555555556, \"#d8576b\"], [0.6666666666666666, \"#ed7953\"], [0.7777777777777778, \"#fb9f3a\"], [0.8888888888888888, \"#fdca26\"], [1.0, \"#f0f921\"]], \"sequentialminus\": [[0.0, \"#0d0887\"], [0.1111111111111111, \"#46039f\"], [0.2222222222222222, \"#7201a8\"], [0.3333333333333333, \"#9c179e\"], [0.4444444444444444, \"#bd3786\"], [0.5555555555555556, \"#d8576b\"], [0.6666666666666666, \"#ed7953\"], [0.7777777777777778, \"#fb9f3a\"], [0.8888888888888888, \"#fdca26\"], [1.0, \"#f0f921\"]]}, \"colorway\": [\"#636efa\", \"#EF553B\", \"#00cc96\", \"#ab63fa\", \"#FFA15A\", \"#19d3f3\", \"#FF6692\", \"#B6E880\", \"#FF97FF\", \"#FECB52\"], \"font\": {\"color\": \"#2a3f5f\"}, \"geo\": {\"bgcolor\": \"white\", \"lakecolor\": \"white\", \"landcolor\": \"#E5ECF6\", \"showlakes\": true, \"showland\": true, \"subunitcolor\": \"white\"}, \"hoverlabel\": {\"align\": \"left\"}, \"hovermode\": \"closest\", \"mapbox\": {\"style\": \"light\"}, \"paper_bgcolor\": \"white\", \"plot_bgcolor\": \"#E5ECF6\", \"polar\": {\"angularaxis\": {\"gridcolor\": \"white\", \"linecolor\": \"white\", \"ticks\": \"\"}, \"bgcolor\": \"#E5ECF6\", \"radialaxis\": {\"gridcolor\": \"white\", \"linecolor\": \"white\", \"ticks\": \"\"}}, \"scene\": {\"xaxis\": {\"backgroundcolor\": \"#E5ECF6\", \"gridcolor\": \"white\", \"gridwidth\": 2, \"linecolor\": \"white\", \"showbackground\": true, \"ticks\": \"\", \"zerolinecolor\": \"white\"}, \"yaxis\": {\"backgroundcolor\": \"#E5ECF6\", \"gridcolor\": \"white\", \"gridwidth\": 2, \"linecolor\": \"white\", \"showbackground\": true, \"ticks\": \"\", \"zerolinecolor\": \"white\"}, \"zaxis\": {\"backgroundcolor\": \"#E5ECF6\", \"gridcolor\": \"white\", \"gridwidth\": 2, \"linecolor\": \"white\", \"showbackground\": true, \"ticks\": \"\", \"zerolinecolor\": \"white\"}}, \"shapedefaults\": {\"line\": {\"color\": \"#2a3f5f\"}}, \"ternary\": {\"aaxis\": {\"gridcolor\": \"white\", \"linecolor\": \"white\", \"ticks\": \"\"}, \"baxis\": {\"gridcolor\": \"white\", \"linecolor\": \"white\", \"ticks\": \"\"}, \"bgcolor\": \"#E5ECF6\", \"caxis\": {\"gridcolor\": \"white\", \"linecolor\": \"white\", \"ticks\": \"\"}}, \"title\": {\"x\": 0.05}, \"xaxis\": {\"automargin\": true, \"gridcolor\": \"white\", \"linecolor\": \"white\", \"ticks\": \"\", \"title\": {\"standoff\": 15}, \"zerolinecolor\": \"white\", \"zerolinewidth\": 2}, \"yaxis\": {\"automargin\": true, \"gridcolor\": \"white\", \"linecolor\": \"white\", \"ticks\": \"\", \"title\": {\"standoff\": 15}, \"zerolinecolor\": \"white\", \"zerolinewidth\": 2}}}, \"title\": {\"text\": \"SEIR Model - Strong Restrictions\"}, \"xaxis\": {\"title\": {\"text\": \"Time (weeks)\"}}, \"yaxis\": {\"title\": {\"text\": \"Percent of Population x100\"}}},                        {\"responsive\": true}                    ).then(function(){\n",
       "                            \n",
       "var gd = document.getElementById('de358321-50b0-45d0-9646-dbbe380a5fb6');\n",
       "var x = new MutationObserver(function (mutations, observer) {{\n",
       "        var display = window.getComputedStyle(gd).display;\n",
       "        if (!display || display === 'none') {{\n",
       "            console.log([gd, 'removed!']);\n",
       "            Plotly.purge(gd);\n",
       "            observer.disconnect();\n",
       "        }}\n",
       "}});\n",
       "\n",
       "// Listen for the removal of the full notebook cells\n",
       "var notebookContainer = gd.closest('#notebook-container');\n",
       "if (notebookContainer) {{\n",
       "    x.observe(notebookContainer, {childList: true});\n",
       "}}\n",
       "\n",
       "// Listen for the clearing of the current output cell\n",
       "var outputEl = gd.closest('.output');\n",
       "if (outputEl) {{\n",
       "    x.observe(outputEl, {childList: true});\n",
       "}}\n",
       "\n",
       "                        })                };                });            </script>        </div>"
      ]
     },
     "metadata": {},
     "output_type": "display_data"
    }
   ],
   "source": [
    "fig.add_trace(go.Scatter(x=t, y=SEIR[:,0], name='Suseptible'))\n",
    "fig.add_trace(go.Scatter(x=t, y=SEIR[:,1], name='Exposed'))\n",
    "fig.add_trace(go.Scatter(x=t, y=SEIR[:,2], name='Infected'))\n",
    "fig.add_trace(go.Scatter(x=t, y=SEIR[:,3], name='Recovered')) \n",
    "fig.layout.update(dict(title='SEIR Model - Strong Restrictions',\n",
    "                       xaxis=dict(title='Time (weeks)'),\n",
    "                       yaxis=dict(title='Percent of Population x100')))\n",
    "fig.show()"
   ]
  },
  {
   "cell_type": "code",
   "execution_count": 232,
   "metadata": {},
   "outputs": [],
   "source": [
    "import pandas\n",
    "from plotly import graph_objs as go"
   ]
  },
  {
   "cell_type": "code",
   "execution_count": 233,
   "metadata": {},
   "outputs": [],
   "source": [
    "data = pandas.read_csv('https://storage.googleapis.com/covid19-open-data/v2/AU_VIC/main.csv')"
   ]
  },
  {
   "cell_type": "code",
   "execution_count": 238,
   "metadata": {},
   "outputs": [
    {
     "data": {
      "text/html": [
       "<div>\n",
       "<style scoped>\n",
       "    .dataframe tbody tr th:only-of-type {\n",
       "        vertical-align: middle;\n",
       "    }\n",
       "\n",
       "    .dataframe tbody tr th {\n",
       "        vertical-align: top;\n",
       "    }\n",
       "\n",
       "    .dataframe thead th {\n",
       "        text-align: right;\n",
       "    }\n",
       "</style>\n",
       "<table border=\"1\" class=\"dataframe\">\n",
       "  <thead>\n",
       "    <tr style=\"text-align: right;\">\n",
       "      <th></th>\n",
       "      <th>key</th>\n",
       "      <th>date</th>\n",
       "      <th>wikidata</th>\n",
       "      <th>datacommons</th>\n",
       "      <th>country_code</th>\n",
       "      <th>country_name</th>\n",
       "      <th>subregion1_code</th>\n",
       "      <th>subregion1_name</th>\n",
       "      <th>subregion2_code</th>\n",
       "      <th>subregion2_name</th>\n",
       "      <th>...</th>\n",
       "      <th>stringency_index</th>\n",
       "      <th>noaa_station</th>\n",
       "      <th>noaa_distance</th>\n",
       "      <th>average_temperature</th>\n",
       "      <th>minimum_temperature</th>\n",
       "      <th>maximum_temperature</th>\n",
       "      <th>rainfall</th>\n",
       "      <th>snowfall</th>\n",
       "      <th>dew_point</th>\n",
       "      <th>relative_humidity</th>\n",
       "    </tr>\n",
       "  </thead>\n",
       "  <tbody>\n",
       "    <tr>\n",
       "      <th>0</th>\n",
       "      <td>AU_VIC</td>\n",
       "      <td>2020-01-01</td>\n",
       "      <td>Q36687</td>\n",
       "      <td>NaN</td>\n",
       "      <td>AU</td>\n",
       "      <td>Australia</td>\n",
       "      <td>VIC</td>\n",
       "      <td>Victoria</td>\n",
       "      <td>NaN</td>\n",
       "      <td>NaN</td>\n",
       "      <td>...</td>\n",
       "      <td>NaN</td>\n",
       "      <td>9.485510e+10</td>\n",
       "      <td>40.960272</td>\n",
       "      <td>18.817460</td>\n",
       "      <td>8.619048</td>\n",
       "      <td>26.976190</td>\n",
       "      <td>0.000000</td>\n",
       "      <td>NaN</td>\n",
       "      <td>6.222222</td>\n",
       "      <td>44.824407</td>\n",
       "    </tr>\n",
       "    <tr>\n",
       "      <th>1</th>\n",
       "      <td>AU_VIC</td>\n",
       "      <td>2020-01-02</td>\n",
       "      <td>Q36687</td>\n",
       "      <td>NaN</td>\n",
       "      <td>AU</td>\n",
       "      <td>Australia</td>\n",
       "      <td>VIC</td>\n",
       "      <td>Victoria</td>\n",
       "      <td>NaN</td>\n",
       "      <td>NaN</td>\n",
       "      <td>...</td>\n",
       "      <td>NaN</td>\n",
       "      <td>9.485510e+10</td>\n",
       "      <td>40.960272</td>\n",
       "      <td>20.436508</td>\n",
       "      <td>10.380952</td>\n",
       "      <td>28.603175</td>\n",
       "      <td>0.000000</td>\n",
       "      <td>NaN</td>\n",
       "      <td>7.198413</td>\n",
       "      <td>44.392904</td>\n",
       "    </tr>\n",
       "    <tr>\n",
       "      <th>2</th>\n",
       "      <td>AU_VIC</td>\n",
       "      <td>2020-01-03</td>\n",
       "      <td>Q36687</td>\n",
       "      <td>NaN</td>\n",
       "      <td>AU</td>\n",
       "      <td>Australia</td>\n",
       "      <td>VIC</td>\n",
       "      <td>Victoria</td>\n",
       "      <td>NaN</td>\n",
       "      <td>NaN</td>\n",
       "      <td>...</td>\n",
       "      <td>NaN</td>\n",
       "      <td>9.485510e+10</td>\n",
       "      <td>40.960272</td>\n",
       "      <td>26.738095</td>\n",
       "      <td>12.238095</td>\n",
       "      <td>34.203704</td>\n",
       "      <td>0.000000</td>\n",
       "      <td>NaN</td>\n",
       "      <td>1.492063</td>\n",
       "      <td>20.043411</td>\n",
       "    </tr>\n",
       "    <tr>\n",
       "      <th>3</th>\n",
       "      <td>AU_VIC</td>\n",
       "      <td>2020-01-04</td>\n",
       "      <td>Q36687</td>\n",
       "      <td>NaN</td>\n",
       "      <td>AU</td>\n",
       "      <td>Australia</td>\n",
       "      <td>VIC</td>\n",
       "      <td>Victoria</td>\n",
       "      <td>NaN</td>\n",
       "      <td>NaN</td>\n",
       "      <td>...</td>\n",
       "      <td>NaN</td>\n",
       "      <td>9.485510e+10</td>\n",
       "      <td>40.960272</td>\n",
       "      <td>15.992063</td>\n",
       "      <td>10.238095</td>\n",
       "      <td>25.324074</td>\n",
       "      <td>0.834571</td>\n",
       "      <td>NaN</td>\n",
       "      <td>7.896825</td>\n",
       "      <td>60.201663</td>\n",
       "    </tr>\n",
       "    <tr>\n",
       "      <th>4</th>\n",
       "      <td>AU_VIC</td>\n",
       "      <td>2020-01-05</td>\n",
       "      <td>Q36687</td>\n",
       "      <td>NaN</td>\n",
       "      <td>AU</td>\n",
       "      <td>Australia</td>\n",
       "      <td>VIC</td>\n",
       "      <td>Victoria</td>\n",
       "      <td>NaN</td>\n",
       "      <td>NaN</td>\n",
       "      <td>...</td>\n",
       "      <td>NaN</td>\n",
       "      <td>9.485510e+10</td>\n",
       "      <td>40.960272</td>\n",
       "      <td>11.698413</td>\n",
       "      <td>9.738095</td>\n",
       "      <td>13.857143</td>\n",
       "      <td>4.245429</td>\n",
       "      <td>NaN</td>\n",
       "      <td>8.984127</td>\n",
       "      <td>83.655369</td>\n",
       "    </tr>\n",
       "    <tr>\n",
       "      <th>...</th>\n",
       "      <td>...</td>\n",
       "      <td>...</td>\n",
       "      <td>...</td>\n",
       "      <td>...</td>\n",
       "      <td>...</td>\n",
       "      <td>...</td>\n",
       "      <td>...</td>\n",
       "      <td>...</td>\n",
       "      <td>...</td>\n",
       "      <td>...</td>\n",
       "      <td>...</td>\n",
       "      <td>...</td>\n",
       "      <td>...</td>\n",
       "      <td>...</td>\n",
       "      <td>...</td>\n",
       "      <td>...</td>\n",
       "      <td>...</td>\n",
       "      <td>...</td>\n",
       "      <td>...</td>\n",
       "      <td>...</td>\n",
       "      <td>...</td>\n",
       "    </tr>\n",
       "    <tr>\n",
       "      <th>292</th>\n",
       "      <td>AU_VIC</td>\n",
       "      <td>2020-10-19</td>\n",
       "      <td>Q36687</td>\n",
       "      <td>NaN</td>\n",
       "      <td>AU</td>\n",
       "      <td>Australia</td>\n",
       "      <td>VIC</td>\n",
       "      <td>Victoria</td>\n",
       "      <td>NaN</td>\n",
       "      <td>NaN</td>\n",
       "      <td>...</td>\n",
       "      <td>NaN</td>\n",
       "      <td>9.485510e+10</td>\n",
       "      <td>40.960272</td>\n",
       "      <td>9.960317</td>\n",
       "      <td>4.365079</td>\n",
       "      <td>14.063492</td>\n",
       "      <td>0.000000</td>\n",
       "      <td>NaN</td>\n",
       "      <td>6.079365</td>\n",
       "      <td>77.565997</td>\n",
       "    </tr>\n",
       "    <tr>\n",
       "      <th>293</th>\n",
       "      <td>AU_VIC</td>\n",
       "      <td>2020-10-20</td>\n",
       "      <td>Q36687</td>\n",
       "      <td>NaN</td>\n",
       "      <td>AU</td>\n",
       "      <td>Australia</td>\n",
       "      <td>VIC</td>\n",
       "      <td>Victoria</td>\n",
       "      <td>NaN</td>\n",
       "      <td>NaN</td>\n",
       "      <td>...</td>\n",
       "      <td>NaN</td>\n",
       "      <td>NaN</td>\n",
       "      <td>NaN</td>\n",
       "      <td>NaN</td>\n",
       "      <td>NaN</td>\n",
       "      <td>NaN</td>\n",
       "      <td>NaN</td>\n",
       "      <td>NaN</td>\n",
       "      <td>NaN</td>\n",
       "      <td>NaN</td>\n",
       "    </tr>\n",
       "    <tr>\n",
       "      <th>294</th>\n",
       "      <td>AU_VIC</td>\n",
       "      <td>2020-10-21</td>\n",
       "      <td>Q36687</td>\n",
       "      <td>NaN</td>\n",
       "      <td>AU</td>\n",
       "      <td>Australia</td>\n",
       "      <td>VIC</td>\n",
       "      <td>Victoria</td>\n",
       "      <td>NaN</td>\n",
       "      <td>NaN</td>\n",
       "      <td>...</td>\n",
       "      <td>NaN</td>\n",
       "      <td>NaN</td>\n",
       "      <td>NaN</td>\n",
       "      <td>NaN</td>\n",
       "      <td>NaN</td>\n",
       "      <td>NaN</td>\n",
       "      <td>NaN</td>\n",
       "      <td>NaN</td>\n",
       "      <td>NaN</td>\n",
       "      <td>NaN</td>\n",
       "    </tr>\n",
       "    <tr>\n",
       "      <th>295</th>\n",
       "      <td>AU_VIC</td>\n",
       "      <td>2020-10-22</td>\n",
       "      <td>Q36687</td>\n",
       "      <td>NaN</td>\n",
       "      <td>AU</td>\n",
       "      <td>Australia</td>\n",
       "      <td>VIC</td>\n",
       "      <td>Victoria</td>\n",
       "      <td>NaN</td>\n",
       "      <td>NaN</td>\n",
       "      <td>...</td>\n",
       "      <td>NaN</td>\n",
       "      <td>NaN</td>\n",
       "      <td>NaN</td>\n",
       "      <td>NaN</td>\n",
       "      <td>NaN</td>\n",
       "      <td>NaN</td>\n",
       "      <td>NaN</td>\n",
       "      <td>NaN</td>\n",
       "      <td>NaN</td>\n",
       "      <td>NaN</td>\n",
       "    </tr>\n",
       "    <tr>\n",
       "      <th>296</th>\n",
       "      <td>AU_VIC</td>\n",
       "      <td>2020-10-23</td>\n",
       "      <td>Q36687</td>\n",
       "      <td>NaN</td>\n",
       "      <td>AU</td>\n",
       "      <td>Australia</td>\n",
       "      <td>VIC</td>\n",
       "      <td>Victoria</td>\n",
       "      <td>NaN</td>\n",
       "      <td>NaN</td>\n",
       "      <td>...</td>\n",
       "      <td>NaN</td>\n",
       "      <td>NaN</td>\n",
       "      <td>NaN</td>\n",
       "      <td>NaN</td>\n",
       "      <td>NaN</td>\n",
       "      <td>NaN</td>\n",
       "      <td>NaN</td>\n",
       "      <td>NaN</td>\n",
       "      <td>NaN</td>\n",
       "      <td>NaN</td>\n",
       "    </tr>\n",
       "  </tbody>\n",
       "</table>\n",
       "<p>297 rows × 108 columns</p>\n",
       "</div>"
      ],
      "text/plain": [
       "        key        date wikidata  datacommons country_code country_name  \\\n",
       "0    AU_VIC  2020-01-01   Q36687          NaN           AU    Australia   \n",
       "1    AU_VIC  2020-01-02   Q36687          NaN           AU    Australia   \n",
       "2    AU_VIC  2020-01-03   Q36687          NaN           AU    Australia   \n",
       "3    AU_VIC  2020-01-04   Q36687          NaN           AU    Australia   \n",
       "4    AU_VIC  2020-01-05   Q36687          NaN           AU    Australia   \n",
       "..      ...         ...      ...          ...          ...          ...   \n",
       "292  AU_VIC  2020-10-19   Q36687          NaN           AU    Australia   \n",
       "293  AU_VIC  2020-10-20   Q36687          NaN           AU    Australia   \n",
       "294  AU_VIC  2020-10-21   Q36687          NaN           AU    Australia   \n",
       "295  AU_VIC  2020-10-22   Q36687          NaN           AU    Australia   \n",
       "296  AU_VIC  2020-10-23   Q36687          NaN           AU    Australia   \n",
       "\n",
       "    subregion1_code subregion1_name  subregion2_code  subregion2_name  ...  \\\n",
       "0               VIC        Victoria              NaN              NaN  ...   \n",
       "1               VIC        Victoria              NaN              NaN  ...   \n",
       "2               VIC        Victoria              NaN              NaN  ...   \n",
       "3               VIC        Victoria              NaN              NaN  ...   \n",
       "4               VIC        Victoria              NaN              NaN  ...   \n",
       "..              ...             ...              ...              ...  ...   \n",
       "292             VIC        Victoria              NaN              NaN  ...   \n",
       "293             VIC        Victoria              NaN              NaN  ...   \n",
       "294             VIC        Victoria              NaN              NaN  ...   \n",
       "295             VIC        Victoria              NaN              NaN  ...   \n",
       "296             VIC        Victoria              NaN              NaN  ...   \n",
       "\n",
       "     stringency_index  noaa_station noaa_distance average_temperature  \\\n",
       "0                 NaN  9.485510e+10     40.960272           18.817460   \n",
       "1                 NaN  9.485510e+10     40.960272           20.436508   \n",
       "2                 NaN  9.485510e+10     40.960272           26.738095   \n",
       "3                 NaN  9.485510e+10     40.960272           15.992063   \n",
       "4                 NaN  9.485510e+10     40.960272           11.698413   \n",
       "..                ...           ...           ...                 ...   \n",
       "292               NaN  9.485510e+10     40.960272            9.960317   \n",
       "293               NaN           NaN           NaN                 NaN   \n",
       "294               NaN           NaN           NaN                 NaN   \n",
       "295               NaN           NaN           NaN                 NaN   \n",
       "296               NaN           NaN           NaN                 NaN   \n",
       "\n",
       "     minimum_temperature  maximum_temperature  rainfall  snowfall  dew_point  \\\n",
       "0               8.619048            26.976190  0.000000       NaN   6.222222   \n",
       "1              10.380952            28.603175  0.000000       NaN   7.198413   \n",
       "2              12.238095            34.203704  0.000000       NaN   1.492063   \n",
       "3              10.238095            25.324074  0.834571       NaN   7.896825   \n",
       "4               9.738095            13.857143  4.245429       NaN   8.984127   \n",
       "..                   ...                  ...       ...       ...        ...   \n",
       "292             4.365079            14.063492  0.000000       NaN   6.079365   \n",
       "293                  NaN                  NaN       NaN       NaN        NaN   \n",
       "294                  NaN                  NaN       NaN       NaN        NaN   \n",
       "295                  NaN                  NaN       NaN       NaN        NaN   \n",
       "296                  NaN                  NaN       NaN       NaN        NaN   \n",
       "\n",
       "     relative_humidity  \n",
       "0            44.824407  \n",
       "1            44.392904  \n",
       "2            20.043411  \n",
       "3            60.201663  \n",
       "4            83.655369  \n",
       "..                 ...  \n",
       "292          77.565997  \n",
       "293                NaN  \n",
       "294                NaN  \n",
       "295                NaN  \n",
       "296                NaN  \n",
       "\n",
       "[297 rows x 108 columns]"
      ]
     },
     "execution_count": 238,
     "metadata": {},
     "output_type": "execute_result"
    }
   ],
   "source": [
    "data"
   ]
  },
  {
   "cell_type": "code",
   "execution_count": null,
   "metadata": {},
   "outputs": [],
   "source": []
  }
 ],
 "metadata": {
  "kernelspec": {
   "display_name": "Python 3",
   "language": "python",
   "name": "python3"
  },
  "language_info": {
   "codemirror_mode": {
    "name": "ipython",
    "version": 3
   },
   "file_extension": ".py",
   "mimetype": "text/x-python",
   "name": "python",
   "nbconvert_exporter": "python",
   "pygments_lexer": "ipython3",
   "version": "3.8.5"
  }
 },
 "nbformat": 4,
 "nbformat_minor": 4
}
